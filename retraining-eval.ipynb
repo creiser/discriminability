{
 "cells": [
  {
   "cell_type": "code",
   "execution_count": 1,
   "metadata": {
    "collapsed": true,
    "deletable": true,
    "editable": true
   },
   "outputs": [],
   "source": [
    "hp = {}\n",
    "hp['dataset'] = 'imagenet-full'\n",
    "hp['desired_num_clusters'] = 1000\n",
    "hp['num_merges_per_network_update'] = 3000"
   ]
  },
  {
   "cell_type": "code",
   "execution_count": 2,
   "metadata": {
    "collapsed": true,
    "deletable": true,
    "editable": true
   },
   "outputs": [],
   "source": [
    "import json\n",
    "from sklearn.metrics import roc_auc_score\n",
    "from sklearn.cluster import AgglomerativeClustering\n",
    "from torchvision import datasets\n",
    "from twosample import utils\n",
    "import matplotlib\n",
    "import matplotlib.pyplot as plt\n",
    "%matplotlib inline\n",
    "import numpy as np\n",
    "from collections import Counter\n",
    "from twosample import utils\n",
    "import os\n",
    "import itertools\n",
    "import sklearn\n",
    "from matplotlib.ticker import MaxNLocator"
   ]
  },
  {
   "cell_type": "code",
   "execution_count": 36,
   "metadata": {
    "collapsed": true,
    "deletable": true,
    "editable": true
   },
   "outputs": [],
   "source": [
    "matplotlib.rcParams.update({'font.size': 22})\n",
    "plt.rc('text', usetex=True)\n",
    "plt.rc('font', family='serif')\n",
    "plt.rc('text.latex', preamble=r'\\usepackage{amssymb}')\n",
    "figure_path = 'figures/real'\n",
    "utils.create_directory_if_not_exists(figure_path)"
   ]
  },
  {
   "cell_type": "code",
   "execution_count": 3,
   "metadata": {
    "collapsed": true,
    "deletable": true,
    "editable": true,
    "scrolled": true
   },
   "outputs": [],
   "source": [
    "def run_evaluation(hp):\n",
    "    experiment_directory = 'results/real/{}'.format(hp['dataset'])\n",
    "    dataset = datasets.ImageFolder('./datasets/' + hp['dataset'])\n",
    "     \n",
    "    num_correct_merges = 0\n",
    "    num_correct_merges_list = []\n",
    "    for i in range(len(hp['checkpoints'])):\n",
    "        # Load latest clustering checkpoint\n",
    "        clustering_checkpoint = hp['checkpoints'][i]\n",
    "        clustering_checkpoint_directory = experiment_directory + '/{}'.format(clustering_checkpoint)\n",
    "        \n",
    "        # Load clustering\n",
    "        current_clustering_filename = clustering_checkpoint_directory + '/current_clustering.npy'\n",
    "        print('Load train-test split from', current_clustering_filename)\n",
    "        sample_indices_train, sample_indices_test = np.load(current_clustering_filename).tolist()\n",
    "        current_clustering = [a + b for a, b in zip(sample_indices_train, sample_indices_test)]\n",
    "        cluster_categories = [utils.get_majority_category(dataset, sample_indices)\n",
    "                              for sample_indices in current_clustering]\n",
    "        \n",
    "        # Load mean arithmetic means in order to find best epoch\n",
    "        mean_arithmetic_means_filename = clustering_checkpoint_directory + '/mean_arithmetic_means.csv'\n",
    "        print('Load mean arithmetic means from', mean_arithmetic_means_filename)\n",
    "        mean_arithmetic_means = np.loadtxt(mean_arithmetic_means_filename).tolist()\n",
    "        print('mean arithmetic means:\\n', mean_arithmetic_means)\n",
    "        \n",
    "        # Load affinities from epoch with highest mean arithmetic mean\n",
    "        best_epoch = np.argmax(mean_arithmetic_means)\n",
    "        print('Best epoch:', best_epoch)\n",
    "        affinities_directory = clustering_checkpoint_directory + '/affinities'\n",
    "        affinities_filename = affinities_directory + '/{}.npy'.format(best_epoch)\n",
    "        print('Load affinities from', affinities_filename)\n",
    "        affinities = np.load(affinities_filename)\n",
    "        \n",
    "        # Reproduce the merge process\n",
    "        desired_num_clusters = hp['checkpoints'][i + 1] if i + 1 < len(hp['checkpoints']) else hp['desired_num_clusters']\n",
    "        print('Merging from {} clusters to {} clusters.'.format(len(current_clustering),\n",
    "                                                                desired_num_clusters))\n",
    "        agglomerative_clustering = AgglomerativeClustering(linkage='average',\n",
    "                                                           affinity='precomputed',\n",
    "                                                           n_clusters=desired_num_clusters)\n",
    "        agglomerative_clustering.fit(affinities)\n",
    "        temp_clustering = {cluster_index: sample_indices for\n",
    "                           cluster_index, sample_indices in enumerate(current_clustering)}\n",
    "        counter = itertools.count(len(current_clustering))\n",
    "        merge_history = [{'new_cluster': next(counter), 'cluster_a': x[0], 'cluster_b': x[1]}\n",
    "                         for x in agglomerative_clustering.children_]\n",
    "\n",
    "        print('Clustering complete.')\n",
    "        for merge_step in merge_history:\n",
    "            temp_clustering[merge_step['new_cluster']] = temp_clustering[merge_step['cluster_a']] +\\\n",
    "                                                         temp_clustering[merge_step['cluster_b']]\n",
    "            num_correct_merges += utils.get_majority_category(dataset, temp_clustering[merge_step['cluster_a']]) ==\\\n",
    "                                  utils.get_majority_category(dataset, temp_clustering[merge_step['cluster_b']])\n",
    "            num_correct_merges_list.append(num_correct_merges)\n",
    "            del temp_clustering[merge_step['cluster_a']]\n",
    "            del temp_clustering[merge_step['cluster_b']]\n",
    "            if len(temp_clustering) == desired_num_clusters:\n",
    "                break\n",
    "        print(len(num_correct_merges_list))\n",
    "    return num_correct_merges_list"
   ]
  },
  {
   "cell_type": "code",
   "execution_count": 4,
   "metadata": {
    "collapsed": false,
    "deletable": true,
    "editable": true
   },
   "outputs": [
    {
     "name": "stdout",
     "output_type": "stream",
     "text": [
      "[8793]\n",
      "Load train-test split from results/real/imagenet-full/8793/current_clustering.npy\n",
      "Load mean arithmetic means from results/real/imagenet-full/8793/mean_arithmetic_means.csv\n",
      "mean arithmetic means:\n",
      " [0.8437413573265076, 0.9576355218887329, 0.9778926372528076, 0.9857324957847595, 0.9835563898086548]\n",
      "Best epoch: 3\n",
      "Load affinities from results/real/imagenet-full/8793/affinities/3.npy\n",
      "Merging from 8793 clusters to 1000 clusters.\n",
      "Clustering complete.\n",
      "7793\n",
      "7793\n",
      "[8793, 5793]\n",
      "Load train-test split from results/real/imagenet-full/8793/current_clustering.npy\n",
      "Load mean arithmetic means from results/real/imagenet-full/8793/mean_arithmetic_means.csv\n",
      "mean arithmetic means:\n",
      " [0.8437413573265076, 0.9576355218887329, 0.9778926372528076, 0.9857324957847595, 0.9835563898086548]\n",
      "Best epoch: 3\n",
      "Load affinities from results/real/imagenet-full/8793/affinities/3.npy\n",
      "Merging from 8793 clusters to 5793 clusters.\n",
      "Clustering complete.\n",
      "3000\n",
      "Load train-test split from results/real/imagenet-full/5793/current_clustering.npy\n",
      "Load mean arithmetic means from results/real/imagenet-full/5793/mean_arithmetic_means.csv\n",
      "mean arithmetic means:\n",
      " [0.9111455678939819, 0.9720435738563538, 0.9797861576080322, 0.9851221442222595, 0.9907147288322449, 0.9926402568817139, 0.9934490919113159, 0.993990957736969, 0.9941162467002869, 0.9945335984230042, 0.9949347376823425, 0.9951536059379578, 0.9950887560844421]\n",
      "Best epoch: 11\n",
      "Load affinities from results/real/imagenet-full/5793/affinities/11.npy\n",
      "Merging from 5793 clusters to 1000 clusters.\n",
      "Clustering complete.\n",
      "7793\n",
      "7793\n"
     ]
    }
   ],
   "source": [
    "hp['checkpoints'] = []\n",
    "experiment_directory = 'results/real/{}'.format(hp['dataset'])\n",
    "clustering_checkpoints = [int(clustering_checkpoint_directory)\n",
    "                          for clustering_checkpoint_directory in os.listdir(experiment_directory)]\n",
    "num_correct_merges_list_list = []\n",
    "for clustering_checkpoint in sorted(clustering_checkpoints, reverse=True)[:-2]:\n",
    "    hp['checkpoints'].append(clustering_checkpoint)\n",
    "    print(hp['checkpoints'])\n",
    "    num_correct_merges_list_list.append(run_evaluation(hp))\n",
    "    print(len(num_correct_merges_list_list[-1]))"
   ]
  },
  {
   "cell_type": "code",
   "execution_count": 43,
   "metadata": {
    "collapsed": false,
    "deletable": true,
    "editable": true
   },
   "outputs": [
    {
     "name": "stdout",
     "output_type": "stream",
     "text": [
      "1608 1832 1.1393034825870647\n"
     ]
    },
    {
     "data": {
      "image/png": "[encoded data removed]",
      "text/plain": [
       "<Figure size 432x288 with 1 Axes>"
      ]
     },
     "metadata": {},
     "output_type": "display_data"
    }
   ],
   "source": [
    "print(num_correct_merges_list_list[0][-1], num_correct_merges_list_list[1][-1],\n",
    "      num_correct_merges_list_list[1][-1] / num_correct_merges_list_list[0][-1])\n",
    "\n",
    "labels = ['computing $\\mathbb{D}$ only initially',\n",
    "          'recomputing $\\mathbb{D}$ after 3000 merges']\n",
    "for num_correct_merges_list in num_correct_merges_list_list:\n",
    "    plt.plot(np.arange(hp['num_merges_per_network_update'], len(num_correct_merges_list)),\n",
    "             num_correct_merges_list[hp['num_merges_per_network_update']:])\n",
    "xposition = [hp['num_merges_per_network_update'],\n",
    "             len(num_correct_merges_list)]\n",
    "for xc in xposition:\n",
    "    plt.axvline(x=xc, color='k', linestyle='--')\n",
    "plt.legend(labels, fontsize=16, loc=8)\n",
    "plt.xlabel('\\#merges $k$')\n",
    "plt.ylabel('\\#correct merges $CM(k)$')\n",
    "plt.xticks(np.arange(3000, 9000, 1000))\n",
    "plt.yticks(np.arange(800, 2000, 200))\n",
    "plt.grid(True)\n",
    "plt.savefig(figure_path + '/' +'real.pdf',\n",
    "                bbox_inches='tight')\n",
    "plt.show()"
   ]
  }
 ],
 "metadata": {
  "kernelspec": {
   "display_name": "Python (pytorch1.0)",
   "language": "python",
   "name": "pytorch1.0"
  },
  "language_info": {
   "codemirror_mode": {
    "name": "ipython",
    "version": 3
   },
   "file_extension": ".py",
   "mimetype": "text/x-python",
   "name": "python",
   "nbconvert_exporter": "python",
   "pygments_lexer": "ipython3",
   "version": "3.6.8"
  }
 },
 "nbformat": 4,
 "nbformat_minor": 2
}
