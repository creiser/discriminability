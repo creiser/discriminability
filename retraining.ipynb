{
 "cells": [
  {
   "cell_type": "code",
   "execution_count": 1,
   "metadata": {
    "collapsed": true,
    "deletable": true,
    "editable": true,
    "scrolled": false
   },
   "outputs": [],
   "source": [
    "%load_ext autoreload\n",
    "%autoreload 2\n",
    "import torch\n",
    "from torchvision import datasets, transforms\n",
    "torch.manual_seed(42)\n",
    "import json\n",
    "import os\n",
    "import os.path\n",
    "from twosample import get_artifical_initial_clustering, utils\n",
    "from twosample.affinity import fast_twosample_train_test_split, fast_twosample_train, fast_twosample_test\n",
    "from twosample.architectures.resnet import resnet18\n",
    "import torch.optim as optim\n",
    "import numpy as np\n",
    "import gc\n",
    "from sklearn.cluster import AgglomerativeClustering"
   ]
  },
  {
   "cell_type": "code",
   "execution_count": 2,
   "metadata": {
    "collapsed": true,
    "deletable": true,
    "editable": true,
    "scrolled": false
   },
   "outputs": [],
   "source": [
    "hp = {}\n",
    "hp['dataset'] = 'imagenet-full'\n",
    "hp['initial_clustering'] = {}\n",
    "hp['initial_clustering']['num_clusters'] = 10000\n",
    "hp['initial_clustering']['minimum_initial_cluster_size'] = 80\n",
    "hp['num_merges_per_network_update'] = 3000\n",
    "hp['desired_num_clusters'] = 1000\n",
    "hp['epochs'] = 15\n",
    "hp['affinity'] = {}\n",
    "hp['affinity']['batch_size'] = 128\n",
    "hp['affinity']['train_ratio'] = 0.5\n",
    "hp['affinity']['log_interval'] = 200\n",
    "hp['device'] = torch.device('cuda')\n",
    "hp['learning_rate'] = 0.001\n",
    "hp['weight_decay'] = 0\n",
    "hp['sobel'] = False\n",
    "hp['augmentation'] = {}\n",
    "hp['augmentation'] = {'random_horizontal_flip': False,\n",
    "                      'random_resized_crop': False}"
   ]
  },
  {
   "cell_type": "code",
   "execution_count": 3,
   "metadata": {
    "collapsed": true,
    "deletable": true,
    "editable": true,
    "scrolled": true
   },
   "outputs": [],
   "source": [
    "def create_and_save_train_test_split(current_clustering, experiment_directory, hp):\n",
    "    sample_indices_train, sample_indices_test = fast_twosample_train_test_split(current_clustering, hp)\n",
    "    clustering_checkpoint_directory = experiment_directory + '/{}'.format(len(current_clustering))\n",
    "    utils.create_directory_if_not_exists(clustering_checkpoint_directory)\n",
    "    current_clustering_filename = clustering_checkpoint_directory + '/current_clustering.npy'\n",
    "    print('Save train-test split to', current_clustering_filename)\n",
    "    np.save(current_clustering_filename, [sample_indices_train, sample_indices_test])\n",
    "    checkpoints_directory = clustering_checkpoint_directory + '/checkpoints'\n",
    "    affinities_directory = clustering_checkpoint_directory + '/affinities'\n",
    "    utils.create_directory_if_not_exists(checkpoints_directory)\n",
    "    utils.create_directory_if_not_exists(affinities_directory)\n",
    "    mean_arithmetic_means = []\n",
    "    mean_arithmetic_means_filename = clustering_checkpoint_directory + '/mean_arithmetic_means.csv'\n",
    "    print('Save mean arithmetic means to', mean_arithmetic_means_filename)\n",
    "    np.savetxt(mean_arithmetic_means_filename, mean_arithmetic_means)\n",
    "    return sample_indices_train, sample_indices_test, clustering_checkpoint_directory, checkpoints_directory,\\\n",
    "        affinities_directory, mean_arithmetic_means\n",
    "\n",
    "def run_experiment(hp):\n",
    "    device = hp['device']\n",
    "    experiment_directory = 'results/real/{}'.format(hp['dataset'])\n",
    "    utils.create_directory_if_not_exists(experiment_directory)\n",
    "    \n",
    "    print('Running experiment with hyperparameters:\\n{}'.format(hp))\n",
    "    result = {}\n",
    "    normalize = transforms.Normalize(mean=[0.485, 0.456, 0.406],\n",
    "                                     std=[0.229, 0.224, 0.225])\n",
    "    transform_chain_train = []\n",
    "    if hp['augmentation']['random_resized_crop']:\n",
    "        transform_chain_train += [transforms.RandomResizedCrop(224)]\n",
    "    else:\n",
    "        transform_chain_train += [transforms.Resize(256), transforms.CenterCrop(224)]\n",
    "    if hp['augmentation']['random_horizontal_flip']:\n",
    "        transform_chain_train += [transforms.RandomHorizontalFlip()]\n",
    "    transform_chain_train =  transforms.Compose(transform_chain_train + [transforms.ToTensor(), normalize])\n",
    "    transform_chain_test =  transforms.Compose([transforms.Resize(256),\n",
    "                                                transforms.CenterCrop(224),\n",
    "                                                transforms.ToTensor(),\n",
    "                                                normalize])\n",
    "    dataset = datasets.ImageFolder('./datasets/' + hp['dataset'])\n",
    "    \n",
    "    \n",
    "    clustering_checkpoints = [int(clustering_checkpoint_directory)\n",
    "                              for clustering_checkpoint_directory in os.listdir(experiment_directory)]\n",
    "    \n",
    "    # If the experiment is started from scratch load the initial clustering provided by DeepCluster\n",
    "    if len(clustering_checkpoints) == 0:\n",
    "        # Check if DeepCluster has already been executed to provide an initial clustering\n",
    "        deepcluster_clustering_filename = experiment_directory + '/deepcluster_clustering.npy'\n",
    "        if not os.path.isfile(deepcluster_clustering_filename):\n",
    "            args = {}\n",
    "            args['verbose'] = True\n",
    "            args['data'] = 'datasets/' + hp['dataset']\n",
    "            args['arch'] = 'vgg16'\n",
    "            args['sobel'] = True\n",
    "            args['workers'] = 4\n",
    "            args['resume'] = 'deepcluster/pretrained/vgg16/checkpoint.pth.tar'\n",
    "            args['batch'] = 64\n",
    "            args['clustering_filename'] = deepcluster_clustering_filename\n",
    "            args['nmb_cluster'] = hp['initial_clustering']['num_clusters']\n",
    "            deepcluster.main(args)\n",
    "        \n",
    "        print('Load initial clustering from', deepcluster_clustering_filename)\n",
    "        original_current_clustering = np.load(deepcluster_clustering_filename).tolist()\n",
    "\n",
    "        # Filter out all small clusters\n",
    "        current_clustering = []\n",
    "        total_num_observations = num_filtered_observations = 0\n",
    "        for sample_indices in original_current_clustering:\n",
    "            if len(sample_indices) >= hp['initial_clustering']['minimum_initial_cluster_size']:\n",
    "                current_clustering.append(sample_indices)\n",
    "            else:\n",
    "                num_filtered_observations += len(sample_indices)\n",
    "            total_num_observations += len(sample_indices)\n",
    "        current_clustering = [sample_indices for sample_indices in current_clustering\n",
    "                              if len(sample_indices) >= hp['initial_clustering']['minimum_initial_cluster_size']]\n",
    "        print(('Removed all clusters that have less than {} observations. '\n",
    "               '{} clusters removed. {} observations removed.').format(\n",
    "            hp['initial_clustering']['minimum_initial_cluster_size'],\n",
    "            utils.pretty_accuracy(len(original_current_clustering) - len(current_clustering),\n",
    "                                  len(original_current_clustering)),\n",
    "            utils.pretty_accuracy(num_filtered_observations, total_num_observations)\n",
    "        ))\n",
    "        \n",
    "        # Create train-test split for the initial clustering and store it into a file.\n",
    "        sample_indices_train, sample_indices_test, clustering_checkpoint_directory,\\\n",
    "            checkpoints_directory, affinities_directory, mean_arithmetic_means =\\\n",
    "                create_and_save_train_test_split(current_clustering, experiment_directory, hp)\n",
    "    else:\n",
    "        # Load latest clustering checkpoint\n",
    "        clustering_checkpoint_directory = experiment_directory + '/{}'.format(\n",
    "            min(clustering_checkpoints))\n",
    "        current_clustering_filename = clustering_checkpoint_directory + '/current_clustering.npy'\n",
    "        print('Load train-test split from', current_clustering_filename)\n",
    "        sample_indices_train, sample_indices_test = np.load(current_clustering_filename).tolist()\n",
    "        current_clustering = [a + b for a, b in zip(sample_indices_train, sample_indices_test)]\n",
    "        mean_arithmetic_means_filename = clustering_checkpoint_directory + '/mean_arithmetic_means.csv'\n",
    "        print('Load mean arithmetic means from', mean_arithmetic_means_filename)\n",
    "        mean_arithmetic_means = np.loadtxt(mean_arithmetic_means_filename).tolist()\n",
    "        checkpoints_directory = clustering_checkpoint_directory + '/checkpoints'\n",
    "        affinities_directory = clustering_checkpoint_directory + '/affinities'\n",
    "      \n",
    "    while len(current_clustering) > hp['desired_num_clusters']:\n",
    "        print('#Clusters:', len(sample_indices_train))\n",
    "\n",
    "        model = resnet18(num_classes=len(sample_indices_train), sobel=hp['sobel'])\n",
    "        model = model.to(device)\n",
    "        optimizer = optim.Adam(filter(lambda x: x.requires_grad, model.parameters()),\n",
    "                               weight_decay=hp['weight_decay'])\n",
    "        loaded_epoch = 0\n",
    "\n",
    "        # Check if their is a model checkpoint that can be loaded\n",
    "        checkpoint_epochs = [int(checkpoint_filename.split('.')[0])\n",
    "                             for checkpoint_filename in os.listdir(checkpoints_directory)]\n",
    "        if len(checkpoint_epochs) > 0:\n",
    "            loaded_epoch = max(checkpoint_epochs)\n",
    "            checkpoint_filename = checkpoints_directory + '/{}.pth.tar'.format(loaded_epoch)\n",
    "            print('Load model and optimizer state from', checkpoint_filename)\n",
    "            checkpoint = torch.load(checkpoint_filename)\n",
    "            model.load_state_dict(checkpoint['model'])\n",
    "            optimizer.load_state_dict(checkpoint['optimizer'])\n",
    "\n",
    "        optimizer.lr = hp['learning_rate']\n",
    "\n",
    "        for epoch in range(loaded_epoch + 1, hp['epochs'] + 1):\n",
    "            print('Epoch:', epoch, ', mean arithmetic means:', mean_arithmetic_means)\n",
    "            dataset.transform = transform_chain_train\n",
    "            train_loss = fast_twosample_train(sample_indices_train, dataset, hp, model, optimizer)\n",
    "\n",
    "            checkpoint_filename = checkpoints_directory + '/{}.pth.tar'.format(epoch)\n",
    "            print('Save model and optimizer state to', checkpoint_filename)\n",
    "            torch.save({'model': model.state_dict(),\n",
    "                        'optimizer' : optimizer.state_dict()},\n",
    "                       checkpoint_filename)\n",
    "\n",
    "            dataset.transform = transform_chain_test\n",
    "            arithmetic_means = fast_twosample_test(sample_indices_test, dataset, hp, model)\n",
    "            \n",
    "            # Set diagonal to 0 for mean arithmetic mean calculation\n",
    "            diagonal_indices = torch.arange(len(arithmetic_means), dtype=torch.long).to(device)\n",
    "            arithmetic_means[diagonal_indices, diagonal_indices] = 0.\n",
    "            mean_arithmetic_means.append(arithmetic_means.mean().item())\n",
    "            mean_arithmetic_means_filename = clustering_checkpoint_directory + '/mean_arithmetic_means.csv'\n",
    "            print('Save mean arithmetic means to', mean_arithmetic_means_filename)\n",
    "            np.savetxt(mean_arithmetic_means_filename, mean_arithmetic_means)\n",
    "            \n",
    "            print('Epoch: {}, Train loss: {:.2f}, mean arithmetic mean: {:.10f}'.format(epoch, train_loss,\n",
    "                                                                                        mean_arithmetic_means[-1]))\n",
    "            # Set diagonal to 1\n",
    "            arithmetic_means[diagonal_indices, diagonal_indices] = 1.\n",
    "\n",
    "            affinities_filename = affinities_directory + '/{}.npy'.format(epoch)\n",
    "            print('Save affinities to', affinities_filename)\n",
    "            arithmetic_means = arithmetic_means.cpu().numpy()\n",
    "            np.save(affinities_filename, arithmetic_means)\n",
    "            \n",
    "            # Check if mean arithmetic mean has decreased. If so load previous arithmetic means\n",
    "            # Stop training and start merging immediately.\n",
    "            early_stopping = epoch >= 2 and mean_arithmetic_means[-2] > mean_arithmetic_means[-1]\n",
    "            if early_stopping:\n",
    "                previous_affinities_filename = affinities_directory + '/{}.npy'.format(epoch - 1)\n",
    "                print('Early stopping. Load previous affinities from', previous_affinities_filename)\n",
    "                arithmetic_means = np.load(previous_affinities_filename)\n",
    "                \n",
    "            # If maximum epochs is reached or when early stopping is applicable perform a fixed\n",
    "            # number of merges.\n",
    "            if epoch == hp['epochs'] or early_stopping:\n",
    "                desired_num_clusters = max(hp['desired_num_clusters'],\n",
    "                                           len(current_clustering) - hp['num_merges_per_network_update'])\n",
    "                print('Merging from {} clusters to {} clusters.'.format(len(current_clustering),\n",
    "                                                                       desired_num_clusters))\n",
    "                \n",
    "                # Perform clustering with discriminability as affinity measure. Update the affinites\n",
    "                # through average linkage.\n",
    "                agglomerative_clustering = AgglomerativeClustering(linkage='average',\n",
    "                                                                   affinity='precomputed',\n",
    "                                                                   n_clusters=desired_num_clusters)\n",
    "                agglomerative_clustering.fit(arithmetic_means)\n",
    "                \n",
    "                # Convert sklearns clustering result in sets of sample indices.\n",
    "                new_current_clustering = [[] for _ in range(desired_num_clusters)]\n",
    "                for sample_indices, cluster_index in zip(current_clustering, agglomerative_clustering.labels_):\n",
    "                    new_current_clustering[cluster_index] += sample_indices\n",
    "                current_clustering = new_current_clustering\n",
    "                \n",
    "                # Create a new clustering checkpoint by creating a new train-test split with new clustering.\n",
    "                sample_indices_train, sample_indices_test, clustering_checkpoint_directory,\\\n",
    "                    checkpoints_directory, affinities_directory, mean_arithmetic_means =\\\n",
    "                        create_and_save_train_test_split(current_clustering, experiment_directory, hp)\n",
    "                \n",
    "                # Break out of the loop incase of early stopping\n",
    "                del arithmetic_means\n",
    "                break\n",
    "\n",
    "            # Cleanup\n",
    "            del arithmetic_means\n",
    "            gc.collect()\n",
    "            torch.cuda.empty_cache()\n",
    "\n",
    "        # Cleanup\n",
    "        del model\n",
    "        gc.collect()\n",
    "        torch.cuda.empty_cache()"
   ]
  },
  {
   "cell_type": "code",
   "execution_count": 4,
   "metadata": {
    "collapsed": false,
    "deletable": true,
    "editable": true,
    "scrolled": true
   },
   "outputs": [
    {
     "name": "stdout",
     "output_type": "stream",
     "text": [
      "Running experiment with hyperparameters:\n",
      "{'dataset': 'imagenet-full', 'initial_clustering': {'path': 'results/deepcluster-10000/clustering.npy', 'minimum_initial_cluster_size': 80}, 'num_merges_per_network_update': 3000, 'desired_num_clusters': 1000, 'epochs': 15, 'affinity': {'batch_size': 128, 'train_ratio': 0.5, 'log_interval': 200}, 'device': device(type='cuda'), 'learning_rate': 0.001, 'weight_decay': 0, 'sobel': False, 'augmentation': {'random_horizontal_flip': False, 'random_resized_crop': False}}\n",
      "Load initial clustering from results/deepcluster-10000/clustering.npy\n",
      "Removed all clusters that have less than 80 observations. 1207/10000 (12.1%) clusters removed. 69888/1281167 (5.5%) observations removed.\n",
      "Save train-test split to results/real/imagenet-full/8793/current_clustering.npy\n",
      "Save mean arithmetic means to results/real/imagenet-full/8793/mean_arithmetic_means.csv\n",
      "#Clusters: 8793\n",
      "Epoch: 1 , mean arithmetic means: []\n",
      "Batches processed: 200/4715 (4.2%), ETA: 38m:17s, Loss: 0.690496\n",
      "Batches processed: 400/4715 (8.5%), ETA: 40m:39s, Loss: 0.680206\n",
      "Batches processed: 600/4715 (12.7%), ETA: 43m:24s, Loss: 0.684441\n"
     ]
    },
    {
     "name": "stderr",
     "output_type": "stream",
     "text": [
      "/home/chris/miniconda2/envs/pytorch4/lib/python3.6/site-packages/PIL/TiffImagePlugin.py:739: UserWarning: Possibly corrupt EXIF data.  Expecting to read 2555904 bytes but only got 0. Skipping tag 0\n",
      "  \" Skipping tag %s\" % (size, len(data), tag))\n"
     ]
    },
    {
     "name": "stdout",
     "output_type": "stream",
     "text": [
      "Batches processed: 800/4715 (17.0%), ETA: 43m:53s, Loss: 0.679192\n",
      "Batches processed: 1000/4715 (21.2%), ETA: 43m:34s, Loss: 0.632173\n",
      "Batches processed: 1200/4715 (25.5%), ETA: 42m:44s, Loss: 0.652837\n",
      "Batches processed: 1400/4715 (29.7%), ETA: 41m:07s, Loss: 0.640191\n"
     ]
    },
    {
     "name": "stderr",
     "output_type": "stream",
     "text": [
      "/home/chris/miniconda2/envs/pytorch4/lib/python3.6/site-packages/PIL/TiffImagePlugin.py:739: UserWarning: Possibly corrupt EXIF data.  Expecting to read 2555904 bytes but only got 0. Skipping tag 0\n",
      "  \" Skipping tag %s\" % (size, len(data), tag))\n"
     ]
    },
    {
     "name": "stdout",
     "output_type": "stream",
     "text": [
      "Batches processed: 1600/4715 (33.9%), ETA: 39m:39s, Loss: 0.664033\n",
      "Batches processed: 1800/4715 (38.2%), ETA: 37m:37s, Loss: 0.629190\n",
      "Batches processed: 2000/4715 (42.4%), ETA: 35m:18s, Loss: 0.588241\n",
      "Batches processed: 2200/4715 (46.7%), ETA: 33m:01s, Loss: 0.590340\n",
      "Batches processed: 2400/4715 (50.9%), ETA: 30m:37s, Loss: 0.513809\n"
     ]
    },
    {
     "name": "stderr",
     "output_type": "stream",
     "text": [
      "/home/chris/miniconda2/envs/pytorch4/lib/python3.6/site-packages/PIL/TiffImagePlugin.py:739: UserWarning: Possibly corrupt EXIF data.  Expecting to read 2555904 bytes but only got 0. Skipping tag 0\n",
      "  \" Skipping tag %s\" % (size, len(data), tag))\n"
     ]
    },
    {
     "name": "stdout",
     "output_type": "stream",
     "text": [
      "Batches processed: 2600/4715 (55.1%), ETA: 28m:12s, Loss: 0.556198\n",
      "Batches processed: 2800/4715 (59.4%), ETA: 25m:40s, Loss: 0.557519\n",
      "Batches processed: 3000/4715 (63.6%), ETA: 23m:08s, Loss: 0.546993\n",
      "Batches processed: 3200/4715 (67.9%), ETA: 20m:28s, Loss: 0.505349\n",
      "Batches processed: 3400/4715 (72.1%), ETA: 17m:50s, Loss: 0.538861\n",
      "Batches processed: 3600/4715 (76.4%), ETA: 15m:12s, Loss: 0.462845\n",
      "Batches processed: 3800/4715 (80.6%), ETA: 12m:29s, Loss: 0.440501\n",
      "Batches processed: 4000/4715 (84.8%), ETA: 09m:47s, Loss: 0.402645\n",
      "Batches processed: 4200/4715 (89.1%), ETA: 07m:04s, Loss: 0.349881\n",
      "Batches processed: 4400/4715 (93.3%), ETA: 04m:20s, Loss: 0.372141\n",
      "Batches processed: 4600/4715 (97.6%), ETA: 01m:35s, Loss: 0.357327\n",
      "Batches processed: 4715/4715 (100.0%), ETA: 0s, Loss: 0.365030\n",
      "Save model and optimizer state to results/real/imagenet-full/8793/checkpoints/1.pth.tar\n",
      "Batches processed: 200/4749 (4.2%), ETA: 55m:11s\n",
      "Batches processed: 400/4749 (8.4%), ETA: 54m:19s\n"
     ]
    },
    {
     "name": "stderr",
     "output_type": "stream",
     "text": [
      "/home/chris/miniconda2/envs/pytorch4/lib/python3.6/site-packages/PIL/TiffImagePlugin.py:756: UserWarning: Corrupt EXIF data.  Expecting to read 4 bytes but only got 0. \n",
      "  warnings.warn(str(msg))\n"
     ]
    },
    {
     "name": "stdout",
     "output_type": "stream",
     "text": [
      "Batches processed: 600/4749 (12.6%), ETA: 51m:32s\n",
      "Batches processed: 800/4749 (16.8%), ETA: 49m:10s\n",
      "Batches processed: 1000/4749 (21.1%), ETA: 46m:35s\n",
      "Batches processed: 1200/4749 (25.3%), ETA: 43m:23s\n",
      "Batches processed: 1400/4749 (29.5%), ETA: 41m:12s\n",
      "Batches processed: 1600/4749 (33.7%), ETA: 38m:34s\n"
     ]
    },
    {
     "name": "stderr",
     "output_type": "stream",
     "text": [
      "/home/chris/miniconda2/envs/pytorch4/lib/python3.6/site-packages/PIL/TiffImagePlugin.py:739: UserWarning: Possibly corrupt EXIF data.  Expecting to read 2555904 bytes but only got 0. Skipping tag 0\n",
      "  \" Skipping tag %s\" % (size, len(data), tag))\n"
     ]
    },
    {
     "name": "stdout",
     "output_type": "stream",
     "text": [
      "Batches processed: 1800/4749 (37.9%), ETA: 36m:06s\n",
      "Batches processed: 2000/4749 (42.1%), ETA: 33m:42s\n",
      "Batches processed: 2200/4749 (46.3%), ETA: 31m:15s\n",
      "Batches processed: 2400/4749 (50.5%), ETA: 28m:46s\n"
     ]
    },
    {
     "name": "stderr",
     "output_type": "stream",
     "text": [
      "/home/chris/miniconda2/envs/pytorch4/lib/python3.6/site-packages/PIL/TiffImagePlugin.py:739: UserWarning: Possibly corrupt EXIF data.  Expecting to read 19660800 bytes but only got 0. Skipping tag 0\n",
      "  \" Skipping tag %s\" % (size, len(data), tag))\n",
      "/home/chris/miniconda2/envs/pytorch4/lib/python3.6/site-packages/PIL/TiffImagePlugin.py:739: UserWarning: Possibly corrupt EXIF data.  Expecting to read 18481152 bytes but only got 0. Skipping tag 0\n",
      "  \" Skipping tag %s\" % (size, len(data), tag))\n",
      "/home/chris/miniconda2/envs/pytorch4/lib/python3.6/site-packages/PIL/TiffImagePlugin.py:739: UserWarning: Possibly corrupt EXIF data.  Expecting to read 37093376 bytes but only got 0. Skipping tag 0\n",
      "  \" Skipping tag %s\" % (size, len(data), tag))\n",
      "/home/chris/miniconda2/envs/pytorch4/lib/python3.6/site-packages/PIL/TiffImagePlugin.py:739: UserWarning: Possibly corrupt EXIF data.  Expecting to read 39976960 bytes but only got 0. Skipping tag 0\n",
      "  \" Skipping tag %s\" % (size, len(data), tag))\n",
      "/home/chris/miniconda2/envs/pytorch4/lib/python3.6/site-packages/PIL/TiffImagePlugin.py:739: UserWarning: Possibly corrupt EXIF data.  Expecting to read 34865152 bytes but only got 0. Skipping tag 0\n",
      "  \" Skipping tag %s\" % (size, len(data), tag))\n",
      "/home/chris/miniconda2/envs/pytorch4/lib/python3.6/site-packages/PIL/TiffImagePlugin.py:756: UserWarning: Corrupt EXIF data.  Expecting to read 12 bytes but only got 10. \n",
      "  warnings.warn(str(msg))\n"
     ]
    },
    {
     "name": "stdout",
     "output_type": "stream",
     "text": [
      "Batches processed: 2600/4749 (54.7%), ETA: 26m:11s\n",
      "Batches processed: 2800/4749 (59.0%), ETA: 23m:48s\n",
      "Batches processed: 3000/4749 (63.2%), ETA: 21m:17s\n",
      "Batches processed: 3200/4749 (67.4%), ETA: 18m:55s\n",
      "Batches processed: 3400/4749 (71.6%), ETA: 16m:27s\n",
      "Batches processed: 3600/4749 (75.8%), ETA: 14m:00s\n"
     ]
    },
    {
     "name": "stderr",
     "output_type": "stream",
     "text": [
      "/home/chris/miniconda2/envs/pytorch4/lib/python3.6/site-packages/PIL/TiffImagePlugin.py:739: UserWarning: Possibly corrupt EXIF data.  Expecting to read 2555904 bytes but only got 0. Skipping tag 0\n",
      "  \" Skipping tag %s\" % (size, len(data), tag))\n"
     ]
    },
    {
     "name": "stdout",
     "output_type": "stream",
     "text": [
      "Batches processed: 3800/4749 (80.0%), ETA: 11m:35s\n"
     ]
    },
    {
     "name": "stderr",
     "output_type": "stream",
     "text": [
      "/home/chris/miniconda2/envs/pytorch4/lib/python3.6/site-packages/PIL/TiffImagePlugin.py:739: UserWarning: Possibly corrupt EXIF data.  Expecting to read 1835008 bytes but only got 0. Skipping tag 0\n",
      "  \" Skipping tag %s\" % (size, len(data), tag))\n"
     ]
    },
    {
     "name": "stdout",
     "output_type": "stream",
     "text": [
      "Batches processed: 4000/4749 (84.2%), ETA: 09m:07s\n",
      "Batches processed: 4200/4749 (88.4%), ETA: 06m:41s\n",
      "Batches processed: 4400/4749 (92.7%), ETA: 04m:15s\n",
      "Batches processed: 4600/4749 (96.9%), ETA: 01m:49s\n",
      "Batches processed: 4749/4749 (100.0%), ETA: 0s\n",
      "Save mean arithmetic means to results/real/imagenet-full/8793/mean_arithmetic_means.csv\n",
      "Epoch: 1, Train loss: 2674.99, mean arithmetic mean: 0.8437413573\n",
      "Save affinities to results/real/imagenet-full/8793/affinities/1.npy\n",
      "Epoch: 2 , mean arithmetic means: [0.8437413573265076]\n",
      "Batches processed: 200/4715 (4.2%), ETA: 58m:44s, Loss: 0.289170\n",
      "Batches processed: 400/4715 (8.5%), ETA: 58m:42s, Loss: 0.234229\n",
      "Batches processed: 600/4715 (12.7%), ETA: 56m:40s, Loss: 0.241319\n",
      "Batches processed: 800/4715 (17.0%), ETA: 54m:32s, Loss: 0.206856\n",
      "Batches processed: 1000/4715 (21.2%), ETA: 51m:58s, Loss: 0.269413\n",
      "Batches processed: 1200/4715 (25.5%), ETA: 49m:16s, Loss: 0.194066\n",
      "Batches processed: 1400/4715 (29.7%), ETA: 46m:31s, Loss: 0.195646\n",
      "Batches processed: 1600/4715 (33.9%), ETA: 43m:43s, Loss: 0.193516\n",
      "Batches processed: 1800/4715 (38.2%), ETA: 41m:09s, Loss: 0.171737\n",
      "Batches processed: 2000/4715 (42.4%), ETA: 38m:24s, Loss: 0.168389\n",
      "Batches processed: 2200/4715 (46.7%), ETA: 35m:34s, Loss: 0.186620\n",
      "Batches processed: 2400/4715 (50.9%), ETA: 32m:44s, Loss: 0.143603\n",
      "Batches processed: 2600/4715 (55.1%), ETA: 29m:59s, Loss: 0.178436\n",
      "Batches processed: 2800/4715 (59.4%), ETA: 27m:09s, Loss: 0.178985\n",
      "Batches processed: 3000/4715 (63.6%), ETA: 24m:20s, Loss: 0.144755\n"
     ]
    },
    {
     "name": "stderr",
     "output_type": "stream",
     "text": [
      "/home/chris/miniconda2/envs/pytorch4/lib/python3.6/site-packages/PIL/TiffImagePlugin.py:739: UserWarning: Possibly corrupt EXIF data.  Expecting to read 2555904 bytes but only got 0. Skipping tag 0\n",
      "  \" Skipping tag %s\" % (size, len(data), tag))\n",
      "/home/chris/miniconda2/envs/pytorch4/lib/python3.6/site-packages/PIL/TiffImagePlugin.py:739: UserWarning: Possibly corrupt EXIF data.  Expecting to read 2555904 bytes but only got 0. Skipping tag 0\n",
      "  \" Skipping tag %s\" % (size, len(data), tag))\n"
     ]
    },
    {
     "name": "stdout",
     "output_type": "stream",
     "text": [
      "Batches processed: 3200/4715 (67.9%), ETA: 21m:31s, Loss: 0.127228\n",
      "Batches processed: 3400/4715 (72.1%), ETA: 18m:41s, Loss: 0.164834\n"
     ]
    },
    {
     "name": "stderr",
     "output_type": "stream",
     "text": [
      "/home/chris/miniconda2/envs/pytorch4/lib/python3.6/site-packages/PIL/TiffImagePlugin.py:739: UserWarning: Possibly corrupt EXIF data.  Expecting to read 2555904 bytes but only got 0. Skipping tag 0\n",
      "  \" Skipping tag %s\" % (size, len(data), tag))\n"
     ]
    },
    {
     "name": "stdout",
     "output_type": "stream",
     "text": [
      "Batches processed: 3600/4715 (76.4%), ETA: 15m:51s, Loss: 0.131594\n",
      "Batches processed: 3800/4715 (80.6%), ETA: 13m:01s, Loss: 0.125216\n",
      "Batches processed: 4000/4715 (84.8%), ETA: 10m:10s, Loss: 0.096958\n",
      "Batches processed: 4200/4715 (89.1%), ETA: 07m:19s, Loss: 0.089816\n",
      "Batches processed: 4400/4715 (93.3%), ETA: 04m:29s, Loss: 0.160877\n",
      "Batches processed: 4600/4715 (97.6%), ETA: 01m:38s, Loss: 0.094354\n",
      "Batches processed: 4715/4715 (100.0%), ETA: 0s, Loss: 0.121086\n",
      "Save model and optimizer state to results/real/imagenet-full/8793/checkpoints/2.pth.tar\n",
      "Batches processed: 200/4749 (4.2%), ETA: 1h:00m:13s\n",
      "Batches processed: 400/4749 (8.4%), ETA: 53m:51s\n"
     ]
    },
    {
     "name": "stderr",
     "output_type": "stream",
     "text": [
      "/home/chris/miniconda2/envs/pytorch4/lib/python3.6/site-packages/PIL/TiffImagePlugin.py:756: UserWarning: Corrupt EXIF data.  Expecting to read 4 bytes but only got 0. \n",
      "  warnings.warn(str(msg))\n"
     ]
    },
    {
     "name": "stdout",
     "output_type": "stream",
     "text": [
      "Batches processed: 600/4749 (12.6%), ETA: 51m:12s\n",
      "Batches processed: 800/4749 (16.8%), ETA: 48m:29s\n",
      "Batches processed: 1000/4749 (21.1%), ETA: 45m:54s\n",
      "Batches processed: 1200/4749 (25.3%), ETA: 43m:09s\n",
      "Batches processed: 1400/4749 (29.5%), ETA: 40m:42s\n",
      "Batches processed: 1600/4749 (33.7%), ETA: 38m:07s\n"
     ]
    },
    {
     "name": "stderr",
     "output_type": "stream",
     "text": [
      "/home/chris/miniconda2/envs/pytorch4/lib/python3.6/site-packages/PIL/TiffImagePlugin.py:739: UserWarning: Possibly corrupt EXIF data.  Expecting to read 2555904 bytes but only got 0. Skipping tag 0\n",
      "  \" Skipping tag %s\" % (size, len(data), tag))\n"
     ]
    },
    {
     "name": "stdout",
     "output_type": "stream",
     "text": [
      "Batches processed: 1800/4749 (37.9%), ETA: 35m:37s\n",
      "Batches processed: 2000/4749 (42.1%), ETA: 33m:03s\n",
      "Batches processed: 2200/4749 (46.3%), ETA: 30m:43s\n",
      "Batches processed: 2400/4749 (50.5%), ETA: 28m:20s\n"
     ]
    },
    {
     "name": "stderr",
     "output_type": "stream",
     "text": [
      "/home/chris/miniconda2/envs/pytorch4/lib/python3.6/site-packages/PIL/TiffImagePlugin.py:739: UserWarning: Possibly corrupt EXIF data.  Expecting to read 19660800 bytes but only got 0. Skipping tag 0\n",
      "  \" Skipping tag %s\" % (size, len(data), tag))\n",
      "/home/chris/miniconda2/envs/pytorch4/lib/python3.6/site-packages/PIL/TiffImagePlugin.py:739: UserWarning: Possibly corrupt EXIF data.  Expecting to read 18481152 bytes but only got 0. Skipping tag 0\n",
      "  \" Skipping tag %s\" % (size, len(data), tag))\n",
      "/home/chris/miniconda2/envs/pytorch4/lib/python3.6/site-packages/PIL/TiffImagePlugin.py:739: UserWarning: Possibly corrupt EXIF data.  Expecting to read 37093376 bytes but only got 0. Skipping tag 0\n",
      "  \" Skipping tag %s\" % (size, len(data), tag))\n",
      "/home/chris/miniconda2/envs/pytorch4/lib/python3.6/site-packages/PIL/TiffImagePlugin.py:739: UserWarning: Possibly corrupt EXIF data.  Expecting to read 39976960 bytes but only got 0. Skipping tag 0\n",
      "  \" Skipping tag %s\" % (size, len(data), tag))\n",
      "/home/chris/miniconda2/envs/pytorch4/lib/python3.6/site-packages/PIL/TiffImagePlugin.py:739: UserWarning: Possibly corrupt EXIF data.  Expecting to read 34865152 bytes but only got 0. Skipping tag 0\n",
      "  \" Skipping tag %s\" % (size, len(data), tag))\n",
      "/home/chris/miniconda2/envs/pytorch4/lib/python3.6/site-packages/PIL/TiffImagePlugin.py:756: UserWarning: Corrupt EXIF data.  Expecting to read 12 bytes but only got 10. \n",
      "  warnings.warn(str(msg))\n"
     ]
    },
    {
     "name": "stdout",
     "output_type": "stream",
     "text": [
      "Batches processed: 2600/4749 (54.7%), ETA: 25m:51s\n",
      "Batches processed: 2800/4749 (59.0%), ETA: 23m:30s\n",
      "Batches processed: 3000/4749 (63.2%), ETA: 21m:08s\n",
      "Batches processed: 3200/4749 (67.4%), ETA: 18m:44s\n",
      "Batches processed: 3400/4749 (71.6%), ETA: 16m:17s\n",
      "Batches processed: 3600/4749 (75.8%), ETA: 13m:52s\n"
     ]
    },
    {
     "name": "stderr",
     "output_type": "stream",
     "text": [
      "/home/chris/miniconda2/envs/pytorch4/lib/python3.6/site-packages/PIL/TiffImagePlugin.py:739: UserWarning: Possibly corrupt EXIF data.  Expecting to read 2555904 bytes but only got 0. Skipping tag 0\n",
      "  \" Skipping tag %s\" % (size, len(data), tag))\n"
     ]
    },
    {
     "name": "stdout",
     "output_type": "stream",
     "text": [
      "Batches processed: 3800/4749 (80.0%), ETA: 11m:28s\n"
     ]
    },
    {
     "name": "stderr",
     "output_type": "stream",
     "text": [
      "/home/chris/miniconda2/envs/pytorch4/lib/python3.6/site-packages/PIL/TiffImagePlugin.py:739: UserWarning: Possibly corrupt EXIF data.  Expecting to read 1835008 bytes but only got 0. Skipping tag 0\n",
      "  \" Skipping tag %s\" % (size, len(data), tag))\n"
     ]
    },
    {
     "name": "stdout",
     "output_type": "stream",
     "text": [
      "Batches processed: 4000/4749 (84.2%), ETA: 09m:03s\n",
      "Batches processed: 4200/4749 (88.4%), ETA: 06m:38s\n",
      "Batches processed: 4400/4749 (92.7%), ETA: 04m:13s\n",
      "Batches processed: 4600/4749 (96.9%), ETA: 01m:48s\n",
      "Batches processed: 4749/4749 (100.0%), ETA: 0s\n",
      "Save mean arithmetic means to results/real/imagenet-full/8793/mean_arithmetic_means.csv\n",
      "Epoch: 2, Train loss: 827.40, mean arithmetic mean: 0.9576355219\n",
      "Save affinities to results/real/imagenet-full/8793/affinities/2.npy\n",
      "Epoch: 3 , mean arithmetic means: [0.8437413573265076, 0.9576355218887329]\n",
      "Batches processed: 200/4715 (4.2%), ETA: 1h:04m:20s, Loss: 0.064559\n",
      "Batches processed: 400/4715 (8.5%), ETA: 1h:00m:45s, Loss: 0.061773\n",
      "Batches processed: 600/4715 (12.7%), ETA: 58m:13s, Loss: 0.077978\n",
      "Batches processed: 800/4715 (17.0%), ETA: 55m:50s, Loss: 0.044018\n",
      "Batches processed: 1000/4715 (21.2%), ETA: 52m:52s, Loss: 0.095431\n",
      "Batches processed: 1200/4715 (25.5%), ETA: 50m:03s, Loss: 0.052625\n",
      "Batches processed: 1400/4715 (29.7%), ETA: 47m:02s, Loss: 0.053686\n",
      "Batches processed: 1600/4715 (33.9%), ETA: 44m:21s, Loss: 0.049728\n",
      "Batches processed: 1800/4715 (38.2%), ETA: 41m:32s, Loss: 0.051404\n",
      "Batches processed: 2000/4715 (42.4%), ETA: 38m:42s, Loss: 0.051587\n"
     ]
    },
    {
     "name": "stderr",
     "output_type": "stream",
     "text": [
      "/home/chris/miniconda2/envs/pytorch4/lib/python3.6/site-packages/PIL/TiffImagePlugin.py:739: UserWarning: Possibly corrupt EXIF data.  Expecting to read 2555904 bytes but only got 0. Skipping tag 0\n",
      "  \" Skipping tag %s\" % (size, len(data), tag))\n"
     ]
    },
    {
     "name": "stdout",
     "output_type": "stream",
     "text": [
      "Batches processed: 2200/4715 (46.7%), ETA: 36m:01s, Loss: 0.059103\n"
     ]
    },
    {
     "name": "stderr",
     "output_type": "stream",
     "text": [
      "/home/chris/miniconda2/envs/pytorch4/lib/python3.6/site-packages/PIL/TiffImagePlugin.py:739: UserWarning: Possibly corrupt EXIF data.  Expecting to read 2555904 bytes but only got 0. Skipping tag 0\n",
      "  \" Skipping tag %s\" % (size, len(data), tag))\n"
     ]
    },
    {
     "name": "stdout",
     "output_type": "stream",
     "text": [
      "Batches processed: 2400/4715 (50.9%), ETA: 33m:08s, Loss: 0.059608\n",
      "Batches processed: 2600/4715 (55.1%), ETA: 30m:17s, Loss: 0.044119\n",
      "Batches processed: 2800/4715 (59.4%), ETA: 27m:25s, Loss: 0.049422\n",
      "Batches processed: 3000/4715 (63.6%), ETA: 24m:36s, Loss: 0.054069\n",
      "Batches processed: 3200/4715 (67.9%), ETA: 21m:43s, Loss: 0.071064\n",
      "Batches processed: 3400/4715 (72.1%), ETA: 18m:51s, Loss: 0.066979\n",
      "Batches processed: 3600/4715 (76.4%), ETA: 15m:58s, Loss: 0.043926\n",
      "Batches processed: 3800/4715 (80.6%), ETA: 13m:06s, Loss: 0.062630\n",
      "Batches processed: 4000/4715 (84.8%), ETA: 10m:13s, Loss: 0.062713\n",
      "Batches processed: 4200/4715 (89.1%), ETA: 07m:22s, Loss: 0.041772\n",
      "Batches processed: 4400/4715 (93.3%), ETA: 04m:30s, Loss: 0.052851\n",
      "Batches processed: 4600/4715 (97.6%), ETA: 01m:39s, Loss: 0.056776\n",
      "Batches processed: 4715/4715 (100.0%), ETA: 0s, Loss: 0.051306\n",
      "Save model and optimizer state to results/real/imagenet-full/8793/checkpoints/3.pth.tar\n",
      "Batches processed: 200/4749 (4.2%), ETA: 57m:47s\n",
      "Batches processed: 400/4749 (8.4%), ETA: 54m:52s\n"
     ]
    },
    {
     "name": "stderr",
     "output_type": "stream",
     "text": [
      "/home/chris/miniconda2/envs/pytorch4/lib/python3.6/site-packages/PIL/TiffImagePlugin.py:756: UserWarning: Corrupt EXIF data.  Expecting to read 4 bytes but only got 0. \n",
      "  warnings.warn(str(msg))\n"
     ]
    },
    {
     "name": "stdout",
     "output_type": "stream",
     "text": [
      "Batches processed: 600/4749 (12.6%), ETA: 52m:28s\n",
      "Batches processed: 800/4749 (16.8%), ETA: 49m:25s\n",
      "Batches processed: 1000/4749 (21.1%), ETA: 46m:12s\n",
      "Batches processed: 1200/4749 (25.3%), ETA: 43m:27s\n",
      "Batches processed: 1400/4749 (29.5%), ETA: 40m:49s\n",
      "Batches processed: 1600/4749 (33.7%), ETA: 38m:22s\n"
     ]
    },
    {
     "name": "stderr",
     "output_type": "stream",
     "text": [
      "/home/chris/miniconda2/envs/pytorch4/lib/python3.6/site-packages/PIL/TiffImagePlugin.py:739: UserWarning: Possibly corrupt EXIF data.  Expecting to read 2555904 bytes but only got 0. Skipping tag 0\n",
      "  \" Skipping tag %s\" % (size, len(data), tag))\n"
     ]
    },
    {
     "name": "stdout",
     "output_type": "stream",
     "text": [
      "Batches processed: 1800/4749 (37.9%), ETA: 35m:53s\n",
      "Batches processed: 2000/4749 (42.1%), ETA: 33m:25s\n",
      "Batches processed: 2200/4749 (46.3%), ETA: 30m:56s\n",
      "Batches processed: 2400/4749 (50.5%), ETA: 28m:23s\n"
     ]
    },
    {
     "name": "stderr",
     "output_type": "stream",
     "text": [
      "/home/chris/miniconda2/envs/pytorch4/lib/python3.6/site-packages/PIL/TiffImagePlugin.py:739: UserWarning: Possibly corrupt EXIF data.  Expecting to read 19660800 bytes but only got 0. Skipping tag 0\n",
      "  \" Skipping tag %s\" % (size, len(data), tag))\n",
      "/home/chris/miniconda2/envs/pytorch4/lib/python3.6/site-packages/PIL/TiffImagePlugin.py:739: UserWarning: Possibly corrupt EXIF data.  Expecting to read 18481152 bytes but only got 0. Skipping tag 0\n",
      "  \" Skipping tag %s\" % (size, len(data), tag))\n",
      "/home/chris/miniconda2/envs/pytorch4/lib/python3.6/site-packages/PIL/TiffImagePlugin.py:739: UserWarning: Possibly corrupt EXIF data.  Expecting to read 37093376 bytes but only got 0. Skipping tag 0\n",
      "  \" Skipping tag %s\" % (size, len(data), tag))\n",
      "/home/chris/miniconda2/envs/pytorch4/lib/python3.6/site-packages/PIL/TiffImagePlugin.py:739: UserWarning: Possibly corrupt EXIF data.  Expecting to read 39976960 bytes but only got 0. Skipping tag 0\n",
      "  \" Skipping tag %s\" % (size, len(data), tag))\n",
      "/home/chris/miniconda2/envs/pytorch4/lib/python3.6/site-packages/PIL/TiffImagePlugin.py:739: UserWarning: Possibly corrupt EXIF data.  Expecting to read 34865152 bytes but only got 0. Skipping tag 0\n",
      "  \" Skipping tag %s\" % (size, len(data), tag))\n",
      "/home/chris/miniconda2/envs/pytorch4/lib/python3.6/site-packages/PIL/TiffImagePlugin.py:756: UserWarning: Corrupt EXIF data.  Expecting to read 12 bytes but only got 10. \n",
      "  warnings.warn(str(msg))\n"
     ]
    },
    {
     "name": "stdout",
     "output_type": "stream",
     "text": [
      "Batches processed: 2600/4749 (54.7%), ETA: 25m:53s\n",
      "Batches processed: 2800/4749 (59.0%), ETA: 23m:31s\n",
      "Batches processed: 3000/4749 (63.2%), ETA: 21m:02s\n",
      "Batches processed: 3200/4749 (67.4%), ETA: 18m:38s\n",
      "Batches processed: 3400/4749 (71.6%), ETA: 16m:11s\n",
      "Batches processed: 3600/4749 (75.8%), ETA: 13m:47s\n"
     ]
    },
    {
     "name": "stderr",
     "output_type": "stream",
     "text": [
      "/home/chris/miniconda2/envs/pytorch4/lib/python3.6/site-packages/PIL/TiffImagePlugin.py:739: UserWarning: Possibly corrupt EXIF data.  Expecting to read 2555904 bytes but only got 0. Skipping tag 0\n",
      "  \" Skipping tag %s\" % (size, len(data), tag))\n"
     ]
    },
    {
     "name": "stdout",
     "output_type": "stream",
     "text": [
      "Batches processed: 3800/4749 (80.0%), ETA: 11m:23s\n"
     ]
    },
    {
     "name": "stderr",
     "output_type": "stream",
     "text": [
      "/home/chris/miniconda2/envs/pytorch4/lib/python3.6/site-packages/PIL/TiffImagePlugin.py:739: UserWarning: Possibly corrupt EXIF data.  Expecting to read 1835008 bytes but only got 0. Skipping tag 0\n",
      "  \" Skipping tag %s\" % (size, len(data), tag))\n"
     ]
    },
    {
     "name": "stdout",
     "output_type": "stream",
     "text": [
      "Batches processed: 4000/4749 (84.2%), ETA: 08m:58s\n",
      "Batches processed: 4200/4749 (88.4%), ETA: 06m:34s\n",
      "Batches processed: 4400/4749 (92.7%), ETA: 04m:10s\n",
      "Batches processed: 4600/4749 (96.9%), ETA: 01m:47s\n",
      "Batches processed: 4749/4749 (100.0%), ETA: 0s\n",
      "Save mean arithmetic means to results/real/imagenet-full/8793/mean_arithmetic_means.csv\n",
      "Epoch: 3, Train loss: 284.05, mean arithmetic mean: 0.9778926373\n",
      "Save affinities to results/real/imagenet-full/8793/affinities/3.npy\n",
      "Epoch: 4 , mean arithmetic means: [0.8437413573265076, 0.9576355218887329, 0.9778926372528076]\n",
      "Batches processed: 200/4715 (4.2%), ETA: 1h:00m:04s, Loss: 0.032370\n",
      "Batches processed: 400/4715 (8.5%), ETA: 59m:13s, Loss: 0.031005\n"
     ]
    },
    {
     "name": "stderr",
     "output_type": "stream",
     "text": [
      "/home/chris/miniconda2/envs/pytorch4/lib/python3.6/site-packages/PIL/TiffImagePlugin.py:739: UserWarning: Possibly corrupt EXIF data.  Expecting to read 2555904 bytes but only got 0. Skipping tag 0\n",
      "  \" Skipping tag %s\" % (size, len(data), tag))\n",
      "/home/chris/miniconda2/envs/pytorch4/lib/python3.6/site-packages/PIL/TiffImagePlugin.py:739: UserWarning: Possibly corrupt EXIF data.  Expecting to read 2555904 bytes but only got 0. Skipping tag 0\n",
      "  \" Skipping tag %s\" % (size, len(data), tag))\n"
     ]
    },
    {
     "name": "stdout",
     "output_type": "stream",
     "text": [
      "Batches processed: 600/4715 (12.7%), ETA: 56m:15s, Loss: 0.026930\n",
      "Batches processed: 800/4715 (17.0%), ETA: 54m:09s, Loss: 0.027990\n",
      "Batches processed: 1000/4715 (21.2%), ETA: 51m:13s, Loss: 0.024679\n",
      "Batches processed: 1200/4715 (25.5%), ETA: 49m:01s, Loss: 0.046482\n",
      "Batches processed: 1400/4715 (29.7%), ETA: 46m:10s, Loss: 0.024875\n",
      "Batches processed: 1600/4715 (33.9%), ETA: 43m:30s, Loss: 0.028570\n",
      "Batches processed: 1800/4715 (38.2%), ETA: 40m:48s, Loss: 0.028242\n",
      "Batches processed: 2000/4715 (42.4%), ETA: 38m:02s, Loss: 0.026287\n",
      "Batches processed: 2200/4715 (46.7%), ETA: 35m:15s, Loss: 0.027377\n",
      "Batches processed: 2400/4715 (50.9%), ETA: 32m:25s, Loss: 0.029123\n",
      "Batches processed: 2600/4715 (55.1%), ETA: 29m:32s, Loss: 0.029396\n",
      "Batches processed: 2800/4715 (59.4%), ETA: 26m:44s, Loss: 0.020711\n",
      "Batches processed: 3000/4715 (63.6%), ETA: 23m:57s, Loss: 0.028761\n",
      "Batches processed: 3200/4715 (67.9%), ETA: 21m:12s, Loss: 0.019224\n",
      "Batches processed: 3400/4715 (72.1%), ETA: 18m:23s, Loss: 0.027319\n",
      "Batches processed: 3600/4715 (76.4%), ETA: 15m:35s, Loss: 0.023700\n",
      "Batches processed: 3800/4715 (80.6%), ETA: 12m:48s, Loss: 0.022926\n"
     ]
    },
    {
     "name": "stderr",
     "output_type": "stream",
     "text": [
      "/home/chris/miniconda2/envs/pytorch4/lib/python3.6/site-packages/PIL/TiffImagePlugin.py:739: UserWarning: Possibly corrupt EXIF data.  Expecting to read 2555904 bytes but only got 0. Skipping tag 0\n",
      "  \" Skipping tag %s\" % (size, len(data), tag))\n"
     ]
    },
    {
     "name": "stdout",
     "output_type": "stream",
     "text": [
      "Batches processed: 4000/4715 (84.8%), ETA: 10m:00s, Loss: 0.034185\n",
      "Batches processed: 4200/4715 (89.1%), ETA: 07m:13s, Loss: 0.024172\n",
      "Batches processed: 4400/4715 (93.3%), ETA: 04m:25s, Loss: 0.032963\n",
      "Batches processed: 4600/4715 (97.6%), ETA: 01m:37s, Loss: 0.028386\n",
      "Batches processed: 4715/4715 (100.0%), ETA: 0s, Loss: 0.013396\n",
      "Save model and optimizer state to results/real/imagenet-full/8793/checkpoints/4.pth.tar\n",
      "Batches processed: 200/4749 (4.2%), ETA: 56m:49s\n",
      "Batches processed: 400/4749 (8.4%), ETA: 51m:18s\n"
     ]
    },
    {
     "name": "stderr",
     "output_type": "stream",
     "text": [
      "/home/chris/miniconda2/envs/pytorch4/lib/python3.6/site-packages/PIL/TiffImagePlugin.py:756: UserWarning: Corrupt EXIF data.  Expecting to read 4 bytes but only got 0. \n",
      "  warnings.warn(str(msg))\n"
     ]
    },
    {
     "name": "stdout",
     "output_type": "stream",
     "text": [
      "Batches processed: 600/4749 (12.6%), ETA: 48m:49s\n",
      "Batches processed: 800/4749 (16.8%), ETA: 46m:09s\n",
      "Batches processed: 1000/4749 (21.1%), ETA: 43m:38s\n",
      "Batches processed: 1200/4749 (25.3%), ETA: 40m:55s\n",
      "Batches processed: 1400/4749 (29.5%), ETA: 38m:47s\n",
      "Batches processed: 1600/4749 (33.7%), ETA: 36m:25s\n"
     ]
    },
    {
     "name": "stderr",
     "output_type": "stream",
     "text": [
      "/home/chris/miniconda2/envs/pytorch4/lib/python3.6/site-packages/PIL/TiffImagePlugin.py:739: UserWarning: Possibly corrupt EXIF data.  Expecting to read 2555904 bytes but only got 0. Skipping tag 0\n",
      "  \" Skipping tag %s\" % (size, len(data), tag))\n"
     ]
    },
    {
     "name": "stdout",
     "output_type": "stream",
     "text": [
      "Batches processed: 1800/4749 (37.9%), ETA: 34m:18s\n",
      "Batches processed: 2000/4749 (42.1%), ETA: 32m:00s\n",
      "Batches processed: 2200/4749 (46.3%), ETA: 29m:36s\n",
      "Batches processed: 2400/4749 (50.5%), ETA: 27m:09s\n"
     ]
    },
    {
     "name": "stderr",
     "output_type": "stream",
     "text": [
      "/home/chris/miniconda2/envs/pytorch4/lib/python3.6/site-packages/PIL/TiffImagePlugin.py:739: UserWarning: Possibly corrupt EXIF data.  Expecting to read 19660800 bytes but only got 0. Skipping tag 0\n",
      "  \" Skipping tag %s\" % (size, len(data), tag))\n",
      "/home/chris/miniconda2/envs/pytorch4/lib/python3.6/site-packages/PIL/TiffImagePlugin.py:739: UserWarning: Possibly corrupt EXIF data.  Expecting to read 18481152 bytes but only got 0. Skipping tag 0\n",
      "  \" Skipping tag %s\" % (size, len(data), tag))\n",
      "/home/chris/miniconda2/envs/pytorch4/lib/python3.6/site-packages/PIL/TiffImagePlugin.py:739: UserWarning: Possibly corrupt EXIF data.  Expecting to read 37093376 bytes but only got 0. Skipping tag 0\n",
      "  \" Skipping tag %s\" % (size, len(data), tag))\n",
      "/home/chris/miniconda2/envs/pytorch4/lib/python3.6/site-packages/PIL/TiffImagePlugin.py:739: UserWarning: Possibly corrupt EXIF data.  Expecting to read 39976960 bytes but only got 0. Skipping tag 0\n",
      "  \" Skipping tag %s\" % (size, len(data), tag))\n",
      "/home/chris/miniconda2/envs/pytorch4/lib/python3.6/site-packages/PIL/TiffImagePlugin.py:739: UserWarning: Possibly corrupt EXIF data.  Expecting to read 34865152 bytes but only got 0. Skipping tag 0\n",
      "  \" Skipping tag %s\" % (size, len(data), tag))\n",
      "/home/chris/miniconda2/envs/pytorch4/lib/python3.6/site-packages/PIL/TiffImagePlugin.py:756: UserWarning: Corrupt EXIF data.  Expecting to read 12 bytes but only got 10. \n",
      "  warnings.warn(str(msg))\n"
     ]
    },
    {
     "name": "stdout",
     "output_type": "stream",
     "text": [
      "Batches processed: 2600/4749 (54.7%), ETA: 24m:51s\n",
      "Batches processed: 2800/4749 (59.0%), ETA: 22m:36s\n",
      "Batches processed: 3000/4749 (63.2%), ETA: 20m:14s\n",
      "Batches processed: 3200/4749 (67.4%), ETA: 17m:56s\n",
      "Batches processed: 3400/4749 (71.6%), ETA: 15m:35s\n",
      "Batches processed: 3600/4749 (75.8%), ETA: 13m:14s\n"
     ]
    },
    {
     "name": "stderr",
     "output_type": "stream",
     "text": [
      "/home/chris/miniconda2/envs/pytorch4/lib/python3.6/site-packages/PIL/TiffImagePlugin.py:739: UserWarning: Possibly corrupt EXIF data.  Expecting to read 2555904 bytes but only got 0. Skipping tag 0\n",
      "  \" Skipping tag %s\" % (size, len(data), tag))\n"
     ]
    },
    {
     "name": "stdout",
     "output_type": "stream",
     "text": [
      "Batches processed: 3800/4749 (80.0%), ETA: 10m:57s\n"
     ]
    },
    {
     "name": "stderr",
     "output_type": "stream",
     "text": [
      "/home/chris/miniconda2/envs/pytorch4/lib/python3.6/site-packages/PIL/TiffImagePlugin.py:739: UserWarning: Possibly corrupt EXIF data.  Expecting to read 1835008 bytes but only got 0. Skipping tag 0\n",
      "  \" Skipping tag %s\" % (size, len(data), tag))\n"
     ]
    },
    {
     "name": "stdout",
     "output_type": "stream",
     "text": [
      "Batches processed: 4000/4749 (84.2%), ETA: 08m:38s\n",
      "Batches processed: 4200/4749 (88.4%), ETA: 06m:19s\n",
      "Batches processed: 4400/4749 (92.7%), ETA: 04m:01s\n",
      "Batches processed: 4600/4749 (96.9%), ETA: 01m:43s\n",
      "Batches processed: 4749/4749 (100.0%), ETA: 0s\n",
      "Save mean arithmetic means to results/real/imagenet-full/8793/mean_arithmetic_means.csv\n",
      "Epoch: 4, Train loss: 126.69, mean arithmetic mean: 0.9857324958\n",
      "Save affinities to results/real/imagenet-full/8793/affinities/4.npy\n",
      "Epoch: 5 , mean arithmetic means: [0.8437413573265076, 0.9576355218887329, 0.9778926372528076, 0.9857324957847595]\n"
     ]
    },
    {
     "name": "stderr",
     "output_type": "stream",
     "text": [
      "/home/chris/miniconda2/envs/pytorch4/lib/python3.6/site-packages/PIL/TiffImagePlugin.py:739: UserWarning: Possibly corrupt EXIF data.  Expecting to read 2555904 bytes but only got 0. Skipping tag 0\n",
      "  \" Skipping tag %s\" % (size, len(data), tag))\n"
     ]
    },
    {
     "name": "stdout",
     "output_type": "stream",
     "text": [
      "Batches processed: 200/4715 (4.2%), ETA: 58m:49s, Loss: 0.011737\n",
      "Batches processed: 400/4715 (8.5%), ETA: 56m:56s, Loss: 0.014814\n",
      "Batches processed: 600/4715 (12.7%), ETA: 55m:18s, Loss: 0.010305\n",
      "Batches processed: 800/4715 (17.0%), ETA: 52m:37s, Loss: 0.013806\n",
      "Batches processed: 1000/4715 (21.2%), ETA: 50m:03s, Loss: 0.017029\n"
     ]
    },
    {
     "name": "stderr",
     "output_type": "stream",
     "text": [
      "/home/chris/miniconda2/envs/pytorch4/lib/python3.6/site-packages/PIL/TiffImagePlugin.py:739: UserWarning: Possibly corrupt EXIF data.  Expecting to read 2555904 bytes but only got 0. Skipping tag 0\n",
      "  \" Skipping tag %s\" % (size, len(data), tag))\n"
     ]
    },
    {
     "name": "stdout",
     "output_type": "stream",
     "text": [
      "Batches processed: 1200/4715 (25.5%), ETA: 47m:27s, Loss: 0.018438\n",
      "Batches processed: 1400/4715 (29.7%), ETA: 44m:37s, Loss: 0.011810\n",
      "Batches processed: 1600/4715 (33.9%), ETA: 42m:10s, Loss: 0.009821\n",
      "Batches processed: 1800/4715 (38.2%), ETA: 39m:36s, Loss: 0.011350\n",
      "Batches processed: 2000/4715 (42.4%), ETA: 36m:49s, Loss: 0.010193\n"
     ]
    },
    {
     "name": "stderr",
     "output_type": "stream",
     "text": [
      "/home/chris/miniconda2/envs/pytorch4/lib/python3.6/site-packages/PIL/TiffImagePlugin.py:739: UserWarning: Possibly corrupt EXIF data.  Expecting to read 2555904 bytes but only got 0. Skipping tag 0\n",
      "  \" Skipping tag %s\" % (size, len(data), tag))\n"
     ]
    },
    {
     "name": "stdout",
     "output_type": "stream",
     "text": [
      "Batches processed: 2200/4715 (46.7%), ETA: 34m:08s, Loss: 0.013443\n",
      "Batches processed: 2400/4715 (50.9%), ETA: 31m:26s, Loss: 0.013986\n",
      "Batches processed: 2600/4715 (55.1%), ETA: 28m:40s, Loss: 0.011789\n",
      "Batches processed: 2800/4715 (59.4%), ETA: 26m:04s, Loss: 0.010656\n",
      "Batches processed: 3000/4715 (63.6%), ETA: 23m:18s, Loss: 0.014416\n",
      "Batches processed: 3200/4715 (67.9%), ETA: 20m:36s, Loss: 0.009482\n",
      "Batches processed: 3400/4715 (72.1%), ETA: 17m:54s, Loss: 0.013781\n",
      "Batches processed: 3600/4715 (76.4%), ETA: 15m:08s, Loss: 0.011766\n",
      "Batches processed: 3800/4715 (80.6%), ETA: 12m:26s, Loss: 0.011388\n",
      "Batches processed: 4000/4715 (84.8%), ETA: 09m:42s, Loss: 0.014397\n",
      "Batches processed: 4200/4715 (89.1%), ETA: 07m:00s, Loss: 0.014456\n",
      "Batches processed: 4400/4715 (93.3%), ETA: 04m:17s, Loss: 0.008415\n",
      "Batches processed: 4600/4715 (97.6%), ETA: 01m:34s, Loss: 0.016445\n",
      "Batches processed: 4715/4715 (100.0%), ETA: 0s, Loss: 0.011143\n",
      "Save model and optimizer state to results/real/imagenet-full/8793/checkpoints/5.pth.tar\n",
      "Batches processed: 200/4749 (4.2%), ETA: 54m:19s\n",
      "Batches processed: 400/4749 (8.4%), ETA: 51m:14s\n"
     ]
    },
    {
     "name": "stderr",
     "output_type": "stream",
     "text": [
      "/home/chris/miniconda2/envs/pytorch4/lib/python3.6/site-packages/PIL/TiffImagePlugin.py:756: UserWarning: Corrupt EXIF data.  Expecting to read 4 bytes but only got 0. \n",
      "  warnings.warn(str(msg))\n"
     ]
    },
    {
     "name": "stdout",
     "output_type": "stream",
     "text": [
      "Batches processed: 600/4749 (12.6%), ETA: 48m:30s\n",
      "Batches processed: 800/4749 (16.8%), ETA: 45m:54s\n",
      "Batches processed: 1000/4749 (21.1%), ETA: 43m:09s\n",
      "Batches processed: 1200/4749 (25.3%), ETA: 40m:37s\n",
      "Batches processed: 1400/4749 (29.5%), ETA: 38m:20s\n",
      "Batches processed: 1600/4749 (33.7%), ETA: 35m:47s\n"
     ]
    },
    {
     "name": "stderr",
     "output_type": "stream",
     "text": [
      "/home/chris/miniconda2/envs/pytorch4/lib/python3.6/site-packages/PIL/TiffImagePlugin.py:739: UserWarning: Possibly corrupt EXIF data.  Expecting to read 2555904 bytes but only got 0. Skipping tag 0\n",
      "  \" Skipping tag %s\" % (size, len(data), tag))\n"
     ]
    },
    {
     "name": "stdout",
     "output_type": "stream",
     "text": [
      "Batches processed: 1800/4749 (37.9%), ETA: 33m:29s\n",
      "Batches processed: 2000/4749 (42.1%), ETA: 31m:08s\n",
      "Batches processed: 2200/4749 (46.3%), ETA: 28m:52s\n",
      "Batches processed: 2400/4749 (50.5%), ETA: 26m:31s\n"
     ]
    },
    {
     "name": "stderr",
     "output_type": "stream",
     "text": [
      "/home/chris/miniconda2/envs/pytorch4/lib/python3.6/site-packages/PIL/TiffImagePlugin.py:739: UserWarning: Possibly corrupt EXIF data.  Expecting to read 19660800 bytes but only got 0. Skipping tag 0\n",
      "  \" Skipping tag %s\" % (size, len(data), tag))\n",
      "/home/chris/miniconda2/envs/pytorch4/lib/python3.6/site-packages/PIL/TiffImagePlugin.py:739: UserWarning: Possibly corrupt EXIF data.  Expecting to read 18481152 bytes but only got 0. Skipping tag 0\n",
      "  \" Skipping tag %s\" % (size, len(data), tag))\n",
      "/home/chris/miniconda2/envs/pytorch4/lib/python3.6/site-packages/PIL/TiffImagePlugin.py:739: UserWarning: Possibly corrupt EXIF data.  Expecting to read 37093376 bytes but only got 0. Skipping tag 0\n",
      "  \" Skipping tag %s\" % (size, len(data), tag))\n",
      "/home/chris/miniconda2/envs/pytorch4/lib/python3.6/site-packages/PIL/TiffImagePlugin.py:739: UserWarning: Possibly corrupt EXIF data.  Expecting to read 39976960 bytes but only got 0. Skipping tag 0\n",
      "  \" Skipping tag %s\" % (size, len(data), tag))\n",
      "/home/chris/miniconda2/envs/pytorch4/lib/python3.6/site-packages/PIL/TiffImagePlugin.py:739: UserWarning: Possibly corrupt EXIF data.  Expecting to read 34865152 bytes but only got 0. Skipping tag 0\n",
      "  \" Skipping tag %s\" % (size, len(data), tag))\n",
      "/home/chris/miniconda2/envs/pytorch4/lib/python3.6/site-packages/PIL/TiffImagePlugin.py:756: UserWarning: Corrupt EXIF data.  Expecting to read 12 bytes but only got 10. \n",
      "  warnings.warn(str(msg))\n"
     ]
    },
    {
     "name": "stdout",
     "output_type": "stream",
     "text": [
      "Batches processed: 2600/4749 (54.7%), ETA: 24m:15s\n",
      "Batches processed: 2800/4749 (59.0%), ETA: 22m:02s\n",
      "Batches processed: 3000/4749 (63.2%), ETA: 19m:42s\n",
      "Batches processed: 3200/4749 (67.4%), ETA: 17m:31s\n",
      "Batches processed: 3400/4749 (71.6%), ETA: 15m:15s\n",
      "Batches processed: 3600/4749 (75.8%), ETA: 12m:57s\n"
     ]
    },
    {
     "name": "stderr",
     "output_type": "stream",
     "text": [
      "/home/chris/miniconda2/envs/pytorch4/lib/python3.6/site-packages/PIL/TiffImagePlugin.py:739: UserWarning: Possibly corrupt EXIF data.  Expecting to read 2555904 bytes but only got 0. Skipping tag 0\n",
      "  \" Skipping tag %s\" % (size, len(data), tag))\n"
     ]
    },
    {
     "name": "stdout",
     "output_type": "stream",
     "text": [
      "Batches processed: 3800/4749 (80.0%), ETA: 10m:41s\n"
     ]
    },
    {
     "name": "stderr",
     "output_type": "stream",
     "text": [
      "/home/chris/miniconda2/envs/pytorch4/lib/python3.6/site-packages/PIL/TiffImagePlugin.py:739: UserWarning: Possibly corrupt EXIF data.  Expecting to read 1835008 bytes but only got 0. Skipping tag 0\n",
      "  \" Skipping tag %s\" % (size, len(data), tag))\n"
     ]
    },
    {
     "name": "stdout",
     "output_type": "stream",
     "text": [
      "Batches processed: 4000/4749 (84.2%), ETA: 08m:27s\n",
      "Batches processed: 4200/4749 (88.4%), ETA: 06m:11s\n",
      "Batches processed: 4400/4749 (92.7%), ETA: 03m:56s\n",
      "Batches processed: 4600/4749 (96.9%), ETA: 01m:41s\n",
      "Batches processed: 4749/4749 (100.0%), ETA: 0s\n",
      "Save mean arithmetic means to results/real/imagenet-full/8793/mean_arithmetic_means.csv\n",
      "Epoch: 5, Train loss: 63.46, mean arithmetic mean: 0.9835563898\n",
      "Save affinities to results/real/imagenet-full/8793/affinities/5.npy\n",
      "Early stopping. Load previous affinities from results/real/imagenet-full/8793/affinities/4.npy\n",
      "Merging from 8793 clusters to 5793 clusters.\n",
      "Save train-test split to results/real/imagenet-full/5793/current_clustering.npy\n",
      "Save mean arithmetic means to results/real/imagenet-full/5793/mean_arithmetic_means.csv\n",
      "#Clusters: 5793\n",
      "Epoch: 1 , mean arithmetic means: []\n",
      "Batches processed: 200/4721 (4.2%), ETA: 56m:40s, Loss: 0.676321\n"
     ]
    },
    {
     "name": "stderr",
     "output_type": "stream",
     "text": [
      "/home/chris/miniconda2/envs/pytorch4/lib/python3.6/site-packages/PIL/TiffImagePlugin.py:739: UserWarning: Possibly corrupt EXIF data.  Expecting to read 2555904 bytes but only got 0. Skipping tag 0\n",
      "  \" Skipping tag %s\" % (size, len(data), tag))\n",
      "/home/chris/miniconda2/envs/pytorch4/lib/python3.6/site-packages/PIL/TiffImagePlugin.py:739: UserWarning: Possibly corrupt EXIF data.  Expecting to read 1835008 bytes but only got 0. Skipping tag 0\n",
      "  \" Skipping tag %s\" % (size, len(data), tag))\n"
     ]
    },
    {
     "name": "stdout",
     "output_type": "stream",
     "text": [
      "Batches processed: 400/4721 (8.5%), ETA: 54m:54s, Loss: 0.694973\n",
      "Batches processed: 600/4721 (12.7%), ETA: 52m:59s, Loss: 0.640294\n",
      "Batches processed: 800/4721 (16.9%), ETA: 51m:23s, Loss: 0.613010\n",
      "Batches processed: 1000/4721 (21.2%), ETA: 49m:24s, Loss: 0.639535\n",
      "Batches processed: 1200/4721 (25.4%), ETA: 46m:52s, Loss: 0.614409\n",
      "Batches processed: 1400/4721 (29.7%), ETA: 44m:18s, Loss: 0.571260\n"
     ]
    },
    {
     "name": "stderr",
     "output_type": "stream",
     "text": [
      "/home/chris/miniconda2/envs/pytorch4/lib/python3.6/site-packages/PIL/TiffImagePlugin.py:739: UserWarning: Possibly corrupt EXIF data.  Expecting to read 19660800 bytes but only got 0. Skipping tag 0\n",
      "  \" Skipping tag %s\" % (size, len(data), tag))\n",
      "/home/chris/miniconda2/envs/pytorch4/lib/python3.6/site-packages/PIL/TiffImagePlugin.py:739: UserWarning: Possibly corrupt EXIF data.  Expecting to read 18481152 bytes but only got 0. Skipping tag 0\n",
      "  \" Skipping tag %s\" % (size, len(data), tag))\n",
      "/home/chris/miniconda2/envs/pytorch4/lib/python3.6/site-packages/PIL/TiffImagePlugin.py:739: UserWarning: Possibly corrupt EXIF data.  Expecting to read 37093376 bytes but only got 0. Skipping tag 0\n",
      "  \" Skipping tag %s\" % (size, len(data), tag))\n",
      "/home/chris/miniconda2/envs/pytorch4/lib/python3.6/site-packages/PIL/TiffImagePlugin.py:739: UserWarning: Possibly corrupt EXIF data.  Expecting to read 39976960 bytes but only got 0. Skipping tag 0\n",
      "  \" Skipping tag %s\" % (size, len(data), tag))\n",
      "/home/chris/miniconda2/envs/pytorch4/lib/python3.6/site-packages/PIL/TiffImagePlugin.py:739: UserWarning: Possibly corrupt EXIF data.  Expecting to read 34865152 bytes but only got 0. Skipping tag 0\n",
      "  \" Skipping tag %s\" % (size, len(data), tag))\n",
      "/home/chris/miniconda2/envs/pytorch4/lib/python3.6/site-packages/PIL/TiffImagePlugin.py:756: UserWarning: Corrupt EXIF data.  Expecting to read 12 bytes but only got 10. \n",
      "  warnings.warn(str(msg))\n"
     ]
    },
    {
     "name": "stdout",
     "output_type": "stream",
     "text": [
      "Batches processed: 1600/4721 (33.9%), ETA: 41m:35s, Loss: 0.618490\n",
      "Batches processed: 1800/4721 (38.1%), ETA: 39m:05s, Loss: 0.528120\n",
      "Batches processed: 2000/4721 (42.4%), ETA: 36m:25s, Loss: 0.468089\n",
      "Batches processed: 2200/4721 (46.6%), ETA: 33m:54s, Loss: 0.610294\n"
     ]
    },
    {
     "name": "stderr",
     "output_type": "stream",
     "text": [
      "/home/chris/miniconda2/envs/pytorch4/lib/python3.6/site-packages/PIL/TiffImagePlugin.py:739: UserWarning: Possibly corrupt EXIF data.  Expecting to read 2555904 bytes but only got 0. Skipping tag 0\n",
      "  \" Skipping tag %s\" % (size, len(data), tag))\n"
     ]
    },
    {
     "name": "stdout",
     "output_type": "stream",
     "text": [
      "Batches processed: 2400/4721 (50.8%), ETA: 31m:08s, Loss: 0.463039\n",
      "Batches processed: 2600/4721 (55.1%), ETA: 28m:26s, Loss: 0.414077\n",
      "Batches processed: 2800/4721 (59.3%), ETA: 25m:46s, Loss: 0.368878\n",
      "Batches processed: 3000/4721 (63.5%), ETA: 23m:06s, Loss: 0.351558\n",
      "Batches processed: 3200/4721 (67.8%), ETA: 20m:27s, Loss: 0.295081\n",
      "Batches processed: 3400/4721 (72.0%), ETA: 17m:46s, Loss: 0.277457\n",
      "Batches processed: 3600/4721 (76.3%), ETA: 15m:04s, Loss: 0.250191\n",
      "Batches processed: 3800/4721 (80.5%), ETA: 12m:24s, Loss: 0.262820\n",
      "Batches processed: 4000/4721 (84.7%), ETA: 09m:44s, Loss: 0.234757\n",
      "Batches processed: 4200/4721 (89.0%), ETA: 07m:02s, Loss: 0.239019\n",
      "Batches processed: 4400/4721 (93.2%), ETA: 04m:20s, Loss: 0.220468\n",
      "Batches processed: 4600/4721 (97.4%), ETA: 01m:38s, Loss: 0.216398\n",
      "Batches processed: 4721/4721 (100.0%), ETA: 0s, Loss: 0.183873\n",
      "Save model and optimizer state to results/real/imagenet-full/5793/checkpoints/1.pth.tar\n",
      "Batches processed: 200/4743 (4.2%), ETA: 54m:14s\n",
      "Batches processed: 400/4743 (8.4%), ETA: 51m:13s\n",
      "Batches processed: 600/4743 (12.7%), ETA: 48m:24s\n",
      "Batches processed: 800/4743 (16.9%), ETA: 45m:36s\n",
      "Batches processed: 1000/4743 (21.1%), ETA: 43m:03s\n",
      "Batches processed: 1200/4743 (25.3%), ETA: 40m:47s\n",
      "Batches processed: 1400/4743 (29.5%), ETA: 38m:24s\n",
      "Batches processed: 1600/4743 (33.7%), ETA: 36m:02s\n",
      "Batches processed: 1800/4743 (38.0%), ETA: 33m:43s\n",
      "Batches processed: 2000/4743 (42.2%), ETA: 31m:15s\n",
      "Batches processed: 2200/4743 (46.4%), ETA: 28m:51s\n",
      "Batches processed: 2400/4743 (50.6%), ETA: 26m:34s\n",
      "Batches processed: 2600/4743 (54.8%), ETA: 24m:19s\n",
      "Batches processed: 2800/4743 (59.0%), ETA: 21m:59s\n"
     ]
    },
    {
     "name": "stderr",
     "output_type": "stream",
     "text": [
      "/home/chris/miniconda2/envs/pytorch4/lib/python3.6/site-packages/PIL/TiffImagePlugin.py:739: UserWarning: Possibly corrupt EXIF data.  Expecting to read 2555904 bytes but only got 0. Skipping tag 0\n",
      "  \" Skipping tag %s\" % (size, len(data), tag))\n"
     ]
    },
    {
     "name": "stdout",
     "output_type": "stream",
     "text": [
      "Batches processed: 3000/4743 (63.3%), ETA: 19m:40s\n",
      "Batches processed: 3200/4743 (67.5%), ETA: 17m:23s\n",
      "Batches processed: 3400/4743 (71.7%), ETA: 15m:09s\n"
     ]
    },
    {
     "name": "stderr",
     "output_type": "stream",
     "text": [
      "/home/chris/miniconda2/envs/pytorch4/lib/python3.6/site-packages/PIL/TiffImagePlugin.py:756: UserWarning: Corrupt EXIF data.  Expecting to read 4 bytes but only got 0. \n",
      "  warnings.warn(str(msg))\n"
     ]
    },
    {
     "name": "stdout",
     "output_type": "stream",
     "text": [
      "Batches processed: 3600/4743 (75.9%), ETA: 12m:53s\n",
      "Batches processed: 3800/4743 (80.1%), ETA: 10m:39s\n"
     ]
    },
    {
     "name": "stderr",
     "output_type": "stream",
     "text": [
      "/home/chris/miniconda2/envs/pytorch4/lib/python3.6/site-packages/PIL/TiffImagePlugin.py:739: UserWarning: Possibly corrupt EXIF data.  Expecting to read 2555904 bytes but only got 0. Skipping tag 0\n",
      "  \" Skipping tag %s\" % (size, len(data), tag))\n"
     ]
    },
    {
     "name": "stdout",
     "output_type": "stream",
     "text": [
      "Batches processed: 4000/4743 (84.3%), ETA: 08m:23s\n",
      "Batches processed: 4200/4743 (88.6%), ETA: 06m:07s\n",
      "Batches processed: 4400/4743 (92.8%), ETA: 03m:52s\n",
      "Batches processed: 4600/4743 (97.0%), ETA: 01m:37s\n",
      "Batches processed: 4743/4743 (100.0%), ETA: 0s\n",
      "Save mean arithmetic means to results/real/imagenet-full/5793/mean_arithmetic_means.csv\n",
      "Epoch: 1, Train loss: 2128.19, mean arithmetic mean: 0.9111455679\n",
      "Save affinities to results/real/imagenet-full/5793/affinities/1.npy\n",
      "Epoch: 2 , mean arithmetic means: [0.9111455678939819]\n",
      "Batches processed: 200/4721 (4.2%), ETA: 59m:20s, Loss: 0.217558\n"
     ]
    },
    {
     "name": "stderr",
     "output_type": "stream",
     "text": [
      "/home/chris/miniconda2/envs/pytorch4/lib/python3.6/site-packages/PIL/TiffImagePlugin.py:739: UserWarning: Possibly corrupt EXIF data.  Expecting to read 2555904 bytes but only got 0. Skipping tag 0\n",
      "  \" Skipping tag %s\" % (size, len(data), tag))\n"
     ]
    },
    {
     "name": "stdout",
     "output_type": "stream",
     "text": [
      "Batches processed: 400/4721 (8.5%), ETA: 56m:07s, Loss: 0.170082\n",
      "Batches processed: 600/4721 (12.7%), ETA: 54m:24s, Loss: 0.179960\n",
      "Batches processed: 800/4721 (16.9%), ETA: 51m:30s, Loss: 0.186672\n",
      "Batches processed: 1000/4721 (21.2%), ETA: 48m:32s, Loss: 0.136159\n",
      "Batches processed: 1200/4721 (25.4%), ETA: 46m:26s, Loss: 0.126556\n",
      "Batches processed: 1400/4721 (29.7%), ETA: 43m:58s, Loss: 0.115104\n"
     ]
    },
    {
     "name": "stderr",
     "output_type": "stream",
     "text": [
      "/home/chris/miniconda2/envs/pytorch4/lib/python3.6/site-packages/PIL/TiffImagePlugin.py:739: UserWarning: Possibly corrupt EXIF data.  Expecting to read 1835008 bytes but only got 0. Skipping tag 0\n",
      "  \" Skipping tag %s\" % (size, len(data), tag))\n"
     ]
    },
    {
     "name": "stdout",
     "output_type": "stream",
     "text": [
      "Batches processed: 1600/4721 (33.9%), ETA: 41m:26s, Loss: 0.124166\n"
     ]
    },
    {
     "name": "stderr",
     "output_type": "stream",
     "text": [
      "/home/chris/miniconda2/envs/pytorch4/lib/python3.6/site-packages/PIL/TiffImagePlugin.py:739: UserWarning: Possibly corrupt EXIF data.  Expecting to read 19660800 bytes but only got 0. Skipping tag 0\n",
      "  \" Skipping tag %s\" % (size, len(data), tag))\n",
      "/home/chris/miniconda2/envs/pytorch4/lib/python3.6/site-packages/PIL/TiffImagePlugin.py:739: UserWarning: Possibly corrupt EXIF data.  Expecting to read 18481152 bytes but only got 0. Skipping tag 0\n",
      "  \" Skipping tag %s\" % (size, len(data), tag))\n",
      "/home/chris/miniconda2/envs/pytorch4/lib/python3.6/site-packages/PIL/TiffImagePlugin.py:739: UserWarning: Possibly corrupt EXIF data.  Expecting to read 37093376 bytes but only got 0. Skipping tag 0\n",
      "  \" Skipping tag %s\" % (size, len(data), tag))\n",
      "/home/chris/miniconda2/envs/pytorch4/lib/python3.6/site-packages/PIL/TiffImagePlugin.py:739: UserWarning: Possibly corrupt EXIF data.  Expecting to read 39976960 bytes but only got 0. Skipping tag 0\n",
      "  \" Skipping tag %s\" % (size, len(data), tag))\n",
      "/home/chris/miniconda2/envs/pytorch4/lib/python3.6/site-packages/PIL/TiffImagePlugin.py:739: UserWarning: Possibly corrupt EXIF data.  Expecting to read 34865152 bytes but only got 0. Skipping tag 0\n",
      "  \" Skipping tag %s\" % (size, len(data), tag))\n",
      "/home/chris/miniconda2/envs/pytorch4/lib/python3.6/site-packages/PIL/TiffImagePlugin.py:756: UserWarning: Corrupt EXIF data.  Expecting to read 12 bytes but only got 10. \n",
      "  warnings.warn(str(msg))\n"
     ]
    },
    {
     "name": "stdout",
     "output_type": "stream",
     "text": [
      "Batches processed: 1800/4721 (38.1%), ETA: 38m:55s, Loss: 0.103550\n",
      "Batches processed: 2000/4721 (42.4%), ETA: 36m:09s, Loss: 0.106131\n",
      "Batches processed: 2200/4721 (46.6%), ETA: 33m:37s, Loss: 0.124435\n",
      "Batches processed: 2400/4721 (50.8%), ETA: 31m:07s, Loss: 0.136038\n",
      "Batches processed: 2600/4721 (55.1%), ETA: 28m:31s, Loss: 0.106633\n",
      "Batches processed: 2800/4721 (59.3%), ETA: 25m:48s, Loss: 0.080125\n",
      "Batches processed: 3000/4721 (63.5%), ETA: 23m:08s, Loss: 0.140282\n",
      "Batches processed: 3200/4721 (67.8%), ETA: 20m:28s, Loss: 0.087182\n",
      "Batches processed: 3400/4721 (72.0%), ETA: 17m:45s, Loss: 0.079410\n",
      "Batches processed: 3600/4721 (76.3%), ETA: 15m:06s, Loss: 0.094644\n",
      "Batches processed: 3800/4721 (80.5%), ETA: 12m:25s, Loss: 0.079959\n",
      "Batches processed: 4000/4721 (84.7%), ETA: 09m:43s, Loss: 0.064405\n"
     ]
    },
    {
     "name": "stderr",
     "output_type": "stream",
     "text": [
      "/home/chris/miniconda2/envs/pytorch4/lib/python3.6/site-packages/PIL/TiffImagePlugin.py:739: UserWarning: Possibly corrupt EXIF data.  Expecting to read 2555904 bytes but only got 0. Skipping tag 0\n",
      "  \" Skipping tag %s\" % (size, len(data), tag))\n"
     ]
    },
    {
     "name": "stdout",
     "output_type": "stream",
     "text": [
      "Batches processed: 4200/4721 (89.0%), ETA: 07m:01s, Loss: 0.080600\n",
      "Batches processed: 4400/4721 (93.2%), ETA: 04m:20s, Loss: 0.072484\n",
      "Batches processed: 4600/4721 (97.4%), ETA: 01m:38s, Loss: 0.062012\n",
      "Batches processed: 4721/4721 (100.0%), ETA: 0s, Loss: 0.087142\n",
      "Save model and optimizer state to results/real/imagenet-full/5793/checkpoints/2.pth.tar\n",
      "Batches processed: 200/4743 (4.2%), ETA: 53m:36s\n",
      "Batches processed: 400/4743 (8.4%), ETA: 50m:50s\n",
      "Batches processed: 600/4743 (12.7%), ETA: 48m:31s\n",
      "Batches processed: 800/4743 (16.9%), ETA: 45m:37s\n",
      "Batches processed: 1000/4743 (21.1%), ETA: 43m:02s\n",
      "Batches processed: 1200/4743 (25.3%), ETA: 40m:33s\n",
      "Batches processed: 1400/4743 (29.5%), ETA: 38m:13s\n",
      "Batches processed: 1600/4743 (33.7%), ETA: 35m:52s\n",
      "Batches processed: 1800/4743 (38.0%), ETA: 33m:36s\n",
      "Batches processed: 2000/4743 (42.2%), ETA: 31m:12s\n",
      "Batches processed: 2200/4743 (46.4%), ETA: 28m:50s\n",
      "Batches processed: 2400/4743 (50.6%), ETA: 26m:32s\n",
      "Batches processed: 2600/4743 (54.8%), ETA: 24m:19s\n",
      "Batches processed: 2800/4743 (59.0%), ETA: 22m:05s\n"
     ]
    },
    {
     "name": "stderr",
     "output_type": "stream",
     "text": [
      "/home/chris/miniconda2/envs/pytorch4/lib/python3.6/site-packages/PIL/TiffImagePlugin.py:739: UserWarning: Possibly corrupt EXIF data.  Expecting to read 2555904 bytes but only got 0. Skipping tag 0\n",
      "  \" Skipping tag %s\" % (size, len(data), tag))\n"
     ]
    },
    {
     "name": "stdout",
     "output_type": "stream",
     "text": [
      "Batches processed: 3000/4743 (63.3%), ETA: 19m:48s\n",
      "Batches processed: 3200/4743 (67.5%), ETA: 17m:34s\n",
      "Batches processed: 3400/4743 (71.7%), ETA: 15m:24s\n"
     ]
    },
    {
     "name": "stderr",
     "output_type": "stream",
     "text": [
      "/home/chris/miniconda2/envs/pytorch4/lib/python3.6/site-packages/PIL/TiffImagePlugin.py:756: UserWarning: Corrupt EXIF data.  Expecting to read 4 bytes but only got 0. \n",
      "  warnings.warn(str(msg))\n"
     ]
    },
    {
     "name": "stdout",
     "output_type": "stream",
     "text": [
      "Batches processed: 3600/4743 (75.9%), ETA: 13m:06s\n",
      "Batches processed: 3800/4743 (80.1%), ETA: 10m:51s\n"
     ]
    },
    {
     "name": "stderr",
     "output_type": "stream",
     "text": [
      "/home/chris/miniconda2/envs/pytorch4/lib/python3.6/site-packages/PIL/TiffImagePlugin.py:739: UserWarning: Possibly corrupt EXIF data.  Expecting to read 2555904 bytes but only got 0. Skipping tag 0\n",
      "  \" Skipping tag %s\" % (size, len(data), tag))\n"
     ]
    },
    {
     "name": "stdout",
     "output_type": "stream",
     "text": [
      "Batches processed: 4000/4743 (84.3%), ETA: 08m:33s\n",
      "Batches processed: 4200/4743 (88.6%), ETA: 06m:15s\n",
      "Batches processed: 4400/4743 (92.8%), ETA: 03m:57s\n",
      "Batches processed: 4600/4743 (97.0%), ETA: 01m:39s\n",
      "Batches processed: 4743/4743 (100.0%), ETA: 0s\n",
      "Save mean arithmetic means to results/real/imagenet-full/5793/mean_arithmetic_means.csv\n",
      "Epoch: 2, Train loss: 533.59, mean arithmetic mean: 0.9720435739\n",
      "Save affinities to results/real/imagenet-full/5793/affinities/2.npy\n",
      "Epoch: 3 , mean arithmetic means: [0.9111455678939819, 0.9720435738563538]\n",
      "Batches processed: 200/4721 (4.2%), ETA: 1h:05m:54s, Loss: 0.041100\n",
      "Batches processed: 400/4721 (8.5%), ETA: 1h:01m:28s, Loss: 0.065047\n"
     ]
    },
    {
     "name": "stderr",
     "output_type": "stream",
     "text": [
      "/home/chris/miniconda2/envs/pytorch4/lib/python3.6/site-packages/PIL/TiffImagePlugin.py:739: UserWarning: Possibly corrupt EXIF data.  Expecting to read 2555904 bytes but only got 0. Skipping tag 0\n",
      "  \" Skipping tag %s\" % (size, len(data), tag))\n",
      "/home/chris/miniconda2/envs/pytorch4/lib/python3.6/site-packages/PIL/TiffImagePlugin.py:739: UserWarning: Possibly corrupt EXIF data.  Expecting to read 19660800 bytes but only got 0. Skipping tag 0\n",
      "  \" Skipping tag %s\" % (size, len(data), tag))\n",
      "/home/chris/miniconda2/envs/pytorch4/lib/python3.6/site-packages/PIL/TiffImagePlugin.py:739: UserWarning: Possibly corrupt EXIF data.  Expecting to read 18481152 bytes but only got 0. Skipping tag 0\n",
      "  \" Skipping tag %s\" % (size, len(data), tag))\n",
      "/home/chris/miniconda2/envs/pytorch4/lib/python3.6/site-packages/PIL/TiffImagePlugin.py:739: UserWarning: Possibly corrupt EXIF data.  Expecting to read 37093376 bytes but only got 0. Skipping tag 0\n",
      "  \" Skipping tag %s\" % (size, len(data), tag))\n",
      "/home/chris/miniconda2/envs/pytorch4/lib/python3.6/site-packages/PIL/TiffImagePlugin.py:739: UserWarning: Possibly corrupt EXIF data.  Expecting to read 39976960 bytes but only got 0. Skipping tag 0\n",
      "  \" Skipping tag %s\" % (size, len(data), tag))\n",
      "/home/chris/miniconda2/envs/pytorch4/lib/python3.6/site-packages/PIL/TiffImagePlugin.py:739: UserWarning: Possibly corrupt EXIF data.  Expecting to read 34865152 bytes but only got 0. Skipping tag 0\n",
      "  \" Skipping tag %s\" % (size, len(data), tag))\n",
      "/home/chris/miniconda2/envs/pytorch4/lib/python3.6/site-packages/PIL/TiffImagePlugin.py:756: UserWarning: Corrupt EXIF data.  Expecting to read 12 bytes but only got 10. \n",
      "  warnings.warn(str(msg))\n"
     ]
    },
    {
     "name": "stdout",
     "output_type": "stream",
     "text": [
      "Batches processed: 600/4721 (12.7%), ETA: 58m:36s, Loss: 0.040320\n",
      "Batches processed: 800/4721 (16.9%), ETA: 56m:06s, Loss: 0.039468\n",
      "Batches processed: 1000/4721 (21.2%), ETA: 53m:18s, Loss: 0.044417\n",
      "Batches processed: 1200/4721 (25.4%), ETA: 50m:27s, Loss: 0.057663\n"
     ]
    },
    {
     "name": "stderr",
     "output_type": "stream",
     "text": [
      "/home/chris/miniconda2/envs/pytorch4/lib/python3.6/site-packages/PIL/TiffImagePlugin.py:739: UserWarning: Possibly corrupt EXIF data.  Expecting to read 2555904 bytes but only got 0. Skipping tag 0\n",
      "  \" Skipping tag %s\" % (size, len(data), tag))\n"
     ]
    },
    {
     "name": "stdout",
     "output_type": "stream",
     "text": [
      "Batches processed: 1400/4721 (29.7%), ETA: 47m:54s, Loss: 0.073416\n",
      "Batches processed: 1600/4721 (33.9%), ETA: 44m:59s, Loss: 0.035599\n",
      "Batches processed: 1800/4721 (38.1%), ETA: 42m:16s, Loss: 0.065976\n",
      "Batches processed: 2000/4721 (42.4%), ETA: 39m:21s, Loss: 0.066802\n",
      "Batches processed: 2200/4721 (46.6%), ETA: 36m:30s, Loss: 0.042094\n",
      "Batches processed: 2400/4721 (50.8%), ETA: 33m:42s, Loss: 0.047269\n",
      "Batches processed: 2600/4721 (55.1%), ETA: 30m:53s, Loss: 0.043460\n",
      "Batches processed: 2800/4721 (59.3%), ETA: 27m:55s, Loss: 0.050319\n",
      "Batches processed: 3000/4721 (63.5%), ETA: 25m:06s, Loss: 0.031155\n"
     ]
    },
    {
     "name": "stderr",
     "output_type": "stream",
     "text": [
      "/home/chris/miniconda2/envs/pytorch4/lib/python3.6/site-packages/PIL/TiffImagePlugin.py:739: UserWarning: Possibly corrupt EXIF data.  Expecting to read 1835008 bytes but only got 0. Skipping tag 0\n",
      "  \" Skipping tag %s\" % (size, len(data), tag))\n"
     ]
    },
    {
     "name": "stdout",
     "output_type": "stream",
     "text": [
      "Batches processed: 3200/4721 (67.8%), ETA: 22m:12s, Loss: 0.043352\n",
      "Batches processed: 3400/4721 (72.0%), ETA: 19m:17s, Loss: 0.038119\n",
      "Batches processed: 3600/4721 (76.3%), ETA: 16m:23s, Loss: 0.038581\n"
     ]
    },
    {
     "name": "stderr",
     "output_type": "stream",
     "text": [
      "/home/chris/miniconda2/envs/pytorch4/lib/python3.6/site-packages/PIL/TiffImagePlugin.py:739: UserWarning: Possibly corrupt EXIF data.  Expecting to read 2555904 bytes but only got 0. Skipping tag 0\n",
      "  \" Skipping tag %s\" % (size, len(data), tag))\n"
     ]
    },
    {
     "name": "stdout",
     "output_type": "stream",
     "text": [
      "Batches processed: 3800/4721 (80.5%), ETA: 13m:26s, Loss: 0.040429\n",
      "Batches processed: 4000/4721 (84.7%), ETA: 10m:32s, Loss: 0.041991\n",
      "Batches processed: 4200/4721 (89.0%), ETA: 07m:36s, Loss: 0.040277\n",
      "Batches processed: 4400/4721 (93.2%), ETA: 04m:42s, Loss: 0.033952\n",
      "Batches processed: 4600/4721 (97.4%), ETA: 01m:46s, Loss: 0.043167\n",
      "Batches processed: 4721/4721 (100.0%), ETA: 0s, Loss: 0.022807\n",
      "Save model and optimizer state to results/real/imagenet-full/5793/checkpoints/3.pth.tar\n",
      "Batches processed: 200/4743 (4.2%), ETA: 58m:24s\n",
      "Batches processed: 400/4743 (8.4%), ETA: 55m:11s\n",
      "Batches processed: 600/4743 (12.7%), ETA: 52m:39s\n",
      "Batches processed: 800/4743 (16.9%), ETA: 49m:31s\n",
      "Batches processed: 1000/4743 (21.1%), ETA: 46m:44s\n",
      "Batches processed: 1200/4743 (25.3%), ETA: 44m:19s\n",
      "Batches processed: 1400/4743 (29.5%), ETA: 41m:39s\n",
      "Batches processed: 1600/4743 (33.7%), ETA: 39m:16s\n",
      "Batches processed: 1800/4743 (38.0%), ETA: 36m:43s\n",
      "Batches processed: 2000/4743 (42.2%), ETA: 34m:20s\n",
      "Batches processed: 2200/4743 (46.4%), ETA: 31m:39s\n",
      "Batches processed: 2400/4743 (50.6%), ETA: 29m:08s\n",
      "Batches processed: 2600/4743 (54.8%), ETA: 26m:37s\n",
      "Batches processed: 2800/4743 (59.0%), ETA: 24m:08s\n"
     ]
    },
    {
     "name": "stderr",
     "output_type": "stream",
     "text": [
      "/home/chris/miniconda2/envs/pytorch4/lib/python3.6/site-packages/PIL/TiffImagePlugin.py:739: UserWarning: Possibly corrupt EXIF data.  Expecting to read 2555904 bytes but only got 0. Skipping tag 0\n",
      "  \" Skipping tag %s\" % (size, len(data), tag))\n"
     ]
    },
    {
     "name": "stdout",
     "output_type": "stream",
     "text": [
      "Batches processed: 3000/4743 (63.3%), ETA: 21m:35s\n",
      "Batches processed: 3200/4743 (67.5%), ETA: 19m:06s\n",
      "Batches processed: 3400/4743 (71.7%), ETA: 16m:39s\n"
     ]
    },
    {
     "name": "stderr",
     "output_type": "stream",
     "text": [
      "/home/chris/miniconda2/envs/pytorch4/lib/python3.6/site-packages/PIL/TiffImagePlugin.py:756: UserWarning: Corrupt EXIF data.  Expecting to read 4 bytes but only got 0. \n",
      "  warnings.warn(str(msg))\n"
     ]
    },
    {
     "name": "stdout",
     "output_type": "stream",
     "text": [
      "Batches processed: 3600/4743 (75.9%), ETA: 14m:07s\n",
      "Batches processed: 3800/4743 (80.1%), ETA: 11m:35s\n"
     ]
    },
    {
     "name": "stderr",
     "output_type": "stream",
     "text": [
      "/home/chris/miniconda2/envs/pytorch4/lib/python3.6/site-packages/PIL/TiffImagePlugin.py:739: UserWarning: Possibly corrupt EXIF data.  Expecting to read 2555904 bytes but only got 0. Skipping tag 0\n",
      "  \" Skipping tag %s\" % (size, len(data), tag))\n"
     ]
    },
    {
     "name": "stdout",
     "output_type": "stream",
     "text": [
      "Batches processed: 4000/4743 (84.3%), ETA: 09m:07s\n",
      "Batches processed: 4200/4743 (88.6%), ETA: 06m:38s\n",
      "Batches processed: 4400/4743 (92.8%), ETA: 04m:10s\n",
      "Batches processed: 4600/4743 (97.0%), ETA: 01m:44s\n",
      "Batches processed: 4743/4743 (100.0%), ETA: 0s\n",
      "Save mean arithmetic means to results/real/imagenet-full/5793/mean_arithmetic_means.csv\n",
      "Epoch: 3, Train loss: 206.28, mean arithmetic mean: 0.9797861576\n",
      "Save affinities to results/real/imagenet-full/5793/affinities/3.npy\n",
      "Epoch: 4 , mean arithmetic means: [0.9111455678939819, 0.9720435738563538, 0.9797861576080322]\n",
      "Batches processed: 200/4721 (4.2%), ETA: 59m:20s, Loss: 0.018109\n"
     ]
    },
    {
     "name": "stderr",
     "output_type": "stream",
     "text": [
      "/home/chris/miniconda2/envs/pytorch4/lib/python3.6/site-packages/PIL/TiffImagePlugin.py:739: UserWarning: Possibly corrupt EXIF data.  Expecting to read 2555904 bytes but only got 0. Skipping tag 0\n",
      "  \" Skipping tag %s\" % (size, len(data), tag))\n"
     ]
    },
    {
     "name": "stdout",
     "output_type": "stream",
     "text": [
      "Batches processed: 400/4721 (8.5%), ETA: 56m:42s, Loss: 0.021815\n",
      "Batches processed: 600/4721 (12.7%), ETA: 54m:49s, Loss: 0.024354\n",
      "Batches processed: 800/4721 (16.9%), ETA: 52m:46s, Loss: 0.015083\n",
      "Batches processed: 1000/4721 (21.2%), ETA: 50m:18s, Loss: 0.030223\n",
      "Batches processed: 1200/4721 (25.4%), ETA: 47m:56s, Loss: 0.023688\n",
      "Batches processed: 1400/4721 (29.7%), ETA: 45m:20s, Loss: 0.023449\n",
      "Batches processed: 1600/4721 (33.9%), ETA: 42m:47s, Loss: 0.016397\n",
      "Batches processed: 1800/4721 (38.1%), ETA: 40m:17s, Loss: 0.028092\n"
     ]
    },
    {
     "name": "stderr",
     "output_type": "stream",
     "text": [
      "/home/chris/miniconda2/envs/pytorch4/lib/python3.6/site-packages/PIL/TiffImagePlugin.py:739: UserWarning: Possibly corrupt EXIF data.  Expecting to read 2555904 bytes but only got 0. Skipping tag 0\n",
      "  \" Skipping tag %s\" % (size, len(data), tag))\n"
     ]
    },
    {
     "name": "stdout",
     "output_type": "stream",
     "text": [
      "Batches processed: 2000/4721 (42.4%), ETA: 37m:33s, Loss: 0.027730\n",
      "Batches processed: 2200/4721 (46.6%), ETA: 34m:50s, Loss: 0.016966\n",
      "Batches processed: 2400/4721 (50.8%), ETA: 32m:10s, Loss: 0.021575\n",
      "Batches processed: 2600/4721 (55.1%), ETA: 29m:18s, Loss: 0.021509\n"
     ]
    },
    {
     "name": "stderr",
     "output_type": "stream",
     "text": [
      "/home/chris/miniconda2/envs/pytorch4/lib/python3.6/site-packages/PIL/TiffImagePlugin.py:739: UserWarning: Possibly corrupt EXIF data.  Expecting to read 1835008 bytes but only got 0. Skipping tag 0\n",
      "  \" Skipping tag %s\" % (size, len(data), tag))\n"
     ]
    },
    {
     "name": "stdout",
     "output_type": "stream",
     "text": [
      "Batches processed: 2800/4721 (59.3%), ETA: 26m:40s, Loss: 0.025039\n",
      "Batches processed: 3000/4721 (63.5%), ETA: 23m:55s, Loss: 0.027885\n",
      "Batches processed: 3200/4721 (67.8%), ETA: 21m:10s, Loss: 0.024684\n",
      "Batches processed: 3400/4721 (72.0%), ETA: 18m:24s, Loss: 0.019652\n"
     ]
    },
    {
     "name": "stderr",
     "output_type": "stream",
     "text": [
      "/home/chris/miniconda2/envs/pytorch4/lib/python3.6/site-packages/PIL/TiffImagePlugin.py:739: UserWarning: Possibly corrupt EXIF data.  Expecting to read 2555904 bytes but only got 0. Skipping tag 0\n",
      "  \" Skipping tag %s\" % (size, len(data), tag))\n"
     ]
    },
    {
     "name": "stdout",
     "output_type": "stream",
     "text": [
      "Batches processed: 3600/4721 (76.3%), ETA: 15m:45s, Loss: 0.018215\n",
      "Batches processed: 3800/4721 (80.5%), ETA: 12m:57s, Loss: 0.024055\n",
      "Batches processed: 4000/4721 (84.7%), ETA: 10m:10s, Loss: 0.018745\n"
     ]
    },
    {
     "name": "stderr",
     "output_type": "stream",
     "text": [
      "/home/chris/miniconda2/envs/pytorch4/lib/python3.6/site-packages/PIL/TiffImagePlugin.py:739: UserWarning: Possibly corrupt EXIF data.  Expecting to read 19660800 bytes but only got 0. Skipping tag 0\n",
      "  \" Skipping tag %s\" % (size, len(data), tag))\n",
      "/home/chris/miniconda2/envs/pytorch4/lib/python3.6/site-packages/PIL/TiffImagePlugin.py:739: UserWarning: Possibly corrupt EXIF data.  Expecting to read 18481152 bytes but only got 0. Skipping tag 0\n",
      "  \" Skipping tag %s\" % (size, len(data), tag))\n",
      "/home/chris/miniconda2/envs/pytorch4/lib/python3.6/site-packages/PIL/TiffImagePlugin.py:739: UserWarning: Possibly corrupt EXIF data.  Expecting to read 37093376 bytes but only got 0. Skipping tag 0\n",
      "  \" Skipping tag %s\" % (size, len(data), tag))\n",
      "/home/chris/miniconda2/envs/pytorch4/lib/python3.6/site-packages/PIL/TiffImagePlugin.py:739: UserWarning: Possibly corrupt EXIF data.  Expecting to read 39976960 bytes but only got 0. Skipping tag 0\n",
      "  \" Skipping tag %s\" % (size, len(data), tag))\n",
      "/home/chris/miniconda2/envs/pytorch4/lib/python3.6/site-packages/PIL/TiffImagePlugin.py:739: UserWarning: Possibly corrupt EXIF data.  Expecting to read 34865152 bytes but only got 0. Skipping tag 0\n",
      "  \" Skipping tag %s\" % (size, len(data), tag))\n",
      "/home/chris/miniconda2/envs/pytorch4/lib/python3.6/site-packages/PIL/TiffImagePlugin.py:756: UserWarning: Corrupt EXIF data.  Expecting to read 12 bytes but only got 10. \n",
      "  warnings.warn(str(msg))\n"
     ]
    },
    {
     "name": "stdout",
     "output_type": "stream",
     "text": [
      "Batches processed: 4200/4721 (89.0%), ETA: 07m:22s, Loss: 0.020845\n",
      "Batches processed: 4400/4721 (93.2%), ETA: 04m:33s, Loss: 0.017325\n",
      "Batches processed: 4600/4721 (97.4%), ETA: 01m:43s, Loss: 0.016691\n",
      "Batches processed: 4721/4721 (100.0%), ETA: 0s, Loss: 0.023957\n",
      "Save model and optimizer state to results/real/imagenet-full/5793/checkpoints/4.pth.tar\n",
      "Batches processed: 200/4743 (4.2%), ETA: 58m:06s\n",
      "Batches processed: 400/4743 (8.4%), ETA: 55m:06s\n",
      "Batches processed: 600/4743 (12.7%), ETA: 52m:54s\n",
      "Batches processed: 800/4743 (16.9%), ETA: 50m:52s\n",
      "Batches processed: 1000/4743 (21.1%), ETA: 48m:21s\n",
      "Batches processed: 1200/4743 (25.3%), ETA: 45m:54s\n",
      "Batches processed: 1400/4743 (29.5%), ETA: 43m:12s\n",
      "Batches processed: 1600/4743 (33.7%), ETA: 40m:41s\n",
      "Batches processed: 1800/4743 (38.0%), ETA: 37m:53s\n",
      "Batches processed: 2000/4743 (42.2%), ETA: 35m:33s\n",
      "Batches processed: 2200/4743 (46.4%), ETA: 32m:57s\n",
      "Batches processed: 2400/4743 (50.6%), ETA: 30m:49s\n",
      "Batches processed: 2600/4743 (54.8%), ETA: 28m:06s\n",
      "Batches processed: 2800/4743 (59.0%), ETA: 25m:28s\n"
     ]
    },
    {
     "name": "stderr",
     "output_type": "stream",
     "text": [
      "/home/chris/miniconda2/envs/pytorch4/lib/python3.6/site-packages/PIL/TiffImagePlugin.py:739: UserWarning: Possibly corrupt EXIF data.  Expecting to read 2555904 bytes but only got 0. Skipping tag 0\n",
      "  \" Skipping tag %s\" % (size, len(data), tag))\n"
     ]
    },
    {
     "name": "stdout",
     "output_type": "stream",
     "text": [
      "Batches processed: 3000/4743 (63.3%), ETA: 22m:41s\n",
      "Batches processed: 3200/4743 (67.5%), ETA: 20m:16s\n",
      "Batches processed: 3400/4743 (71.7%), ETA: 17m:49s\n"
     ]
    },
    {
     "name": "stderr",
     "output_type": "stream",
     "text": [
      "/home/chris/miniconda2/envs/pytorch4/lib/python3.6/site-packages/PIL/TiffImagePlugin.py:756: UserWarning: Corrupt EXIF data.  Expecting to read 4 bytes but only got 0. \n",
      "  warnings.warn(str(msg))\n"
     ]
    },
    {
     "name": "stdout",
     "output_type": "stream",
     "text": [
      "Batches processed: 3600/4743 (75.9%), ETA: 15m:14s\n",
      "Batches processed: 3800/4743 (80.1%), ETA: 12m:36s\n"
     ]
    },
    {
     "name": "stderr",
     "output_type": "stream",
     "text": [
      "/home/chris/miniconda2/envs/pytorch4/lib/python3.6/site-packages/PIL/TiffImagePlugin.py:739: UserWarning: Possibly corrupt EXIF data.  Expecting to read 2555904 bytes but only got 0. Skipping tag 0\n",
      "  \" Skipping tag %s\" % (size, len(data), tag))\n"
     ]
    },
    {
     "name": "stdout",
     "output_type": "stream",
     "text": [
      "Batches processed: 4000/4743 (84.3%), ETA: 10m:00s\n",
      "Batches processed: 4200/4743 (88.6%), ETA: 07m:20s\n",
      "Batches processed: 4400/4743 (92.8%), ETA: 04m:40s\n",
      "Batches processed: 4600/4743 (97.0%), ETA: 01m:57s\n",
      "Batches processed: 4743/4743 (100.0%), ETA: 0s\n",
      "Save mean arithmetic means to results/real/imagenet-full/5793/mean_arithmetic_means.csv\n",
      "Epoch: 4, Train loss: 104.71, mean arithmetic mean: 0.9851221442\n",
      "Save affinities to results/real/imagenet-full/5793/affinities/4.npy\n",
      "Epoch: 5 , mean arithmetic means: [0.9111455678939819, 0.9720435738563538, 0.9797861576080322, 0.9851221442222595]\n"
     ]
    },
    {
     "name": "stderr",
     "output_type": "stream",
     "text": [
      "/home/chris/miniconda2/envs/pytorch4/lib/python3.6/site-packages/PIL/TiffImagePlugin.py:739: UserWarning: Possibly corrupt EXIF data.  Expecting to read 2555904 bytes but only got 0. Skipping tag 0\n",
      "  \" Skipping tag %s\" % (size, len(data), tag))\n"
     ]
    },
    {
     "name": "stdout",
     "output_type": "stream",
     "text": [
      "Batches processed: 200/4721 (4.2%), ETA: 1h:18m:52s, Loss: 0.007234\n",
      "Batches processed: 400/4721 (8.5%), ETA: 1h:15m:08s, Loss: 0.012619\n",
      "Batches processed: 600/4721 (12.7%), ETA: 1h:09m:09s, Loss: 0.010797\n",
      "Batches processed: 800/4721 (16.9%), ETA: 1h:03m:55s, Loss: 0.015017\n"
     ]
    },
    {
     "name": "stderr",
     "output_type": "stream",
     "text": [
      "/home/chris/miniconda2/envs/pytorch4/lib/python3.6/site-packages/PIL/TiffImagePlugin.py:739: UserWarning: Possibly corrupt EXIF data.  Expecting to read 1835008 bytes but only got 0. Skipping tag 0\n",
      "  \" Skipping tag %s\" % (size, len(data), tag))\n"
     ]
    },
    {
     "name": "stdout",
     "output_type": "stream",
     "text": [
      "Batches processed: 1000/4721 (21.2%), ETA: 59m:52s, Loss: 0.012395\n",
      "Batches processed: 1200/4721 (25.4%), ETA: 56m:12s, Loss: 0.013473\n",
      "Batches processed: 1400/4721 (29.7%), ETA: 52m:49s, Loss: 0.011014\n",
      "Batches processed: 1600/4721 (33.9%), ETA: 49m:26s, Loss: 0.011932\n",
      "Batches processed: 1800/4721 (38.1%), ETA: 46m:12s, Loss: 0.016097\n"
     ]
    },
    {
     "name": "stderr",
     "output_type": "stream",
     "text": [
      "/home/chris/miniconda2/envs/pytorch4/lib/python3.6/site-packages/PIL/TiffImagePlugin.py:739: UserWarning: Possibly corrupt EXIF data.  Expecting to read 2555904 bytes but only got 0. Skipping tag 0\n",
      "  \" Skipping tag %s\" % (size, len(data), tag))\n"
     ]
    },
    {
     "name": "stdout",
     "output_type": "stream",
     "text": [
      "Batches processed: 2000/4721 (42.4%), ETA: 42m:57s, Loss: 0.014478\n"
     ]
    },
    {
     "name": "stderr",
     "output_type": "stream",
     "text": [
      "/home/chris/miniconda2/envs/pytorch4/lib/python3.6/site-packages/PIL/TiffImagePlugin.py:739: UserWarning: Possibly corrupt EXIF data.  Expecting to read 19660800 bytes but only got 0. Skipping tag 0\n",
      "  \" Skipping tag %s\" % (size, len(data), tag))\n",
      "/home/chris/miniconda2/envs/pytorch4/lib/python3.6/site-packages/PIL/TiffImagePlugin.py:739: UserWarning: Possibly corrupt EXIF data.  Expecting to read 18481152 bytes but only got 0. Skipping tag 0\n",
      "  \" Skipping tag %s\" % (size, len(data), tag))\n",
      "/home/chris/miniconda2/envs/pytorch4/lib/python3.6/site-packages/PIL/TiffImagePlugin.py:739: UserWarning: Possibly corrupt EXIF data.  Expecting to read 37093376 bytes but only got 0. Skipping tag 0\n",
      "  \" Skipping tag %s\" % (size, len(data), tag))\n",
      "/home/chris/miniconda2/envs/pytorch4/lib/python3.6/site-packages/PIL/TiffImagePlugin.py:739: UserWarning: Possibly corrupt EXIF data.  Expecting to read 39976960 bytes but only got 0. Skipping tag 0\n",
      "  \" Skipping tag %s\" % (size, len(data), tag))\n",
      "/home/chris/miniconda2/envs/pytorch4/lib/python3.6/site-packages/PIL/TiffImagePlugin.py:739: UserWarning: Possibly corrupt EXIF data.  Expecting to read 34865152 bytes but only got 0. Skipping tag 0\n",
      "  \" Skipping tag %s\" % (size, len(data), tag))\n",
      "/home/chris/miniconda2/envs/pytorch4/lib/python3.6/site-packages/PIL/TiffImagePlugin.py:756: UserWarning: Corrupt EXIF data.  Expecting to read 12 bytes but only got 10. \n",
      "  warnings.warn(str(msg))\n"
     ]
    },
    {
     "name": "stdout",
     "output_type": "stream",
     "text": [
      "Batches processed: 2200/4721 (46.6%), ETA: 40m:28s, Loss: 0.010615\n",
      "Batches processed: 2400/4721 (50.8%), ETA: 37m:33s, Loss: 0.012667\n",
      "Batches processed: 2600/4721 (55.1%), ETA: 34m:37s, Loss: 0.012049\n",
      "Batches processed: 2800/4721 (59.3%), ETA: 31m:31s, Loss: 0.010995\n",
      "Batches processed: 3000/4721 (63.5%), ETA: 28m:22s, Loss: 0.013304\n",
      "Batches processed: 3200/4721 (67.8%), ETA: 25m:08s, Loss: 0.017249\n",
      "Batches processed: 3400/4721 (72.0%), ETA: 21m:42s, Loss: 0.015537\n",
      "Batches processed: 3600/4721 (76.3%), ETA: 18m:17s, Loss: 0.010989\n",
      "Batches processed: 3800/4721 (80.5%), ETA: 14m:56s, Loss: 0.012004\n",
      "Batches processed: 4000/4721 (84.7%), ETA: 11m:38s, Loss: 0.011586\n",
      "Batches processed: 4200/4721 (89.0%), ETA: 08m:22s, Loss: 0.012114\n",
      "Batches processed: 4400/4721 (93.2%), ETA: 05m:08s, Loss: 0.010845\n",
      "Batches processed: 4600/4721 (97.4%), ETA: 01m:56s, Loss: 0.012246\n",
      "Batches processed: 4721/4721 (100.0%), ETA: 0s, Loss: 0.009169\n",
      "Save model and optimizer state to results/real/imagenet-full/5793/checkpoints/5.pth.tar\n",
      "Batches processed: 200/4743 (4.2%), ETA: 1h:03m:30s\n",
      "Batches processed: 400/4743 (8.4%), ETA: 58m:58s\n",
      "Batches processed: 600/4743 (12.7%), ETA: 55m:24s\n",
      "Batches processed: 800/4743 (16.9%), ETA: 52m:19s\n",
      "Batches processed: 1000/4743 (21.1%), ETA: 49m:10s\n",
      "Batches processed: 1200/4743 (25.3%), ETA: 46m:11s\n",
      "Batches processed: 1400/4743 (29.5%), ETA: 43m:23s\n",
      "Batches processed: 1600/4743 (33.7%), ETA: 40m:36s\n",
      "Batches processed: 1800/4743 (38.0%), ETA: 38m:14s\n",
      "Batches processed: 2000/4743 (42.2%), ETA: 35m:39s\n",
      "Batches processed: 2200/4743 (46.4%), ETA: 33m:17s\n",
      "Batches processed: 2400/4743 (50.6%), ETA: 31m:22s\n",
      "Batches processed: 2600/4743 (54.8%), ETA: 28m:58s\n",
      "Batches processed: 2800/4743 (59.0%), ETA: 26m:26s\n"
     ]
    },
    {
     "name": "stderr",
     "output_type": "stream",
     "text": [
      "/home/chris/miniconda2/envs/pytorch4/lib/python3.6/site-packages/PIL/TiffImagePlugin.py:739: UserWarning: Possibly corrupt EXIF data.  Expecting to read 2555904 bytes but only got 0. Skipping tag 0\n",
      "  \" Skipping tag %s\" % (size, len(data), tag))\n"
     ]
    },
    {
     "name": "stdout",
     "output_type": "stream",
     "text": [
      "Batches processed: 3000/4743 (63.3%), ETA: 23m:52s\n",
      "Batches processed: 3200/4743 (67.5%), ETA: 21m:17s\n",
      "Batches processed: 3400/4743 (71.7%), ETA: 18m:40s\n"
     ]
    },
    {
     "name": "stderr",
     "output_type": "stream",
     "text": [
      "/home/chris/miniconda2/envs/pytorch4/lib/python3.6/site-packages/PIL/TiffImagePlugin.py:756: UserWarning: Corrupt EXIF data.  Expecting to read 4 bytes but only got 0. \n",
      "  warnings.warn(str(msg))\n"
     ]
    },
    {
     "name": "stdout",
     "output_type": "stream",
     "text": [
      "Batches processed: 3600/4743 (75.9%), ETA: 16m:02s\n",
      "Batches processed: 3800/4743 (80.1%), ETA: 13m:19s\n"
     ]
    },
    {
     "name": "stderr",
     "output_type": "stream",
     "text": [
      "/home/chris/miniconda2/envs/pytorch4/lib/python3.6/site-packages/PIL/TiffImagePlugin.py:739: UserWarning: Possibly corrupt EXIF data.  Expecting to read 2555904 bytes but only got 0. Skipping tag 0\n",
      "  \" Skipping tag %s\" % (size, len(data), tag))\n"
     ]
    },
    {
     "name": "stdout",
     "output_type": "stream",
     "text": [
      "Batches processed: 4000/4743 (84.3%), ETA: 10m:31s\n",
      "Batches processed: 4200/4743 (88.6%), ETA: 07m:43s\n",
      "Batches processed: 4400/4743 (92.8%), ETA: 04m:54s\n",
      "Batches processed: 4600/4743 (97.0%), ETA: 02m:03s\n",
      "Batches processed: 4743/4743 (100.0%), ETA: 0s\n",
      "Save mean arithmetic means to results/real/imagenet-full/5793/mean_arithmetic_means.csv\n",
      "Epoch: 5, Train loss: 59.08, mean arithmetic mean: 0.9907147288\n",
      "Save affinities to results/real/imagenet-full/5793/affinities/5.npy\n",
      "Epoch: 6 , mean arithmetic means: [0.9111455678939819, 0.9720435738563538, 0.9797861576080322, 0.9851221442222595, 0.9907147288322449]\n",
      "Batches processed: 200/4721 (4.2%), ETA: 1h:18m:02s, Loss: 0.008994\n",
      "Batches processed: 400/4721 (8.5%), ETA: 1h:15m:25s, Loss: 0.007046\n",
      "Batches processed: 600/4721 (12.7%), ETA: 1h:13m:34s, Loss: 0.006522\n",
      "Batches processed: 800/4721 (16.9%), ETA: 1h:10m:15s, Loss: 0.005676\n"
     ]
    },
    {
     "name": "stderr",
     "output_type": "stream",
     "text": [
      "/home/chris/miniconda2/envs/pytorch4/lib/python3.6/site-packages/PIL/TiffImagePlugin.py:739: UserWarning: Possibly corrupt EXIF data.  Expecting to read 2555904 bytes but only got 0. Skipping tag 0\n",
      "  \" Skipping tag %s\" % (size, len(data), tag))\n"
     ]
    },
    {
     "name": "stdout",
     "output_type": "stream",
     "text": [
      "Batches processed: 1000/4721 (21.2%), ETA: 1h:06m:42s, Loss: 0.006823\n",
      "Batches processed: 1200/4721 (25.4%), ETA: 1h:03m:12s, Loss: 0.007244\n",
      "Batches processed: 1400/4721 (29.7%), ETA: 59m:15s, Loss: 0.007881\n",
      "Batches processed: 1600/4721 (33.9%), ETA: 55m:38s, Loss: 0.008491\n",
      "Batches processed: 1800/4721 (38.1%), ETA: 52m:03s, Loss: 0.006218\n",
      "Batches processed: 2000/4721 (42.4%), ETA: 48m:23s, Loss: 0.008961\n",
      "Batches processed: 2200/4721 (46.6%), ETA: 44m:47s, Loss: 0.008441\n",
      "Batches processed: 2400/4721 (50.8%), ETA: 41m:15s, Loss: 0.013084\n",
      "Batches processed: 2600/4721 (55.1%), ETA: 37m:42s, Loss: 0.005718\n",
      "Batches processed: 2800/4721 (59.3%), ETA: 34m:02s, Loss: 0.007847\n",
      "Batches processed: 3000/4721 (63.5%), ETA: 30m:34s, Loss: 0.007514\n",
      "Batches processed: 3200/4721 (67.8%), ETA: 26m:57s, Loss: 0.007712\n",
      "Batches processed: 3400/4721 (72.0%), ETA: 23m:23s, Loss: 0.009342\n",
      "Batches processed: 3600/4721 (76.3%), ETA: 19m:51s, Loss: 0.005904\n"
     ]
    },
    {
     "name": "stderr",
     "output_type": "stream",
     "text": [
      "/home/chris/miniconda2/envs/pytorch4/lib/python3.6/site-packages/PIL/TiffImagePlugin.py:739: UserWarning: Possibly corrupt EXIF data.  Expecting to read 1835008 bytes but only got 0. Skipping tag 0\n",
      "  \" Skipping tag %s\" % (size, len(data), tag))\n"
     ]
    },
    {
     "name": "stdout",
     "output_type": "stream",
     "text": [
      "Batches processed: 3800/4721 (80.5%), ETA: 16m:20s, Loss: 0.007622\n",
      "Batches processed: 4000/4721 (84.7%), ETA: 12m:49s, Loss: 0.005675\n"
     ]
    },
    {
     "name": "stderr",
     "output_type": "stream",
     "text": [
      "/home/chris/miniconda2/envs/pytorch4/lib/python3.6/site-packages/PIL/TiffImagePlugin.py:739: UserWarning: Possibly corrupt EXIF data.  Expecting to read 2555904 bytes but only got 0. Skipping tag 0\n",
      "  \" Skipping tag %s\" % (size, len(data), tag))\n"
     ]
    },
    {
     "name": "stdout",
     "output_type": "stream",
     "text": [
      "Batches processed: 4200/4721 (89.0%), ETA: 09m:17s, Loss: 0.007115\n"
     ]
    },
    {
     "name": "stderr",
     "output_type": "stream",
     "text": [
      "/home/chris/miniconda2/envs/pytorch4/lib/python3.6/site-packages/PIL/TiffImagePlugin.py:739: UserWarning: Possibly corrupt EXIF data.  Expecting to read 19660800 bytes but only got 0. Skipping tag 0\n",
      "  \" Skipping tag %s\" % (size, len(data), tag))\n",
      "/home/chris/miniconda2/envs/pytorch4/lib/python3.6/site-packages/PIL/TiffImagePlugin.py:739: UserWarning: Possibly corrupt EXIF data.  Expecting to read 18481152 bytes but only got 0. Skipping tag 0\n",
      "  \" Skipping tag %s\" % (size, len(data), tag))\n",
      "/home/chris/miniconda2/envs/pytorch4/lib/python3.6/site-packages/PIL/TiffImagePlugin.py:739: UserWarning: Possibly corrupt EXIF data.  Expecting to read 37093376 bytes but only got 0. Skipping tag 0\n",
      "  \" Skipping tag %s\" % (size, len(data), tag))\n",
      "/home/chris/miniconda2/envs/pytorch4/lib/python3.6/site-packages/PIL/TiffImagePlugin.py:739: UserWarning: Possibly corrupt EXIF data.  Expecting to read 39976960 bytes but only got 0. Skipping tag 0\n",
      "  \" Skipping tag %s\" % (size, len(data), tag))\n",
      "/home/chris/miniconda2/envs/pytorch4/lib/python3.6/site-packages/PIL/TiffImagePlugin.py:739: UserWarning: Possibly corrupt EXIF data.  Expecting to read 34865152 bytes but only got 0. Skipping tag 0\n",
      "  \" Skipping tag %s\" % (size, len(data), tag))\n",
      "/home/chris/miniconda2/envs/pytorch4/lib/python3.6/site-packages/PIL/TiffImagePlugin.py:756: UserWarning: Corrupt EXIF data.  Expecting to read 12 bytes but only got 10. \n",
      "  warnings.warn(str(msg))\n"
     ]
    },
    {
     "name": "stdout",
     "output_type": "stream",
     "text": [
      "Batches processed: 4400/4721 (93.2%), ETA: 05m:42s, Loss: 0.007841\n",
      "Batches processed: 4600/4721 (97.4%), ETA: 02m:09s, Loss: 0.006684\n",
      "Batches processed: 4721/4721 (100.0%), ETA: 0s, Loss: 0.010006\n",
      "Save model and optimizer state to results/real/imagenet-full/5793/checkpoints/6.pth.tar\n",
      "Batches processed: 200/4743 (4.2%), ETA: 1h:14m:08s\n",
      "Batches processed: 400/4743 (8.4%), ETA: 1h:09m:17s\n",
      "Batches processed: 600/4743 (12.7%), ETA: 1h:05m:44s\n",
      "Batches processed: 800/4743 (16.9%), ETA: 1h:01m:44s\n",
      "Batches processed: 1000/4743 (21.1%), ETA: 58m:04s\n",
      "Batches processed: 1200/4743 (25.3%), ETA: 54m:40s\n",
      "Batches processed: 1400/4743 (29.5%), ETA: 51m:29s\n",
      "Batches processed: 1600/4743 (33.7%), ETA: 48m:37s\n",
      "Batches processed: 1800/4743 (38.0%), ETA: 45m:20s\n",
      "Batches processed: 2000/4743 (42.2%), ETA: 42m:05s\n",
      "Batches processed: 2200/4743 (46.4%), ETA: 38m:56s\n",
      "Batches processed: 2400/4743 (50.6%), ETA: 35m:44s\n",
      "Batches processed: 2600/4743 (54.8%), ETA: 32m:38s\n",
      "Batches processed: 2800/4743 (59.0%), ETA: 29m:33s\n"
     ]
    },
    {
     "name": "stderr",
     "output_type": "stream",
     "text": [
      "/home/chris/miniconda2/envs/pytorch4/lib/python3.6/site-packages/PIL/TiffImagePlugin.py:739: UserWarning: Possibly corrupt EXIF data.  Expecting to read 2555904 bytes but only got 0. Skipping tag 0\n",
      "  \" Skipping tag %s\" % (size, len(data), tag))\n"
     ]
    },
    {
     "name": "stdout",
     "output_type": "stream",
     "text": [
      "Batches processed: 3000/4743 (63.3%), ETA: 26m:25s\n",
      "Batches processed: 3200/4743 (67.5%), ETA: 23m:24s\n",
      "Batches processed: 3400/4743 (71.7%), ETA: 20m:22s\n"
     ]
    },
    {
     "name": "stderr",
     "output_type": "stream",
     "text": [
      "/home/chris/miniconda2/envs/pytorch4/lib/python3.6/site-packages/PIL/TiffImagePlugin.py:756: UserWarning: Corrupt EXIF data.  Expecting to read 4 bytes but only got 0. \n",
      "  warnings.warn(str(msg))\n"
     ]
    },
    {
     "name": "stdout",
     "output_type": "stream",
     "text": [
      "Batches processed: 3600/4743 (75.9%), ETA: 17m:18s\n",
      "Batches processed: 3800/4743 (80.1%), ETA: 14m:16s\n"
     ]
    },
    {
     "name": "stderr",
     "output_type": "stream",
     "text": [
      "/home/chris/miniconda2/envs/pytorch4/lib/python3.6/site-packages/PIL/TiffImagePlugin.py:739: UserWarning: Possibly corrupt EXIF data.  Expecting to read 2555904 bytes but only got 0. Skipping tag 0\n",
      "  \" Skipping tag %s\" % (size, len(data), tag))\n"
     ]
    },
    {
     "name": "stdout",
     "output_type": "stream",
     "text": [
      "Batches processed: 4000/4743 (84.3%), ETA: 11m:15s\n",
      "Batches processed: 4200/4743 (88.6%), ETA: 08m:14s\n",
      "Batches processed: 4400/4743 (92.8%), ETA: 05m:12s\n",
      "Batches processed: 4600/4743 (97.0%), ETA: 02m:10s\n",
      "Batches processed: 4743/4743 (100.0%), ETA: 0s\n",
      "Save mean arithmetic means to results/real/imagenet-full/5793/mean_arithmetic_means.csv\n",
      "Epoch: 6, Train loss: 36.51, mean arithmetic mean: 0.9926402569\n",
      "Save affinities to results/real/imagenet-full/5793/affinities/6.npy\n",
      "Epoch: 7 , mean arithmetic means: [0.9111455678939819, 0.9720435738563538, 0.9797861576080322, 0.9851221442222595, 0.9907147288322449, 0.9926402568817139]\n",
      "Batches processed: 200/4721 (4.2%), ETA: 1h:18m:18s, Loss: 0.005807\n"
     ]
    },
    {
     "name": "stderr",
     "output_type": "stream",
     "text": [
      "/home/chris/miniconda2/envs/pytorch4/lib/python3.6/site-packages/PIL/TiffImagePlugin.py:739: UserWarning: Possibly corrupt EXIF data.  Expecting to read 1835008 bytes but only got 0. Skipping tag 0\n",
      "  \" Skipping tag %s\" % (size, len(data), tag))\n"
     ]
    },
    {
     "name": "stdout",
     "output_type": "stream",
     "text": [
      "Batches processed: 400/4721 (8.5%), ETA: 1h:13m:45s, Loss: 0.003583\n",
      "Batches processed: 600/4721 (12.7%), ETA: 1h:11m:20s, Loss: 0.003919\n",
      "Batches processed: 800/4721 (16.9%), ETA: 1h:09m:42s, Loss: 0.004252\n",
      "Batches processed: 1000/4721 (21.2%), ETA: 1h:05m:51s, Loss: 0.004062\n",
      "Batches processed: 1200/4721 (25.4%), ETA: 1h:01m:52s, Loss: 0.004708\n"
     ]
    },
    {
     "name": "stderr",
     "output_type": "stream",
     "text": [
      "/home/chris/miniconda2/envs/pytorch4/lib/python3.6/site-packages/PIL/TiffImagePlugin.py:739: UserWarning: Possibly corrupt EXIF data.  Expecting to read 2555904 bytes but only got 0. Skipping tag 0\n",
      "  \" Skipping tag %s\" % (size, len(data), tag))\n"
     ]
    },
    {
     "name": "stdout",
     "output_type": "stream",
     "text": [
      "Batches processed: 1400/4721 (29.7%), ETA: 58m:26s, Loss: 0.005723\n",
      "Batches processed: 1600/4721 (33.9%), ETA: 54m:41s, Loss: 0.003614\n",
      "Batches processed: 1800/4721 (38.1%), ETA: 51m:20s, Loss: 0.003188\n",
      "Batches processed: 2000/4721 (42.4%), ETA: 47m:30s, Loss: 0.004452\n",
      "Batches processed: 2200/4721 (46.6%), ETA: 44m:25s, Loss: 0.006010\n"
     ]
    },
    {
     "name": "stderr",
     "output_type": "stream",
     "text": [
      "/home/chris/miniconda2/envs/pytorch4/lib/python3.6/site-packages/PIL/TiffImagePlugin.py:739: UserWarning: Possibly corrupt EXIF data.  Expecting to read 2555904 bytes but only got 0. Skipping tag 0\n",
      "  \" Skipping tag %s\" % (size, len(data), tag))\n"
     ]
    },
    {
     "name": "stdout",
     "output_type": "stream",
     "text": [
      "Batches processed: 2400/4721 (50.8%), ETA: 41m:01s, Loss: 0.004733\n",
      "Batches processed: 2600/4721 (55.1%), ETA: 37m:24s, Loss: 0.006239\n"
     ]
    },
    {
     "name": "stderr",
     "output_type": "stream",
     "text": [
      "/home/chris/miniconda2/envs/pytorch4/lib/python3.6/site-packages/PIL/TiffImagePlugin.py:739: UserWarning: Possibly corrupt EXIF data.  Expecting to read 19660800 bytes but only got 0. Skipping tag 0\n",
      "  \" Skipping tag %s\" % (size, len(data), tag))\n",
      "/home/chris/miniconda2/envs/pytorch4/lib/python3.6/site-packages/PIL/TiffImagePlugin.py:739: UserWarning: Possibly corrupt EXIF data.  Expecting to read 18481152 bytes but only got 0. Skipping tag 0\n",
      "  \" Skipping tag %s\" % (size, len(data), tag))\n",
      "/home/chris/miniconda2/envs/pytorch4/lib/python3.6/site-packages/PIL/TiffImagePlugin.py:739: UserWarning: Possibly corrupt EXIF data.  Expecting to read 37093376 bytes but only got 0. Skipping tag 0\n",
      "  \" Skipping tag %s\" % (size, len(data), tag))\n",
      "/home/chris/miniconda2/envs/pytorch4/lib/python3.6/site-packages/PIL/TiffImagePlugin.py:739: UserWarning: Possibly corrupt EXIF data.  Expecting to read 39976960 bytes but only got 0. Skipping tag 0\n",
      "  \" Skipping tag %s\" % (size, len(data), tag))\n",
      "/home/chris/miniconda2/envs/pytorch4/lib/python3.6/site-packages/PIL/TiffImagePlugin.py:739: UserWarning: Possibly corrupt EXIF data.  Expecting to read 34865152 bytes but only got 0. Skipping tag 0\n",
      "  \" Skipping tag %s\" % (size, len(data), tag))\n",
      "/home/chris/miniconda2/envs/pytorch4/lib/python3.6/site-packages/PIL/TiffImagePlugin.py:756: UserWarning: Corrupt EXIF data.  Expecting to read 12 bytes but only got 10. \n",
      "  warnings.warn(str(msg))\n"
     ]
    },
    {
     "name": "stdout",
     "output_type": "stream",
     "text": [
      "Batches processed: 2800/4721 (59.3%), ETA: 33m:53s, Loss: 0.003755\n",
      "Batches processed: 3000/4721 (63.5%), ETA: 30m:25s, Loss: 0.006268\n",
      "Batches processed: 3200/4721 (67.8%), ETA: 26m:50s, Loss: 0.004851\n",
      "Batches processed: 3400/4721 (72.0%), ETA: 23m:17s, Loss: 0.004972\n",
      "Batches processed: 3600/4721 (76.3%), ETA: 19m:46s, Loss: 0.004746\n",
      "Batches processed: 3800/4721 (80.5%), ETA: 16m:14s, Loss: 0.006777\n",
      "Batches processed: 4000/4721 (84.7%), ETA: 12m:41s, Loss: 0.006755\n",
      "Batches processed: 4200/4721 (89.0%), ETA: 09m:05s, Loss: 0.006196\n",
      "Batches processed: 4400/4721 (93.2%), ETA: 05m:33s, Loss: 0.004963\n",
      "Batches processed: 4600/4721 (97.4%), ETA: 02m:05s, Loss: 0.005971\n",
      "Batches processed: 4721/4721 (100.0%), ETA: 0s, Loss: 0.009923\n",
      "Save model and optimizer state to results/real/imagenet-full/5793/checkpoints/7.pth.tar\n",
      "Batches processed: 200/4743 (4.2%), ETA: 59m:06s\n",
      "Batches processed: 400/4743 (8.4%), ETA: 55m:05s\n",
      "Batches processed: 600/4743 (12.7%), ETA: 52m:55s\n",
      "Batches processed: 800/4743 (16.9%), ETA: 49m:35s\n",
      "Batches processed: 1000/4743 (21.1%), ETA: 46m:45s\n",
      "Batches processed: 1200/4743 (25.3%), ETA: 44m:13s\n",
      "Batches processed: 1400/4743 (29.5%), ETA: 41m:33s\n",
      "Batches processed: 1600/4743 (33.7%), ETA: 39m:22s\n",
      "Batches processed: 1800/4743 (38.0%), ETA: 37m:16s\n",
      "Batches processed: 2000/4743 (42.2%), ETA: 35m:08s\n",
      "Batches processed: 2200/4743 (46.4%), ETA: 33m:00s\n",
      "Batches processed: 2400/4743 (50.6%), ETA: 30m:39s\n",
      "Batches processed: 2600/4743 (54.8%), ETA: 28m:22s\n",
      "Batches processed: 2800/4743 (59.0%), ETA: 26m:10s\n"
     ]
    },
    {
     "name": "stderr",
     "output_type": "stream",
     "text": [
      "/home/chris/miniconda2/envs/pytorch4/lib/python3.6/site-packages/PIL/TiffImagePlugin.py:739: UserWarning: Possibly corrupt EXIF data.  Expecting to read 2555904 bytes but only got 0. Skipping tag 0\n",
      "  \" Skipping tag %s\" % (size, len(data), tag))\n"
     ]
    },
    {
     "name": "stdout",
     "output_type": "stream",
     "text": [
      "Batches processed: 3000/4743 (63.3%), ETA: 23m:33s\n",
      "Batches processed: 3200/4743 (67.5%), ETA: 20m:56s\n",
      "Batches processed: 3400/4743 (71.7%), ETA: 18m:19s\n"
     ]
    },
    {
     "name": "stderr",
     "output_type": "stream",
     "text": [
      "/home/chris/miniconda2/envs/pytorch4/lib/python3.6/site-packages/PIL/TiffImagePlugin.py:756: UserWarning: Corrupt EXIF data.  Expecting to read 4 bytes but only got 0. \n",
      "  warnings.warn(str(msg))\n"
     ]
    },
    {
     "name": "stdout",
     "output_type": "stream",
     "text": [
      "Batches processed: 3600/4743 (75.9%), ETA: 15m:36s\n",
      "Batches processed: 3800/4743 (80.1%), ETA: 12m:49s\n"
     ]
    },
    {
     "name": "stderr",
     "output_type": "stream",
     "text": [
      "/home/chris/miniconda2/envs/pytorch4/lib/python3.6/site-packages/PIL/TiffImagePlugin.py:739: UserWarning: Possibly corrupt EXIF data.  Expecting to read 2555904 bytes but only got 0. Skipping tag 0\n",
      "  \" Skipping tag %s\" % (size, len(data), tag))\n"
     ]
    },
    {
     "name": "stdout",
     "output_type": "stream",
     "text": [
      "Batches processed: 4000/4743 (84.3%), ETA: 10m:03s\n",
      "Batches processed: 4200/4743 (88.6%), ETA: 07m:19s\n",
      "Batches processed: 4400/4743 (92.8%), ETA: 04m:37s\n",
      "Batches processed: 4600/4743 (97.0%), ETA: 01m:55s\n",
      "Batches processed: 4743/4743 (100.0%), ETA: 0s\n",
      "Save mean arithmetic means to results/real/imagenet-full/5793/mean_arithmetic_means.csv\n",
      "Epoch: 7, Train loss: 23.89, mean arithmetic mean: 0.9934490919\n",
      "Save affinities to results/real/imagenet-full/5793/affinities/7.npy\n",
      "Epoch: 8 , mean arithmetic means: [0.9111455678939819, 0.9720435738563538, 0.9797861576080322, 0.9851221442222595, 0.9907147288322449, 0.9926402568817139, 0.9934490919113159]\n"
     ]
    },
    {
     "name": "stderr",
     "output_type": "stream",
     "text": [
      "/home/chris/miniconda2/envs/pytorch4/lib/python3.6/site-packages/PIL/TiffImagePlugin.py:739: UserWarning: Possibly corrupt EXIF data.  Expecting to read 2555904 bytes but only got 0. Skipping tag 0\n",
      "  \" Skipping tag %s\" % (size, len(data), tag))\n"
     ]
    },
    {
     "name": "stdout",
     "output_type": "stream",
     "text": [
      "Batches processed: 200/4721 (4.2%), ETA: 1h:02m:58s, Loss: 0.002596\n",
      "Batches processed: 400/4721 (8.5%), ETA: 1h:00m:51s, Loss: 0.003493\n",
      "Batches processed: 600/4721 (12.7%), ETA: 1h:03m:09s, Loss: 0.002791\n",
      "Batches processed: 800/4721 (16.9%), ETA: 1h:03m:43s, Loss: 0.002742\n",
      "Batches processed: 1000/4721 (21.2%), ETA: 1h:02m:35s, Loss: 0.003853\n",
      "Batches processed: 1200/4721 (25.4%), ETA: 1h:00m:31s, Loss: 0.002927\n",
      "Batches processed: 1400/4721 (29.7%), ETA: 57m:48s, Loss: 0.002510\n",
      "Batches processed: 1600/4721 (33.9%), ETA: 54m:49s, Loss: 0.001779\n",
      "Batches processed: 1800/4721 (38.1%), ETA: 50m:38s, Loss: 0.002543\n",
      "Batches processed: 2000/4721 (42.4%), ETA: 46m:15s, Loss: 0.003730\n",
      "Batches processed: 2200/4721 (46.6%), ETA: 42m:23s, Loss: 0.003644\n"
     ]
    },
    {
     "name": "stderr",
     "output_type": "stream",
     "text": [
      "/home/chris/miniconda2/envs/pytorch4/lib/python3.6/site-packages/PIL/TiffImagePlugin.py:739: UserWarning: Possibly corrupt EXIF data.  Expecting to read 2555904 bytes but only got 0. Skipping tag 0\n",
      "  \" Skipping tag %s\" % (size, len(data), tag))\n"
     ]
    },
    {
     "name": "stdout",
     "output_type": "stream",
     "text": [
      "Batches processed: 2400/4721 (50.8%), ETA: 38m:32s, Loss: 0.003615\n",
      "Batches processed: 2600/4721 (55.1%), ETA: 34m:52s, Loss: 0.004555\n",
      "Batches processed: 2800/4721 (59.3%), ETA: 31m:15s, Loss: 0.002956\n",
      "Batches processed: 3000/4721 (63.5%), ETA: 27m:48s, Loss: 0.004524\n",
      "Batches processed: 3200/4721 (67.8%), ETA: 24m:25s, Loss: 0.003644\n",
      "Batches processed: 3400/4721 (72.0%), ETA: 21m:06s, Loss: 0.003643\n",
      "Batches processed: 3600/4721 (76.3%), ETA: 17m:48s, Loss: 0.003684\n",
      "Batches processed: 3800/4721 (80.5%), ETA: 14m:33s, Loss: 0.003641\n"
     ]
    },
    {
     "name": "stderr",
     "output_type": "stream",
     "text": [
      "/home/chris/miniconda2/envs/pytorch4/lib/python3.6/site-packages/PIL/TiffImagePlugin.py:739: UserWarning: Possibly corrupt EXIF data.  Expecting to read 19660800 bytes but only got 0. Skipping tag 0\n",
      "  \" Skipping tag %s\" % (size, len(data), tag))\n",
      "/home/chris/miniconda2/envs/pytorch4/lib/python3.6/site-packages/PIL/TiffImagePlugin.py:739: UserWarning: Possibly corrupt EXIF data.  Expecting to read 18481152 bytes but only got 0. Skipping tag 0\n",
      "  \" Skipping tag %s\" % (size, len(data), tag))\n",
      "/home/chris/miniconda2/envs/pytorch4/lib/python3.6/site-packages/PIL/TiffImagePlugin.py:739: UserWarning: Possibly corrupt EXIF data.  Expecting to read 37093376 bytes but only got 0. Skipping tag 0\n",
      "  \" Skipping tag %s\" % (size, len(data), tag))\n",
      "/home/chris/miniconda2/envs/pytorch4/lib/python3.6/site-packages/PIL/TiffImagePlugin.py:739: UserWarning: Possibly corrupt EXIF data.  Expecting to read 39976960 bytes but only got 0. Skipping tag 0\n",
      "  \" Skipping tag %s\" % (size, len(data), tag))\n",
      "/home/chris/miniconda2/envs/pytorch4/lib/python3.6/site-packages/PIL/TiffImagePlugin.py:739: UserWarning: Possibly corrupt EXIF data.  Expecting to read 34865152 bytes but only got 0. Skipping tag 0\n",
      "  \" Skipping tag %s\" % (size, len(data), tag))\n",
      "/home/chris/miniconda2/envs/pytorch4/lib/python3.6/site-packages/PIL/TiffImagePlugin.py:756: UserWarning: Corrupt EXIF data.  Expecting to read 12 bytes but only got 10. \n",
      "  warnings.warn(str(msg))\n"
     ]
    },
    {
     "name": "stdout",
     "output_type": "stream",
     "text": [
      "Batches processed: 4000/4721 (84.7%), ETA: 11m:20s, Loss: 0.004021\n",
      "Batches processed: 4200/4721 (89.0%), ETA: 08m:09s, Loss: 0.003906\n",
      "Batches processed: 4400/4721 (93.2%), ETA: 05m:00s, Loss: 0.003520\n"
     ]
    },
    {
     "name": "stderr",
     "output_type": "stream",
     "text": [
      "/home/chris/miniconda2/envs/pytorch4/lib/python3.6/site-packages/PIL/TiffImagePlugin.py:739: UserWarning: Possibly corrupt EXIF data.  Expecting to read 1835008 bytes but only got 0. Skipping tag 0\n",
      "  \" Skipping tag %s\" % (size, len(data), tag))\n",
      "/home/chris/miniconda2/envs/pytorch4/lib/python3.6/site-packages/PIL/TiffImagePlugin.py:739: UserWarning: Possibly corrupt EXIF data.  Expecting to read 2555904 bytes but only got 0. Skipping tag 0\n",
      "  \" Skipping tag %s\" % (size, len(data), tag))\n"
     ]
    },
    {
     "name": "stdout",
     "output_type": "stream",
     "text": [
      "Batches processed: 4600/4721 (97.4%), ETA: 01m:53s, Loss: 0.003646\n",
      "Batches processed: 4721/4721 (100.0%), ETA: 0s, Loss: 0.004067\n",
      "Save model and optimizer state to results/real/imagenet-full/5793/checkpoints/8.pth.tar\n",
      "Batches processed: 200/4743 (4.2%), ETA: 57m:00s\n",
      "Batches processed: 400/4743 (8.4%), ETA: 54m:54s\n",
      "Batches processed: 600/4743 (12.7%), ETA: 51m:20s\n",
      "Batches processed: 800/4743 (16.9%), ETA: 48m:34s\n",
      "Batches processed: 1000/4743 (21.1%), ETA: 45m:48s\n",
      "Batches processed: 1200/4743 (25.3%), ETA: 43m:43s\n",
      "Batches processed: 1400/4743 (29.5%), ETA: 41m:57s\n",
      "Batches processed: 1600/4743 (33.7%), ETA: 39m:23s\n",
      "Batches processed: 1800/4743 (38.0%), ETA: 37m:08s\n",
      "Batches processed: 2000/4743 (42.2%), ETA: 34m:29s\n",
      "Batches processed: 2200/4743 (46.4%), ETA: 31m:42s\n",
      "Batches processed: 2400/4743 (50.6%), ETA: 29m:14s\n",
      "Batches processed: 2600/4743 (54.8%), ETA: 26m:41s\n",
      "Batches processed: 2800/4743 (59.0%), ETA: 24m:08s\n"
     ]
    },
    {
     "name": "stderr",
     "output_type": "stream",
     "text": [
      "/home/chris/miniconda2/envs/pytorch4/lib/python3.6/site-packages/PIL/TiffImagePlugin.py:739: UserWarning: Possibly corrupt EXIF data.  Expecting to read 2555904 bytes but only got 0. Skipping tag 0\n",
      "  \" Skipping tag %s\" % (size, len(data), tag))\n"
     ]
    },
    {
     "name": "stdout",
     "output_type": "stream",
     "text": [
      "Batches processed: 3000/4743 (63.3%), ETA: 21m:35s\n",
      "Batches processed: 3200/4743 (67.5%), ETA: 19m:07s\n",
      "Batches processed: 3400/4743 (71.7%), ETA: 16m:41s\n"
     ]
    },
    {
     "name": "stderr",
     "output_type": "stream",
     "text": [
      "/home/chris/miniconda2/envs/pytorch4/lib/python3.6/site-packages/PIL/TiffImagePlugin.py:756: UserWarning: Corrupt EXIF data.  Expecting to read 4 bytes but only got 0. \n",
      "  warnings.warn(str(msg))\n"
     ]
    },
    {
     "name": "stdout",
     "output_type": "stream",
     "text": [
      "Batches processed: 3600/4743 (75.9%), ETA: 14m:09s\n",
      "Batches processed: 3800/4743 (80.1%), ETA: 11m:41s\n"
     ]
    },
    {
     "name": "stderr",
     "output_type": "stream",
     "text": [
      "/home/chris/miniconda2/envs/pytorch4/lib/python3.6/site-packages/PIL/TiffImagePlugin.py:739: UserWarning: Possibly corrupt EXIF data.  Expecting to read 2555904 bytes but only got 0. Skipping tag 0\n",
      "  \" Skipping tag %s\" % (size, len(data), tag))\n"
     ]
    },
    {
     "name": "stdout",
     "output_type": "stream",
     "text": [
      "Batches processed: 4000/4743 (84.3%), ETA: 09m:12s\n",
      "Batches processed: 4200/4743 (88.6%), ETA: 06m:43s\n",
      "Batches processed: 4400/4743 (92.8%), ETA: 04m:15s\n",
      "Batches processed: 4600/4743 (97.0%), ETA: 01m:46s\n",
      "Batches processed: 4743/4743 (100.0%), ETA: 0s\n",
      "Save mean arithmetic means to results/real/imagenet-full/5793/mean_arithmetic_means.csv\n",
      "Epoch: 8, Train loss: 16.14, mean arithmetic mean: 0.9939909577\n",
      "Save affinities to results/real/imagenet-full/5793/affinities/8.npy\n",
      "Epoch: 9 , mean arithmetic means: [0.9111455678939819, 0.9720435738563538, 0.9797861576080322, 0.9851221442222595, 0.9907147288322449, 0.9926402568817139, 0.9934490919113159, 0.993990957736969]\n",
      "Batches processed: 200/4721 (4.2%), ETA: 1h:05m:06s, Loss: 0.001911\n"
     ]
    },
    {
     "name": "stderr",
     "output_type": "stream",
     "text": [
      "/home/chris/miniconda2/envs/pytorch4/lib/python3.6/site-packages/PIL/TiffImagePlugin.py:739: UserWarning: Possibly corrupt EXIF data.  Expecting to read 1835008 bytes but only got 0. Skipping tag 0\n",
      "  \" Skipping tag %s\" % (size, len(data), tag))\n"
     ]
    },
    {
     "name": "stdout",
     "output_type": "stream",
     "text": [
      "Batches processed: 400/4721 (8.5%), ETA: 1h:00m:41s, Loss: 0.001794\n",
      "Batches processed: 600/4721 (12.7%), ETA: 58m:25s, Loss: 0.001985\n",
      "Batches processed: 800/4721 (16.9%), ETA: 55m:59s, Loss: 0.002337\n",
      "Batches processed: 1000/4721 (21.2%), ETA: 53m:19s, Loss: 0.001212\n",
      "Batches processed: 1200/4721 (25.4%), ETA: 51m:04s, Loss: 0.002513\n",
      "Batches processed: 1400/4721 (29.7%), ETA: 48m:13s, Loss: 0.002185\n",
      "Batches processed: 1600/4721 (33.9%), ETA: 45m:29s, Loss: 0.002978\n",
      "Batches processed: 1800/4721 (38.1%), ETA: 42m:34s, Loss: 0.002168\n",
      "Batches processed: 2000/4721 (42.4%), ETA: 39m:37s, Loss: 0.002106\n",
      "Batches processed: 2200/4721 (46.6%), ETA: 36m:54s, Loss: 0.002619\n",
      "Batches processed: 2400/4721 (50.8%), ETA: 33m:54s, Loss: 0.002388\n",
      "Batches processed: 2600/4721 (55.1%), ETA: 30m:59s, Loss: 0.003350\n",
      "Batches processed: 2800/4721 (59.3%), ETA: 28m:09s, Loss: 0.002184\n"
     ]
    },
    {
     "name": "stderr",
     "output_type": "stream",
     "text": [
      "/home/chris/miniconda2/envs/pytorch4/lib/python3.6/site-packages/PIL/TiffImagePlugin.py:739: UserWarning: Possibly corrupt EXIF data.  Expecting to read 2555904 bytes but only got 0. Skipping tag 0\n",
      "  \" Skipping tag %s\" % (size, len(data), tag))\n"
     ]
    },
    {
     "name": "stdout",
     "output_type": "stream",
     "text": [
      "Batches processed: 3000/4721 (63.5%), ETA: 25m:14s, Loss: 0.002733\n",
      "Batches processed: 3200/4721 (67.8%), ETA: 22m:17s, Loss: 0.003236\n",
      "Batches processed: 3400/4721 (72.0%), ETA: 19m:24s, Loss: 0.001738\n",
      "Batches processed: 3600/4721 (76.3%), ETA: 16m:29s, Loss: 0.001983\n"
     ]
    },
    {
     "name": "stderr",
     "output_type": "stream",
     "text": [
      "/home/chris/miniconda2/envs/pytorch4/lib/python3.6/site-packages/PIL/TiffImagePlugin.py:739: UserWarning: Possibly corrupt EXIF data.  Expecting to read 19660800 bytes but only got 0. Skipping tag 0\n",
      "  \" Skipping tag %s\" % (size, len(data), tag))\n",
      "/home/chris/miniconda2/envs/pytorch4/lib/python3.6/site-packages/PIL/TiffImagePlugin.py:739: UserWarning: Possibly corrupt EXIF data.  Expecting to read 18481152 bytes but only got 0. Skipping tag 0\n",
      "  \" Skipping tag %s\" % (size, len(data), tag))\n",
      "/home/chris/miniconda2/envs/pytorch4/lib/python3.6/site-packages/PIL/TiffImagePlugin.py:739: UserWarning: Possibly corrupt EXIF data.  Expecting to read 37093376 bytes but only got 0. Skipping tag 0\n",
      "  \" Skipping tag %s\" % (size, len(data), tag))\n",
      "/home/chris/miniconda2/envs/pytorch4/lib/python3.6/site-packages/PIL/TiffImagePlugin.py:739: UserWarning: Possibly corrupt EXIF data.  Expecting to read 39976960 bytes but only got 0. Skipping tag 0\n",
      "  \" Skipping tag %s\" % (size, len(data), tag))\n",
      "/home/chris/miniconda2/envs/pytorch4/lib/python3.6/site-packages/PIL/TiffImagePlugin.py:739: UserWarning: Possibly corrupt EXIF data.  Expecting to read 34865152 bytes but only got 0. Skipping tag 0\n",
      "  \" Skipping tag %s\" % (size, len(data), tag))\n",
      "/home/chris/miniconda2/envs/pytorch4/lib/python3.6/site-packages/PIL/TiffImagePlugin.py:756: UserWarning: Corrupt EXIF data.  Expecting to read 12 bytes but only got 10. \n",
      "  warnings.warn(str(msg))\n"
     ]
    },
    {
     "name": "stdout",
     "output_type": "stream",
     "text": [
      "Batches processed: 3800/4721 (80.5%), ETA: 13m:33s, Loss: 0.002401\n"
     ]
    },
    {
     "name": "stderr",
     "output_type": "stream",
     "text": [
      "/home/chris/miniconda2/envs/pytorch4/lib/python3.6/site-packages/PIL/TiffImagePlugin.py:739: UserWarning: Possibly corrupt EXIF data.  Expecting to read 2555904 bytes but only got 0. Skipping tag 0\n",
      "  \" Skipping tag %s\" % (size, len(data), tag))\n"
     ]
    },
    {
     "name": "stdout",
     "output_type": "stream",
     "text": [
      "Batches processed: 4000/4721 (84.7%), ETA: 10m:36s, Loss: 0.003149\n",
      "Batches processed: 4200/4721 (89.0%), ETA: 07m:40s, Loss: 0.003172\n",
      "Batches processed: 4400/4721 (93.2%), ETA: 04m:43s, Loss: 0.002919\n",
      "Batches processed: 4600/4721 (97.4%), ETA: 01m:47s, Loss: 0.002570\n",
      "Batches processed: 4721/4721 (100.0%), ETA: 0s, Loss: 0.001844\n",
      "Save model and optimizer state to results/real/imagenet-full/5793/checkpoints/9.pth.tar\n",
      "Batches processed: 200/4743 (4.2%), ETA: 58m:30s\n",
      "Batches processed: 400/4743 (8.4%), ETA: 55m:07s\n",
      "Batches processed: 600/4743 (12.7%), ETA: 52m:57s\n",
      "Batches processed: 800/4743 (16.9%), ETA: 49m:57s\n",
      "Batches processed: 1000/4743 (21.1%), ETA: 47m:34s\n",
      "Batches processed: 1200/4743 (25.3%), ETA: 44m:55s\n",
      "Batches processed: 1400/4743 (29.5%), ETA: 42m:20s\n",
      "Batches processed: 1600/4743 (33.7%), ETA: 39m:39s\n",
      "Batches processed: 1800/4743 (38.0%), ETA: 37m:18s\n",
      "Batches processed: 2000/4743 (42.2%), ETA: 34m:39s\n",
      "Batches processed: 2200/4743 (46.4%), ETA: 32m:06s\n",
      "Batches processed: 2400/4743 (50.6%), ETA: 29m:35s\n",
      "Batches processed: 2600/4743 (54.8%), ETA: 27m:05s\n",
      "Batches processed: 2800/4743 (59.0%), ETA: 24m:33s\n"
     ]
    },
    {
     "name": "stderr",
     "output_type": "stream",
     "text": [
      "/home/chris/miniconda2/envs/pytorch4/lib/python3.6/site-packages/PIL/TiffImagePlugin.py:739: UserWarning: Possibly corrupt EXIF data.  Expecting to read 2555904 bytes but only got 0. Skipping tag 0\n",
      "  \" Skipping tag %s\" % (size, len(data), tag))\n"
     ]
    },
    {
     "name": "stdout",
     "output_type": "stream",
     "text": [
      "Batches processed: 3000/4743 (63.3%), ETA: 22m:00s\n",
      "Batches processed: 3200/4743 (67.5%), ETA: 19m:27s\n",
      "Batches processed: 3400/4743 (71.7%), ETA: 16m:59s\n"
     ]
    },
    {
     "name": "stderr",
     "output_type": "stream",
     "text": [
      "/home/chris/miniconda2/envs/pytorch4/lib/python3.6/site-packages/PIL/TiffImagePlugin.py:756: UserWarning: Corrupt EXIF data.  Expecting to read 4 bytes but only got 0. \n",
      "  warnings.warn(str(msg))\n"
     ]
    },
    {
     "name": "stdout",
     "output_type": "stream",
     "text": [
      "Batches processed: 3600/4743 (75.9%), ETA: 14m:26s\n",
      "Batches processed: 3800/4743 (80.1%), ETA: 11m:55s\n"
     ]
    },
    {
     "name": "stderr",
     "output_type": "stream",
     "text": [
      "/home/chris/miniconda2/envs/pytorch4/lib/python3.6/site-packages/PIL/TiffImagePlugin.py:739: UserWarning: Possibly corrupt EXIF data.  Expecting to read 2555904 bytes but only got 0. Skipping tag 0\n",
      "  \" Skipping tag %s\" % (size, len(data), tag))\n"
     ]
    },
    {
     "name": "stdout",
     "output_type": "stream",
     "text": [
      "Batches processed: 4000/4743 (84.3%), ETA: 09m:24s\n",
      "Batches processed: 4200/4743 (88.6%), ETA: 06m:53s\n",
      "Batches processed: 4400/4743 (92.8%), ETA: 04m:21s\n",
      "Batches processed: 4600/4743 (97.0%), ETA: 01m:49s\n",
      "Batches processed: 4743/4743 (100.0%), ETA: 0s\n",
      "Save mean arithmetic means to results/real/imagenet-full/5793/mean_arithmetic_means.csv\n",
      "Epoch: 9, Train loss: 11.68, mean arithmetic mean: 0.9941162467\n",
      "Save affinities to results/real/imagenet-full/5793/affinities/9.npy\n",
      "Epoch: 10 , mean arithmetic means: [0.9111455678939819, 0.9720435738563538, 0.9797861576080322, 0.9851221442222595, 0.9907147288322449, 0.9926402568817139, 0.9934490919113159, 0.993990957736969, 0.9941162467002869]\n",
      "Batches processed: 200/4721 (4.2%), ETA: 1h:03m:27s, Loss: 0.001705\n",
      "Batches processed: 400/4721 (8.5%), ETA: 1h:02m:56s, Loss: 0.001460\n",
      "Batches processed: 600/4721 (12.7%), ETA: 59m:53s, Loss: 0.001941\n",
      "Batches processed: 800/4721 (16.9%), ETA: 57m:01s, Loss: 0.001298\n",
      "Batches processed: 1000/4721 (21.2%), ETA: 54m:32s, Loss: 0.001491\n",
      "Batches processed: 1200/4721 (25.4%), ETA: 51m:16s, Loss: 0.001074\n",
      "Batches processed: 1400/4721 (29.7%), ETA: 48m:35s, Loss: 0.001061\n"
     ]
    },
    {
     "name": "stderr",
     "output_type": "stream",
     "text": [
      "/home/chris/miniconda2/envs/pytorch4/lib/python3.6/site-packages/PIL/TiffImagePlugin.py:739: UserWarning: Possibly corrupt EXIF data.  Expecting to read 1835008 bytes but only got 0. Skipping tag 0\n",
      "  \" Skipping tag %s\" % (size, len(data), tag))\n"
     ]
    },
    {
     "name": "stdout",
     "output_type": "stream",
     "text": [
      "Batches processed: 1600/4721 (33.9%), ETA: 45m:49s, Loss: 0.001491\n"
     ]
    },
    {
     "name": "stderr",
     "output_type": "stream",
     "text": [
      "/home/chris/miniconda2/envs/pytorch4/lib/python3.6/site-packages/PIL/TiffImagePlugin.py:739: UserWarning: Possibly corrupt EXIF data.  Expecting to read 19660800 bytes but only got 0. Skipping tag 0\n",
      "  \" Skipping tag %s\" % (size, len(data), tag))\n",
      "/home/chris/miniconda2/envs/pytorch4/lib/python3.6/site-packages/PIL/TiffImagePlugin.py:739: UserWarning: Possibly corrupt EXIF data.  Expecting to read 18481152 bytes but only got 0. Skipping tag 0\n",
      "  \" Skipping tag %s\" % (size, len(data), tag))\n",
      "/home/chris/miniconda2/envs/pytorch4/lib/python3.6/site-packages/PIL/TiffImagePlugin.py:739: UserWarning: Possibly corrupt EXIF data.  Expecting to read 37093376 bytes but only got 0. Skipping tag 0\n",
      "  \" Skipping tag %s\" % (size, len(data), tag))\n",
      "/home/chris/miniconda2/envs/pytorch4/lib/python3.6/site-packages/PIL/TiffImagePlugin.py:739: UserWarning: Possibly corrupt EXIF data.  Expecting to read 39976960 bytes but only got 0. Skipping tag 0\n",
      "  \" Skipping tag %s\" % (size, len(data), tag))\n",
      "/home/chris/miniconda2/envs/pytorch4/lib/python3.6/site-packages/PIL/TiffImagePlugin.py:739: UserWarning: Possibly corrupt EXIF data.  Expecting to read 34865152 bytes but only got 0. Skipping tag 0\n",
      "  \" Skipping tag %s\" % (size, len(data), tag))\n",
      "/home/chris/miniconda2/envs/pytorch4/lib/python3.6/site-packages/PIL/TiffImagePlugin.py:756: UserWarning: Corrupt EXIF data.  Expecting to read 12 bytes but only got 10. \n",
      "  warnings.warn(str(msg))\n"
     ]
    },
    {
     "name": "stdout",
     "output_type": "stream",
     "text": [
      "Batches processed: 1800/4721 (38.1%), ETA: 42m:53s, Loss: 0.001281\n",
      "Batches processed: 2000/4721 (42.4%), ETA: 40m:07s, Loss: 0.001445\n",
      "Batches processed: 2200/4721 (46.6%), ETA: 37m:11s, Loss: 0.002033\n",
      "Batches processed: 2400/4721 (50.8%), ETA: 34m:10s, Loss: 0.002123\n"
     ]
    },
    {
     "name": "stderr",
     "output_type": "stream",
     "text": [
      "/home/chris/miniconda2/envs/pytorch4/lib/python3.6/site-packages/PIL/TiffImagePlugin.py:739: UserWarning: Possibly corrupt EXIF data.  Expecting to read 2555904 bytes but only got 0. Skipping tag 0\n",
      "  \" Skipping tag %s\" % (size, len(data), tag))\n"
     ]
    },
    {
     "name": "stdout",
     "output_type": "stream",
     "text": [
      "Batches processed: 2600/4721 (55.1%), ETA: 31m:19s, Loss: 0.001717\n",
      "Batches processed: 2800/4721 (59.3%), ETA: 28m:22s, Loss: 0.002059\n",
      "Batches processed: 3000/4721 (63.5%), ETA: 25m:26s, Loss: 0.001559\n",
      "Batches processed: 3200/4721 (67.8%), ETA: 22m:28s, Loss: 0.001490\n",
      "Batches processed: 3400/4721 (72.0%), ETA: 19m:30s, Loss: 0.001907\n"
     ]
    },
    {
     "name": "stderr",
     "output_type": "stream",
     "text": [
      "/home/chris/miniconda2/envs/pytorch4/lib/python3.6/site-packages/PIL/TiffImagePlugin.py:739: UserWarning: Possibly corrupt EXIF data.  Expecting to read 2555904 bytes but only got 0. Skipping tag 0\n",
      "  \" Skipping tag %s\" % (size, len(data), tag))\n"
     ]
    },
    {
     "name": "stdout",
     "output_type": "stream",
     "text": [
      "Batches processed: 3600/4721 (76.3%), ETA: 16m:33s, Loss: 0.001885\n",
      "Batches processed: 3800/4721 (80.5%), ETA: 13m:36s, Loss: 0.002444\n",
      "Batches processed: 4000/4721 (84.7%), ETA: 10m:39s, Loss: 0.002020\n",
      "Batches processed: 4200/4721 (89.0%), ETA: 07m:42s, Loss: 0.001821\n",
      "Batches processed: 4400/4721 (93.2%), ETA: 04m:44s, Loss: 0.002750\n",
      "Batches processed: 4600/4721 (97.4%), ETA: 01m:47s, Loss: 0.002347\n",
      "Batches processed: 4721/4721 (100.0%), ETA: 0s, Loss: 0.002733\n",
      "Save model and optimizer state to results/real/imagenet-full/5793/checkpoints/10.pth.tar\n",
      "Batches processed: 200/4743 (4.2%), ETA: 58m:44s\n",
      "Batches processed: 400/4743 (8.4%), ETA: 54m:51s\n",
      "Batches processed: 600/4743 (12.7%), ETA: 52m:17s\n",
      "Batches processed: 800/4743 (16.9%), ETA: 49m:06s\n",
      "Batches processed: 1000/4743 (21.1%), ETA: 46m:24s\n",
      "Batches processed: 1200/4743 (25.3%), ETA: 44m:03s\n",
      "Batches processed: 1400/4743 (29.5%), ETA: 41m:44s\n",
      "Batches processed: 1600/4743 (33.7%), ETA: 39m:05s\n",
      "Batches processed: 1800/4743 (38.0%), ETA: 36m:46s\n",
      "Batches processed: 2000/4743 (42.2%), ETA: 34m:16s\n",
      "Batches processed: 2200/4743 (46.4%), ETA: 31m:39s\n",
      "Batches processed: 2400/4743 (50.6%), ETA: 29m:13s\n",
      "Batches processed: 2600/4743 (54.8%), ETA: 26m:43s\n",
      "Batches processed: 2800/4743 (59.0%), ETA: 24m:12s\n"
     ]
    },
    {
     "name": "stderr",
     "output_type": "stream",
     "text": [
      "/home/chris/miniconda2/envs/pytorch4/lib/python3.6/site-packages/PIL/TiffImagePlugin.py:739: UserWarning: Possibly corrupt EXIF data.  Expecting to read 2555904 bytes but only got 0. Skipping tag 0\n",
      "  \" Skipping tag %s\" % (size, len(data), tag))\n"
     ]
    },
    {
     "name": "stdout",
     "output_type": "stream",
     "text": [
      "Batches processed: 3000/4743 (63.3%), ETA: 21m:36s\n",
      "Batches processed: 3200/4743 (67.5%), ETA: 19m:07s\n",
      "Batches processed: 3400/4743 (71.7%), ETA: 16m:38s\n"
     ]
    },
    {
     "name": "stderr",
     "output_type": "stream",
     "text": [
      "/home/chris/miniconda2/envs/pytorch4/lib/python3.6/site-packages/PIL/TiffImagePlugin.py:756: UserWarning: Corrupt EXIF data.  Expecting to read 4 bytes but only got 0. \n",
      "  warnings.warn(str(msg))\n"
     ]
    },
    {
     "name": "stdout",
     "output_type": "stream",
     "text": [
      "Batches processed: 3600/4743 (75.9%), ETA: 14m:08s\n",
      "Batches processed: 3800/4743 (80.1%), ETA: 11m:41s\n"
     ]
    },
    {
     "name": "stderr",
     "output_type": "stream",
     "text": [
      "/home/chris/miniconda2/envs/pytorch4/lib/python3.6/site-packages/PIL/TiffImagePlugin.py:739: UserWarning: Possibly corrupt EXIF data.  Expecting to read 2555904 bytes but only got 0. Skipping tag 0\n",
      "  \" Skipping tag %s\" % (size, len(data), tag))\n"
     ]
    },
    {
     "name": "stdout",
     "output_type": "stream",
     "text": [
      "Batches processed: 4000/4743 (84.3%), ETA: 09m:13s\n",
      "Batches processed: 4200/4743 (88.6%), ETA: 06m:43s\n",
      "Batches processed: 4400/4743 (92.8%), ETA: 04m:15s\n",
      "Batches processed: 4600/4743 (97.0%), ETA: 01m:46s\n",
      "Batches processed: 4743/4743 (100.0%), ETA: 0s\n",
      "Save mean arithmetic means to results/real/imagenet-full/5793/mean_arithmetic_means.csv\n",
      "Epoch: 10, Train loss: 8.40, mean arithmetic mean: 0.9945335984\n",
      "Save affinities to results/real/imagenet-full/5793/affinities/10.npy\n",
      "Epoch: 11 , mean arithmetic means: [0.9111455678939819, 0.9720435738563538, 0.9797861576080322, 0.9851221442222595, 0.9907147288322449, 0.9926402568817139, 0.9934490919113159, 0.993990957736969, 0.9941162467002869, 0.9945335984230042]\n",
      "Batches processed: 200/4721 (4.2%), ETA: 1h:05m:55s, Loss: 0.001145\n",
      "Batches processed: 400/4721 (8.5%), ETA: 1h:03m:10s, Loss: 0.000943\n",
      "Batches processed: 600/4721 (12.7%), ETA: 1h:00m:08s, Loss: 0.000941\n",
      "Batches processed: 800/4721 (16.9%), ETA: 57m:29s, Loss: 0.001101\n"
     ]
    },
    {
     "name": "stderr",
     "output_type": "stream",
     "text": [
      "/home/chris/miniconda2/envs/pytorch4/lib/python3.6/site-packages/PIL/TiffImagePlugin.py:739: UserWarning: Possibly corrupt EXIF data.  Expecting to read 2555904 bytes but only got 0. Skipping tag 0\n",
      "  \" Skipping tag %s\" % (size, len(data), tag))\n"
     ]
    },
    {
     "name": "stdout",
     "output_type": "stream",
     "text": [
      "Batches processed: 1000/4721 (21.2%), ETA: 54m:19s, Loss: 0.001175\n",
      "Batches processed: 1200/4721 (25.4%), ETA: 51m:33s, Loss: 0.001112\n"
     ]
    },
    {
     "name": "stderr",
     "output_type": "stream",
     "text": [
      "/home/chris/miniconda2/envs/pytorch4/lib/python3.6/site-packages/PIL/TiffImagePlugin.py:739: UserWarning: Possibly corrupt EXIF data.  Expecting to read 19660800 bytes but only got 0. Skipping tag 0\n",
      "  \" Skipping tag %s\" % (size, len(data), tag))\n",
      "/home/chris/miniconda2/envs/pytorch4/lib/python3.6/site-packages/PIL/TiffImagePlugin.py:739: UserWarning: Possibly corrupt EXIF data.  Expecting to read 18481152 bytes but only got 0. Skipping tag 0\n",
      "  \" Skipping tag %s\" % (size, len(data), tag))\n",
      "/home/chris/miniconda2/envs/pytorch4/lib/python3.6/site-packages/PIL/TiffImagePlugin.py:739: UserWarning: Possibly corrupt EXIF data.  Expecting to read 37093376 bytes but only got 0. Skipping tag 0\n",
      "  \" Skipping tag %s\" % (size, len(data), tag))\n",
      "/home/chris/miniconda2/envs/pytorch4/lib/python3.6/site-packages/PIL/TiffImagePlugin.py:739: UserWarning: Possibly corrupt EXIF data.  Expecting to read 39976960 bytes but only got 0. Skipping tag 0\n",
      "  \" Skipping tag %s\" % (size, len(data), tag))\n",
      "/home/chris/miniconda2/envs/pytorch4/lib/python3.6/site-packages/PIL/TiffImagePlugin.py:739: UserWarning: Possibly corrupt EXIF data.  Expecting to read 34865152 bytes but only got 0. Skipping tag 0\n",
      "  \" Skipping tag %s\" % (size, len(data), tag))\n",
      "/home/chris/miniconda2/envs/pytorch4/lib/python3.6/site-packages/PIL/TiffImagePlugin.py:756: UserWarning: Corrupt EXIF data.  Expecting to read 12 bytes but only got 10. \n",
      "  warnings.warn(str(msg))\n"
     ]
    },
    {
     "name": "stdout",
     "output_type": "stream",
     "text": [
      "Batches processed: 1400/4721 (29.7%), ETA: 48m:45s, Loss: 0.001425\n"
     ]
    },
    {
     "name": "stderr",
     "output_type": "stream",
     "text": [
      "/home/chris/miniconda2/envs/pytorch4/lib/python3.6/site-packages/PIL/TiffImagePlugin.py:739: UserWarning: Possibly corrupt EXIF data.  Expecting to read 2555904 bytes but only got 0. Skipping tag 0\n",
      "  \" Skipping tag %s\" % (size, len(data), tag))\n"
     ]
    },
    {
     "name": "stdout",
     "output_type": "stream",
     "text": [
      "Batches processed: 1600/4721 (33.9%), ETA: 45m:56s, Loss: 0.000952\n",
      "Batches processed: 1800/4721 (38.1%), ETA: 43m:08s, Loss: 0.000960\n"
     ]
    },
    {
     "name": "stderr",
     "output_type": "stream",
     "text": [
      "/home/chris/miniconda2/envs/pytorch4/lib/python3.6/site-packages/PIL/TiffImagePlugin.py:739: UserWarning: Possibly corrupt EXIF data.  Expecting to read 1835008 bytes but only got 0. Skipping tag 0\n",
      "  \" Skipping tag %s\" % (size, len(data), tag))\n"
     ]
    },
    {
     "name": "stdout",
     "output_type": "stream",
     "text": [
      "Batches processed: 2000/4721 (42.4%), ETA: 40m:12s, Loss: 0.001252\n",
      "Batches processed: 2200/4721 (46.6%), ETA: 37m:09s, Loss: 0.001347\n",
      "Batches processed: 2400/4721 (50.8%), ETA: 34m:16s, Loss: 0.001045\n",
      "Batches processed: 2600/4721 (55.1%), ETA: 31m:23s, Loss: 0.001376\n",
      "Batches processed: 2800/4721 (59.3%), ETA: 28m:27s, Loss: 0.001188\n",
      "Batches processed: 3000/4721 (63.5%), ETA: 25m:28s, Loss: 0.001501\n",
      "Batches processed: 3200/4721 (67.8%), ETA: 22m:38s, Loss: 0.001399\n",
      "Batches processed: 3400/4721 (72.0%), ETA: 19m:39s, Loss: 0.001490\n",
      "Batches processed: 3600/4721 (76.3%), ETA: 16m:40s, Loss: 0.001537\n",
      "Batches processed: 3800/4721 (80.5%), ETA: 13m:41s, Loss: 0.001980\n",
      "Batches processed: 4000/4721 (84.7%), ETA: 10m:43s, Loss: 0.001246\n",
      "Batches processed: 4200/4721 (89.0%), ETA: 07m:44s, Loss: 0.001702\n",
      "Batches processed: 4400/4721 (93.2%), ETA: 04m:46s, Loss: 0.001198\n",
      "Batches processed: 4600/4721 (97.4%), ETA: 01m:48s, Loss: 0.001726\n",
      "Batches processed: 4721/4721 (100.0%), ETA: 0s, Loss: 0.002090\n",
      "Save model and optimizer state to results/real/imagenet-full/5793/checkpoints/11.pth.tar\n",
      "Batches processed: 200/4743 (4.2%), ETA: 59m:12s\n",
      "Batches processed: 400/4743 (8.4%), ETA: 55m:49s\n",
      "Batches processed: 600/4743 (12.7%), ETA: 53m:56s\n",
      "Batches processed: 800/4743 (16.9%), ETA: 50m:14s\n",
      "Batches processed: 1000/4743 (21.1%), ETA: 47m:32s\n",
      "Batches processed: 1200/4743 (25.3%), ETA: 44m:53s\n",
      "Batches processed: 1400/4743 (29.5%), ETA: 42m:06s\n",
      "Batches processed: 1600/4743 (33.7%), ETA: 39m:25s\n",
      "Batches processed: 1800/4743 (38.0%), ETA: 37m:00s\n",
      "Batches processed: 2000/4743 (42.2%), ETA: 34m:25s\n",
      "Batches processed: 2200/4743 (46.4%), ETA: 31m:49s\n",
      "Batches processed: 2400/4743 (50.6%), ETA: 29m:20s\n",
      "Batches processed: 2600/4743 (54.8%), ETA: 26m:47s\n",
      "Batches processed: 2800/4743 (59.0%), ETA: 24m:16s\n"
     ]
    },
    {
     "name": "stderr",
     "output_type": "stream",
     "text": [
      "/home/chris/miniconda2/envs/pytorch4/lib/python3.6/site-packages/PIL/TiffImagePlugin.py:739: UserWarning: Possibly corrupt EXIF data.  Expecting to read 2555904 bytes but only got 0. Skipping tag 0\n",
      "  \" Skipping tag %s\" % (size, len(data), tag))\n"
     ]
    },
    {
     "name": "stdout",
     "output_type": "stream",
     "text": [
      "Batches processed: 3000/4743 (63.3%), ETA: 21m:43s\n",
      "Batches processed: 3200/4743 (67.5%), ETA: 19m:15s\n",
      "Batches processed: 3400/4743 (71.7%), ETA: 16m:46s\n"
     ]
    },
    {
     "name": "stderr",
     "output_type": "stream",
     "text": [
      "/home/chris/miniconda2/envs/pytorch4/lib/python3.6/site-packages/PIL/TiffImagePlugin.py:756: UserWarning: Corrupt EXIF data.  Expecting to read 4 bytes but only got 0. \n",
      "  warnings.warn(str(msg))\n"
     ]
    },
    {
     "name": "stdout",
     "output_type": "stream",
     "text": [
      "Batches processed: 3600/4743 (75.9%), ETA: 14m:17s\n",
      "Batches processed: 3800/4743 (80.1%), ETA: 11m:47s\n"
     ]
    },
    {
     "name": "stderr",
     "output_type": "stream",
     "text": [
      "/home/chris/miniconda2/envs/pytorch4/lib/python3.6/site-packages/PIL/TiffImagePlugin.py:739: UserWarning: Possibly corrupt EXIF data.  Expecting to read 2555904 bytes but only got 0. Skipping tag 0\n",
      "  \" Skipping tag %s\" % (size, len(data), tag))\n"
     ]
    },
    {
     "name": "stdout",
     "output_type": "stream",
     "text": [
      "Batches processed: 4000/4743 (84.3%), ETA: 09m:17s\n",
      "Batches processed: 4200/4743 (88.6%), ETA: 06m:47s\n",
      "Batches processed: 4400/4743 (92.8%), ETA: 04m:17s\n",
      "Batches processed: 4600/4743 (97.0%), ETA: 01m:47s\n",
      "Batches processed: 4743/4743 (100.0%), ETA: 0s\n",
      "Save mean arithmetic means to results/real/imagenet-full/5793/mean_arithmetic_means.csv\n",
      "Epoch: 11, Train loss: 6.22, mean arithmetic mean: 0.9949347377\n",
      "Save affinities to results/real/imagenet-full/5793/affinities/11.npy\n",
      "Epoch: 12 , mean arithmetic means: [0.9111455678939819, 0.9720435738563538, 0.9797861576080322, 0.9851221442222595, 0.9907147288322449, 0.9926402568817139, 0.9934490919113159, 0.993990957736969, 0.9941162467002869, 0.9945335984230042, 0.9949347376823425]\n",
      "Batches processed: 200/4721 (4.2%), ETA: 1h:02m:50s, Loss: 0.000577\n",
      "Batches processed: 400/4721 (8.5%), ETA: 1h:00m:48s, Loss: 0.000819\n",
      "Batches processed: 600/4721 (12.7%), ETA: 59m:33s, Loss: 0.001035\n",
      "Batches processed: 800/4721 (16.9%), ETA: 56m:54s, Loss: 0.000889\n",
      "Batches processed: 1000/4721 (21.2%), ETA: 53m:55s, Loss: 0.000849\n"
     ]
    },
    {
     "name": "stderr",
     "output_type": "stream",
     "text": [
      "/home/chris/miniconda2/envs/pytorch4/lib/python3.6/site-packages/PIL/TiffImagePlugin.py:739: UserWarning: Possibly corrupt EXIF data.  Expecting to read 2555904 bytes but only got 0. Skipping tag 0\n",
      "  \" Skipping tag %s\" % (size, len(data), tag))\n"
     ]
    },
    {
     "name": "stdout",
     "output_type": "stream",
     "text": [
      "Batches processed: 1200/4721 (25.4%), ETA: 51m:11s, Loss: 0.000792\n",
      "Batches processed: 1400/4721 (29.7%), ETA: 48m:16s, Loss: 0.000863\n"
     ]
    },
    {
     "name": "stderr",
     "output_type": "stream",
     "text": [
      "/home/chris/miniconda2/envs/pytorch4/lib/python3.6/site-packages/PIL/TiffImagePlugin.py:739: UserWarning: Possibly corrupt EXIF data.  Expecting to read 1835008 bytes but only got 0. Skipping tag 0\n",
      "  \" Skipping tag %s\" % (size, len(data), tag))\n"
     ]
    },
    {
     "name": "stdout",
     "output_type": "stream",
     "text": [
      "Batches processed: 1600/4721 (33.9%), ETA: 45m:41s, Loss: 0.000806\n"
     ]
    },
    {
     "name": "stderr",
     "output_type": "stream",
     "text": [
      "/home/chris/miniconda2/envs/pytorch4/lib/python3.6/site-packages/PIL/TiffImagePlugin.py:739: UserWarning: Possibly corrupt EXIF data.  Expecting to read 19660800 bytes but only got 0. Skipping tag 0\n",
      "  \" Skipping tag %s\" % (size, len(data), tag))\n",
      "/home/chris/miniconda2/envs/pytorch4/lib/python3.6/site-packages/PIL/TiffImagePlugin.py:739: UserWarning: Possibly corrupt EXIF data.  Expecting to read 18481152 bytes but only got 0. Skipping tag 0\n",
      "  \" Skipping tag %s\" % (size, len(data), tag))\n",
      "/home/chris/miniconda2/envs/pytorch4/lib/python3.6/site-packages/PIL/TiffImagePlugin.py:739: UserWarning: Possibly corrupt EXIF data.  Expecting to read 37093376 bytes but only got 0. Skipping tag 0\n",
      "  \" Skipping tag %s\" % (size, len(data), tag))\n",
      "/home/chris/miniconda2/envs/pytorch4/lib/python3.6/site-packages/PIL/TiffImagePlugin.py:739: UserWarning: Possibly corrupt EXIF data.  Expecting to read 39976960 bytes but only got 0. Skipping tag 0\n",
      "  \" Skipping tag %s\" % (size, len(data), tag))\n",
      "/home/chris/miniconda2/envs/pytorch4/lib/python3.6/site-packages/PIL/TiffImagePlugin.py:739: UserWarning: Possibly corrupt EXIF data.  Expecting to read 34865152 bytes but only got 0. Skipping tag 0\n",
      "  \" Skipping tag %s\" % (size, len(data), tag))\n",
      "/home/chris/miniconda2/envs/pytorch4/lib/python3.6/site-packages/PIL/TiffImagePlugin.py:756: UserWarning: Corrupt EXIF data.  Expecting to read 12 bytes but only got 10. \n",
      "  warnings.warn(str(msg))\n"
     ]
    },
    {
     "name": "stdout",
     "output_type": "stream",
     "text": [
      "Batches processed: 1800/4721 (38.1%), ETA: 42m:51s, Loss: 0.000992\n",
      "Batches processed: 2000/4721 (42.4%), ETA: 39m:57s, Loss: 0.001432\n",
      "Batches processed: 2200/4721 (46.6%), ETA: 37m:06s, Loss: 0.000993\n",
      "Batches processed: 2400/4721 (50.8%), ETA: 34m:09s, Loss: 0.000905\n",
      "Batches processed: 2600/4721 (55.1%), ETA: 31m:14s, Loss: 0.001065\n",
      "Batches processed: 2800/4721 (59.3%), ETA: 28m:20s, Loss: 0.001417\n",
      "Batches processed: 3000/4721 (63.5%), ETA: 25m:17s, Loss: 0.000999\n"
     ]
    },
    {
     "name": "stderr",
     "output_type": "stream",
     "text": [
      "/home/chris/miniconda2/envs/pytorch4/lib/python3.6/site-packages/PIL/TiffImagePlugin.py:739: UserWarning: Possibly corrupt EXIF data.  Expecting to read 2555904 bytes but only got 0. Skipping tag 0\n",
      "  \" Skipping tag %s\" % (size, len(data), tag))\n"
     ]
    },
    {
     "name": "stdout",
     "output_type": "stream",
     "text": [
      "Batches processed: 3200/4721 (67.8%), ETA: 22m:23s, Loss: 0.001246\n",
      "Batches processed: 3400/4721 (72.0%), ETA: 19m:27s, Loss: 0.000875\n",
      "Batches processed: 3600/4721 (76.3%), ETA: 16m:30s, Loss: 0.001547\n",
      "Batches processed: 3800/4721 (80.5%), ETA: 13m:34s, Loss: 0.001386\n",
      "Batches processed: 4000/4721 (84.7%), ETA: 10m:37s, Loss: 0.001173\n",
      "Batches processed: 4200/4721 (89.0%), ETA: 07m:41s, Loss: 0.001179\n",
      "Batches processed: 4400/4721 (93.2%), ETA: 04m:44s, Loss: 0.001249\n",
      "Batches processed: 4600/4721 (97.4%), ETA: 01m:47s, Loss: 0.001009\n",
      "Batches processed: 4721/4721 (100.0%), ETA: 0s, Loss: 0.001952\n",
      "Save model and optimizer state to results/real/imagenet-full/5793/checkpoints/12.pth.tar\n",
      "Batches processed: 200/4743 (4.2%), ETA: 1h:01m:07s\n",
      "Batches processed: 400/4743 (8.4%), ETA: 57m:36s\n",
      "Batches processed: 600/4743 (12.7%), ETA: 54m:13s\n",
      "Batches processed: 800/4743 (16.9%), ETA: 50m:51s\n",
      "Batches processed: 1000/4743 (21.1%), ETA: 48m:03s\n",
      "Batches processed: 1200/4743 (25.3%), ETA: 44m:51s\n",
      "Batches processed: 1400/4743 (29.5%), ETA: 42m:17s\n",
      "Batches processed: 1600/4743 (33.7%), ETA: 39m:34s\n",
      "Batches processed: 1800/4743 (38.0%), ETA: 37m:11s\n",
      "Batches processed: 2000/4743 (42.2%), ETA: 34m:30s\n",
      "Batches processed: 2200/4743 (46.4%), ETA: 31m:51s\n",
      "Batches processed: 2400/4743 (50.6%), ETA: 29m:22s\n",
      "Batches processed: 2600/4743 (54.8%), ETA: 26m:45s\n",
      "Batches processed: 2800/4743 (59.0%), ETA: 24m:18s\n"
     ]
    },
    {
     "name": "stderr",
     "output_type": "stream",
     "text": [
      "/home/chris/miniconda2/envs/pytorch4/lib/python3.6/site-packages/PIL/TiffImagePlugin.py:739: UserWarning: Possibly corrupt EXIF data.  Expecting to read 2555904 bytes but only got 0. Skipping tag 0\n",
      "  \" Skipping tag %s\" % (size, len(data), tag))\n"
     ]
    },
    {
     "name": "stdout",
     "output_type": "stream",
     "text": [
      "Batches processed: 3000/4743 (63.3%), ETA: 21m:47s\n",
      "Batches processed: 3200/4743 (67.5%), ETA: 19m:19s\n",
      "Batches processed: 3400/4743 (71.7%), ETA: 16m:49s\n"
     ]
    },
    {
     "name": "stderr",
     "output_type": "stream",
     "text": [
      "/home/chris/miniconda2/envs/pytorch4/lib/python3.6/site-packages/PIL/TiffImagePlugin.py:756: UserWarning: Corrupt EXIF data.  Expecting to read 4 bytes but only got 0. \n",
      "  warnings.warn(str(msg))\n"
     ]
    },
    {
     "name": "stdout",
     "output_type": "stream",
     "text": [
      "Batches processed: 3600/4743 (75.9%), ETA: 14m:17s\n",
      "Batches processed: 3800/4743 (80.1%), ETA: 11m:48s\n"
     ]
    },
    {
     "name": "stderr",
     "output_type": "stream",
     "text": [
      "/home/chris/miniconda2/envs/pytorch4/lib/python3.6/site-packages/PIL/TiffImagePlugin.py:739: UserWarning: Possibly corrupt EXIF data.  Expecting to read 2555904 bytes but only got 0. Skipping tag 0\n",
      "  \" Skipping tag %s\" % (size, len(data), tag))\n"
     ]
    },
    {
     "name": "stdout",
     "output_type": "stream",
     "text": [
      "Batches processed: 4000/4743 (84.3%), ETA: 09m:17s\n",
      "Batches processed: 4200/4743 (88.6%), ETA: 06m:47s\n",
      "Batches processed: 4400/4743 (92.8%), ETA: 04m:17s\n",
      "Batches processed: 4600/4743 (97.0%), ETA: 01m:47s\n",
      "Batches processed: 4743/4743 (100.0%), ETA: 0s\n",
      "Save mean arithmetic means to results/real/imagenet-full/5793/mean_arithmetic_means.csv\n",
      "Epoch: 12, Train loss: 4.75, mean arithmetic mean: 0.9951536059\n",
      "Save affinities to results/real/imagenet-full/5793/affinities/12.npy\n",
      "Epoch: 13 , mean arithmetic means: [0.9111455678939819, 0.9720435738563538, 0.9797861576080322, 0.9851221442222595, 0.9907147288322449, 0.9926402568817139, 0.9934490919113159, 0.993990957736969, 0.9941162467002869, 0.9945335984230042, 0.9949347376823425, 0.9951536059379578]\n",
      "Batches processed: 200/4721 (4.2%), ETA: 1h:03m:16s, Loss: 0.000714\n"
     ]
    },
    {
     "name": "stderr",
     "output_type": "stream",
     "text": [
      "/home/chris/miniconda2/envs/pytorch4/lib/python3.6/site-packages/PIL/TiffImagePlugin.py:739: UserWarning: Possibly corrupt EXIF data.  Expecting to read 2555904 bytes but only got 0. Skipping tag 0\n",
      "  \" Skipping tag %s\" % (size, len(data), tag))\n"
     ]
    },
    {
     "name": "stdout",
     "output_type": "stream",
     "text": [
      "Batches processed: 400/4721 (8.5%), ETA: 1h:02m:19s, Loss: 0.000602\n",
      "Batches processed: 600/4721 (12.7%), ETA: 59m:10s, Loss: 0.000497\n",
      "Batches processed: 800/4721 (16.9%), ETA: 56m:24s, Loss: 0.000563\n",
      "Batches processed: 1000/4721 (21.2%), ETA: 53m:30s, Loss: 0.000737\n",
      "Batches processed: 1200/4721 (25.4%), ETA: 50m:54s, Loss: 0.000548\n",
      "Batches processed: 1400/4721 (29.7%), ETA: 48m:11s, Loss: 0.000681\n",
      "Batches processed: 1600/4721 (33.9%), ETA: 45m:12s, Loss: 0.000607\n"
     ]
    },
    {
     "name": "stderr",
     "output_type": "stream",
     "text": [
      "/home/chris/miniconda2/envs/pytorch4/lib/python3.6/site-packages/PIL/TiffImagePlugin.py:739: UserWarning: Possibly corrupt EXIF data.  Expecting to read 2555904 bytes but only got 0. Skipping tag 0\n",
      "  \" Skipping tag %s\" % (size, len(data), tag))\n"
     ]
    },
    {
     "name": "stdout",
     "output_type": "stream",
     "text": [
      "Batches processed: 1800/4721 (38.1%), ETA: 42m:19s, Loss: 0.000766\n",
      "Batches processed: 2000/4721 (42.4%), ETA: 39m:42s, Loss: 0.000475\n",
      "Batches processed: 2200/4721 (46.6%), ETA: 36m:47s, Loss: 0.001366\n",
      "Batches processed: 2400/4721 (50.8%), ETA: 33m:50s, Loss: 0.001028\n"
     ]
    },
    {
     "name": "stderr",
     "output_type": "stream",
     "text": [
      "/home/chris/miniconda2/envs/pytorch4/lib/python3.6/site-packages/PIL/TiffImagePlugin.py:739: UserWarning: Possibly corrupt EXIF data.  Expecting to read 1835008 bytes but only got 0. Skipping tag 0\n",
      "  \" Skipping tag %s\" % (size, len(data), tag))\n"
     ]
    },
    {
     "name": "stdout",
     "output_type": "stream",
     "text": [
      "Batches processed: 2600/4721 (55.1%), ETA: 30m:56s, Loss: 0.000825\n",
      "Batches processed: 2800/4721 (59.3%), ETA: 28m:04s, Loss: 0.000767\n"
     ]
    },
    {
     "name": "stderr",
     "output_type": "stream",
     "text": [
      "/home/chris/miniconda2/envs/pytorch4/lib/python3.6/site-packages/PIL/TiffImagePlugin.py:739: UserWarning: Possibly corrupt EXIF data.  Expecting to read 19660800 bytes but only got 0. Skipping tag 0\n",
      "  \" Skipping tag %s\" % (size, len(data), tag))\n",
      "/home/chris/miniconda2/envs/pytorch4/lib/python3.6/site-packages/PIL/TiffImagePlugin.py:739: UserWarning: Possibly corrupt EXIF data.  Expecting to read 18481152 bytes but only got 0. Skipping tag 0\n",
      "  \" Skipping tag %s\" % (size, len(data), tag))\n",
      "/home/chris/miniconda2/envs/pytorch4/lib/python3.6/site-packages/PIL/TiffImagePlugin.py:739: UserWarning: Possibly corrupt EXIF data.  Expecting to read 37093376 bytes but only got 0. Skipping tag 0\n",
      "  \" Skipping tag %s\" % (size, len(data), tag))\n",
      "/home/chris/miniconda2/envs/pytorch4/lib/python3.6/site-packages/PIL/TiffImagePlugin.py:739: UserWarning: Possibly corrupt EXIF data.  Expecting to read 39976960 bytes but only got 0. Skipping tag 0\n",
      "  \" Skipping tag %s\" % (size, len(data), tag))\n",
      "/home/chris/miniconda2/envs/pytorch4/lib/python3.6/site-packages/PIL/TiffImagePlugin.py:739: UserWarning: Possibly corrupt EXIF data.  Expecting to read 34865152 bytes but only got 0. Skipping tag 0\n",
      "  \" Skipping tag %s\" % (size, len(data), tag))\n",
      "/home/chris/miniconda2/envs/pytorch4/lib/python3.6/site-packages/PIL/TiffImagePlugin.py:756: UserWarning: Corrupt EXIF data.  Expecting to read 12 bytes but only got 10. \n",
      "  warnings.warn(str(msg))\n"
     ]
    },
    {
     "name": "stdout",
     "output_type": "stream",
     "text": [
      "Batches processed: 3000/4721 (63.5%), ETA: 25m:06s, Loss: 0.001123\n",
      "Batches processed: 3200/4721 (67.8%), ETA: 22m:12s, Loss: 0.000808\n",
      "Batches processed: 3400/4721 (72.0%), ETA: 19m:17s, Loss: 0.000688\n",
      "Batches processed: 3600/4721 (76.3%), ETA: 16m:22s, Loss: 0.000883\n",
      "Batches processed: 3800/4721 (80.5%), ETA: 13m:27s, Loss: 0.000815\n",
      "Batches processed: 4000/4721 (84.7%), ETA: 10m:31s, Loss: 0.000622\n"
     ]
    },
    {
     "name": "stderr",
     "output_type": "stream",
     "text": [
      "/home/chris/miniconda2/envs/pytorch4/lib/python3.6/site-packages/PIL/TiffImagePlugin.py:739: UserWarning: Possibly corrupt EXIF data.  Expecting to read 2555904 bytes but only got 0. Skipping tag 0\n",
      "  \" Skipping tag %s\" % (size, len(data), tag))\n"
     ]
    },
    {
     "name": "stdout",
     "output_type": "stream",
     "text": [
      "Batches processed: 4200/4721 (89.0%), ETA: 07m:35s, Loss: 0.000675\n",
      "Batches processed: 4400/4721 (93.2%), ETA: 04m:41s, Loss: 0.000905\n",
      "Batches processed: 4600/4721 (97.4%), ETA: 01m:46s, Loss: 0.000718\n",
      "Batches processed: 4721/4721 (100.0%), ETA: 0s, Loss: 0.001417\n",
      "Save model and optimizer state to results/real/imagenet-full/5793/checkpoints/13.pth.tar\n",
      "Batches processed: 200/4743 (4.2%), ETA: 59m:54s\n",
      "Batches processed: 400/4743 (8.4%), ETA: 55m:05s\n",
      "Batches processed: 600/4743 (12.7%), ETA: 52m:39s\n",
      "Batches processed: 800/4743 (16.9%), ETA: 49m:17s\n",
      "Batches processed: 1000/4743 (21.1%), ETA: 46m:33s\n",
      "Batches processed: 1200/4743 (25.3%), ETA: 44m:15s\n",
      "Batches processed: 1400/4743 (29.5%), ETA: 41m:36s\n",
      "Batches processed: 1600/4743 (33.7%), ETA: 39m:01s\n",
      "Batches processed: 1800/4743 (38.0%), ETA: 36m:27s\n",
      "Batches processed: 2000/4743 (42.2%), ETA: 33m:55s\n",
      "Batches processed: 2200/4743 (46.4%), ETA: 31m:17s\n",
      "Batches processed: 2400/4743 (50.6%), ETA: 28m:49s\n",
      "Batches processed: 2600/4743 (54.8%), ETA: 26m:23s\n",
      "Batches processed: 2800/4743 (59.0%), ETA: 23m:58s\n"
     ]
    },
    {
     "name": "stderr",
     "output_type": "stream",
     "text": [
      "/home/chris/miniconda2/envs/pytorch4/lib/python3.6/site-packages/PIL/TiffImagePlugin.py:739: UserWarning: Possibly corrupt EXIF data.  Expecting to read 2555904 bytes but only got 0. Skipping tag 0\n",
      "  \" Skipping tag %s\" % (size, len(data), tag))\n"
     ]
    },
    {
     "name": "stdout",
     "output_type": "stream",
     "text": [
      "Batches processed: 3000/4743 (63.3%), ETA: 21m:25s\n",
      "Batches processed: 3200/4743 (67.5%), ETA: 18m:55s\n",
      "Batches processed: 3400/4743 (71.7%), ETA: 16m:30s\n"
     ]
    },
    {
     "name": "stderr",
     "output_type": "stream",
     "text": [
      "/home/chris/miniconda2/envs/pytorch4/lib/python3.6/site-packages/PIL/TiffImagePlugin.py:756: UserWarning: Corrupt EXIF data.  Expecting to read 4 bytes but only got 0. \n",
      "  warnings.warn(str(msg))\n"
     ]
    },
    {
     "name": "stdout",
     "output_type": "stream",
     "text": [
      "Batches processed: 3600/4743 (75.9%), ETA: 14m:02s\n",
      "Batches processed: 3800/4743 (80.1%), ETA: 11m:34s\n"
     ]
    },
    {
     "name": "stderr",
     "output_type": "stream",
     "text": [
      "/home/chris/miniconda2/envs/pytorch4/lib/python3.6/site-packages/PIL/TiffImagePlugin.py:739: UserWarning: Possibly corrupt EXIF data.  Expecting to read 2555904 bytes but only got 0. Skipping tag 0\n",
      "  \" Skipping tag %s\" % (size, len(data), tag))\n"
     ]
    },
    {
     "name": "stdout",
     "output_type": "stream",
     "text": [
      "Batches processed: 4000/4743 (84.3%), ETA: 09m:07s\n",
      "Batches processed: 4200/4743 (88.6%), ETA: 06m:40s\n",
      "Batches processed: 4400/4743 (92.8%), ETA: 04m:13s\n",
      "Batches processed: 4600/4743 (97.0%), ETA: 01m:46s\n",
      "Batches processed: 4743/4743 (100.0%), ETA: 0s\n",
      "Save mean arithmetic means to results/real/imagenet-full/5793/mean_arithmetic_means.csv\n",
      "Epoch: 13, Train loss: 3.76, mean arithmetic mean: 0.9950887561\n",
      "Save affinities to results/real/imagenet-full/5793/affinities/13.npy\n",
      "Early stopping. Load previous affinities from results/real/imagenet-full/5793/affinities/12.npy\n",
      "Merging from 5793 clusters to 2793 clusters.\n",
      "Save train-test split to results/real/imagenet-full/2793/current_clustering.npy\n",
      "Save mean arithmetic means to results/real/imagenet-full/2793/mean_arithmetic_means.csv\n",
      "#Clusters: 2793\n",
      "Epoch: 1 , mean arithmetic means: []\n",
      "Batches processed: 200/4727 (4.2%), ETA: 1h:00m:28s, Loss: 0.699360\n",
      "Batches processed: 400/4727 (8.5%), ETA: 59m:15s, Loss: 0.677011\n",
      "Batches processed: 600/4727 (12.7%), ETA: 57m:14s, Loss: 0.668353\n",
      "Batches processed: 800/4727 (16.9%), ETA: 54m:39s, Loss: 0.632721\n"
     ]
    },
    {
     "name": "stderr",
     "output_type": "stream",
     "text": [
      "/home/chris/miniconda2/envs/pytorch4/lib/python3.6/site-packages/PIL/TiffImagePlugin.py:739: UserWarning: Possibly corrupt EXIF data.  Expecting to read 19660800 bytes but only got 0. Skipping tag 0\n",
      "  \" Skipping tag %s\" % (size, len(data), tag))\n",
      "/home/chris/miniconda2/envs/pytorch4/lib/python3.6/site-packages/PIL/TiffImagePlugin.py:739: UserWarning: Possibly corrupt EXIF data.  Expecting to read 18481152 bytes but only got 0. Skipping tag 0\n",
      "  \" Skipping tag %s\" % (size, len(data), tag))\n",
      "/home/chris/miniconda2/envs/pytorch4/lib/python3.6/site-packages/PIL/TiffImagePlugin.py:739: UserWarning: Possibly corrupt EXIF data.  Expecting to read 37093376 bytes but only got 0. Skipping tag 0\n",
      "  \" Skipping tag %s\" % (size, len(data), tag))\n",
      "/home/chris/miniconda2/envs/pytorch4/lib/python3.6/site-packages/PIL/TiffImagePlugin.py:739: UserWarning: Possibly corrupt EXIF data.  Expecting to read 39976960 bytes but only got 0. Skipping tag 0\n",
      "  \" Skipping tag %s\" % (size, len(data), tag))\n",
      "/home/chris/miniconda2/envs/pytorch4/lib/python3.6/site-packages/PIL/TiffImagePlugin.py:739: UserWarning: Possibly corrupt EXIF data.  Expecting to read 34865152 bytes but only got 0. Skipping tag 0\n",
      "  \" Skipping tag %s\" % (size, len(data), tag))\n",
      "/home/chris/miniconda2/envs/pytorch4/lib/python3.6/site-packages/PIL/TiffImagePlugin.py:756: UserWarning: Corrupt EXIF data.  Expecting to read 12 bytes but only got 10. \n",
      "  warnings.warn(str(msg))\n"
     ]
    },
    {
     "name": "stdout",
     "output_type": "stream",
     "text": [
      "Batches processed: 1000/4727 (21.2%), ETA: 52m:13s, Loss: 0.556043\n",
      "Batches processed: 1200/4727 (25.4%), ETA: 50m:00s, Loss: 0.561667\n",
      "Batches processed: 1400/4727 (29.6%), ETA: 47m:27s, Loss: 0.546172\n"
     ]
    },
    {
     "name": "stderr",
     "output_type": "stream",
     "text": [
      "/home/chris/miniconda2/envs/pytorch4/lib/python3.6/site-packages/PIL/TiffImagePlugin.py:739: UserWarning: Possibly corrupt EXIF data.  Expecting to read 1835008 bytes but only got 0. Skipping tag 0\n",
      "  \" Skipping tag %s\" % (size, len(data), tag))\n"
     ]
    },
    {
     "name": "stdout",
     "output_type": "stream",
     "text": [
      "Batches processed: 1600/4727 (33.8%), ETA: 44m:42s, Loss: 0.520221\n",
      "Batches processed: 1800/4727 (38.1%), ETA: 41m:56s, Loss: 0.433860\n",
      "Batches processed: 2000/4727 (42.3%), ETA: 39m:06s, Loss: 0.390578\n",
      "Batches processed: 2200/4727 (46.5%), ETA: 36m:10s, Loss: 0.440985\n"
     ]
    },
    {
     "name": "stderr",
     "output_type": "stream",
     "text": [
      "/home/chris/miniconda2/envs/pytorch4/lib/python3.6/site-packages/PIL/TiffImagePlugin.py:756: UserWarning: Corrupt EXIF data.  Expecting to read 4 bytes but only got 0. \n",
      "  warnings.warn(str(msg))\n"
     ]
    },
    {
     "name": "stdout",
     "output_type": "stream",
     "text": [
      "Batches processed: 2400/4727 (50.8%), ETA: 33m:27s, Loss: 0.285878\n",
      "Batches processed: 2600/4727 (55.0%), ETA: 30m:35s, Loss: 0.270381\n",
      "Batches processed: 2800/4727 (59.2%), ETA: 27m:44s, Loss: 0.220841\n",
      "Batches processed: 3000/4727 (63.5%), ETA: 24m:51s, Loss: 0.296925\n",
      "Batches processed: 3200/4727 (67.7%), ETA: 21m:57s, Loss: 0.219062\n",
      "Batches processed: 3400/4727 (71.9%), ETA: 19m:04s, Loss: 0.217476\n",
      "Batches processed: 3600/4727 (76.2%), ETA: 16m:09s, Loss: 0.158139\n"
     ]
    },
    {
     "name": "stderr",
     "output_type": "stream",
     "text": [
      "/home/chris/miniconda2/envs/pytorch4/lib/python3.6/site-packages/PIL/TiffImagePlugin.py:739: UserWarning: Possibly corrupt EXIF data.  Expecting to read 2555904 bytes but only got 0. Skipping tag 0\n",
      "  \" Skipping tag %s\" % (size, len(data), tag))\n"
     ]
    },
    {
     "name": "stdout",
     "output_type": "stream",
     "text": [
      "Batches processed: 3800/4727 (80.4%), ETA: 13m:17s, Loss: 0.185943\n",
      "Batches processed: 4000/4727 (84.6%), ETA: 10m:25s, Loss: 0.155293\n",
      "Batches processed: 4200/4727 (88.9%), ETA: 07m:34s, Loss: 0.155773\n"
     ]
    },
    {
     "name": "stderr",
     "output_type": "stream",
     "text": [
      "/home/chris/miniconda2/envs/pytorch4/lib/python3.6/site-packages/PIL/TiffImagePlugin.py:739: UserWarning: Possibly corrupt EXIF data.  Expecting to read 2555904 bytes but only got 0. Skipping tag 0\n",
      "  \" Skipping tag %s\" % (size, len(data), tag))\n"
     ]
    },
    {
     "name": "stdout",
     "output_type": "stream",
     "text": [
      "Batches processed: 4400/4727 (93.1%), ETA: 04m:42s, Loss: 0.170264\n",
      "Batches processed: 4600/4727 (97.3%), ETA: 01m:49s, Loss: 0.102727\n",
      "Batches processed: 4727/4727 (100.0%), ETA: 0s, Loss: 0.540436\n",
      "Save model and optimizer state to results/real/imagenet-full/2793/checkpoints/1.pth.tar\n",
      "Batches processed: 200/4738 (4.2%), ETA: 1h:04m:53s\n",
      "Batches processed: 400/4738 (8.4%), ETA: 58m:38s\n"
     ]
    },
    {
     "name": "stderr",
     "output_type": "stream",
     "text": [
      "/home/chris/miniconda2/envs/pytorch4/lib/python3.6/site-packages/PIL/TiffImagePlugin.py:739: UserWarning: Possibly corrupt EXIF data.  Expecting to read 2555904 bytes but only got 0. Skipping tag 0\n",
      "  \" Skipping tag %s\" % (size, len(data), tag))\n"
     ]
    },
    {
     "name": "stdout",
     "output_type": "stream",
     "text": [
      "Batches processed: 600/4738 (12.7%), ETA: 54m:38s\n",
      "Batches processed: 800/4738 (16.9%), ETA: 51m:26s\n",
      "Batches processed: 1000/4738 (21.1%), ETA: 48m:51s\n",
      "Batches processed: 1200/4738 (25.3%), ETA: 45m:38s\n",
      "Batches processed: 1400/4738 (29.5%), ETA: 43m:18s\n",
      "Batches processed: 1600/4738 (33.8%), ETA: 40m:11s\n",
      "Batches processed: 1800/4738 (38.0%), ETA: 37m:26s\n",
      "Batches processed: 2000/4738 (42.2%), ETA: 34m:32s\n",
      "Batches processed: 2200/4738 (46.4%), ETA: 31m:57s\n",
      "Batches processed: 2400/4738 (50.7%), ETA: 29m:18s\n",
      "Batches processed: 2600/4738 (54.9%), ETA: 26m:45s\n",
      "Batches processed: 2800/4738 (59.1%), ETA: 24m:07s\n",
      "Batches processed: 3000/4738 (63.3%), ETA: 21m:38s\n"
     ]
    },
    {
     "name": "stderr",
     "output_type": "stream",
     "text": [
      "/home/chris/miniconda2/envs/pytorch4/lib/python3.6/site-packages/PIL/TiffImagePlugin.py:739: UserWarning: Possibly corrupt EXIF data.  Expecting to read 2555904 bytes but only got 0. Skipping tag 0\n",
      "  \" Skipping tag %s\" % (size, len(data), tag))\n"
     ]
    },
    {
     "name": "stdout",
     "output_type": "stream",
     "text": [
      "Batches processed: 3200/4738 (67.5%), ETA: 19m:03s\n",
      "Batches processed: 3400/4738 (71.8%), ETA: 16m:32s\n",
      "Batches processed: 3600/4738 (76.0%), ETA: 14m:01s\n",
      "Batches processed: 3800/4738 (80.2%), ETA: 11m:31s\n",
      "Batches processed: 4000/4738 (84.4%), ETA: 09m:03s\n",
      "Batches processed: 4200/4738 (88.6%), ETA: 06m:35s\n",
      "Batches processed: 4400/4738 (92.9%), ETA: 04m:09s\n",
      "Batches processed: 4600/4738 (97.1%), ETA: 01m:42s\n",
      "Batches processed: 4738/4738 (100.0%), ETA: 0s\n",
      "Save mean arithmetic means to results/real/imagenet-full/2793/mean_arithmetic_means.csv\n",
      "Epoch: 1, Train loss: 1786.32, mean arithmetic mean: 0.9375779033\n",
      "Save affinities to results/real/imagenet-full/2793/affinities/1.npy\n",
      "Epoch: 2 , mean arithmetic means: [0.9375779032707214]\n",
      "Batches processed: 200/4727 (4.2%), ETA: 1h:01m:24s, Loss: 0.103065\n",
      "Batches processed: 400/4727 (8.5%), ETA: 1h:01m:00s, Loss: 0.119531\n",
      "Batches processed: 600/4727 (12.7%), ETA: 58m:54s, Loss: 0.100603\n"
     ]
    },
    {
     "name": "stderr",
     "output_type": "stream",
     "text": [
      "/home/chris/miniconda2/envs/pytorch4/lib/python3.6/site-packages/PIL/TiffImagePlugin.py:739: UserWarning: Possibly corrupt EXIF data.  Expecting to read 1835008 bytes but only got 0. Skipping tag 0\n",
      "  \" Skipping tag %s\" % (size, len(data), tag))\n"
     ]
    },
    {
     "name": "stdout",
     "output_type": "stream",
     "text": [
      "Batches processed: 800/4727 (16.9%), ETA: 56m:25s, Loss: 0.097942\n",
      "Batches processed: 1000/4727 (21.2%), ETA: 53m:54s, Loss: 0.116131\n",
      "Batches processed: 1200/4727 (25.4%), ETA: 51m:07s, Loss: 0.114288\n",
      "Batches processed: 1400/4727 (29.6%), ETA: 48m:17s, Loss: 0.079245\n",
      "Batches processed: 1600/4727 (33.8%), ETA: 45m:37s, Loss: 0.089276\n",
      "Batches processed: 1800/4727 (38.1%), ETA: 42m:42s, Loss: 0.112141\n",
      "Batches processed: 2000/4727 (42.3%), ETA: 39m:34s, Loss: 0.080601\n"
     ]
    },
    {
     "name": "stderr",
     "output_type": "stream",
     "text": [
      "/home/chris/miniconda2/envs/pytorch4/lib/python3.6/site-packages/PIL/TiffImagePlugin.py:739: UserWarning: Possibly corrupt EXIF data.  Expecting to read 2555904 bytes but only got 0. Skipping tag 0\n",
      "  \" Skipping tag %s\" % (size, len(data), tag))\n"
     ]
    },
    {
     "name": "stdout",
     "output_type": "stream",
     "text": [
      "Batches processed: 2200/4727 (46.5%), ETA: 36m:43s, Loss: 0.078680\n"
     ]
    },
    {
     "name": "stderr",
     "output_type": "stream",
     "text": [
      "/home/chris/miniconda2/envs/pytorch4/lib/python3.6/site-packages/PIL/TiffImagePlugin.py:756: UserWarning: Corrupt EXIF data.  Expecting to read 4 bytes but only got 0. \n",
      "  warnings.warn(str(msg))\n"
     ]
    },
    {
     "name": "stdout",
     "output_type": "stream",
     "text": [
      "Batches processed: 2400/4727 (50.8%), ETA: 33m:53s, Loss: 0.085754\n",
      "Batches processed: 2600/4727 (55.0%), ETA: 31m:02s, Loss: 0.086914\n",
      "Batches processed: 2800/4727 (59.2%), ETA: 28m:12s, Loss: 0.087163\n",
      "Batches processed: 3000/4727 (63.5%), ETA: 25m:14s, Loss: 0.068962\n",
      "Batches processed: 3200/4727 (67.7%), ETA: 22m:22s, Loss: 0.069020\n"
     ]
    },
    {
     "name": "stderr",
     "output_type": "stream",
     "text": [
      "/home/chris/miniconda2/envs/pytorch4/lib/python3.6/site-packages/PIL/TiffImagePlugin.py:739: UserWarning: Possibly corrupt EXIF data.  Expecting to read 19660800 bytes but only got 0. Skipping tag 0\n",
      "  \" Skipping tag %s\" % (size, len(data), tag))\n",
      "/home/chris/miniconda2/envs/pytorch4/lib/python3.6/site-packages/PIL/TiffImagePlugin.py:739: UserWarning: Possibly corrupt EXIF data.  Expecting to read 18481152 bytes but only got 0. Skipping tag 0\n",
      "  \" Skipping tag %s\" % (size, len(data), tag))\n",
      "/home/chris/miniconda2/envs/pytorch4/lib/python3.6/site-packages/PIL/TiffImagePlugin.py:739: UserWarning: Possibly corrupt EXIF data.  Expecting to read 37093376 bytes but only got 0. Skipping tag 0\n",
      "  \" Skipping tag %s\" % (size, len(data), tag))\n",
      "/home/chris/miniconda2/envs/pytorch4/lib/python3.6/site-packages/PIL/TiffImagePlugin.py:739: UserWarning: Possibly corrupt EXIF data.  Expecting to read 39976960 bytes but only got 0. Skipping tag 0\n",
      "  \" Skipping tag %s\" % (size, len(data), tag))\n",
      "/home/chris/miniconda2/envs/pytorch4/lib/python3.6/site-packages/PIL/TiffImagePlugin.py:739: UserWarning: Possibly corrupt EXIF data.  Expecting to read 34865152 bytes but only got 0. Skipping tag 0\n",
      "  \" Skipping tag %s\" % (size, len(data), tag))\n",
      "/home/chris/miniconda2/envs/pytorch4/lib/python3.6/site-packages/PIL/TiffImagePlugin.py:756: UserWarning: Corrupt EXIF data.  Expecting to read 12 bytes but only got 10. \n",
      "  warnings.warn(str(msg))\n"
     ]
    },
    {
     "name": "stdout",
     "output_type": "stream",
     "text": [
      "Batches processed: 3400/4727 (71.9%), ETA: 19m:31s, Loss: 0.071187\n",
      "Batches processed: 3600/4727 (76.2%), ETA: 16m:37s, Loss: 0.070308\n",
      "Batches processed: 3800/4727 (80.4%), ETA: 13m:40s, Loss: 0.083655\n",
      "Batches processed: 4000/4727 (84.6%), ETA: 10m:42s, Loss: 0.062668\n",
      "Batches processed: 4200/4727 (88.9%), ETA: 07m:46s, Loss: 0.050674\n",
      "Batches processed: 4400/4727 (93.1%), ETA: 04m:49s, Loss: 0.037210\n",
      "Batches processed: 4600/4727 (97.3%), ETA: 01m:52s, Loss: 0.079699\n",
      "Batches processed: 4727/4727 (100.0%), ETA: 0s, Loss: 0.089775\n",
      "Save model and optimizer state to results/real/imagenet-full/2793/checkpoints/2.pth.tar\n",
      "Batches processed: 200/4738 (4.2%), ETA: 1h:02m:49s\n",
      "Batches processed: 400/4738 (8.4%), ETA: 58m:25s\n"
     ]
    },
    {
     "name": "stderr",
     "output_type": "stream",
     "text": [
      "/home/chris/miniconda2/envs/pytorch4/lib/python3.6/site-packages/PIL/TiffImagePlugin.py:739: UserWarning: Possibly corrupt EXIF data.  Expecting to read 2555904 bytes but only got 0. Skipping tag 0\n",
      "  \" Skipping tag %s\" % (size, len(data), tag))\n"
     ]
    },
    {
     "name": "stdout",
     "output_type": "stream",
     "text": [
      "Batches processed: 600/4738 (12.7%), ETA: 54m:57s\n",
      "Batches processed: 800/4738 (16.9%), ETA: 51m:26s\n",
      "Batches processed: 1000/4738 (21.1%), ETA: 48m:51s\n",
      "Batches processed: 1200/4738 (25.3%), ETA: 45m:44s\n",
      "Batches processed: 1400/4738 (29.5%), ETA: 43m:14s\n",
      "Batches processed: 1600/4738 (33.8%), ETA: 40m:26s\n",
      "Batches processed: 1800/4738 (38.0%), ETA: 37m:47s\n",
      "Batches processed: 2000/4738 (42.2%), ETA: 35m:03s\n",
      "Batches processed: 2200/4738 (46.4%), ETA: 32m:30s\n",
      "Batches processed: 2400/4738 (50.7%), ETA: 29m:59s\n",
      "Batches processed: 2600/4738 (54.9%), ETA: 27m:24s\n",
      "Batches processed: 2800/4738 (59.1%), ETA: 24m:49s\n",
      "Batches processed: 3000/4738 (63.3%), ETA: 22m:16s\n"
     ]
    },
    {
     "name": "stderr",
     "output_type": "stream",
     "text": [
      "/home/chris/miniconda2/envs/pytorch4/lib/python3.6/site-packages/PIL/TiffImagePlugin.py:739: UserWarning: Possibly corrupt EXIF data.  Expecting to read 2555904 bytes but only got 0. Skipping tag 0\n",
      "  \" Skipping tag %s\" % (size, len(data), tag))\n"
     ]
    },
    {
     "name": "stdout",
     "output_type": "stream",
     "text": [
      "Batches processed: 3200/4738 (67.5%), ETA: 19m:41s\n",
      "Batches processed: 3400/4738 (71.8%), ETA: 17m:10s\n",
      "Batches processed: 3600/4738 (76.0%), ETA: 14m:34s\n",
      "Batches processed: 3800/4738 (80.2%), ETA: 12m:01s\n",
      "Batches processed: 4000/4738 (84.4%), ETA: 09m:25s\n",
      "Batches processed: 4200/4738 (88.6%), ETA: 06m:52s\n",
      "Batches processed: 4400/4738 (92.9%), ETA: 04m:18s\n",
      "Batches processed: 4600/4738 (97.1%), ETA: 01m:46s\n",
      "Batches processed: 4738/4738 (100.0%), ETA: 0s\n",
      "Save mean arithmetic means to results/real/imagenet-full/2793/mean_arithmetic_means.csv\n",
      "Epoch: 2, Train loss: 426.44, mean arithmetic mean: 0.9732041359\n",
      "Save affinities to results/real/imagenet-full/2793/affinities/2.npy\n",
      "Epoch: 3 , mean arithmetic means: [0.9375779032707214, 0.9732041358947754]\n"
     ]
    },
    {
     "name": "stderr",
     "output_type": "stream",
     "text": [
      "/home/chris/miniconda2/envs/pytorch4/lib/python3.6/site-packages/PIL/TiffImagePlugin.py:739: UserWarning: Possibly corrupt EXIF data.  Expecting to read 2555904 bytes but only got 0. Skipping tag 0\n",
      "  \" Skipping tag %s\" % (size, len(data), tag))\n"
     ]
    },
    {
     "name": "stdout",
     "output_type": "stream",
     "text": [
      "Batches processed: 200/4727 (4.2%), ETA: 1h:02m:11s, Loss: 0.040634\n",
      "Batches processed: 400/4727 (8.5%), ETA: 59m:28s, Loss: 0.047361\n"
     ]
    },
    {
     "name": "stderr",
     "output_type": "stream",
     "text": [
      "/home/chris/miniconda2/envs/pytorch4/lib/python3.6/site-packages/PIL/TiffImagePlugin.py:739: UserWarning: Possibly corrupt EXIF data.  Expecting to read 19660800 bytes but only got 0. Skipping tag 0\n",
      "  \" Skipping tag %s\" % (size, len(data), tag))\n",
      "/home/chris/miniconda2/envs/pytorch4/lib/python3.6/site-packages/PIL/TiffImagePlugin.py:739: UserWarning: Possibly corrupt EXIF data.  Expecting to read 18481152 bytes but only got 0. Skipping tag 0\n",
      "  \" Skipping tag %s\" % (size, len(data), tag))\n",
      "/home/chris/miniconda2/envs/pytorch4/lib/python3.6/site-packages/PIL/TiffImagePlugin.py:739: UserWarning: Possibly corrupt EXIF data.  Expecting to read 37093376 bytes but only got 0. Skipping tag 0\n",
      "  \" Skipping tag %s\" % (size, len(data), tag))\n",
      "/home/chris/miniconda2/envs/pytorch4/lib/python3.6/site-packages/PIL/TiffImagePlugin.py:739: UserWarning: Possibly corrupt EXIF data.  Expecting to read 39976960 bytes but only got 0. Skipping tag 0\n",
      "  \" Skipping tag %s\" % (size, len(data), tag))\n",
      "/home/chris/miniconda2/envs/pytorch4/lib/python3.6/site-packages/PIL/TiffImagePlugin.py:739: UserWarning: Possibly corrupt EXIF data.  Expecting to read 34865152 bytes but only got 0. Skipping tag 0\n",
      "  \" Skipping tag %s\" % (size, len(data), tag))\n",
      "/home/chris/miniconda2/envs/pytorch4/lib/python3.6/site-packages/PIL/TiffImagePlugin.py:756: UserWarning: Corrupt EXIF data.  Expecting to read 12 bytes but only got 10. \n",
      "  warnings.warn(str(msg))\n"
     ]
    },
    {
     "name": "stdout",
     "output_type": "stream",
     "text": [
      "Batches processed: 600/4727 (12.7%), ETA: 56m:35s, Loss: 0.040733\n",
      "Batches processed: 800/4727 (16.9%), ETA: 54m:13s, Loss: 0.044848\n",
      "Batches processed: 1000/4727 (21.2%), ETA: 51m:54s, Loss: 0.054399\n",
      "Batches processed: 1200/4727 (25.4%), ETA: 49m:25s, Loss: 0.050553\n",
      "Batches processed: 1400/4727 (29.6%), ETA: 46m:43s, Loss: 0.047701\n",
      "Batches processed: 1600/4727 (33.8%), ETA: 43m:54s, Loss: 0.040627\n",
      "Batches processed: 1800/4727 (38.1%), ETA: 41m:00s, Loss: 0.030841\n",
      "Batches processed: 2000/4727 (42.3%), ETA: 38m:05s, Loss: 0.051535\n",
      "Batches processed: 2200/4727 (46.5%), ETA: 35m:24s, Loss: 0.034034\n",
      "Batches processed: 2400/4727 (50.8%), ETA: 32m:41s, Loss: 0.037298\n",
      "Batches processed: 2600/4727 (55.0%), ETA: 29m:52s, Loss: 0.042054\n",
      "Batches processed: 2800/4727 (59.2%), ETA: 27m:10s, Loss: 0.034904\n",
      "Batches processed: 3000/4727 (63.5%), ETA: 24m:31s, Loss: 0.036113\n",
      "Batches processed: 3200/4727 (67.7%), ETA: 21m:43s, Loss: 0.036171\n",
      "Batches processed: 3400/4727 (71.9%), ETA: 18m:56s, Loss: 0.043068\n",
      "Batches processed: 3600/4727 (76.2%), ETA: 16m:07s, Loss: 0.028222\n"
     ]
    },
    {
     "name": "stderr",
     "output_type": "stream",
     "text": [
      "/home/chris/miniconda2/envs/pytorch4/lib/python3.6/site-packages/PIL/TiffImagePlugin.py:739: UserWarning: Possibly corrupt EXIF data.  Expecting to read 1835008 bytes but only got 0. Skipping tag 0\n",
      "  \" Skipping tag %s\" % (size, len(data), tag))\n"
     ]
    },
    {
     "name": "stdout",
     "output_type": "stream",
     "text": [
      "Batches processed: 3800/4727 (80.4%), ETA: 13m:15s, Loss: 0.059039\n",
      "Batches processed: 4000/4727 (84.6%), ETA: 10m:26s, Loss: 0.047183\n"
     ]
    },
    {
     "name": "stderr",
     "output_type": "stream",
     "text": [
      "/home/chris/miniconda2/envs/pytorch4/lib/python3.6/site-packages/PIL/TiffImagePlugin.py:739: UserWarning: Possibly corrupt EXIF data.  Expecting to read 2555904 bytes but only got 0. Skipping tag 0\n",
      "  \" Skipping tag %s\" % (size, len(data), tag))\n"
     ]
    },
    {
     "name": "stdout",
     "output_type": "stream",
     "text": [
      "Batches processed: 4200/4727 (88.9%), ETA: 07m:34s, Loss: 0.059608\n",
      "Batches processed: 4400/4727 (93.1%), ETA: 04m:42s, Loss: 0.047737\n",
      "Batches processed: 4600/4727 (97.3%), ETA: 01m:49s, Loss: 0.032787\n"
     ]
    },
    {
     "name": "stderr",
     "output_type": "stream",
     "text": [
      "/home/chris/miniconda2/envs/pytorch4/lib/python3.6/site-packages/PIL/TiffImagePlugin.py:756: UserWarning: Corrupt EXIF data.  Expecting to read 4 bytes but only got 0. \n",
      "  warnings.warn(str(msg))\n"
     ]
    },
    {
     "name": "stdout",
     "output_type": "stream",
     "text": [
      "Batches processed: 4727/4727 (100.0%), ETA: 0s, Loss: 0.106395\n",
      "Save model and optimizer state to results/real/imagenet-full/2793/checkpoints/3.pth.tar\n",
      "Batches processed: 200/4738 (4.2%), ETA: 1h:00m:26s\n",
      "Batches processed: 400/4738 (8.4%), ETA: 55m:30s\n"
     ]
    },
    {
     "name": "stderr",
     "output_type": "stream",
     "text": [
      "/home/chris/miniconda2/envs/pytorch4/lib/python3.6/site-packages/PIL/TiffImagePlugin.py:739: UserWarning: Possibly corrupt EXIF data.  Expecting to read 2555904 bytes but only got 0. Skipping tag 0\n",
      "  \" Skipping tag %s\" % (size, len(data), tag))\n"
     ]
    },
    {
     "name": "stdout",
     "output_type": "stream",
     "text": [
      "Batches processed: 600/4738 (12.7%), ETA: 51m:53s\n",
      "Batches processed: 800/4738 (16.9%), ETA: 49m:08s\n",
      "Batches processed: 1000/4738 (21.1%), ETA: 46m:54s\n",
      "Batches processed: 1200/4738 (25.3%), ETA: 44m:14s\n",
      "Batches processed: 1400/4738 (29.5%), ETA: 41m:38s\n",
      "Batches processed: 1600/4738 (33.8%), ETA: 38m:56s\n",
      "Batches processed: 1800/4738 (38.0%), ETA: 36m:44s\n",
      "Batches processed: 2000/4738 (42.2%), ETA: 34m:04s\n",
      "Batches processed: 2200/4738 (46.4%), ETA: 31m:38s\n",
      "Batches processed: 2400/4738 (50.7%), ETA: 29m:15s\n",
      "Batches processed: 2600/4738 (54.9%), ETA: 26m:56s\n",
      "Batches processed: 2800/4738 (59.1%), ETA: 24m:26s\n",
      "Batches processed: 3000/4738 (63.3%), ETA: 21m:59s\n"
     ]
    },
    {
     "name": "stderr",
     "output_type": "stream",
     "text": [
      "/home/chris/miniconda2/envs/pytorch4/lib/python3.6/site-packages/PIL/TiffImagePlugin.py:739: UserWarning: Possibly corrupt EXIF data.  Expecting to read 2555904 bytes but only got 0. Skipping tag 0\n",
      "  \" Skipping tag %s\" % (size, len(data), tag))\n"
     ]
    },
    {
     "name": "stdout",
     "output_type": "stream",
     "text": [
      "Batches processed: 3200/4738 (67.5%), ETA: 19m:23s\n",
      "Batches processed: 3400/4738 (71.8%), ETA: 16m:53s\n",
      "Batches processed: 3600/4738 (76.0%), ETA: 14m:20s\n",
      "Batches processed: 3800/4738 (80.2%), ETA: 11m:47s\n",
      "Batches processed: 4000/4738 (84.4%), ETA: 09m:17s\n",
      "Batches processed: 4200/4738 (88.6%), ETA: 06m:45s\n",
      "Batches processed: 4400/4738 (92.9%), ETA: 04m:14s\n",
      "Batches processed: 4600/4738 (97.1%), ETA: 01m:44s\n",
      "Batches processed: 4738/4738 (100.0%), ETA: 0s\n",
      "Save mean arithmetic means to results/real/imagenet-full/2793/mean_arithmetic_means.csv\n",
      "Epoch: 3, Train loss: 204.10, mean arithmetic mean: 0.9832634926\n",
      "Save affinities to results/real/imagenet-full/2793/affinities/3.npy\n",
      "Epoch: 4 , mean arithmetic means: [0.9375779032707214, 0.9732041358947754, 0.9832634925842285]\n",
      "Batches processed: 200/4727 (4.2%), ETA: 1h:04m:47s, Loss: 0.025698\n",
      "Batches processed: 400/4727 (8.5%), ETA: 1h:01m:23s, Loss: 0.027834\n",
      "Batches processed: 600/4727 (12.7%), ETA: 59m:16s, Loss: 0.014071\n",
      "Batches processed: 800/4727 (16.9%), ETA: 56m:59s, Loss: 0.020333\n",
      "Batches processed: 1000/4727 (21.2%), ETA: 53m:25s, Loss: 0.018910\n",
      "Batches processed: 1200/4727 (25.4%), ETA: 50m:49s, Loss: 0.022974\n",
      "Batches processed: 1400/4727 (29.6%), ETA: 48m:02s, Loss: 0.023619\n"
     ]
    },
    {
     "name": "stderr",
     "output_type": "stream",
     "text": [
      "/home/chris/miniconda2/envs/pytorch4/lib/python3.6/site-packages/PIL/TiffImagePlugin.py:756: UserWarning: Corrupt EXIF data.  Expecting to read 4 bytes but only got 0. \n",
      "  warnings.warn(str(msg))\n"
     ]
    },
    {
     "name": "stdout",
     "output_type": "stream",
     "text": [
      "Batches processed: 1600/4727 (33.8%), ETA: 45m:15s, Loss: 0.034321\n",
      "Batches processed: 1800/4727 (38.1%), ETA: 42m:24s, Loss: 0.026526\n",
      "Batches processed: 2000/4727 (42.3%), ETA: 39m:51s, Loss: 0.024383\n"
     ]
    },
    {
     "name": "stderr",
     "output_type": "stream",
     "text": [
      "/home/chris/miniconda2/envs/pytorch4/lib/python3.6/site-packages/PIL/TiffImagePlugin.py:739: UserWarning: Possibly corrupt EXIF data.  Expecting to read 2555904 bytes but only got 0. Skipping tag 0\n",
      "  \" Skipping tag %s\" % (size, len(data), tag))\n"
     ]
    },
    {
     "name": "stdout",
     "output_type": "stream",
     "text": [
      "Batches processed: 2200/4727 (46.5%), ETA: 36m:42s, Loss: 0.030049\n",
      "Batches processed: 2400/4727 (50.8%), ETA: 33m:36s, Loss: 0.035496\n"
     ]
    },
    {
     "name": "stderr",
     "output_type": "stream",
     "text": [
      "/home/chris/miniconda2/envs/pytorch4/lib/python3.6/site-packages/PIL/TiffImagePlugin.py:739: UserWarning: Possibly corrupt EXIF data.  Expecting to read 2555904 bytes but only got 0. Skipping tag 0\n",
      "  \" Skipping tag %s\" % (size, len(data), tag))\n"
     ]
    },
    {
     "name": "stdout",
     "output_type": "stream",
     "text": [
      "Batches processed: 2600/4727 (55.0%), ETA: 30m:41s, Loss: 0.027040\n",
      "Batches processed: 2800/4727 (59.2%), ETA: 27m:44s, Loss: 0.036169\n",
      "Batches processed: 3000/4727 (63.5%), ETA: 24m:48s, Loss: 0.027473\n"
     ]
    },
    {
     "name": "stderr",
     "output_type": "stream",
     "text": [
      "/home/chris/miniconda2/envs/pytorch4/lib/python3.6/site-packages/PIL/TiffImagePlugin.py:739: UserWarning: Possibly corrupt EXIF data.  Expecting to read 1835008 bytes but only got 0. Skipping tag 0\n",
      "  \" Skipping tag %s\" % (size, len(data), tag))\n"
     ]
    },
    {
     "name": "stdout",
     "output_type": "stream",
     "text": [
      "Batches processed: 3200/4727 (67.7%), ETA: 21m:53s, Loss: 0.039407\n",
      "Batches processed: 3400/4727 (71.9%), ETA: 19m:00s, Loss: 0.016475\n",
      "Batches processed: 3600/4727 (76.2%), ETA: 16m:05s, Loss: 0.031816\n"
     ]
    },
    {
     "name": "stderr",
     "output_type": "stream",
     "text": [
      "/home/chris/miniconda2/envs/pytorch4/lib/python3.6/site-packages/PIL/TiffImagePlugin.py:739: UserWarning: Possibly corrupt EXIF data.  Expecting to read 19660800 bytes but only got 0. Skipping tag 0\n",
      "  \" Skipping tag %s\" % (size, len(data), tag))\n",
      "/home/chris/miniconda2/envs/pytorch4/lib/python3.6/site-packages/PIL/TiffImagePlugin.py:739: UserWarning: Possibly corrupt EXIF data.  Expecting to read 18481152 bytes but only got 0. Skipping tag 0\n",
      "  \" Skipping tag %s\" % (size, len(data), tag))\n",
      "/home/chris/miniconda2/envs/pytorch4/lib/python3.6/site-packages/PIL/TiffImagePlugin.py:739: UserWarning: Possibly corrupt EXIF data.  Expecting to read 37093376 bytes but only got 0. Skipping tag 0\n",
      "  \" Skipping tag %s\" % (size, len(data), tag))\n",
      "/home/chris/miniconda2/envs/pytorch4/lib/python3.6/site-packages/PIL/TiffImagePlugin.py:739: UserWarning: Possibly corrupt EXIF data.  Expecting to read 39976960 bytes but only got 0. Skipping tag 0\n",
      "  \" Skipping tag %s\" % (size, len(data), tag))\n",
      "/home/chris/miniconda2/envs/pytorch4/lib/python3.6/site-packages/PIL/TiffImagePlugin.py:739: UserWarning: Possibly corrupt EXIF data.  Expecting to read 34865152 bytes but only got 0. Skipping tag 0\n",
      "  \" Skipping tag %s\" % (size, len(data), tag))\n",
      "/home/chris/miniconda2/envs/pytorch4/lib/python3.6/site-packages/PIL/TiffImagePlugin.py:756: UserWarning: Corrupt EXIF data.  Expecting to read 12 bytes but only got 10. \n",
      "  warnings.warn(str(msg))\n"
     ]
    },
    {
     "name": "stdout",
     "output_type": "stream",
     "text": [
      "Batches processed: 3800/4727 (80.4%), ETA: 13m:13s, Loss: 0.021085\n",
      "Batches processed: 4000/4727 (84.6%), ETA: 10m:20s, Loss: 0.024502\n",
      "Batches processed: 4200/4727 (88.9%), ETA: 07m:30s, Loss: 0.020642\n",
      "Batches processed: 4400/4727 (93.1%), ETA: 04m:39s, Loss: 0.022466\n",
      "Batches processed: 4600/4727 (97.3%), ETA: 01m:48s, Loss: 0.031029\n",
      "Batches processed: 4727/4727 (100.0%), ETA: 0s, Loss: 0.016008\n",
      "Save model and optimizer state to results/real/imagenet-full/2793/checkpoints/4.pth.tar\n",
      "Batches processed: 200/4738 (4.2%), ETA: 56m:36s\n",
      "Batches processed: 400/4738 (8.4%), ETA: 52m:37s\n"
     ]
    },
    {
     "name": "stderr",
     "output_type": "stream",
     "text": [
      "/home/chris/miniconda2/envs/pytorch4/lib/python3.6/site-packages/PIL/TiffImagePlugin.py:739: UserWarning: Possibly corrupt EXIF data.  Expecting to read 2555904 bytes but only got 0. Skipping tag 0\n",
      "  \" Skipping tag %s\" % (size, len(data), tag))\n"
     ]
    },
    {
     "name": "stdout",
     "output_type": "stream",
     "text": [
      "Batches processed: 600/4738 (12.7%), ETA: 50m:23s\n",
      "Batches processed: 800/4738 (16.9%), ETA: 46m:37s\n",
      "Batches processed: 1000/4738 (21.1%), ETA: 44m:05s\n",
      "Batches processed: 1200/4738 (25.3%), ETA: 41m:29s\n",
      "Batches processed: 1400/4738 (29.5%), ETA: 39m:21s\n",
      "Batches processed: 1600/4738 (33.8%), ETA: 36m:48s\n",
      "Batches processed: 1800/4738 (38.0%), ETA: 34m:33s\n",
      "Batches processed: 2000/4738 (42.2%), ETA: 32m:04s\n",
      "Batches processed: 2200/4738 (46.4%), ETA: 29m:42s\n",
      "Batches processed: 2400/4738 (50.7%), ETA: 27m:18s\n",
      "Batches processed: 2600/4738 (54.9%), ETA: 25m:07s\n",
      "Batches processed: 2800/4738 (59.1%), ETA: 22m:43s\n",
      "Batches processed: 3000/4738 (63.3%), ETA: 20m:23s\n"
     ]
    },
    {
     "name": "stderr",
     "output_type": "stream",
     "text": [
      "/home/chris/miniconda2/envs/pytorch4/lib/python3.6/site-packages/PIL/TiffImagePlugin.py:739: UserWarning: Possibly corrupt EXIF data.  Expecting to read 2555904 bytes but only got 0. Skipping tag 0\n",
      "  \" Skipping tag %s\" % (size, len(data), tag))\n"
     ]
    },
    {
     "name": "stdout",
     "output_type": "stream",
     "text": [
      "Batches processed: 3200/4738 (67.5%), ETA: 18m:01s\n",
      "Batches processed: 3400/4738 (71.8%), ETA: 15m:43s\n",
      "Batches processed: 3600/4738 (76.0%), ETA: 13m:19s\n",
      "Batches processed: 3800/4738 (80.2%), ETA: 10m:57s\n",
      "Batches processed: 4000/4738 (84.4%), ETA: 08m:38s\n",
      "Batches processed: 4200/4738 (88.6%), ETA: 06m:17s\n",
      "Batches processed: 4400/4738 (92.9%), ETA: 03m:57s\n",
      "Batches processed: 4600/4738 (97.1%), ETA: 01m:37s\n",
      "Batches processed: 4738/4738 (100.0%), ETA: 0s\n",
      "Save mean arithmetic means to results/real/imagenet-full/2793/mean_arithmetic_means.csv\n",
      "Epoch: 4, Train loss: 117.95, mean arithmetic mean: 0.9881440401\n",
      "Save affinities to results/real/imagenet-full/2793/affinities/4.npy\n",
      "Epoch: 5 , mean arithmetic means: [0.9375779032707214, 0.9732041358947754, 0.9832634925842285, 0.988144040107727]\n",
      "Batches processed: 200/4727 (4.2%), ETA: 1h:01m:44s, Loss: 0.014343\n",
      "Batches processed: 400/4727 (8.5%), ETA: 59m:53s, Loss: 0.010928\n",
      "Batches processed: 600/4727 (12.7%), ETA: 57m:11s, Loss: 0.018705\n",
      "Batches processed: 800/4727 (16.9%), ETA: 54m:57s, Loss: 0.011638\n"
     ]
    },
    {
     "name": "stderr",
     "output_type": "stream",
     "text": [
      "/home/chris/miniconda2/envs/pytorch4/lib/python3.6/site-packages/PIL/TiffImagePlugin.py:739: UserWarning: Possibly corrupt EXIF data.  Expecting to read 2555904 bytes but only got 0. Skipping tag 0\n",
      "  \" Skipping tag %s\" % (size, len(data), tag))\n"
     ]
    },
    {
     "name": "stdout",
     "output_type": "stream",
     "text": [
      "Batches processed: 1000/4727 (21.2%), ETA: 52m:24s, Loss: 0.017001\n",
      "Batches processed: 1200/4727 (25.4%), ETA: 49m:42s, Loss: 0.015596\n",
      "Batches processed: 1400/4727 (29.6%), ETA: 46m:50s, Loss: 0.012207\n",
      "Batches processed: 1600/4727 (33.8%), ETA: 44m:13s, Loss: 0.017198\n",
      "Batches processed: 1800/4727 (38.1%), ETA: 41m:23s, Loss: 0.015289\n",
      "Batches processed: 2000/4727 (42.3%), ETA: 38m:50s, Loss: 0.018740\n",
      "Batches processed: 2200/4727 (46.5%), ETA: 36m:04s, Loss: 0.013438\n"
     ]
    },
    {
     "name": "stderr",
     "output_type": "stream",
     "text": [
      "/home/chris/miniconda2/envs/pytorch4/lib/python3.6/site-packages/PIL/TiffImagePlugin.py:756: UserWarning: Corrupt EXIF data.  Expecting to read 4 bytes but only got 0. \n",
      "  warnings.warn(str(msg))\n"
     ]
    },
    {
     "name": "stdout",
     "output_type": "stream",
     "text": [
      "Batches processed: 2400/4727 (50.8%), ETA: 33m:20s, Loss: 0.023041\n",
      "Batches processed: 2600/4727 (55.0%), ETA: 30m:25s, Loss: 0.019048\n",
      "Batches processed: 2800/4727 (59.2%), ETA: 27m:45s, Loss: 0.016772\n"
     ]
    },
    {
     "name": "stderr",
     "output_type": "stream",
     "text": [
      "/home/chris/miniconda2/envs/pytorch4/lib/python3.6/site-packages/PIL/TiffImagePlugin.py:739: UserWarning: Possibly corrupt EXIF data.  Expecting to read 2555904 bytes but only got 0. Skipping tag 0\n",
      "  \" Skipping tag %s\" % (size, len(data), tag))\n"
     ]
    },
    {
     "name": "stdout",
     "output_type": "stream",
     "text": [
      "Batches processed: 3000/4727 (63.5%), ETA: 25m:03s, Loss: 0.024304\n",
      "Batches processed: 3200/4727 (67.7%), ETA: 22m:11s, Loss: 0.017560\n",
      "Batches processed: 3400/4727 (71.9%), ETA: 19m:28s, Loss: 0.015067\n",
      "Batches processed: 3600/4727 (76.2%), ETA: 16m:39s, Loss: 0.022430\n",
      "Batches processed: 3800/4727 (80.4%), ETA: 13m:42s, Loss: 0.014309\n",
      "Batches processed: 4000/4727 (84.6%), ETA: 10m:45s, Loss: 0.016134\n"
     ]
    },
    {
     "name": "stderr",
     "output_type": "stream",
     "text": [
      "/home/chris/miniconda2/envs/pytorch4/lib/python3.6/site-packages/PIL/TiffImagePlugin.py:739: UserWarning: Possibly corrupt EXIF data.  Expecting to read 1835008 bytes but only got 0. Skipping tag 0\n",
      "  \" Skipping tag %s\" % (size, len(data), tag))\n"
     ]
    },
    {
     "name": "stdout",
     "output_type": "stream",
     "text": [
      "Batches processed: 4200/4727 (88.9%), ETA: 07m:48s, Loss: 0.014260\n"
     ]
    },
    {
     "name": "stderr",
     "output_type": "stream",
     "text": [
      "/home/chris/miniconda2/envs/pytorch4/lib/python3.6/site-packages/PIL/TiffImagePlugin.py:739: UserWarning: Possibly corrupt EXIF data.  Expecting to read 19660800 bytes but only got 0. Skipping tag 0\n",
      "  \" Skipping tag %s\" % (size, len(data), tag))\n",
      "/home/chris/miniconda2/envs/pytorch4/lib/python3.6/site-packages/PIL/TiffImagePlugin.py:739: UserWarning: Possibly corrupt EXIF data.  Expecting to read 18481152 bytes but only got 0. Skipping tag 0\n",
      "  \" Skipping tag %s\" % (size, len(data), tag))\n",
      "/home/chris/miniconda2/envs/pytorch4/lib/python3.6/site-packages/PIL/TiffImagePlugin.py:739: UserWarning: Possibly corrupt EXIF data.  Expecting to read 37093376 bytes but only got 0. Skipping tag 0\n",
      "  \" Skipping tag %s\" % (size, len(data), tag))\n",
      "/home/chris/miniconda2/envs/pytorch4/lib/python3.6/site-packages/PIL/TiffImagePlugin.py:739: UserWarning: Possibly corrupt EXIF data.  Expecting to read 39976960 bytes but only got 0. Skipping tag 0\n",
      "  \" Skipping tag %s\" % (size, len(data), tag))\n",
      "/home/chris/miniconda2/envs/pytorch4/lib/python3.6/site-packages/PIL/TiffImagePlugin.py:739: UserWarning: Possibly corrupt EXIF data.  Expecting to read 34865152 bytes but only got 0. Skipping tag 0\n",
      "  \" Skipping tag %s\" % (size, len(data), tag))\n",
      "/home/chris/miniconda2/envs/pytorch4/lib/python3.6/site-packages/PIL/TiffImagePlugin.py:756: UserWarning: Corrupt EXIF data.  Expecting to read 12 bytes but only got 10. \n",
      "  warnings.warn(str(msg))\n"
     ]
    },
    {
     "name": "stdout",
     "output_type": "stream",
     "text": [
      "Batches processed: 4400/4727 (93.1%), ETA: 04m:51s, Loss: 0.021155\n",
      "Batches processed: 4600/4727 (97.3%), ETA: 01m:53s, Loss: 0.021412\n",
      "Batches processed: 4727/4727 (100.0%), ETA: 0s, Loss: 0.023161\n",
      "Save model and optimizer state to results/real/imagenet-full/2793/checkpoints/5.pth.tar\n",
      "Batches processed: 200/4738 (4.2%), ETA: 51m:57s\n",
      "Batches processed: 400/4738 (8.4%), ETA: 49m:24s\n"
     ]
    },
    {
     "name": "stderr",
     "output_type": "stream",
     "text": [
      "/home/chris/miniconda2/envs/pytorch4/lib/python3.6/site-packages/PIL/TiffImagePlugin.py:739: UserWarning: Possibly corrupt EXIF data.  Expecting to read 2555904 bytes but only got 0. Skipping tag 0\n",
      "  \" Skipping tag %s\" % (size, len(data), tag))\n"
     ]
    },
    {
     "name": "stdout",
     "output_type": "stream",
     "text": [
      "Batches processed: 600/4738 (12.7%), ETA: 45m:17s\n",
      "Batches processed: 800/4738 (16.9%), ETA: 41m:56s\n",
      "Batches processed: 1000/4738 (21.1%), ETA: 39m:32s\n",
      "Batches processed: 1200/4738 (25.3%), ETA: 37m:24s\n",
      "Batches processed: 1400/4738 (29.5%), ETA: 35m:24s\n",
      "Batches processed: 1600/4738 (33.8%), ETA: 33m:17s\n",
      "Batches processed: 1800/4738 (38.0%), ETA: 31m:17s\n",
      "Batches processed: 2000/4738 (42.2%), ETA: 29m:29s\n",
      "Batches processed: 2200/4738 (46.4%), ETA: 27m:28s\n",
      "Batches processed: 2400/4738 (50.7%), ETA: 25m:16s\n",
      "Batches processed: 2600/4738 (54.9%), ETA: 23m:17s\n",
      "Batches processed: 2800/4738 (59.1%), ETA: 21m:05s\n",
      "Batches processed: 3000/4738 (63.3%), ETA: 18m:54s\n"
     ]
    },
    {
     "name": "stderr",
     "output_type": "stream",
     "text": [
      "/home/chris/miniconda2/envs/pytorch4/lib/python3.6/site-packages/PIL/TiffImagePlugin.py:739: UserWarning: Possibly corrupt EXIF data.  Expecting to read 2555904 bytes but only got 0. Skipping tag 0\n",
      "  \" Skipping tag %s\" % (size, len(data), tag))\n"
     ]
    },
    {
     "name": "stdout",
     "output_type": "stream",
     "text": [
      "Batches processed: 3200/4738 (67.5%), ETA: 16m:40s\n",
      "Batches processed: 3400/4738 (71.8%), ETA: 14m:32s\n",
      "Batches processed: 3600/4738 (76.0%), ETA: 12m:20s\n",
      "Batches processed: 3800/4738 (80.2%), ETA: 10m:10s\n",
      "Batches processed: 4000/4738 (84.4%), ETA: 08m:01s\n",
      "Batches processed: 4200/4738 (88.6%), ETA: 05m:50s\n",
      "Batches processed: 4400/4738 (92.9%), ETA: 03m:40s\n",
      "Batches processed: 4600/4738 (97.1%), ETA: 01m:30s\n",
      "Batches processed: 4738/4738 (100.0%), ETA: 0s\n",
      "Save mean arithmetic means to results/real/imagenet-full/2793/mean_arithmetic_means.csv\n",
      "Epoch: 5, Train loss: 75.06, mean arithmetic mean: 0.9905615449\n",
      "Save affinities to results/real/imagenet-full/2793/affinities/5.npy\n",
      "Epoch: 6 , mean arithmetic means: [0.9375779032707214, 0.9732041358947754, 0.9832634925842285, 0.988144040107727, 0.9905615448951721]\n",
      "Batches processed: 200/4727 (4.2%), ETA: 53m:54s, Loss: 0.007514\n",
      "Batches processed: 400/4727 (8.5%), ETA: 52m:01s, Loss: 0.009891\n",
      "Batches processed: 600/4727 (12.7%), ETA: 49m:34s, Loss: 0.010574\n",
      "Batches processed: 800/4727 (16.9%), ETA: 46m:13s, Loss: 0.008135\n",
      "Batches processed: 1000/4727 (21.2%), ETA: 43m:19s, Loss: 0.008568\n",
      "Batches processed: 1200/4727 (25.4%), ETA: 40m:36s, Loss: 0.007088\n",
      "Batches processed: 1400/4727 (29.6%), ETA: 38m:04s, Loss: 0.009232\n",
      "Batches processed: 1600/4727 (33.8%), ETA: 35m:35s, Loss: 0.013259\n"
     ]
    },
    {
     "name": "stderr",
     "output_type": "stream",
     "text": [
      "/home/chris/miniconda2/envs/pytorch4/lib/python3.6/site-packages/PIL/TiffImagePlugin.py:739: UserWarning: Possibly corrupt EXIF data.  Expecting to read 19660800 bytes but only got 0. Skipping tag 0\n",
      "  \" Skipping tag %s\" % (size, len(data), tag))\n",
      "/home/chris/miniconda2/envs/pytorch4/lib/python3.6/site-packages/PIL/TiffImagePlugin.py:739: UserWarning: Possibly corrupt EXIF data.  Expecting to read 18481152 bytes but only got 0. Skipping tag 0\n",
      "  \" Skipping tag %s\" % (size, len(data), tag))\n",
      "/home/chris/miniconda2/envs/pytorch4/lib/python3.6/site-packages/PIL/TiffImagePlugin.py:739: UserWarning: Possibly corrupt EXIF data.  Expecting to read 37093376 bytes but only got 0. Skipping tag 0\n",
      "  \" Skipping tag %s\" % (size, len(data), tag))\n",
      "/home/chris/miniconda2/envs/pytorch4/lib/python3.6/site-packages/PIL/TiffImagePlugin.py:739: UserWarning: Possibly corrupt EXIF data.  Expecting to read 39976960 bytes but only got 0. Skipping tag 0\n",
      "  \" Skipping tag %s\" % (size, len(data), tag))\n",
      "/home/chris/miniconda2/envs/pytorch4/lib/python3.6/site-packages/PIL/TiffImagePlugin.py:739: UserWarning: Possibly corrupt EXIF data.  Expecting to read 34865152 bytes but only got 0. Skipping tag 0\n",
      "  \" Skipping tag %s\" % (size, len(data), tag))\n",
      "/home/chris/miniconda2/envs/pytorch4/lib/python3.6/site-packages/PIL/TiffImagePlugin.py:756: UserWarning: Corrupt EXIF data.  Expecting to read 12 bytes but only got 10. \n",
      "  warnings.warn(str(msg))\n"
     ]
    },
    {
     "name": "stdout",
     "output_type": "stream",
     "text": [
      "Batches processed: 1800/4727 (38.1%), ETA: 33m:09s, Loss: 0.011974\n",
      "Batches processed: 2000/4727 (42.3%), ETA: 30m:46s, Loss: 0.013185\n",
      "Batches processed: 2200/4727 (46.5%), ETA: 28m:27s, Loss: 0.007413\n",
      "Batches processed: 2400/4727 (50.8%), ETA: 26m:10s, Loss: 0.016359\n",
      "Batches processed: 2600/4727 (55.0%), ETA: 23m:54s, Loss: 0.010768\n",
      "Batches processed: 2800/4727 (59.2%), ETA: 21m:36s, Loss: 0.009756\n"
     ]
    },
    {
     "name": "stderr",
     "output_type": "stream",
     "text": [
      "/home/chris/miniconda2/envs/pytorch4/lib/python3.6/site-packages/PIL/TiffImagePlugin.py:756: UserWarning: Corrupt EXIF data.  Expecting to read 4 bytes but only got 0. \n",
      "  warnings.warn(str(msg))\n"
     ]
    },
    {
     "name": "stdout",
     "output_type": "stream",
     "text": [
      "Batches processed: 3000/4727 (63.5%), ETA: 19m:20s, Loss: 0.008010\n",
      "Batches processed: 3200/4727 (67.7%), ETA: 17m:04s, Loss: 0.010164\n",
      "Batches processed: 3400/4727 (71.9%), ETA: 14m:50s, Loss: 0.010898\n",
      "Batches processed: 3600/4727 (76.2%), ETA: 12m:35s, Loss: 0.011587\n"
     ]
    },
    {
     "name": "stderr",
     "output_type": "stream",
     "text": [
      "/home/chris/miniconda2/envs/pytorch4/lib/python3.6/site-packages/PIL/TiffImagePlugin.py:739: UserWarning: Possibly corrupt EXIF data.  Expecting to read 2555904 bytes but only got 0. Skipping tag 0\n",
      "  \" Skipping tag %s\" % (size, len(data), tag))\n"
     ]
    },
    {
     "name": "stdout",
     "output_type": "stream",
     "text": [
      "Batches processed: 3800/4727 (80.4%), ETA: 10m:20s, Loss: 0.009769\n"
     ]
    },
    {
     "name": "stderr",
     "output_type": "stream",
     "text": [
      "/home/chris/miniconda2/envs/pytorch4/lib/python3.6/site-packages/PIL/TiffImagePlugin.py:739: UserWarning: Possibly corrupt EXIF data.  Expecting to read 2555904 bytes but only got 0. Skipping tag 0\n",
      "  \" Skipping tag %s\" % (size, len(data), tag))\n"
     ]
    },
    {
     "name": "stdout",
     "output_type": "stream",
     "text": [
      "Batches processed: 4000/4727 (84.6%), ETA: 08m:07s, Loss: 0.009220\n"
     ]
    },
    {
     "name": "stderr",
     "output_type": "stream",
     "text": [
      "/home/chris/miniconda2/envs/pytorch4/lib/python3.6/site-packages/PIL/TiffImagePlugin.py:739: UserWarning: Possibly corrupt EXIF data.  Expecting to read 1835008 bytes but only got 0. Skipping tag 0\n",
      "  \" Skipping tag %s\" % (size, len(data), tag))\n"
     ]
    },
    {
     "name": "stdout",
     "output_type": "stream",
     "text": [
      "Batches processed: 4200/4727 (88.9%), ETA: 05m:53s, Loss: 0.011782\n",
      "Batches processed: 4400/4727 (93.1%), ETA: 03m:39s, Loss: 0.007899\n",
      "Batches processed: 4600/4727 (97.3%), ETA: 01m:25s, Loss: 0.015743\n",
      "Batches processed: 4727/4727 (100.0%), ETA: 0s, Loss: 0.010923\n",
      "Save model and optimizer state to results/real/imagenet-full/2793/checkpoints/6.pth.tar\n",
      "Batches processed: 200/4738 (4.2%), ETA: 46m:36s\n",
      "Batches processed: 400/4738 (8.4%), ETA: 44m:59s\n"
     ]
    },
    {
     "name": "stderr",
     "output_type": "stream",
     "text": [
      "/home/chris/miniconda2/envs/pytorch4/lib/python3.6/site-packages/PIL/TiffImagePlugin.py:739: UserWarning: Possibly corrupt EXIF data.  Expecting to read 2555904 bytes but only got 0. Skipping tag 0\n",
      "  \" Skipping tag %s\" % (size, len(data), tag))\n"
     ]
    },
    {
     "name": "stdout",
     "output_type": "stream",
     "text": [
      "Batches processed: 600/4738 (12.7%), ETA: 43m:05s\n",
      "Batches processed: 800/4738 (16.9%), ETA: 40m:29s\n",
      "Batches processed: 1000/4738 (21.1%), ETA: 38m:31s\n",
      "Batches processed: 1200/4738 (25.3%), ETA: 36m:45s\n",
      "Batches processed: 1400/4738 (29.5%), ETA: 35m:02s\n",
      "Batches processed: 1600/4738 (33.8%), ETA: 33m:01s\n",
      "Batches processed: 1800/4738 (38.0%), ETA: 30m:51s\n",
      "Batches processed: 2000/4738 (42.2%), ETA: 28m:46s\n",
      "Batches processed: 2200/4738 (46.4%), ETA: 26m:43s\n",
      "Batches processed: 2400/4738 (50.7%), ETA: 24m:38s\n",
      "Batches processed: 2600/4738 (54.9%), ETA: 22m:42s\n",
      "Batches processed: 2800/4738 (59.1%), ETA: 20m:40s\n",
      "Batches processed: 3000/4738 (63.3%), ETA: 18m:38s\n"
     ]
    },
    {
     "name": "stderr",
     "output_type": "stream",
     "text": [
      "/home/chris/miniconda2/envs/pytorch4/lib/python3.6/site-packages/PIL/TiffImagePlugin.py:739: UserWarning: Possibly corrupt EXIF data.  Expecting to read 2555904 bytes but only got 0. Skipping tag 0\n",
      "  \" Skipping tag %s\" % (size, len(data), tag))\n"
     ]
    },
    {
     "name": "stdout",
     "output_type": "stream",
     "text": [
      "Batches processed: 3200/4738 (67.5%), ETA: 16m:32s\n",
      "Batches processed: 3400/4738 (71.8%), ETA: 14m:28s\n",
      "Batches processed: 3600/4738 (76.0%), ETA: 12m:16s\n",
      "Batches processed: 3800/4738 (80.2%), ETA: 10m:05s\n",
      "Batches processed: 4000/4738 (84.4%), ETA: 07m:55s\n",
      "Batches processed: 4200/4738 (88.6%), ETA: 05m:45s\n",
      "Batches processed: 4400/4738 (92.9%), ETA: 03m:36s\n",
      "Batches processed: 4600/4738 (97.1%), ETA: 01m:29s\n",
      "Batches processed: 4738/4738 (100.0%), ETA: 0s\n",
      "Save mean arithmetic means to results/real/imagenet-full/2793/mean_arithmetic_means.csv\n",
      "Epoch: 6, Train loss: 50.87, mean arithmetic mean: 0.9915921688\n",
      "Save affinities to results/real/imagenet-full/2793/affinities/6.npy\n",
      "Epoch: 7 , mean arithmetic means: [0.9375779032707214, 0.9732041358947754, 0.9832634925842285, 0.988144040107727, 0.9905615448951721, 0.9915921688079834]\n"
     ]
    },
    {
     "name": "stderr",
     "output_type": "stream",
     "text": [
      "/home/chris/miniconda2/envs/pytorch4/lib/python3.6/site-packages/PIL/TiffImagePlugin.py:739: UserWarning: Possibly corrupt EXIF data.  Expecting to read 2555904 bytes but only got 0. Skipping tag 0\n",
      "  \" Skipping tag %s\" % (size, len(data), tag))\n"
     ]
    },
    {
     "name": "stdout",
     "output_type": "stream",
     "text": [
      "Batches processed: 200/4727 (4.2%), ETA: 51m:52s, Loss: 0.007117\n",
      "Batches processed: 400/4727 (8.5%), ETA: 50m:47s, Loss: 0.004925\n",
      "Batches processed: 600/4727 (12.7%), ETA: 48m:37s, Loss: 0.007075\n",
      "Batches processed: 800/4727 (16.9%), ETA: 46m:46s, Loss: 0.008427\n",
      "Batches processed: 1000/4727 (21.2%), ETA: 43m:56s, Loss: 0.008485\n"
     ]
    },
    {
     "name": "stderr",
     "output_type": "stream",
     "text": [
      "/home/chris/miniconda2/envs/pytorch4/lib/python3.6/site-packages/PIL/TiffImagePlugin.py:739: UserWarning: Possibly corrupt EXIF data.  Expecting to read 2555904 bytes but only got 0. Skipping tag 0\n",
      "  \" Skipping tag %s\" % (size, len(data), tag))\n"
     ]
    },
    {
     "name": "stdout",
     "output_type": "stream",
     "text": [
      "Batches processed: 1200/4727 (25.4%), ETA: 41m:12s, Loss: 0.006663\n"
     ]
    },
    {
     "name": "stderr",
     "output_type": "stream",
     "text": [
      "/home/chris/miniconda2/envs/pytorch4/lib/python3.6/site-packages/PIL/TiffImagePlugin.py:739: UserWarning: Possibly corrupt EXIF data.  Expecting to read 19660800 bytes but only got 0. Skipping tag 0\n",
      "  \" Skipping tag %s\" % (size, len(data), tag))\n",
      "/home/chris/miniconda2/envs/pytorch4/lib/python3.6/site-packages/PIL/TiffImagePlugin.py:739: UserWarning: Possibly corrupt EXIF data.  Expecting to read 18481152 bytes but only got 0. Skipping tag 0\n",
      "  \" Skipping tag %s\" % (size, len(data), tag))\n",
      "/home/chris/miniconda2/envs/pytorch4/lib/python3.6/site-packages/PIL/TiffImagePlugin.py:739: UserWarning: Possibly corrupt EXIF data.  Expecting to read 37093376 bytes but only got 0. Skipping tag 0\n",
      "  \" Skipping tag %s\" % (size, len(data), tag))\n",
      "/home/chris/miniconda2/envs/pytorch4/lib/python3.6/site-packages/PIL/TiffImagePlugin.py:739: UserWarning: Possibly corrupt EXIF data.  Expecting to read 39976960 bytes but only got 0. Skipping tag 0\n",
      "  \" Skipping tag %s\" % (size, len(data), tag))\n",
      "/home/chris/miniconda2/envs/pytorch4/lib/python3.6/site-packages/PIL/TiffImagePlugin.py:739: UserWarning: Possibly corrupt EXIF data.  Expecting to read 34865152 bytes but only got 0. Skipping tag 0\n",
      "  \" Skipping tag %s\" % (size, len(data), tag))\n",
      "/home/chris/miniconda2/envs/pytorch4/lib/python3.6/site-packages/PIL/TiffImagePlugin.py:756: UserWarning: Corrupt EXIF data.  Expecting to read 12 bytes but only got 10. \n",
      "  warnings.warn(str(msg))\n"
     ]
    },
    {
     "name": "stdout",
     "output_type": "stream",
     "text": [
      "Batches processed: 1400/4727 (29.6%), ETA: 38m:38s, Loss: 0.006336\n"
     ]
    },
    {
     "name": "stderr",
     "output_type": "stream",
     "text": [
      "/home/chris/miniconda2/envs/pytorch4/lib/python3.6/site-packages/PIL/TiffImagePlugin.py:739: UserWarning: Possibly corrupt EXIF data.  Expecting to read 1835008 bytes but only got 0. Skipping tag 0\n",
      "  \" Skipping tag %s\" % (size, len(data), tag))\n"
     ]
    },
    {
     "name": "stdout",
     "output_type": "stream",
     "text": [
      "Batches processed: 1600/4727 (33.8%), ETA: 36m:28s, Loss: 0.006472\n",
      "Batches processed: 1800/4727 (38.1%), ETA: 34m:18s, Loss: 0.005900\n",
      "Batches processed: 2000/4727 (42.3%), ETA: 31m:59s, Loss: 0.006449\n",
      "Batches processed: 2200/4727 (46.5%), ETA: 29m:39s, Loss: 0.011024\n",
      "Batches processed: 2400/4727 (50.8%), ETA: 27m:19s, Loss: 0.006901\n",
      "Batches processed: 2600/4727 (55.0%), ETA: 24m:57s, Loss: 0.007353\n",
      "Batches processed: 2800/4727 (59.2%), ETA: 22m:38s, Loss: 0.005860\n",
      "Batches processed: 3000/4727 (63.5%), ETA: 20m:17s, Loss: 0.007361\n",
      "Batches processed: 3200/4727 (67.7%), ETA: 17m:58s, Loss: 0.008416\n",
      "Batches processed: 3400/4727 (71.9%), ETA: 15m:38s, Loss: 0.009411\n",
      "Batches processed: 3600/4727 (76.2%), ETA: 13m:17s, Loss: 0.006643\n",
      "Batches processed: 3800/4727 (80.4%), ETA: 10m:55s, Loss: 0.009916\n",
      "Batches processed: 4000/4727 (84.6%), ETA: 08m:35s, Loss: 0.007476\n",
      "Batches processed: 4200/4727 (88.9%), ETA: 06m:13s, Loss: 0.007101\n",
      "Batches processed: 4400/4727 (93.1%), ETA: 03m:51s, Loss: 0.010615\n",
      "Batches processed: 4600/4727 (97.3%), ETA: 01m:30s, Loss: 0.006655\n"
     ]
    },
    {
     "name": "stderr",
     "output_type": "stream",
     "text": [
      "/home/chris/miniconda2/envs/pytorch4/lib/python3.6/site-packages/PIL/TiffImagePlugin.py:756: UserWarning: Corrupt EXIF data.  Expecting to read 4 bytes but only got 0. \n",
      "  warnings.warn(str(msg))\n"
     ]
    },
    {
     "name": "stdout",
     "output_type": "stream",
     "text": [
      "Batches processed: 4727/4727 (100.0%), ETA: 0s, Loss: 0.004972\n",
      "Save model and optimizer state to results/real/imagenet-full/2793/checkpoints/7.pth.tar\n",
      "Batches processed: 200/4738 (4.2%), ETA: 51m:00s\n",
      "Batches processed: 400/4738 (8.4%), ETA: 48m:21s\n"
     ]
    },
    {
     "name": "stderr",
     "output_type": "stream",
     "text": [
      "/home/chris/miniconda2/envs/pytorch4/lib/python3.6/site-packages/PIL/TiffImagePlugin.py:739: UserWarning: Possibly corrupt EXIF data.  Expecting to read 2555904 bytes but only got 0. Skipping tag 0\n",
      "  \" Skipping tag %s\" % (size, len(data), tag))\n"
     ]
    },
    {
     "name": "stdout",
     "output_type": "stream",
     "text": [
      "Batches processed: 600/4738 (12.7%), ETA: 45m:59s\n",
      "Batches processed: 800/4738 (16.9%), ETA: 43m:16s\n",
      "Batches processed: 1000/4738 (21.1%), ETA: 40m:53s\n",
      "Batches processed: 1200/4738 (25.3%), ETA: 38m:45s\n",
      "Batches processed: 1400/4738 (29.5%), ETA: 36m:37s\n",
      "Batches processed: 1600/4738 (33.8%), ETA: 34m:23s\n",
      "Batches processed: 1800/4738 (38.0%), ETA: 32m:17s\n",
      "Batches processed: 2000/4738 (42.2%), ETA: 30m:07s\n",
      "Batches processed: 2200/4738 (46.4%), ETA: 27m:57s\n",
      "Batches processed: 2400/4738 (50.7%), ETA: 25m:46s\n",
      "Batches processed: 2600/4738 (54.9%), ETA: 23m:35s\n",
      "Batches processed: 2800/4738 (59.1%), ETA: 21m:25s\n",
      "Batches processed: 3000/4738 (63.3%), ETA: 19m:14s\n"
     ]
    },
    {
     "name": "stderr",
     "output_type": "stream",
     "text": [
      "/home/chris/miniconda2/envs/pytorch4/lib/python3.6/site-packages/PIL/TiffImagePlugin.py:739: UserWarning: Possibly corrupt EXIF data.  Expecting to read 2555904 bytes but only got 0. Skipping tag 0\n",
      "  \" Skipping tag %s\" % (size, len(data), tag))\n"
     ]
    },
    {
     "name": "stdout",
     "output_type": "stream",
     "text": [
      "Batches processed: 3200/4738 (67.5%), ETA: 17m:01s\n",
      "Batches processed: 3400/4738 (71.8%), ETA: 14m:48s\n",
      "Batches processed: 3600/4738 (76.0%), ETA: 12m:32s\n",
      "Batches processed: 3800/4738 (80.2%), ETA: 10m:19s\n",
      "Batches processed: 4000/4738 (84.4%), ETA: 08m:07s\n",
      "Batches processed: 4200/4738 (88.6%), ETA: 05m:55s\n",
      "Batches processed: 4400/4738 (92.9%), ETA: 03m:43s\n",
      "Batches processed: 4600/4738 (97.1%), ETA: 01m:31s\n",
      "Batches processed: 4738/4738 (100.0%), ETA: 0s\n",
      "Save mean arithmetic means to results/real/imagenet-full/2793/mean_arithmetic_means.csv\n",
      "Epoch: 7, Train loss: 35.48, mean arithmetic mean: 0.9921083450\n",
      "Save affinities to results/real/imagenet-full/2793/affinities/7.npy\n",
      "Epoch: 8 , mean arithmetic means: [0.9375779032707214, 0.9732041358947754, 0.9832634925842285, 0.988144040107727, 0.9905615448951721, 0.9915921688079834, 0.9921083450317383]\n",
      "Batches processed: 200/4727 (4.2%), ETA: 54m:33s, Loss: 0.004470\n",
      "Batches processed: 400/4727 (8.5%), ETA: 51m:51s, Loss: 0.004217\n",
      "Batches processed: 600/4727 (12.7%), ETA: 48m:52s, Loss: 0.005061\n",
      "Batches processed: 800/4727 (16.9%), ETA: 46m:36s, Loss: 0.004092\n",
      "Batches processed: 1000/4727 (21.2%), ETA: 43m:36s, Loss: 0.006524\n"
     ]
    },
    {
     "name": "stderr",
     "output_type": "stream",
     "text": [
      "/home/chris/miniconda2/envs/pytorch4/lib/python3.6/site-packages/PIL/TiffImagePlugin.py:739: UserWarning: Possibly corrupt EXIF data.  Expecting to read 1835008 bytes but only got 0. Skipping tag 0\n",
      "  \" Skipping tag %s\" % (size, len(data), tag))\n"
     ]
    },
    {
     "name": "stdout",
     "output_type": "stream",
     "text": [
      "Batches processed: 1200/4727 (25.4%), ETA: 40m:58s, Loss: 0.006972\n",
      "Batches processed: 1400/4727 (29.6%), ETA: 38m:18s, Loss: 0.006531\n",
      "Batches processed: 1600/4727 (33.8%), ETA: 35m:48s, Loss: 0.005331\n",
      "Batches processed: 1800/4727 (38.1%), ETA: 33m:21s, Loss: 0.006297\n",
      "Batches processed: 2000/4727 (42.3%), ETA: 30m:57s, Loss: 0.006377\n",
      "Batches processed: 2200/4727 (46.5%), ETA: 28m:35s, Loss: 0.004806\n",
      "Batches processed: 2400/4727 (50.8%), ETA: 26m:14s, Loss: 0.006480\n",
      "Batches processed: 2600/4727 (55.0%), ETA: 23m:56s, Loss: 0.006562\n",
      "Batches processed: 2800/4727 (59.2%), ETA: 21m:39s, Loss: 0.008903\n",
      "Batches processed: 3000/4727 (63.5%), ETA: 19m:23s, Loss: 0.005153\n",
      "Batches processed: 3200/4727 (67.7%), ETA: 17m:07s, Loss: 0.006542\n",
      "Batches processed: 3400/4727 (71.9%), ETA: 14m:51s, Loss: 0.005436\n"
     ]
    },
    {
     "name": "stderr",
     "output_type": "stream",
     "text": [
      "/home/chris/miniconda2/envs/pytorch4/lib/python3.6/site-packages/PIL/TiffImagePlugin.py:739: UserWarning: Possibly corrupt EXIF data.  Expecting to read 2555904 bytes but only got 0. Skipping tag 0\n",
      "  \" Skipping tag %s\" % (size, len(data), tag))\n"
     ]
    },
    {
     "name": "stdout",
     "output_type": "stream",
     "text": [
      "Batches processed: 3600/4727 (76.2%), ETA: 12m:36s, Loss: 0.006680\n",
      "Batches processed: 3800/4727 (80.4%), ETA: 10m:21s, Loss: 0.008090\n",
      "Batches processed: 4000/4727 (84.6%), ETA: 08m:07s, Loss: 0.003893\n"
     ]
    },
    {
     "name": "stderr",
     "output_type": "stream",
     "text": [
      "/home/chris/miniconda2/envs/pytorch4/lib/python3.6/site-packages/PIL/TiffImagePlugin.py:756: UserWarning: Corrupt EXIF data.  Expecting to read 4 bytes but only got 0. \n",
      "  warnings.warn(str(msg))\n"
     ]
    },
    {
     "name": "stdout",
     "output_type": "stream",
     "text": [
      "Batches processed: 4200/4727 (88.9%), ETA: 05m:53s, Loss: 0.005975\n"
     ]
    },
    {
     "name": "stderr",
     "output_type": "stream",
     "text": [
      "/home/chris/miniconda2/envs/pytorch4/lib/python3.6/site-packages/PIL/TiffImagePlugin.py:739: UserWarning: Possibly corrupt EXIF data.  Expecting to read 19660800 bytes but only got 0. Skipping tag 0\n",
      "  \" Skipping tag %s\" % (size, len(data), tag))\n",
      "/home/chris/miniconda2/envs/pytorch4/lib/python3.6/site-packages/PIL/TiffImagePlugin.py:739: UserWarning: Possibly corrupt EXIF data.  Expecting to read 18481152 bytes but only got 0. Skipping tag 0\n",
      "  \" Skipping tag %s\" % (size, len(data), tag))\n",
      "/home/chris/miniconda2/envs/pytorch4/lib/python3.6/site-packages/PIL/TiffImagePlugin.py:739: UserWarning: Possibly corrupt EXIF data.  Expecting to read 37093376 bytes but only got 0. Skipping tag 0\n",
      "  \" Skipping tag %s\" % (size, len(data), tag))\n",
      "/home/chris/miniconda2/envs/pytorch4/lib/python3.6/site-packages/PIL/TiffImagePlugin.py:739: UserWarning: Possibly corrupt EXIF data.  Expecting to read 39976960 bytes but only got 0. Skipping tag 0\n",
      "  \" Skipping tag %s\" % (size, len(data), tag))\n",
      "/home/chris/miniconda2/envs/pytorch4/lib/python3.6/site-packages/PIL/TiffImagePlugin.py:739: UserWarning: Possibly corrupt EXIF data.  Expecting to read 34865152 bytes but only got 0. Skipping tag 0\n",
      "  \" Skipping tag %s\" % (size, len(data), tag))\n",
      "/home/chris/miniconda2/envs/pytorch4/lib/python3.6/site-packages/PIL/TiffImagePlugin.py:756: UserWarning: Corrupt EXIF data.  Expecting to read 12 bytes but only got 10. \n",
      "  warnings.warn(str(msg))\n",
      "/home/chris/miniconda2/envs/pytorch4/lib/python3.6/site-packages/PIL/TiffImagePlugin.py:739: UserWarning: Possibly corrupt EXIF data.  Expecting to read 2555904 bytes but only got 0. Skipping tag 0\n",
      "  \" Skipping tag %s\" % (size, len(data), tag))\n"
     ]
    },
    {
     "name": "stdout",
     "output_type": "stream",
     "text": [
      "Batches processed: 4400/4727 (93.1%), ETA: 03m:39s, Loss: 0.006538\n",
      "Batches processed: 4600/4727 (97.3%), ETA: 01m:25s, Loss: 0.005285\n",
      "Batches processed: 4727/4727 (100.0%), ETA: 0s, Loss: 0.004569\n",
      "Save model and optimizer state to results/real/imagenet-full/2793/checkpoints/8.pth.tar\n",
      "Batches processed: 200/4738 (4.2%), ETA: 46m:09s\n",
      "Batches processed: 400/4738 (8.4%), ETA: 43m:52s\n"
     ]
    },
    {
     "name": "stderr",
     "output_type": "stream",
     "text": [
      "/home/chris/miniconda2/envs/pytorch4/lib/python3.6/site-packages/PIL/TiffImagePlugin.py:739: UserWarning: Possibly corrupt EXIF data.  Expecting to read 2555904 bytes but only got 0. Skipping tag 0\n",
      "  \" Skipping tag %s\" % (size, len(data), tag))\n"
     ]
    },
    {
     "name": "stdout",
     "output_type": "stream",
     "text": [
      "Batches processed: 600/4738 (12.7%), ETA: 41m:51s\n",
      "Batches processed: 800/4738 (16.9%), ETA: 39m:15s\n",
      "Batches processed: 1000/4738 (21.1%), ETA: 37m:06s\n",
      "Batches processed: 1200/4738 (25.3%), ETA: 35m:08s\n",
      "Batches processed: 1400/4738 (29.5%), ETA: 33m:13s\n",
      "Batches processed: 1600/4738 (33.8%), ETA: 31m:12s\n",
      "Batches processed: 1800/4738 (38.0%), ETA: 29m:18s\n",
      "Batches processed: 2000/4738 (42.2%), ETA: 27m:17s\n",
      "Batches processed: 2200/4738 (46.4%), ETA: 25m:19s\n",
      "Batches processed: 2400/4738 (50.7%), ETA: 23m:21s\n",
      "Batches processed: 2600/4738 (54.9%), ETA: 21m:24s\n",
      "Batches processed: 2800/4738 (59.1%), ETA: 19m:24s\n",
      "Batches processed: 3000/4738 (63.3%), ETA: 17m:25s\n"
     ]
    },
    {
     "name": "stderr",
     "output_type": "stream",
     "text": [
      "/home/chris/miniconda2/envs/pytorch4/lib/python3.6/site-packages/PIL/TiffImagePlugin.py:739: UserWarning: Possibly corrupt EXIF data.  Expecting to read 2555904 bytes but only got 0. Skipping tag 0\n",
      "  \" Skipping tag %s\" % (size, len(data), tag))\n"
     ]
    },
    {
     "name": "stdout",
     "output_type": "stream",
     "text": [
      "Batches processed: 3200/4738 (67.5%), ETA: 15m:23s\n",
      "Batches processed: 3400/4738 (71.8%), ETA: 13m:24s\n",
      "Batches processed: 3600/4738 (76.0%), ETA: 11m:23s\n",
      "Batches processed: 3800/4738 (80.2%), ETA: 09m:23s\n",
      "Batches processed: 4000/4738 (84.4%), ETA: 07m:22s\n",
      "Batches processed: 4200/4738 (88.6%), ETA: 05m:22s\n",
      "Batches processed: 4400/4738 (92.9%), ETA: 03m:22s\n",
      "Batches processed: 4600/4738 (97.1%), ETA: 01m:23s\n",
      "Batches processed: 4738/4738 (100.0%), ETA: 0s\n",
      "Save mean arithmetic means to results/real/imagenet-full/2793/mean_arithmetic_means.csv\n",
      "Epoch: 8, Train loss: 26.01, mean arithmetic mean: 0.9885675907\n",
      "Save affinities to results/real/imagenet-full/2793/affinities/8.npy\n",
      "Early stopping. Load previous affinities from results/real/imagenet-full/2793/affinities/7.npy\n",
      "Merging from 2793 clusters to 1000 clusters.\n",
      "Save train-test split to results/real/imagenet-full/1000/current_clustering.npy\n",
      "Save mean arithmetic means to results/real/imagenet-full/1000/mean_arithmetic_means.csv\n"
     ]
    }
   ],
   "source": [
    "run_experiment(hp)"
   ]
  }
 ],
 "metadata": {
  "kernelspec": {
   "display_name": "Python (pytorch1.0)",
   "language": "python",
   "name": "pytorch1.0"
  },
  "language_info": {
   "codemirror_mode": {
    "name": "ipython",
    "version": 3
   },
   "file_extension": ".py",
   "mimetype": "text/x-python",
   "name": "python",
   "nbconvert_exporter": "python",
   "pygments_lexer": "ipython3",
   "version": "3.6.8"
  }
 },
 "nbformat": 4,
 "nbformat_minor": 2
}
