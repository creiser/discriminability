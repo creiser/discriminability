{
 "cells": [
  {
   "cell_type": "code",
   "execution_count": 1,
   "metadata": {
    "collapsed": true,
    "deletable": true,
    "editable": true,
    "scrolled": false
   },
   "outputs": [],
   "source": [
    "%load_ext autoreload\n",
    "%autoreload 2\n",
    "import torch\n",
    "from torchvision import datasets, transforms\n",
    "torch.manual_seed(42)\n",
    "import json\n",
    "import os\n",
    "import os.path\n",
    "from twosample import get_artifical_initial_clustering, utils\n",
    "from twosample.affinity import fast_twosample_train_test_split, fast_twosample_train, fast_twosample_test\n",
    "from twosample.architectures.resnet import resnet18\n",
    "import torch.optim as optim\n",
    "import numpy as np\n",
    "import gc"
   ]
  },
  {
   "cell_type": "code",
   "execution_count": 2,
   "metadata": {
    "collapsed": true,
    "deletable": true,
    "editable": true,
    "scrolled": false
   },
   "outputs": [],
   "source": [
    "hp = {}\n",
    "hp['dataset'] = 'imagenet-full'\n",
    "hp['initial_clustering'] = {}\n",
    "hp['epochs'] = 100\n",
    "hp['affinity'] = {}\n",
    "hp['affinity']['batch_size'] = 128 # 64\n",
    "hp['affinity']['train_ratio'] = 0.5\n",
    "hp['affinity']['log_interval'] = 200\n",
    "hp['device'] = torch.device('cuda')\n",
    "hp['learning_rate'] = 0.001\n",
    "hp['weight_decay'] = 0\n",
    "hp['sobel'] = False\n",
    "hp['augmentation'] = {}\n",
    "hp['augmentation'] = {'random_horizontal_flip': False,\n",
    "                      'random_resized_crop': False}"
   ]
  },
  {
   "cell_type": "code",
   "execution_count": 3,
   "metadata": {
    "collapsed": true,
    "deletable": true,
    "editable": true,
    "scrolled": true
   },
   "outputs": [],
   "source": [
    "def run_experiment(hp):\n",
    "    device = hp['device']\n",
    "    experiment_directory = 'results/largescale/{}/'.format(hp['variant'])\n",
    "    if hp['variant'] == 'artificial':\n",
    "        experiment_directory += '{}_{:.2f}/'.format(hp['initial_clustering']['minimum_initial_cluster_size'],\n",
    "                                                    hp['initial_clustering']['noise_ratio'])\n",
    "    experiment_directory += hp['dataset']\n",
    "    checkpoints_directory = experiment_directory + '/checkpoints'\n",
    "    affinities_directory = experiment_directory + '/affinities'\n",
    "    utils.create_directory_if_not_exists(experiment_directory)\n",
    "    utils.create_directory_if_not_exists(checkpoints_directory)\n",
    "    utils.create_directory_if_not_exists(affinities_directory)\n",
    "    \n",
    "    print('Running experiment with hyperparameters:\\n{}'.format(hp))\n",
    "    result = {}\n",
    "    normalize = transforms.Normalize(mean=[0.485, 0.456, 0.406],\n",
    "                                     std=[0.229, 0.224, 0.225])\n",
    "    transform_chain_train = []\n",
    "    if hp['augmentation']['random_resized_crop']:\n",
    "        transform_chain_train += [transforms.RandomResizedCrop(224)]\n",
    "    else:\n",
    "        transform_chain_train += [transforms.Resize(256), transforms.CenterCrop(224)]\n",
    "    if hp['augmentation']['random_horizontal_flip']:\n",
    "        transform_chain_train += [transforms.RandomHorizontalFlip()]\n",
    "    transform_chain_train =  transforms.Compose(transform_chain_train + [transforms.ToTensor(), normalize])\n",
    "    transform_chain_test =  transforms.Compose([transforms.Resize(256),\n",
    "                                                transforms.CenterCrop(224),\n",
    "                                                transforms.ToTensor(),\n",
    "                                                normalize])\n",
    "    dataset = datasets.ImageFolder('./datasets/' + hp['dataset'])\n",
    "    \n",
    "    # Check if there is already a train-test split for this dataset\n",
    "    initial_clustering_filename = experiment_directory + '/initial_clustering.npy'\n",
    "    if os.path.isfile(initial_clustering_filename):\n",
    "        # Load previous split from file.\n",
    "        print('Load initial clustering from', initial_clustering_filename)\n",
    "        sample_indices_train, sample_indices_test = np.load(initial_clustering_filename).tolist()\n",
    "    else:\n",
    "        # If not create a new one save it to file.\n",
    "        if hp['variant'] == 'artificial':\n",
    "            initial_clustering = get_artifical_initial_clustering(hp, dataset)\n",
    "        elif hp['variant'] == 'deepcluster10k':\n",
    "            initial_clustering_raw_filename = experiment_directory + '/initial_clustering_raw.npy'\n",
    "            print('Load raw initial clustering from', initial_clustering_raw_filename)\n",
    "            initial_clustering = np.load(initial_clustering_raw_filename).tolist()\n",
    "        sample_indices_train, sample_indices_test = fast_twosample_train_test_split(initial_clustering, hp)\n",
    "        print('Save initial clustering to', initial_clustering_filename)\n",
    "        np.save(initial_clustering_filename, [sample_indices_train, sample_indices_test])\n",
    "    print('#Clusters:', len(sample_indices_train))\n",
    "\n",
    "    model = resnet18(num_classes=len(sample_indices_train), sobel=hp['sobel'])\n",
    "    model = model.to(device)\n",
    "    optimizer = optim.Adam(filter(lambda x: x.requires_grad, model.parameters()),\n",
    "                           weight_decay=hp['weight_decay'])\n",
    "    loaded_epoch = 0\n",
    "    \n",
    "    # Check if their is a model checkpoint that can be loaded\n",
    "    checkpoint_epochs = [int(checkpoint_filename.split('.')[0])\n",
    "                         for checkpoint_filename in os.listdir(checkpoints_directory)]\n",
    "    if len(checkpoint_epochs) > 0:\n",
    "        loaded_epoch = max(checkpoint_epochs)\n",
    "        checkpoint_filename = checkpoints_directory + '/{}.pth.tar'.format(loaded_epoch)\n",
    "        print('Load model and optimizer state from', checkpoint_filename)\n",
    "        checkpoint = torch.load(checkpoint_filename)\n",
    "        model.load_state_dict(checkpoint['model'])\n",
    "        optimizer.load_state_dict(checkpoint['optimizer'])\n",
    "    \n",
    "    optimizer.lr = hp['learning_rate']\n",
    "    \n",
    "    for epoch in range(loaded_epoch + 1, hp['epochs'] + 1):\n",
    "        print('Epoch:', epoch)\n",
    "        dataset.transform = transform_chain_train\n",
    "        train_loss = fast_twosample_train(sample_indices_train, dataset, hp, model, optimizer)\n",
    "        \n",
    "        checkpoint_filename = checkpoints_directory + '/{}.pth.tar'.format(epoch)\n",
    "        print('Save model and optimizer state to', checkpoint_filename)\n",
    "        torch.save({'model': model.state_dict(),\n",
    "                    'optimizer' : optimizer.state_dict()},\n",
    "                   checkpoint_filename)\n",
    "        \n",
    "        dataset.transform = transform_chain_test\n",
    "        arithmetic_means = fast_twosample_test(sample_indices_test, dataset, hp, model)\n",
    "        # Set diagonal to 0 for mean calculation\n",
    "        diagonal_indices = torch.arange(len(arithmetic_means), dtype=torch.long).to(device)\n",
    "        arithmetic_means[diagonal_indices, diagonal_indices] = 0.\n",
    "        print('Epoch: {}, Train loss: {:.2f}, mean arithmetic mean: {:.5f}'.format(epoch, train_loss, arithmetic_means.mean().item()))\n",
    "        \n",
    "        # Set diagonal to 1\n",
    "        arithmetic_means[diagonal_indices, diagonal_indices] = 1.\n",
    "        \n",
    "        affinities_filename = affinities_directory + '/{}.npy'.format(epoch)\n",
    "        print('Save affinities to', affinities_filename)\n",
    "        np.save(affinities_filename, arithmetic_means.cpu().numpy())\n",
    "        \n",
    "        # Cleanup\n",
    "        del arithmetic_means\n",
    "        gc.collect()\n",
    "        torch.cuda.empty_cache()\n",
    "    \n",
    "    # Cleanup\n",
    "    del model\n",
    "    gc.collect()\n",
    "    torch.cuda.empty_cache()"
   ]
  },
  {
   "cell_type": "code",
   "execution_count": 4,
   "metadata": {
    "collapsed": false,
    "deletable": true,
    "editable": true,
    "scrolled": true
   },
   "outputs": [
    {
     "name": "stdout",
     "output_type": "stream",
     "text": [
      "Running experiment with hyperparameters:\n",
      "{'dataset': 'imagenet-full', 'initial_clustering': {'minimum_initial_cluster_size': 50, 'noise_ratio': 0}, 'epochs': 15, 'affinity': {'batch_size': 128, 'train_ratio': 0.5, 'log_interval': 200}, 'device': device(type='cuda'), 'learning_rate': 0.001, 'weight_decay': 0, 'sobel': False, 'augmentation': {'random_horizontal_flip': False, 'random_resized_crop': False}, 'variant': 'artificial'}\n",
      "Load initial clustering from results/largescale/artificial/50_0.00/imagenet-full/initial_clustering.npy\n",
      "#Clusters: 25577\n",
      "Load model and optimizer state from results/largescale/artificial/50_0.00/imagenet-full/checkpoints/15.pth.tar\n",
      "Running experiment with hyperparameters:\n",
      "{'dataset': 'imagenet-full', 'initial_clustering': {'minimum_initial_cluster_size': 125, 'noise_ratio': 0}, 'epochs': 15, 'affinity': {'batch_size': 128, 'train_ratio': 0.5, 'log_interval': 200}, 'device': device(type='cuda'), 'learning_rate': 0.001, 'weight_decay': 0, 'sobel': False, 'augmentation': {'random_horizontal_flip': False, 'random_resized_crop': False}, 'variant': 'artificial'}\n",
      "Load initial clustering from results/largescale/artificial/125_0.00/imagenet-full/initial_clustering.npy\n",
      "#Clusters: 9847\n",
      "Load model and optimizer state from results/largescale/artificial/125_0.00/imagenet-full/checkpoints/15.pth.tar\n",
      "Running experiment with hyperparameters:\n",
      "{'dataset': 'imagenet-full', 'initial_clustering': {'minimum_initial_cluster_size': 200, 'noise_ratio': 0}, 'epochs': 15, 'affinity': {'batch_size': 128, 'train_ratio': 0.5, 'log_interval': 200}, 'device': device(type='cuda'), 'learning_rate': 0.001, 'weight_decay': 0, 'sobel': False, 'augmentation': {'random_horizontal_flip': False, 'random_resized_crop': False}, 'variant': 'artificial'}\n",
      "Load initial clustering from results/largescale/artificial/200_0.00/imagenet-full/initial_clustering.npy\n",
      "#Clusters: 5905\n",
      "Load model and optimizer state from results/largescale/artificial/200_0.00/imagenet-full/checkpoints/15.pth.tar\n",
      "Running experiment with hyperparameters:\n",
      "{'dataset': 'imagenet-full', 'initial_clustering': {'minimum_initial_cluster_size': 50, 'noise_ratio': 0.1}, 'epochs': 15, 'affinity': {'batch_size': 128, 'train_ratio': 0.5, 'log_interval': 200}, 'device': device(type='cuda'), 'learning_rate': 0.001, 'weight_decay': 0, 'sobel': False, 'augmentation': {'random_horizontal_flip': False, 'random_resized_crop': False}, 'variant': 'artificial'}\n",
      "Load initial clustering from results/largescale/artificial/50_0.10/imagenet-full/initial_clustering.npy\n",
      "#Clusters: 25577\n",
      "Load model and optimizer state from results/largescale/artificial/50_0.10/imagenet-full/checkpoints/15.pth.tar\n",
      "Running experiment with hyperparameters:\n",
      "{'dataset': 'imagenet-full', 'initial_clustering': {'minimum_initial_cluster_size': 125, 'noise_ratio': 0.1}, 'epochs': 15, 'affinity': {'batch_size': 128, 'train_ratio': 0.5, 'log_interval': 200}, 'device': device(type='cuda'), 'learning_rate': 0.001, 'weight_decay': 0, 'sobel': False, 'augmentation': {'random_horizontal_flip': False, 'random_resized_crop': False}, 'variant': 'artificial'}\n",
      "Load initial clustering from results/largescale/artificial/125_0.10/imagenet-full/initial_clustering.npy\n",
      "#Clusters: 9847\n",
      "Load model and optimizer state from results/largescale/artificial/125_0.10/imagenet-full/checkpoints/15.pth.tar\n",
      "Running experiment with hyperparameters:\n",
      "{'dataset': 'imagenet-full', 'initial_clustering': {'minimum_initial_cluster_size': 200, 'noise_ratio': 0.1}, 'epochs': 15, 'affinity': {'batch_size': 128, 'train_ratio': 0.5, 'log_interval': 200}, 'device': device(type='cuda'), 'learning_rate': 0.001, 'weight_decay': 0, 'sobel': False, 'augmentation': {'random_horizontal_flip': False, 'random_resized_crop': False}, 'variant': 'artificial'}\n",
      "Load initial clustering from results/largescale/artificial/200_0.10/imagenet-full/initial_clustering.npy\n",
      "#Clusters: 5905\n",
      "Load model and optimizer state from results/largescale/artificial/200_0.10/imagenet-full/checkpoints/15.pth.tar\n",
      "Running experiment with hyperparameters:\n",
      "{'dataset': 'imagenet-full', 'initial_clustering': {'minimum_initial_cluster_size': 50, 'noise_ratio': 0.3}, 'epochs': 15, 'affinity': {'batch_size': 128, 'train_ratio': 0.5, 'log_interval': 200}, 'device': device(type='cuda'), 'learning_rate': 0.001, 'weight_decay': 0, 'sobel': False, 'augmentation': {'random_horizontal_flip': False, 'random_resized_crop': False}, 'variant': 'artificial'}\n",
      "Load initial clustering from results/largescale/artificial/50_0.30/imagenet-full/initial_clustering.npy\n",
      "#Clusters: 25577\n",
      "Load model and optimizer state from results/largescale/artificial/50_0.30/imagenet-full/checkpoints/15.pth.tar\n",
      "Running experiment with hyperparameters:\n",
      "{'dataset': 'imagenet-full', 'initial_clustering': {'minimum_initial_cluster_size': 125, 'noise_ratio': 0.3}, 'epochs': 15, 'affinity': {'batch_size': 128, 'train_ratio': 0.5, 'log_interval': 200}, 'device': device(type='cuda'), 'learning_rate': 0.001, 'weight_decay': 0, 'sobel': False, 'augmentation': {'random_horizontal_flip': False, 'random_resized_crop': False}, 'variant': 'artificial'}\n",
      "Load initial clustering from results/largescale/artificial/125_0.30/imagenet-full/initial_clustering.npy\n",
      "#Clusters: 9847\n",
      "Load model and optimizer state from results/largescale/artificial/125_0.30/imagenet-full/checkpoints/4.pth.tar\n",
      "Epoch: 5\n",
      "Batches processed: 200/4986 (4.0%), ETA: 51m:34s, Loss: 0.449297\n",
      "Batches processed: 400/4986 (8.0%), ETA: 53m:28s, Loss: 0.512799\n",
      "Batches processed: 600/4986 (12.0%), ETA: 53m:44s, Loss: 0.436542\n"
     ]
    },
    {
     "name": "stderr",
     "output_type": "stream",
     "text": [
      "/home/chris/miniconda2/envs/pytorch4/lib/python3.6/site-packages/PIL/TiffImagePlugin.py:739: UserWarning: Possibly corrupt EXIF data.  Expecting to read 1835008 bytes but only got 0. Skipping tag 0\n",
      "  \" Skipping tag %s\" % (size, len(data), tag))\n"
     ]
    },
    {
     "name": "stdout",
     "output_type": "stream",
     "text": [
      "Batches processed: 800/4986 (16.0%), ETA: 52m:10s, Loss: 0.422565\n",
      "Batches processed: 1000/4986 (20.1%), ETA: 50m:51s, Loss: 0.430738\n",
      "Batches processed: 1200/4986 (24.1%), ETA: 48m:22s, Loss: 0.442343\n",
      "Batches processed: 1400/4986 (28.1%), ETA: 46m:08s, Loss: 0.465960\n"
     ]
    },
    {
     "name": "stderr",
     "output_type": "stream",
     "text": [
      "/home/chris/miniconda2/envs/pytorch4/lib/python3.6/site-packages/PIL/TiffImagePlugin.py:739: UserWarning: Possibly corrupt EXIF data.  Expecting to read 2555904 bytes but only got 0. Skipping tag 0\n",
      "  \" Skipping tag %s\" % (size, len(data), tag))\n"
     ]
    },
    {
     "name": "stdout",
     "output_type": "stream",
     "text": [
      "Batches processed: 1600/4986 (32.1%), ETA: 43m:35s, Loss: 0.473897\n",
      "Batches processed: 1800/4986 (36.1%), ETA: 41m:23s, Loss: 0.522161\n",
      "Batches processed: 2000/4986 (40.1%), ETA: 38m:51s, Loss: 0.455657\n",
      "Batches processed: 2200/4986 (44.1%), ETA: 36m:14s, Loss: 0.436924\n",
      "Batches processed: 2400/4986 (48.1%), ETA: 33m:41s, Loss: 0.448150\n",
      "Batches processed: 2600/4986 (52.1%), ETA: 31m:15s, Loss: 0.446584\n",
      "Batches processed: 2800/4986 (56.2%), ETA: 28m:36s, Loss: 0.456083\n",
      "Batches processed: 3000/4986 (60.2%), ETA: 26m:03s, Loss: 0.482857\n",
      "Batches processed: 3200/4986 (64.2%), ETA: 23m:24s, Loss: 0.446037\n",
      "Batches processed: 3400/4986 (68.2%), ETA: 20m:50s, Loss: 0.495553\n",
      "Batches processed: 3600/4986 (72.2%), ETA: 18m:14s, Loss: 0.535981\n",
      "Batches processed: 3800/4986 (76.2%), ETA: 15m:38s, Loss: 0.485873\n",
      "Batches processed: 4000/4986 (80.2%), ETA: 13m:02s, Loss: 0.443628\n",
      "Batches processed: 4200/4986 (84.2%), ETA: 10m:23s, Loss: 0.421817\n",
      "Batches processed: 4400/4986 (88.2%), ETA: 07m:44s, Loss: 0.429163\n",
      "Batches processed: 4600/4986 (92.3%), ETA: 05m:07s, Loss: 0.400659\n",
      "Batches processed: 4800/4986 (96.3%), ETA: 02m:28s, Loss: 0.444615\n",
      "Batches processed: 4986/4986 (100.0%), ETA: 0s, Loss: 0.758115\n",
      "Save model and optimizer state to results/largescale/artificial/125_0.30/imagenet-full/checkpoints/5.pth.tar\n",
      "Batches processed: 200/5025 (4.0%), ETA: 1h:00m:13s\n",
      "Batches processed: 400/5025 (8.0%), ETA: 57m:15s\n"
     ]
    },
    {
     "name": "stderr",
     "output_type": "stream",
     "text": [
      "/home/chris/miniconda2/envs/pytorch4/lib/python3.6/site-packages/PIL/TiffImagePlugin.py:739: UserWarning: Possibly corrupt EXIF data.  Expecting to read 19660800 bytes but only got 0. Skipping tag 0\n",
      "  \" Skipping tag %s\" % (size, len(data), tag))\n",
      "/home/chris/miniconda2/envs/pytorch4/lib/python3.6/site-packages/PIL/TiffImagePlugin.py:739: UserWarning: Possibly corrupt EXIF data.  Expecting to read 18481152 bytes but only got 0. Skipping tag 0\n",
      "  \" Skipping tag %s\" % (size, len(data), tag))\n",
      "/home/chris/miniconda2/envs/pytorch4/lib/python3.6/site-packages/PIL/TiffImagePlugin.py:739: UserWarning: Possibly corrupt EXIF data.  Expecting to read 37093376 bytes but only got 0. Skipping tag 0\n",
      "  \" Skipping tag %s\" % (size, len(data), tag))\n",
      "/home/chris/miniconda2/envs/pytorch4/lib/python3.6/site-packages/PIL/TiffImagePlugin.py:739: UserWarning: Possibly corrupt EXIF data.  Expecting to read 39976960 bytes but only got 0. Skipping tag 0\n",
      "  \" Skipping tag %s\" % (size, len(data), tag))\n",
      "/home/chris/miniconda2/envs/pytorch4/lib/python3.6/site-packages/PIL/TiffImagePlugin.py:739: UserWarning: Possibly corrupt EXIF data.  Expecting to read 34865152 bytes but only got 0. Skipping tag 0\n",
      "  \" Skipping tag %s\" % (size, len(data), tag))\n",
      "/home/chris/miniconda2/envs/pytorch4/lib/python3.6/site-packages/PIL/TiffImagePlugin.py:756: UserWarning: Corrupt EXIF data.  Expecting to read 12 bytes but only got 10. \n",
      "  warnings.warn(str(msg))\n",
      "/home/chris/miniconda2/envs/pytorch4/lib/python3.6/site-packages/PIL/TiffImagePlugin.py:739: UserWarning: Possibly corrupt EXIF data.  Expecting to read 2555904 bytes but only got 0. Skipping tag 0\n",
      "  \" Skipping tag %s\" % (size, len(data), tag))\n"
     ]
    },
    {
     "name": "stdout",
     "output_type": "stream",
     "text": [
      "Batches processed: 600/5025 (11.9%), ETA: 53m:25s\n",
      "Batches processed: 800/5025 (15.9%), ETA: 49m:43s\n",
      "Batches processed: 1000/5025 (19.9%), ETA: 46m:50s\n",
      "Batches processed: 1200/5025 (23.9%), ETA: 43m:52s\n",
      "Batches processed: 1400/5025 (27.9%), ETA: 41m:20s\n"
     ]
    },
    {
     "name": "stderr",
     "output_type": "stream",
     "text": [
      "/home/chris/miniconda2/envs/pytorch4/lib/python3.6/site-packages/PIL/TiffImagePlugin.py:756: UserWarning: Corrupt EXIF data.  Expecting to read 4 bytes but only got 0. \n",
      "  warnings.warn(str(msg))\n"
     ]
    },
    {
     "name": "stdout",
     "output_type": "stream",
     "text": [
      "Batches processed: 1600/5025 (31.8%), ETA: 39m:01s\n"
     ]
    },
    {
     "name": "stderr",
     "output_type": "stream",
     "text": [
      "/home/chris/miniconda2/envs/pytorch4/lib/python3.6/site-packages/PIL/TiffImagePlugin.py:739: UserWarning: Possibly corrupt EXIF data.  Expecting to read 2555904 bytes but only got 0. Skipping tag 0\n",
      "  \" Skipping tag %s\" % (size, len(data), tag))\n"
     ]
    },
    {
     "name": "stdout",
     "output_type": "stream",
     "text": [
      "Batches processed: 1800/5025 (35.8%), ETA: 36m:42s\n",
      "Batches processed: 2000/5025 (39.8%), ETA: 34m:21s\n",
      "Batches processed: 2200/5025 (43.8%), ETA: 32m:11s\n",
      "Batches processed: 2400/5025 (47.8%), ETA: 29m:49s\n",
      "Batches processed: 2600/5025 (51.7%), ETA: 27m:30s\n",
      "Batches processed: 2800/5025 (55.7%), ETA: 25m:10s\n",
      "Batches processed: 3000/5025 (59.7%), ETA: 22m:54s\n",
      "Batches processed: 3200/5025 (63.7%), ETA: 20m:35s\n",
      "Batches processed: 3400/5025 (67.7%), ETA: 18m:18s\n",
      "Batches processed: 3600/5025 (71.6%), ETA: 16m:03s\n",
      "Batches processed: 3800/5025 (75.6%), ETA: 13m:47s\n",
      "Batches processed: 4000/5025 (79.6%), ETA: 11m:32s\n",
      "Batches processed: 4200/5025 (83.6%), ETA: 09m:16s\n",
      "Batches processed: 4400/5025 (87.6%), ETA: 07m:01s\n",
      "Batches processed: 4600/5025 (91.5%), ETA: 04m:46s\n",
      "Batches processed: 4800/5025 (95.5%), ETA: 02m:32s\n",
      "Batches processed: 5000/5025 (99.5%), ETA: 17s\n",
      "Batches processed: 5025/5025 (100.0%), ETA: 0s\n",
      "Epoch: 5, Train loss: 2257.67, mean arithmetic mean: 0.76538\n",
      "Save affinities to results/largescale/artificial/125_0.30/imagenet-full/affinities/5.npy\n",
      "Epoch: 6\n",
      "Batches processed: 200/4986 (4.0%), ETA: 1h:02m:44s, Loss: 0.405108\n",
      "Batches processed: 400/4986 (8.0%), ETA: 58m:47s, Loss: 0.447164\n",
      "Batches processed: 600/4986 (12.0%), ETA: 56m:50s, Loss: 0.405685\n",
      "Batches processed: 800/4986 (16.0%), ETA: 54m:04s, Loss: 0.389754\n"
     ]
    },
    {
     "name": "stderr",
     "output_type": "stream",
     "text": [
      "/home/chris/miniconda2/envs/pytorch4/lib/python3.6/site-packages/PIL/TiffImagePlugin.py:739: UserWarning: Possibly corrupt EXIF data.  Expecting to read 2555904 bytes but only got 0. Skipping tag 0\n",
      "  \" Skipping tag %s\" % (size, len(data), tag))\n"
     ]
    },
    {
     "name": "stdout",
     "output_type": "stream",
     "text": [
      "Batches processed: 1000/4986 (20.1%), ETA: 51m:46s, Loss: 0.374892\n",
      "Batches processed: 1200/4986 (24.1%), ETA: 49m:47s, Loss: 0.389802\n",
      "Batches processed: 1400/4986 (28.1%), ETA: 46m:54s, Loss: 0.359293\n",
      "Batches processed: 1600/4986 (32.1%), ETA: 44m:35s, Loss: 0.388128\n",
      "Batches processed: 1800/4986 (36.1%), ETA: 42m:06s, Loss: 0.443227\n",
      "Batches processed: 2000/4986 (40.1%), ETA: 39m:33s, Loss: 0.394880\n",
      "Batches processed: 2200/4986 (44.1%), ETA: 36m:55s, Loss: 0.447363\n",
      "Batches processed: 2400/4986 (48.1%), ETA: 34m:13s, Loss: 0.382682\n",
      "Batches processed: 2600/4986 (52.1%), ETA: 31m:36s, Loss: 0.393343\n",
      "Batches processed: 2800/4986 (56.2%), ETA: 29m:03s, Loss: 0.456343\n",
      "Batches processed: 3000/4986 (60.2%), ETA: 26m:21s, Loss: 0.435164\n",
      "Batches processed: 3200/4986 (64.2%), ETA: 23m:44s, Loss: 0.423035\n",
      "Batches processed: 3400/4986 (68.2%), ETA: 21m:06s, Loss: 0.423439\n",
      "Batches processed: 3600/4986 (72.2%), ETA: 18m:26s, Loss: 0.452363\n"
     ]
    },
    {
     "name": "stderr",
     "output_type": "stream",
     "text": [
      "/home/chris/miniconda2/envs/pytorch4/lib/python3.6/site-packages/PIL/TiffImagePlugin.py:739: UserWarning: Possibly corrupt EXIF data.  Expecting to read 1835008 bytes but only got 0. Skipping tag 0\n",
      "  \" Skipping tag %s\" % (size, len(data), tag))\n"
     ]
    },
    {
     "name": "stdout",
     "output_type": "stream",
     "text": [
      "Batches processed: 3800/4986 (76.2%), ETA: 15m:47s, Loss: 0.411907\n",
      "Batches processed: 4000/4986 (80.2%), ETA: 13m:11s, Loss: 0.422732\n",
      "Batches processed: 4200/4986 (84.2%), ETA: 10m:31s, Loss: 0.453034\n",
      "Batches processed: 4400/4986 (88.2%), ETA: 07m:49s, Loss: 0.392293\n",
      "Batches processed: 4600/4986 (92.3%), ETA: 05m:09s, Loss: 0.344522\n",
      "Batches processed: 4800/4986 (96.3%), ETA: 02m:29s, Loss: 0.398304\n",
      "Batches processed: 4986/4986 (100.0%), ETA: 0s, Loss: 0.762450\n",
      "Save model and optimizer state to results/largescale/artificial/125_0.30/imagenet-full/checkpoints/6.pth.tar\n",
      "Batches processed: 200/5025 (4.0%), ETA: 57m:09s\n",
      "Batches processed: 400/5025 (8.0%), ETA: 54m:42s\n"
     ]
    },
    {
     "name": "stderr",
     "output_type": "stream",
     "text": [
      "/home/chris/miniconda2/envs/pytorch4/lib/python3.6/site-packages/PIL/TiffImagePlugin.py:739: UserWarning: Possibly corrupt EXIF data.  Expecting to read 19660800 bytes but only got 0. Skipping tag 0\n",
      "  \" Skipping tag %s\" % (size, len(data), tag))\n",
      "/home/chris/miniconda2/envs/pytorch4/lib/python3.6/site-packages/PIL/TiffImagePlugin.py:739: UserWarning: Possibly corrupt EXIF data.  Expecting to read 18481152 bytes but only got 0. Skipping tag 0\n",
      "  \" Skipping tag %s\" % (size, len(data), tag))\n",
      "/home/chris/miniconda2/envs/pytorch4/lib/python3.6/site-packages/PIL/TiffImagePlugin.py:739: UserWarning: Possibly corrupt EXIF data.  Expecting to read 37093376 bytes but only got 0. Skipping tag 0\n",
      "  \" Skipping tag %s\" % (size, len(data), tag))\n",
      "/home/chris/miniconda2/envs/pytorch4/lib/python3.6/site-packages/PIL/TiffImagePlugin.py:739: UserWarning: Possibly corrupt EXIF data.  Expecting to read 39976960 bytes but only got 0. Skipping tag 0\n",
      "  \" Skipping tag %s\" % (size, len(data), tag))\n",
      "/home/chris/miniconda2/envs/pytorch4/lib/python3.6/site-packages/PIL/TiffImagePlugin.py:739: UserWarning: Possibly corrupt EXIF data.  Expecting to read 34865152 bytes but only got 0. Skipping tag 0\n",
      "  \" Skipping tag %s\" % (size, len(data), tag))\n",
      "/home/chris/miniconda2/envs/pytorch4/lib/python3.6/site-packages/PIL/TiffImagePlugin.py:756: UserWarning: Corrupt EXIF data.  Expecting to read 12 bytes but only got 10. \n",
      "  warnings.warn(str(msg))\n",
      "/home/chris/miniconda2/envs/pytorch4/lib/python3.6/site-packages/PIL/TiffImagePlugin.py:739: UserWarning: Possibly corrupt EXIF data.  Expecting to read 2555904 bytes but only got 0. Skipping tag 0\n",
      "  \" Skipping tag %s\" % (size, len(data), tag))\n"
     ]
    },
    {
     "name": "stdout",
     "output_type": "stream",
     "text": [
      "Batches processed: 600/5025 (11.9%), ETA: 51m:49s\n",
      "Batches processed: 800/5025 (15.9%), ETA: 49m:04s\n",
      "Batches processed: 1000/5025 (19.9%), ETA: 45m:43s\n",
      "Batches processed: 1200/5025 (23.9%), ETA: 42m:58s\n",
      "Batches processed: 1400/5025 (27.9%), ETA: 40m:35s\n"
     ]
    },
    {
     "name": "stderr",
     "output_type": "stream",
     "text": [
      "/home/chris/miniconda2/envs/pytorch4/lib/python3.6/site-packages/PIL/TiffImagePlugin.py:756: UserWarning: Corrupt EXIF data.  Expecting to read 4 bytes but only got 0. \n",
      "  warnings.warn(str(msg))\n"
     ]
    },
    {
     "name": "stdout",
     "output_type": "stream",
     "text": [
      "Batches processed: 1600/5025 (31.8%), ETA: 38m:31s\n"
     ]
    },
    {
     "name": "stderr",
     "output_type": "stream",
     "text": [
      "/home/chris/miniconda2/envs/pytorch4/lib/python3.6/site-packages/PIL/TiffImagePlugin.py:739: UserWarning: Possibly corrupt EXIF data.  Expecting to read 2555904 bytes but only got 0. Skipping tag 0\n",
      "  \" Skipping tag %s\" % (size, len(data), tag))\n"
     ]
    },
    {
     "name": "stdout",
     "output_type": "stream",
     "text": [
      "Batches processed: 1800/5025 (35.8%), ETA: 36m:05s\n",
      "Batches processed: 2000/5025 (39.8%), ETA: 33m:45s\n",
      "Batches processed: 2200/5025 (43.8%), ETA: 31m:35s\n",
      "Batches processed: 2400/5025 (47.8%), ETA: 29m:15s\n",
      "Batches processed: 2600/5025 (51.7%), ETA: 26m:59s\n",
      "Batches processed: 2800/5025 (55.7%), ETA: 24m:46s\n",
      "Batches processed: 3000/5025 (59.7%), ETA: 22m:29s\n",
      "Batches processed: 3200/5025 (63.7%), ETA: 20m:14s\n",
      "Batches processed: 3400/5025 (67.7%), ETA: 18m:01s\n",
      "Batches processed: 3600/5025 (71.6%), ETA: 15m:47s\n",
      "Batches processed: 3800/5025 (75.6%), ETA: 13m:32s\n",
      "Batches processed: 4000/5025 (79.6%), ETA: 11m:19s\n",
      "Batches processed: 4200/5025 (83.6%), ETA: 09m:06s\n",
      "Batches processed: 4400/5025 (87.6%), ETA: 06m:54s\n",
      "Batches processed: 4600/5025 (91.5%), ETA: 04m:41s\n",
      "Batches processed: 4800/5025 (95.5%), ETA: 02m:29s\n",
      "Batches processed: 5000/5025 (99.5%), ETA: 17s\n",
      "Batches processed: 5025/5025 (100.0%), ETA: 0s\n",
      "Epoch: 6, Train loss: 2008.32, mean arithmetic mean: 0.77122\n",
      "Save affinities to results/largescale/artificial/125_0.30/imagenet-full/affinities/6.npy\n",
      "Epoch: 7\n",
      "Batches processed: 200/4986 (4.0%), ETA: 1h:00m:10s, Loss: 0.355107\n",
      "Batches processed: 400/4986 (8.0%), ETA: 57m:20s, Loss: 0.350570\n",
      "Batches processed: 600/4986 (12.0%), ETA: 55m:23s, Loss: 0.345941\n",
      "Batches processed: 800/4986 (16.0%), ETA: 53m:57s, Loss: 0.357969\n",
      "Batches processed: 1000/4986 (20.1%), ETA: 51m:10s, Loss: 0.383392\n",
      "Batches processed: 1200/4986 (24.1%), ETA: 49m:00s, Loss: 0.363691\n",
      "Batches processed: 1400/4986 (28.1%), ETA: 46m:25s, Loss: 0.378702\n"
     ]
    },
    {
     "name": "stderr",
     "output_type": "stream",
     "text": [
      "/home/chris/miniconda2/envs/pytorch4/lib/python3.6/site-packages/PIL/TiffImagePlugin.py:739: UserWarning: Possibly corrupt EXIF data.  Expecting to read 2555904 bytes but only got 0. Skipping tag 0\n",
      "  \" Skipping tag %s\" % (size, len(data), tag))\n"
     ]
    },
    {
     "name": "stdout",
     "output_type": "stream",
     "text": [
      "Batches processed: 1600/4986 (32.1%), ETA: 43m:50s, Loss: 0.385703\n",
      "Batches processed: 1800/4986 (36.1%), ETA: 41m:28s, Loss: 0.288022\n",
      "Batches processed: 2000/4986 (40.1%), ETA: 38m:57s, Loss: 0.341630\n",
      "Batches processed: 2200/4986 (44.1%), ETA: 36m:22s, Loss: 0.270298\n",
      "Batches processed: 2400/4986 (48.1%), ETA: 33m:51s, Loss: 0.386643\n"
     ]
    },
    {
     "name": "stderr",
     "output_type": "stream",
     "text": [
      "/home/chris/miniconda2/envs/pytorch4/lib/python3.6/site-packages/PIL/TiffImagePlugin.py:739: UserWarning: Possibly corrupt EXIF data.  Expecting to read 1835008 bytes but only got 0. Skipping tag 0\n",
      "  \" Skipping tag %s\" % (size, len(data), tag))\n"
     ]
    },
    {
     "name": "stdout",
     "output_type": "stream",
     "text": [
      "Batches processed: 2600/4986 (52.1%), ETA: 31m:20s, Loss: 0.378175\n",
      "Batches processed: 2800/4986 (56.2%), ETA: 28m:42s, Loss: 0.310234\n",
      "Batches processed: 3000/4986 (60.2%), ETA: 26m:03s, Loss: 0.368164\n",
      "Batches processed: 3200/4986 (64.2%), ETA: 23m:27s, Loss: 0.344393\n",
      "Batches processed: 3400/4986 (68.2%), ETA: 20m:48s, Loss: 0.302135\n",
      "Batches processed: 3600/4986 (72.2%), ETA: 18m:13s, Loss: 0.455883\n",
      "Batches processed: 3800/4986 (76.2%), ETA: 15m:35s, Loss: 0.357711\n",
      "Batches processed: 4000/4986 (80.2%), ETA: 12m:57s, Loss: 0.329909\n",
      "Batches processed: 4200/4986 (84.2%), ETA: 10m:19s, Loss: 0.334067\n",
      "Batches processed: 4400/4986 (88.2%), ETA: 07m:42s, Loss: 0.375479\n",
      "Batches processed: 4600/4986 (92.3%), ETA: 05m:05s, Loss: 0.329987\n",
      "Batches processed: 4800/4986 (96.3%), ETA: 02m:27s, Loss: 0.410782\n",
      "Batches processed: 4986/4986 (100.0%), ETA: 0s, Loss: 0.772938\n",
      "Save model and optimizer state to results/largescale/artificial/125_0.30/imagenet-full/checkpoints/7.pth.tar\n",
      "Batches processed: 200/5025 (4.0%), ETA: 53m:47s\n",
      "Batches processed: 400/5025 (8.0%), ETA: 54m:15s\n"
     ]
    },
    {
     "name": "stderr",
     "output_type": "stream",
     "text": [
      "/home/chris/miniconda2/envs/pytorch4/lib/python3.6/site-packages/PIL/TiffImagePlugin.py:739: UserWarning: Possibly corrupt EXIF data.  Expecting to read 19660800 bytes but only got 0. Skipping tag 0\n",
      "  \" Skipping tag %s\" % (size, len(data), tag))\n",
      "/home/chris/miniconda2/envs/pytorch4/lib/python3.6/site-packages/PIL/TiffImagePlugin.py:739: UserWarning: Possibly corrupt EXIF data.  Expecting to read 18481152 bytes but only got 0. Skipping tag 0\n",
      "  \" Skipping tag %s\" % (size, len(data), tag))\n",
      "/home/chris/miniconda2/envs/pytorch4/lib/python3.6/site-packages/PIL/TiffImagePlugin.py:739: UserWarning: Possibly corrupt EXIF data.  Expecting to read 37093376 bytes but only got 0. Skipping tag 0\n",
      "  \" Skipping tag %s\" % (size, len(data), tag))\n",
      "/home/chris/miniconda2/envs/pytorch4/lib/python3.6/site-packages/PIL/TiffImagePlugin.py:739: UserWarning: Possibly corrupt EXIF data.  Expecting to read 39976960 bytes but only got 0. Skipping tag 0\n",
      "  \" Skipping tag %s\" % (size, len(data), tag))\n",
      "/home/chris/miniconda2/envs/pytorch4/lib/python3.6/site-packages/PIL/TiffImagePlugin.py:739: UserWarning: Possibly corrupt EXIF data.  Expecting to read 34865152 bytes but only got 0. Skipping tag 0\n",
      "  \" Skipping tag %s\" % (size, len(data), tag))\n",
      "/home/chris/miniconda2/envs/pytorch4/lib/python3.6/site-packages/PIL/TiffImagePlugin.py:756: UserWarning: Corrupt EXIF data.  Expecting to read 12 bytes but only got 10. \n",
      "  warnings.warn(str(msg))\n",
      "/home/chris/miniconda2/envs/pytorch4/lib/python3.6/site-packages/PIL/TiffImagePlugin.py:739: UserWarning: Possibly corrupt EXIF data.  Expecting to read 2555904 bytes but only got 0. Skipping tag 0\n",
      "  \" Skipping tag %s\" % (size, len(data), tag))\n"
     ]
    },
    {
     "name": "stdout",
     "output_type": "stream",
     "text": [
      "Batches processed: 600/5025 (11.9%), ETA: 51m:59s\n",
      "Batches processed: 800/5025 (15.9%), ETA: 49m:26s\n",
      "Batches processed: 1000/5025 (19.9%), ETA: 45m:27s\n",
      "Batches processed: 1200/5025 (23.9%), ETA: 42m:32s\n",
      "Batches processed: 1400/5025 (27.9%), ETA: 40m:14s\n"
     ]
    },
    {
     "name": "stderr",
     "output_type": "stream",
     "text": [
      "/home/chris/miniconda2/envs/pytorch4/lib/python3.6/site-packages/PIL/TiffImagePlugin.py:756: UserWarning: Corrupt EXIF data.  Expecting to read 4 bytes but only got 0. \n",
      "  warnings.warn(str(msg))\n"
     ]
    },
    {
     "name": "stdout",
     "output_type": "stream",
     "text": [
      "Batches processed: 1600/5025 (31.8%), ETA: 37m:55s\n"
     ]
    },
    {
     "name": "stderr",
     "output_type": "stream",
     "text": [
      "/home/chris/miniconda2/envs/pytorch4/lib/python3.6/site-packages/PIL/TiffImagePlugin.py:739: UserWarning: Possibly corrupt EXIF data.  Expecting to read 2555904 bytes but only got 0. Skipping tag 0\n",
      "  \" Skipping tag %s\" % (size, len(data), tag))\n"
     ]
    },
    {
     "name": "stdout",
     "output_type": "stream",
     "text": [
      "Batches processed: 1800/5025 (35.8%), ETA: 35m:35s\n",
      "Batches processed: 2000/5025 (39.8%), ETA: 33m:23s\n",
      "Batches processed: 2200/5025 (43.8%), ETA: 31m:06s\n",
      "Batches processed: 2400/5025 (47.8%), ETA: 28m:49s\n",
      "Batches processed: 2600/5025 (51.7%), ETA: 26m:38s\n",
      "Batches processed: 2800/5025 (55.7%), ETA: 24m:21s\n",
      "Batches processed: 3000/5025 (59.7%), ETA: 22m:13s\n",
      "Batches processed: 3200/5025 (63.7%), ETA: 19m:57s\n",
      "Batches processed: 3400/5025 (67.7%), ETA: 17m:46s\n",
      "Batches processed: 3600/5025 (71.6%), ETA: 15m:33s\n",
      "Batches processed: 3800/5025 (75.6%), ETA: 13m:20s\n",
      "Batches processed: 4000/5025 (79.6%), ETA: 11m:09s\n",
      "Batches processed: 4200/5025 (83.6%), ETA: 08m:58s\n",
      "Batches processed: 4400/5025 (87.6%), ETA: 06m:48s\n",
      "Batches processed: 4600/5025 (91.5%), ETA: 04m:37s\n",
      "Batches processed: 4800/5025 (95.5%), ETA: 02m:27s\n",
      "Batches processed: 5000/5025 (99.5%), ETA: 16s\n",
      "Batches processed: 5025/5025 (100.0%), ETA: 0s\n",
      "Epoch: 7, Train loss: 1767.98, mean arithmetic mean: 0.77034\n",
      "Save affinities to results/largescale/artificial/125_0.30/imagenet-full/affinities/7.npy\n",
      "Epoch: 8\n",
      "Batches processed: 200/4986 (4.0%), ETA: 58m:26s, Loss: 0.239244\n",
      "Batches processed: 400/4986 (8.0%), ETA: 58m:17s, Loss: 0.320551\n",
      "Batches processed: 600/4986 (12.0%), ETA: 55m:42s, Loss: 0.299415\n"
     ]
    },
    {
     "name": "stderr",
     "output_type": "stream",
     "text": [
      "/home/chris/miniconda2/envs/pytorch4/lib/python3.6/site-packages/PIL/TiffImagePlugin.py:739: UserWarning: Possibly corrupt EXIF data.  Expecting to read 1835008 bytes but only got 0. Skipping tag 0\n",
      "  \" Skipping tag %s\" % (size, len(data), tag))\n"
     ]
    },
    {
     "name": "stdout",
     "output_type": "stream",
     "text": [
      "Batches processed: 800/4986 (16.0%), ETA: 53m:45s, Loss: 0.309573\n",
      "Batches processed: 1000/4986 (20.1%), ETA: 51m:25s, Loss: 0.345664\n",
      "Batches processed: 1200/4986 (24.1%), ETA: 49m:04s, Loss: 0.347405\n",
      "Batches processed: 1400/4986 (28.1%), ETA: 46m:27s, Loss: 0.331360\n"
     ]
    },
    {
     "name": "stderr",
     "output_type": "stream",
     "text": [
      "/home/chris/miniconda2/envs/pytorch4/lib/python3.6/site-packages/PIL/TiffImagePlugin.py:739: UserWarning: Possibly corrupt EXIF data.  Expecting to read 2555904 bytes but only got 0. Skipping tag 0\n",
      "  \" Skipping tag %s\" % (size, len(data), tag))\n"
     ]
    },
    {
     "name": "stdout",
     "output_type": "stream",
     "text": [
      "Batches processed: 1600/4986 (32.1%), ETA: 44m:02s, Loss: 0.307407\n",
      "Batches processed: 1800/4986 (36.1%), ETA: 41m:34s, Loss: 0.268634\n",
      "Batches processed: 2000/4986 (40.1%), ETA: 39m:08s, Loss: 0.317983\n",
      "Batches processed: 2200/4986 (44.1%), ETA: 36m:34s, Loss: 0.281104\n",
      "Batches processed: 2400/4986 (48.1%), ETA: 33m:56s, Loss: 0.300139\n",
      "Batches processed: 2600/4986 (52.1%), ETA: 31m:20s, Loss: 0.296938\n",
      "Batches processed: 2800/4986 (56.2%), ETA: 28m:48s, Loss: 0.280572\n",
      "Batches processed: 3000/4986 (60.2%), ETA: 26m:07s, Loss: 0.316527\n",
      "Batches processed: 3200/4986 (64.2%), ETA: 23m:33s, Loss: 0.288915\n",
      "Batches processed: 3400/4986 (68.2%), ETA: 20m:58s, Loss: 0.331649\n",
      "Batches processed: 3600/4986 (72.2%), ETA: 18m:20s, Loss: 0.319008\n",
      "Batches processed: 3800/4986 (76.2%), ETA: 15m:41s, Loss: 0.286717\n",
      "Batches processed: 4000/4986 (80.2%), ETA: 13m:02s, Loss: 0.280119\n",
      "Batches processed: 4200/4986 (84.2%), ETA: 10m:23s, Loss: 0.302704\n",
      "Batches processed: 4400/4986 (88.2%), ETA: 07m:44s, Loss: 0.331611\n",
      "Batches processed: 4600/4986 (92.3%), ETA: 05m:05s, Loss: 0.323514\n",
      "Batches processed: 4800/4986 (96.3%), ETA: 02m:27s, Loss: 0.274267\n",
      "Batches processed: 4986/4986 (100.0%), ETA: 0s, Loss: 0.780552\n",
      "Save model and optimizer state to results/largescale/artificial/125_0.30/imagenet-full/checkpoints/8.pth.tar\n",
      "Batches processed: 200/5025 (4.0%), ETA: 53m:59s\n",
      "Batches processed: 400/5025 (8.0%), ETA: 54m:16s\n"
     ]
    },
    {
     "name": "stderr",
     "output_type": "stream",
     "text": [
      "/home/chris/miniconda2/envs/pytorch4/lib/python3.6/site-packages/PIL/TiffImagePlugin.py:739: UserWarning: Possibly corrupt EXIF data.  Expecting to read 19660800 bytes but only got 0. Skipping tag 0\n",
      "  \" Skipping tag %s\" % (size, len(data), tag))\n",
      "/home/chris/miniconda2/envs/pytorch4/lib/python3.6/site-packages/PIL/TiffImagePlugin.py:739: UserWarning: Possibly corrupt EXIF data.  Expecting to read 18481152 bytes but only got 0. Skipping tag 0\n",
      "  \" Skipping tag %s\" % (size, len(data), tag))\n",
      "/home/chris/miniconda2/envs/pytorch4/lib/python3.6/site-packages/PIL/TiffImagePlugin.py:739: UserWarning: Possibly corrupt EXIF data.  Expecting to read 37093376 bytes but only got 0. Skipping tag 0\n",
      "  \" Skipping tag %s\" % (size, len(data), tag))\n",
      "/home/chris/miniconda2/envs/pytorch4/lib/python3.6/site-packages/PIL/TiffImagePlugin.py:739: UserWarning: Possibly corrupt EXIF data.  Expecting to read 39976960 bytes but only got 0. Skipping tag 0\n",
      "  \" Skipping tag %s\" % (size, len(data), tag))\n",
      "/home/chris/miniconda2/envs/pytorch4/lib/python3.6/site-packages/PIL/TiffImagePlugin.py:739: UserWarning: Possibly corrupt EXIF data.  Expecting to read 34865152 bytes but only got 0. Skipping tag 0\n",
      "  \" Skipping tag %s\" % (size, len(data), tag))\n",
      "/home/chris/miniconda2/envs/pytorch4/lib/python3.6/site-packages/PIL/TiffImagePlugin.py:756: UserWarning: Corrupt EXIF data.  Expecting to read 12 bytes but only got 10. \n",
      "  warnings.warn(str(msg))\n",
      "/home/chris/miniconda2/envs/pytorch4/lib/python3.6/site-packages/PIL/TiffImagePlugin.py:739: UserWarning: Possibly corrupt EXIF data.  Expecting to read 2555904 bytes but only got 0. Skipping tag 0\n",
      "  \" Skipping tag %s\" % (size, len(data), tag))\n"
     ]
    },
    {
     "name": "stdout",
     "output_type": "stream",
     "text": [
      "Batches processed: 600/5025 (11.9%), ETA: 51m:26s\n",
      "Batches processed: 800/5025 (15.9%), ETA: 48m:19s\n",
      "Batches processed: 1000/5025 (19.9%), ETA: 45m:09s\n",
      "Batches processed: 1200/5025 (23.9%), ETA: 42m:26s\n",
      "Batches processed: 1400/5025 (27.9%), ETA: 39m:59s\n"
     ]
    },
    {
     "name": "stderr",
     "output_type": "stream",
     "text": [
      "/home/chris/miniconda2/envs/pytorch4/lib/python3.6/site-packages/PIL/TiffImagePlugin.py:756: UserWarning: Corrupt EXIF data.  Expecting to read 4 bytes but only got 0. \n",
      "  warnings.warn(str(msg))\n"
     ]
    },
    {
     "name": "stdout",
     "output_type": "stream",
     "text": [
      "Batches processed: 1600/5025 (31.8%), ETA: 37m:56s\n"
     ]
    },
    {
     "name": "stderr",
     "output_type": "stream",
     "text": [
      "/home/chris/miniconda2/envs/pytorch4/lib/python3.6/site-packages/PIL/TiffImagePlugin.py:739: UserWarning: Possibly corrupt EXIF data.  Expecting to read 2555904 bytes but only got 0. Skipping tag 0\n",
      "  \" Skipping tag %s\" % (size, len(data), tag))\n"
     ]
    },
    {
     "name": "stdout",
     "output_type": "stream",
     "text": [
      "Batches processed: 1800/5025 (35.8%), ETA: 35m:40s\n",
      "Batches processed: 2000/5025 (39.8%), ETA: 33m:28s\n",
      "Batches processed: 2200/5025 (43.8%), ETA: 31m:10s\n",
      "Batches processed: 2400/5025 (47.8%), ETA: 28m:55s\n",
      "Batches processed: 2600/5025 (51.7%), ETA: 26m:42s\n",
      "Batches processed: 2800/5025 (55.7%), ETA: 24m:31s\n",
      "Batches processed: 3000/5025 (59.7%), ETA: 22m:19s\n",
      "Batches processed: 3200/5025 (63.7%), ETA: 20m:03s\n",
      "Batches processed: 3400/5025 (67.7%), ETA: 17m:51s\n",
      "Batches processed: 3600/5025 (71.6%), ETA: 15m:38s\n",
      "Batches processed: 3800/5025 (75.6%), ETA: 13m:28s\n",
      "Batches processed: 4000/5025 (79.6%), ETA: 11m:16s\n",
      "Batches processed: 4200/5025 (83.6%), ETA: 09m:02s\n",
      "Batches processed: 4400/5025 (87.6%), ETA: 06m:51s\n",
      "Batches processed: 4600/5025 (91.5%), ETA: 04m:39s\n",
      "Batches processed: 4800/5025 (95.5%), ETA: 02m:28s\n",
      "Batches processed: 5000/5025 (99.5%), ETA: 16s\n",
      "Batches processed: 5025/5025 (100.0%), ETA: 0s\n",
      "Epoch: 8, Train loss: 1530.14, mean arithmetic mean: 0.76976\n",
      "Save affinities to results/largescale/artificial/125_0.30/imagenet-full/affinities/8.npy\n",
      "Epoch: 9\n",
      "Batches processed: 200/4986 (4.0%), ETA: 59m:23s, Loss: 0.254054\n",
      "Batches processed: 400/4986 (8.0%), ETA: 58m:48s, Loss: 0.218385\n",
      "Batches processed: 600/4986 (12.0%), ETA: 56m:23s, Loss: 0.248184\n",
      "Batches processed: 800/4986 (16.0%), ETA: 53m:50s, Loss: 0.264219\n",
      "Batches processed: 1000/4986 (20.1%), ETA: 51m:40s, Loss: 0.248059\n",
      "Batches processed: 1200/4986 (24.1%), ETA: 49m:02s, Loss: 0.236176\n",
      "Batches processed: 1400/4986 (28.1%), ETA: 46m:28s, Loss: 0.211629\n"
     ]
    },
    {
     "name": "stderr",
     "output_type": "stream",
     "text": [
      "/home/chris/miniconda2/envs/pytorch4/lib/python3.6/site-packages/PIL/TiffImagePlugin.py:739: UserWarning: Possibly corrupt EXIF data.  Expecting to read 1835008 bytes but only got 0. Skipping tag 0\n",
      "  \" Skipping tag %s\" % (size, len(data), tag))\n"
     ]
    },
    {
     "name": "stdout",
     "output_type": "stream",
     "text": [
      "Batches processed: 1600/4986 (32.1%), ETA: 43m:50s, Loss: 0.235978\n",
      "Batches processed: 1800/4986 (36.1%), ETA: 41m:31s, Loss: 0.242217\n",
      "Batches processed: 2000/4986 (40.1%), ETA: 38m:53s, Loss: 0.219868\n",
      "Batches processed: 2200/4986 (44.1%), ETA: 36m:19s, Loss: 0.260150\n",
      "Batches processed: 2400/4986 (48.1%), ETA: 33m:47s, Loss: 0.277214\n",
      "Batches processed: 2600/4986 (52.1%), ETA: 31m:15s, Loss: 0.256906\n",
      "Batches processed: 2800/4986 (56.2%), ETA: 28m:38s, Loss: 0.236934\n",
      "Batches processed: 3000/4986 (60.2%), ETA: 26m:04s, Loss: 0.249302\n",
      "Batches processed: 3200/4986 (64.2%), ETA: 23m:25s, Loss: 0.283759\n",
      "Batches processed: 3400/4986 (68.2%), ETA: 20m:50s, Loss: 0.338308\n",
      "Batches processed: 3600/4986 (72.2%), ETA: 18m:12s, Loss: 0.272204\n",
      "Batches processed: 3800/4986 (76.2%), ETA: 15m:35s, Loss: 0.255019\n",
      "Batches processed: 4000/4986 (80.2%), ETA: 12m:56s, Loss: 0.277507\n",
      "Batches processed: 4200/4986 (84.2%), ETA: 10m:21s, Loss: 0.268037\n",
      "Batches processed: 4400/4986 (88.2%), ETA: 07m:43s, Loss: 0.247821\n"
     ]
    },
    {
     "name": "stderr",
     "output_type": "stream",
     "text": [
      "/home/chris/miniconda2/envs/pytorch4/lib/python3.6/site-packages/PIL/TiffImagePlugin.py:739: UserWarning: Possibly corrupt EXIF data.  Expecting to read 2555904 bytes but only got 0. Skipping tag 0\n",
      "  \" Skipping tag %s\" % (size, len(data), tag))\n"
     ]
    },
    {
     "name": "stdout",
     "output_type": "stream",
     "text": [
      "Batches processed: 4600/4986 (92.3%), ETA: 05m:05s, Loss: 0.245910\n",
      "Batches processed: 4800/4986 (96.3%), ETA: 02m:27s, Loss: 0.246015\n",
      "Batches processed: 4986/4986 (100.0%), ETA: 0s, Loss: 0.194628\n",
      "Save model and optimizer state to results/largescale/artificial/125_0.30/imagenet-full/checkpoints/9.pth.tar\n",
      "Batches processed: 200/5025 (4.0%), ETA: 56m:25s\n",
      "Batches processed: 400/5025 (8.0%), ETA: 54m:39s\n"
     ]
    },
    {
     "name": "stderr",
     "output_type": "stream",
     "text": [
      "/home/chris/miniconda2/envs/pytorch4/lib/python3.6/site-packages/PIL/TiffImagePlugin.py:739: UserWarning: Possibly corrupt EXIF data.  Expecting to read 19660800 bytes but only got 0. Skipping tag 0\n",
      "  \" Skipping tag %s\" % (size, len(data), tag))\n",
      "/home/chris/miniconda2/envs/pytorch4/lib/python3.6/site-packages/PIL/TiffImagePlugin.py:739: UserWarning: Possibly corrupt EXIF data.  Expecting to read 18481152 bytes but only got 0. Skipping tag 0\n",
      "  \" Skipping tag %s\" % (size, len(data), tag))\n",
      "/home/chris/miniconda2/envs/pytorch4/lib/python3.6/site-packages/PIL/TiffImagePlugin.py:739: UserWarning: Possibly corrupt EXIF data.  Expecting to read 37093376 bytes but only got 0. Skipping tag 0\n",
      "  \" Skipping tag %s\" % (size, len(data), tag))\n",
      "/home/chris/miniconda2/envs/pytorch4/lib/python3.6/site-packages/PIL/TiffImagePlugin.py:739: UserWarning: Possibly corrupt EXIF data.  Expecting to read 39976960 bytes but only got 0. Skipping tag 0\n",
      "  \" Skipping tag %s\" % (size, len(data), tag))\n",
      "/home/chris/miniconda2/envs/pytorch4/lib/python3.6/site-packages/PIL/TiffImagePlugin.py:739: UserWarning: Possibly corrupt EXIF data.  Expecting to read 34865152 bytes but only got 0. Skipping tag 0\n",
      "  \" Skipping tag %s\" % (size, len(data), tag))\n",
      "/home/chris/miniconda2/envs/pytorch4/lib/python3.6/site-packages/PIL/TiffImagePlugin.py:756: UserWarning: Corrupt EXIF data.  Expecting to read 12 bytes but only got 10. \n",
      "  warnings.warn(str(msg))\n",
      "/home/chris/miniconda2/envs/pytorch4/lib/python3.6/site-packages/PIL/TiffImagePlugin.py:739: UserWarning: Possibly corrupt EXIF data.  Expecting to read 2555904 bytes but only got 0. Skipping tag 0\n",
      "  \" Skipping tag %s\" % (size, len(data), tag))\n"
     ]
    },
    {
     "name": "stdout",
     "output_type": "stream",
     "text": [
      "Batches processed: 600/5025 (11.9%), ETA: 51m:37s\n",
      "Batches processed: 800/5025 (15.9%), ETA: 48m:25s\n",
      "Batches processed: 1000/5025 (19.9%), ETA: 45m:16s\n",
      "Batches processed: 1200/5025 (23.9%), ETA: 42m:24s\n",
      "Batches processed: 1400/5025 (27.9%), ETA: 40m:04s\n"
     ]
    },
    {
     "name": "stderr",
     "output_type": "stream",
     "text": [
      "/home/chris/miniconda2/envs/pytorch4/lib/python3.6/site-packages/PIL/TiffImagePlugin.py:756: UserWarning: Corrupt EXIF data.  Expecting to read 4 bytes but only got 0. \n",
      "  warnings.warn(str(msg))\n"
     ]
    },
    {
     "name": "stdout",
     "output_type": "stream",
     "text": [
      "Batches processed: 1600/5025 (31.8%), ETA: 37m:56s\n"
     ]
    },
    {
     "name": "stderr",
     "output_type": "stream",
     "text": [
      "/home/chris/miniconda2/envs/pytorch4/lib/python3.6/site-packages/PIL/TiffImagePlugin.py:739: UserWarning: Possibly corrupt EXIF data.  Expecting to read 2555904 bytes but only got 0. Skipping tag 0\n",
      "  \" Skipping tag %s\" % (size, len(data), tag))\n"
     ]
    },
    {
     "name": "stdout",
     "output_type": "stream",
     "text": [
      "Batches processed: 1800/5025 (35.8%), ETA: 35m:39s\n",
      "Batches processed: 2000/5025 (39.8%), ETA: 33m:21s\n",
      "Batches processed: 2200/5025 (43.8%), ETA: 31m:07s\n",
      "Batches processed: 2400/5025 (47.8%), ETA: 28m:52s\n",
      "Batches processed: 2600/5025 (51.7%), ETA: 26m:42s\n",
      "Batches processed: 2800/5025 (55.7%), ETA: 24m:29s\n",
      "Batches processed: 3000/5025 (59.7%), ETA: 22m:19s\n",
      "Batches processed: 3200/5025 (63.7%), ETA: 20m:00s\n",
      "Batches processed: 3400/5025 (67.7%), ETA: 17m:50s\n",
      "Batches processed: 3600/5025 (71.6%), ETA: 15m:39s\n",
      "Batches processed: 3800/5025 (75.6%), ETA: 13m:25s\n",
      "Batches processed: 4000/5025 (79.6%), ETA: 11m:12s\n",
      "Batches processed: 4200/5025 (83.6%), ETA: 09m:01s\n",
      "Batches processed: 4400/5025 (87.6%), ETA: 06m:50s\n",
      "Batches processed: 4600/5025 (91.5%), ETA: 04m:38s\n",
      "Batches processed: 4800/5025 (95.5%), ETA: 02m:27s\n",
      "Batches processed: 5000/5025 (99.5%), ETA: 16s\n",
      "Batches processed: 5025/5025 (100.0%), ETA: 0s\n",
      "Epoch: 9, Train loss: 1286.01, mean arithmetic mean: 0.77467\n",
      "Save affinities to results/largescale/artificial/125_0.30/imagenet-full/affinities/9.npy\n",
      "Epoch: 10\n"
     ]
    },
    {
     "name": "stderr",
     "output_type": "stream",
     "text": [
      "/home/chris/miniconda2/envs/pytorch4/lib/python3.6/site-packages/PIL/TiffImagePlugin.py:739: UserWarning: Possibly corrupt EXIF data.  Expecting to read 2555904 bytes but only got 0. Skipping tag 0\n",
      "  \" Skipping tag %s\" % (size, len(data), tag))\n"
     ]
    },
    {
     "name": "stdout",
     "output_type": "stream",
     "text": [
      "Batches processed: 200/4986 (4.0%), ETA: 58m:34s, Loss: 0.191528\n",
      "Batches processed: 400/4986 (8.0%), ETA: 58m:15s, Loss: 0.197446\n",
      "Batches processed: 600/4986 (12.0%), ETA: 55m:47s, Loss: 0.206500\n"
     ]
    },
    {
     "name": "stderr",
     "output_type": "stream",
     "text": [
      "/home/chris/miniconda2/envs/pytorch4/lib/python3.6/site-packages/PIL/TiffImagePlugin.py:739: UserWarning: Possibly corrupt EXIF data.  Expecting to read 1835008 bytes but only got 0. Skipping tag 0\n",
      "  \" Skipping tag %s\" % (size, len(data), tag))\n"
     ]
    },
    {
     "name": "stdout",
     "output_type": "stream",
     "text": [
      "Batches processed: 800/4986 (16.0%), ETA: 53m:15s, Loss: 0.169883\n",
      "Batches processed: 1000/4986 (20.1%), ETA: 50m:51s, Loss: 0.198409\n",
      "Batches processed: 1200/4986 (24.1%), ETA: 48m:56s, Loss: 0.218447\n",
      "Batches processed: 1400/4986 (28.1%), ETA: 46m:22s, Loss: 0.189204\n",
      "Batches processed: 1600/4986 (32.1%), ETA: 43m:50s, Loss: 0.213045\n",
      "Batches processed: 1800/4986 (36.1%), ETA: 41m:20s, Loss: 0.161642\n",
      "Batches processed: 2000/4986 (40.1%), ETA: 38m:53s, Loss: 0.228436\n",
      "Batches processed: 2200/4986 (44.1%), ETA: 36m:22s, Loss: 0.193705\n",
      "Batches processed: 2400/4986 (48.1%), ETA: 33m:59s, Loss: 0.195864\n",
      "Batches processed: 2600/4986 (52.1%), ETA: 31m:35s, Loss: 0.212066\n",
      "Batches processed: 2800/4986 (56.2%), ETA: 28m:58s, Loss: 0.235682\n",
      "Batches processed: 3000/4986 (60.2%), ETA: 26m:19s, Loss: 0.225779\n",
      "Batches processed: 3200/4986 (64.2%), ETA: 23m:39s, Loss: 0.204387\n",
      "Batches processed: 3400/4986 (68.2%), ETA: 21m:05s, Loss: 0.188152\n",
      "Batches processed: 3600/4986 (72.2%), ETA: 18m:31s, Loss: 0.196559\n",
      "Batches processed: 3800/4986 (76.2%), ETA: 15m:52s, Loss: 0.233942\n",
      "Batches processed: 4000/4986 (80.2%), ETA: 13m:15s, Loss: 0.183479\n",
      "Batches processed: 4200/4986 (84.2%), ETA: 10m:34s, Loss: 0.252427\n",
      "Batches processed: 4400/4986 (88.2%), ETA: 07m:52s, Loss: 0.231402\n",
      "Batches processed: 4600/4986 (92.3%), ETA: 05m:12s, Loss: 0.238428\n",
      "Batches processed: 4800/4986 (96.3%), ETA: 02m:31s, Loss: 0.202845\n",
      "Batches processed: 4986/4986 (100.0%), ETA: 0s, Loss: 0.798686\n",
      "Save model and optimizer state to results/largescale/artificial/125_0.30/imagenet-full/checkpoints/10.pth.tar\n",
      "Batches processed: 200/5025 (4.0%), ETA: 58m:14s\n",
      "Batches processed: 400/5025 (8.0%), ETA: 55m:10s\n"
     ]
    },
    {
     "name": "stderr",
     "output_type": "stream",
     "text": [
      "/home/chris/miniconda2/envs/pytorch4/lib/python3.6/site-packages/PIL/TiffImagePlugin.py:739: UserWarning: Possibly corrupt EXIF data.  Expecting to read 19660800 bytes but only got 0. Skipping tag 0\n",
      "  \" Skipping tag %s\" % (size, len(data), tag))\n",
      "/home/chris/miniconda2/envs/pytorch4/lib/python3.6/site-packages/PIL/TiffImagePlugin.py:739: UserWarning: Possibly corrupt EXIF data.  Expecting to read 18481152 bytes but only got 0. Skipping tag 0\n",
      "  \" Skipping tag %s\" % (size, len(data), tag))\n",
      "/home/chris/miniconda2/envs/pytorch4/lib/python3.6/site-packages/PIL/TiffImagePlugin.py:739: UserWarning: Possibly corrupt EXIF data.  Expecting to read 37093376 bytes but only got 0. Skipping tag 0\n",
      "  \" Skipping tag %s\" % (size, len(data), tag))\n",
      "/home/chris/miniconda2/envs/pytorch4/lib/python3.6/site-packages/PIL/TiffImagePlugin.py:739: UserWarning: Possibly corrupt EXIF data.  Expecting to read 39976960 bytes but only got 0. Skipping tag 0\n",
      "  \" Skipping tag %s\" % (size, len(data), tag))\n",
      "/home/chris/miniconda2/envs/pytorch4/lib/python3.6/site-packages/PIL/TiffImagePlugin.py:739: UserWarning: Possibly corrupt EXIF data.  Expecting to read 34865152 bytes but only got 0. Skipping tag 0\n",
      "  \" Skipping tag %s\" % (size, len(data), tag))\n",
      "/home/chris/miniconda2/envs/pytorch4/lib/python3.6/site-packages/PIL/TiffImagePlugin.py:756: UserWarning: Corrupt EXIF data.  Expecting to read 12 bytes but only got 10. \n",
      "  warnings.warn(str(msg))\n",
      "/home/chris/miniconda2/envs/pytorch4/lib/python3.6/site-packages/PIL/TiffImagePlugin.py:739: UserWarning: Possibly corrupt EXIF data.  Expecting to read 2555904 bytes but only got 0. Skipping tag 0\n",
      "  \" Skipping tag %s\" % (size, len(data), tag))\n"
     ]
    },
    {
     "name": "stdout",
     "output_type": "stream",
     "text": [
      "Batches processed: 600/5025 (11.9%), ETA: 53m:08s\n",
      "Batches processed: 800/5025 (15.9%), ETA: 51m:00s\n",
      "Batches processed: 1000/5025 (19.9%), ETA: 47m:35s\n",
      "Batches processed: 1200/5025 (23.9%), ETA: 44m:51s\n",
      "Batches processed: 1400/5025 (27.9%), ETA: 42m:27s\n"
     ]
    },
    {
     "name": "stderr",
     "output_type": "stream",
     "text": [
      "/home/chris/miniconda2/envs/pytorch4/lib/python3.6/site-packages/PIL/TiffImagePlugin.py:756: UserWarning: Corrupt EXIF data.  Expecting to read 4 bytes but only got 0. \n",
      "  warnings.warn(str(msg))\n"
     ]
    },
    {
     "name": "stdout",
     "output_type": "stream",
     "text": [
      "Batches processed: 1600/5025 (31.8%), ETA: 39m:49s\n"
     ]
    },
    {
     "name": "stderr",
     "output_type": "stream",
     "text": [
      "/home/chris/miniconda2/envs/pytorch4/lib/python3.6/site-packages/PIL/TiffImagePlugin.py:739: UserWarning: Possibly corrupt EXIF data.  Expecting to read 2555904 bytes but only got 0. Skipping tag 0\n",
      "  \" Skipping tag %s\" % (size, len(data), tag))\n"
     ]
    },
    {
     "name": "stdout",
     "output_type": "stream",
     "text": [
      "Batches processed: 1800/5025 (35.8%), ETA: 37m:31s\n",
      "Batches processed: 2000/5025 (39.8%), ETA: 35m:08s\n",
      "Batches processed: 2200/5025 (43.8%), ETA: 32m:53s\n",
      "Batches processed: 2400/5025 (47.8%), ETA: 30m:39s\n",
      "Batches processed: 2600/5025 (51.7%), ETA: 28m:14s\n",
      "Batches processed: 2800/5025 (55.7%), ETA: 25m:55s\n",
      "Batches processed: 3000/5025 (59.7%), ETA: 23m:31s\n",
      "Batches processed: 3200/5025 (63.7%), ETA: 21m:11s\n",
      "Batches processed: 3400/5025 (67.7%), ETA: 18m:52s\n",
      "Batches processed: 3600/5025 (71.6%), ETA: 16m:30s\n",
      "Batches processed: 3800/5025 (75.6%), ETA: 14m:11s\n",
      "Batches processed: 4000/5025 (79.6%), ETA: 11m:51s\n",
      "Batches processed: 4200/5025 (83.6%), ETA: 09m:32s\n",
      "Batches processed: 4400/5025 (87.6%), ETA: 07m:12s\n",
      "Batches processed: 4600/5025 (91.5%), ETA: 04m:54s\n",
      "Batches processed: 4800/5025 (95.5%), ETA: 02m:36s\n",
      "Batches processed: 5000/5025 (99.5%), ETA: 17s\n",
      "Batches processed: 5025/5025 (100.0%), ETA: 0s\n",
      "Epoch: 10, Train loss: 1046.83, mean arithmetic mean: 0.76687\n",
      "Save affinities to results/largescale/artificial/125_0.30/imagenet-full/affinities/10.npy\n",
      "Epoch: 11\n",
      "Batches processed: 200/4986 (4.0%), ETA: 1h:03m:51s, Loss: 0.168959\n",
      "Batches processed: 400/4986 (8.0%), ETA: 1h:03m:02s, Loss: 0.156012\n",
      "Batches processed: 600/4986 (12.0%), ETA: 1h:00m:24s, Loss: 0.131117\n",
      "Batches processed: 800/4986 (16.0%), ETA: 57m:31s, Loss: 0.184202\n",
      "Batches processed: 1000/4986 (20.1%), ETA: 54m:52s, Loss: 0.114986\n",
      "Batches processed: 1200/4986 (24.1%), ETA: 52m:21s, Loss: 0.158751\n",
      "Batches processed: 1400/4986 (28.1%), ETA: 49m:21s, Loss: 0.173463\n",
      "Batches processed: 1600/4986 (32.1%), ETA: 46m:27s, Loss: 0.178344\n",
      "Batches processed: 1800/4986 (36.1%), ETA: 43m:31s, Loss: 0.179974\n",
      "Batches processed: 2000/4986 (40.1%), ETA: 40m:51s, Loss: 0.156081\n",
      "Batches processed: 2200/4986 (44.1%), ETA: 37m:55s, Loss: 0.166768\n",
      "Batches processed: 2400/4986 (48.1%), ETA: 35m:07s, Loss: 0.140270\n",
      "Batches processed: 2600/4986 (52.1%), ETA: 32m:20s, Loss: 0.155002\n"
     ]
    },
    {
     "name": "stderr",
     "output_type": "stream",
     "text": [
      "/home/chris/miniconda2/envs/pytorch4/lib/python3.6/site-packages/PIL/TiffImagePlugin.py:739: UserWarning: Possibly corrupt EXIF data.  Expecting to read 2555904 bytes but only got 0. Skipping tag 0\n",
      "  \" Skipping tag %s\" % (size, len(data), tag))\n",
      "/home/chris/miniconda2/envs/pytorch4/lib/python3.6/site-packages/PIL/TiffImagePlugin.py:739: UserWarning: Possibly corrupt EXIF data.  Expecting to read 1835008 bytes but only got 0. Skipping tag 0\n",
      "  \" Skipping tag %s\" % (size, len(data), tag))\n"
     ]
    },
    {
     "name": "stdout",
     "output_type": "stream",
     "text": [
      "Batches processed: 2800/4986 (56.2%), ETA: 29m:34s, Loss: 0.172430\n",
      "Batches processed: 3000/4986 (60.2%), ETA: 26m:56s, Loss: 0.196550\n",
      "Batches processed: 3200/4986 (64.2%), ETA: 24m:13s, Loss: 0.202819\n",
      "Batches processed: 3400/4986 (68.2%), ETA: 21m:29s, Loss: 0.169827\n",
      "Batches processed: 3600/4986 (72.2%), ETA: 18m:45s, Loss: 0.169623\n",
      "Batches processed: 3800/4986 (76.2%), ETA: 16m:03s, Loss: 0.147095\n",
      "Batches processed: 4000/4986 (80.2%), ETA: 13m:20s, Loss: 0.192788\n",
      "Batches processed: 4200/4986 (84.2%), ETA: 10m:38s, Loss: 0.219613\n",
      "Batches processed: 4400/4986 (88.2%), ETA: 07m:56s, Loss: 0.197444\n",
      "Batches processed: 4600/4986 (92.3%), ETA: 05m:13s, Loss: 0.163107\n",
      "Batches processed: 4800/4986 (96.3%), ETA: 02m:31s, Loss: 0.179420\n",
      "Batches processed: 4986/4986 (100.0%), ETA: 0s, Loss: 0.374094\n",
      "Save model and optimizer state to results/largescale/artificial/125_0.30/imagenet-full/checkpoints/11.pth.tar\n",
      "Batches processed: 200/5025 (4.0%), ETA: 57m:21s\n",
      "Batches processed: 400/5025 (8.0%), ETA: 54m:27s\n"
     ]
    },
    {
     "name": "stderr",
     "output_type": "stream",
     "text": [
      "/home/chris/miniconda2/envs/pytorch4/lib/python3.6/site-packages/PIL/TiffImagePlugin.py:739: UserWarning: Possibly corrupt EXIF data.  Expecting to read 19660800 bytes but only got 0. Skipping tag 0\n",
      "  \" Skipping tag %s\" % (size, len(data), tag))\n",
      "/home/chris/miniconda2/envs/pytorch4/lib/python3.6/site-packages/PIL/TiffImagePlugin.py:739: UserWarning: Possibly corrupt EXIF data.  Expecting to read 18481152 bytes but only got 0. Skipping tag 0\n",
      "  \" Skipping tag %s\" % (size, len(data), tag))\n",
      "/home/chris/miniconda2/envs/pytorch4/lib/python3.6/site-packages/PIL/TiffImagePlugin.py:739: UserWarning: Possibly corrupt EXIF data.  Expecting to read 37093376 bytes but only got 0. Skipping tag 0\n",
      "  \" Skipping tag %s\" % (size, len(data), tag))\n",
      "/home/chris/miniconda2/envs/pytorch4/lib/python3.6/site-packages/PIL/TiffImagePlugin.py:739: UserWarning: Possibly corrupt EXIF data.  Expecting to read 39976960 bytes but only got 0. Skipping tag 0\n",
      "  \" Skipping tag %s\" % (size, len(data), tag))\n",
      "/home/chris/miniconda2/envs/pytorch4/lib/python3.6/site-packages/PIL/TiffImagePlugin.py:739: UserWarning: Possibly corrupt EXIF data.  Expecting to read 34865152 bytes but only got 0. Skipping tag 0\n",
      "  \" Skipping tag %s\" % (size, len(data), tag))\n",
      "/home/chris/miniconda2/envs/pytorch4/lib/python3.6/site-packages/PIL/TiffImagePlugin.py:756: UserWarning: Corrupt EXIF data.  Expecting to read 12 bytes but only got 10. \n",
      "  warnings.warn(str(msg))\n",
      "/home/chris/miniconda2/envs/pytorch4/lib/python3.6/site-packages/PIL/TiffImagePlugin.py:739: UserWarning: Possibly corrupt EXIF data.  Expecting to read 2555904 bytes but only got 0. Skipping tag 0\n",
      "  \" Skipping tag %s\" % (size, len(data), tag))\n"
     ]
    },
    {
     "name": "stdout",
     "output_type": "stream",
     "text": [
      "Batches processed: 600/5025 (11.9%), ETA: 52m:01s\n",
      "Batches processed: 800/5025 (15.9%), ETA: 48m:36s\n",
      "Batches processed: 1000/5025 (19.9%), ETA: 45m:09s\n",
      "Batches processed: 1200/5025 (23.9%), ETA: 42m:40s\n",
      "Batches processed: 1400/5025 (27.9%), ETA: 40m:27s\n"
     ]
    },
    {
     "name": "stderr",
     "output_type": "stream",
     "text": [
      "/home/chris/miniconda2/envs/pytorch4/lib/python3.6/site-packages/PIL/TiffImagePlugin.py:756: UserWarning: Corrupt EXIF data.  Expecting to read 4 bytes but only got 0. \n",
      "  warnings.warn(str(msg))\n"
     ]
    },
    {
     "name": "stdout",
     "output_type": "stream",
     "text": [
      "Batches processed: 1600/5025 (31.8%), ETA: 38m:04s\n"
     ]
    },
    {
     "name": "stderr",
     "output_type": "stream",
     "text": [
      "/home/chris/miniconda2/envs/pytorch4/lib/python3.6/site-packages/PIL/TiffImagePlugin.py:739: UserWarning: Possibly corrupt EXIF data.  Expecting to read 2555904 bytes but only got 0. Skipping tag 0\n",
      "  \" Skipping tag %s\" % (size, len(data), tag))\n"
     ]
    },
    {
     "name": "stdout",
     "output_type": "stream",
     "text": [
      "Batches processed: 1800/5025 (35.8%), ETA: 35m:53s\n",
      "Batches processed: 2000/5025 (39.8%), ETA: 33m:36s\n",
      "Batches processed: 2200/5025 (43.8%), ETA: 31m:17s\n",
      "Batches processed: 2400/5025 (47.8%), ETA: 29m:03s\n",
      "Batches processed: 2600/5025 (51.7%), ETA: 26m:44s\n",
      "Batches processed: 2800/5025 (55.7%), ETA: 24m:36s\n",
      "Batches processed: 3000/5025 (59.7%), ETA: 22m:23s\n",
      "Batches processed: 3200/5025 (63.7%), ETA: 20m:08s\n",
      "Batches processed: 3400/5025 (67.7%), ETA: 17m:55s\n",
      "Batches processed: 3600/5025 (71.6%), ETA: 15m:41s\n",
      "Batches processed: 3800/5025 (75.6%), ETA: 13m:28s\n",
      "Batches processed: 4000/5025 (79.6%), ETA: 11m:16s\n",
      "Batches processed: 4200/5025 (83.6%), ETA: 09m:04s\n",
      "Batches processed: 4400/5025 (87.6%), ETA: 06m:51s\n",
      "Batches processed: 4600/5025 (91.5%), ETA: 04m:39s\n",
      "Batches processed: 4800/5025 (95.5%), ETA: 02m:28s\n",
      "Batches processed: 5000/5025 (99.5%), ETA: 16s\n",
      "Batches processed: 5025/5025 (100.0%), ETA: 0s\n",
      "Epoch: 11, Train loss: 829.05, mean arithmetic mean: 0.76784\n",
      "Save affinities to results/largescale/artificial/125_0.30/imagenet-full/affinities/11.npy\n",
      "Epoch: 12\n",
      "Batches processed: 200/4986 (4.0%), ETA: 59m:15s, Loss: 0.120373\n",
      "Batches processed: 400/4986 (8.0%), ETA: 57m:18s, Loss: 0.105855\n",
      "Batches processed: 600/4986 (12.0%), ETA: 56m:00s, Loss: 0.134258\n",
      "Batches processed: 800/4986 (16.0%), ETA: 53m:49s, Loss: 0.108165\n",
      "Batches processed: 1000/4986 (20.1%), ETA: 51m:38s, Loss: 0.133704\n",
      "Batches processed: 1200/4986 (24.1%), ETA: 49m:38s, Loss: 0.108180\n",
      "Batches processed: 1400/4986 (28.1%), ETA: 46m:50s, Loss: 0.113168\n",
      "Batches processed: 1600/4986 (32.1%), ETA: 44m:08s, Loss: 0.133923\n",
      "Batches processed: 1800/4986 (36.1%), ETA: 41m:35s, Loss: 0.140546\n",
      "Batches processed: 2000/4986 (40.1%), ETA: 38m:53s, Loss: 0.116872\n",
      "Batches processed: 2200/4986 (44.1%), ETA: 36m:18s, Loss: 0.139404\n",
      "Batches processed: 2400/4986 (48.1%), ETA: 33m:47s, Loss: 0.130542\n",
      "Batches processed: 2600/4986 (52.1%), ETA: 31m:09s, Loss: 0.097134\n",
      "Batches processed: 2800/4986 (56.2%), ETA: 28m:36s, Loss: 0.128580\n",
      "Batches processed: 3000/4986 (60.2%), ETA: 25m:58s, Loss: 0.151956\n",
      "Batches processed: 3200/4986 (64.2%), ETA: 23m:21s, Loss: 0.136134\n",
      "Batches processed: 3400/4986 (68.2%), ETA: 20m:46s, Loss: 0.114087\n",
      "Batches processed: 3600/4986 (72.2%), ETA: 18m:08s, Loss: 0.131821\n",
      "Batches processed: 3800/4986 (76.2%), ETA: 15m:31s, Loss: 0.127369\n",
      "Batches processed: 4000/4986 (80.2%), ETA: 12m:54s, Loss: 0.150085\n"
     ]
    },
    {
     "name": "stderr",
     "output_type": "stream",
     "text": [
      "/home/chris/miniconda2/envs/pytorch4/lib/python3.6/site-packages/PIL/TiffImagePlugin.py:739: UserWarning: Possibly corrupt EXIF data.  Expecting to read 2555904 bytes but only got 0. Skipping tag 0\n",
      "  \" Skipping tag %s\" % (size, len(data), tag))\n"
     ]
    },
    {
     "name": "stdout",
     "output_type": "stream",
     "text": [
      "Batches processed: 4200/4986 (84.2%), ETA: 10m:17s, Loss: 0.155645\n",
      "Batches processed: 4400/4986 (88.2%), ETA: 07m:41s, Loss: 0.146454\n",
      "Batches processed: 4600/4986 (92.3%), ETA: 05m:03s, Loss: 0.143593\n",
      "Batches processed: 4800/4986 (96.3%), ETA: 02m:26s, Loss: 0.141782\n"
     ]
    },
    {
     "name": "stderr",
     "output_type": "stream",
     "text": [
      "/home/chris/miniconda2/envs/pytorch4/lib/python3.6/site-packages/PIL/TiffImagePlugin.py:739: UserWarning: Possibly corrupt EXIF data.  Expecting to read 1835008 bytes but only got 0. Skipping tag 0\n",
      "  \" Skipping tag %s\" % (size, len(data), tag))\n"
     ]
    },
    {
     "name": "stdout",
     "output_type": "stream",
     "text": [
      "Batches processed: 4986/4986 (100.0%), ETA: 0s, Loss: 0.605850\n",
      "Save model and optimizer state to results/largescale/artificial/125_0.30/imagenet-full/checkpoints/12.pth.tar\n",
      "Batches processed: 200/5025 (4.0%), ETA: 53m:09s\n",
      "Batches processed: 400/5025 (8.0%), ETA: 53m:21s\n"
     ]
    },
    {
     "name": "stderr",
     "output_type": "stream",
     "text": [
      "/home/chris/miniconda2/envs/pytorch4/lib/python3.6/site-packages/PIL/TiffImagePlugin.py:739: UserWarning: Possibly corrupt EXIF data.  Expecting to read 19660800 bytes but only got 0. Skipping tag 0\n",
      "  \" Skipping tag %s\" % (size, len(data), tag))\n",
      "/home/chris/miniconda2/envs/pytorch4/lib/python3.6/site-packages/PIL/TiffImagePlugin.py:739: UserWarning: Possibly corrupt EXIF data.  Expecting to read 18481152 bytes but only got 0. Skipping tag 0\n",
      "  \" Skipping tag %s\" % (size, len(data), tag))\n",
      "/home/chris/miniconda2/envs/pytorch4/lib/python3.6/site-packages/PIL/TiffImagePlugin.py:739: UserWarning: Possibly corrupt EXIF data.  Expecting to read 37093376 bytes but only got 0. Skipping tag 0\n",
      "  \" Skipping tag %s\" % (size, len(data), tag))\n",
      "/home/chris/miniconda2/envs/pytorch4/lib/python3.6/site-packages/PIL/TiffImagePlugin.py:739: UserWarning: Possibly corrupt EXIF data.  Expecting to read 39976960 bytes but only got 0. Skipping tag 0\n",
      "  \" Skipping tag %s\" % (size, len(data), tag))\n",
      "/home/chris/miniconda2/envs/pytorch4/lib/python3.6/site-packages/PIL/TiffImagePlugin.py:739: UserWarning: Possibly corrupt EXIF data.  Expecting to read 34865152 bytes but only got 0. Skipping tag 0\n",
      "  \" Skipping tag %s\" % (size, len(data), tag))\n",
      "/home/chris/miniconda2/envs/pytorch4/lib/python3.6/site-packages/PIL/TiffImagePlugin.py:756: UserWarning: Corrupt EXIF data.  Expecting to read 12 bytes but only got 10. \n",
      "  warnings.warn(str(msg))\n",
      "/home/chris/miniconda2/envs/pytorch4/lib/python3.6/site-packages/PIL/TiffImagePlugin.py:739: UserWarning: Possibly corrupt EXIF data.  Expecting to read 2555904 bytes but only got 0. Skipping tag 0\n",
      "  \" Skipping tag %s\" % (size, len(data), tag))\n"
     ]
    },
    {
     "name": "stdout",
     "output_type": "stream",
     "text": [
      "Batches processed: 600/5025 (11.9%), ETA: 51m:01s\n",
      "Batches processed: 800/5025 (15.9%), ETA: 48m:10s\n",
      "Batches processed: 1000/5025 (19.9%), ETA: 44m:44s\n",
      "Batches processed: 1200/5025 (23.9%), ETA: 42m:13s\n",
      "Batches processed: 1400/5025 (27.9%), ETA: 40m:00s\n"
     ]
    },
    {
     "name": "stderr",
     "output_type": "stream",
     "text": [
      "/home/chris/miniconda2/envs/pytorch4/lib/python3.6/site-packages/PIL/TiffImagePlugin.py:756: UserWarning: Corrupt EXIF data.  Expecting to read 4 bytes but only got 0. \n",
      "  warnings.warn(str(msg))\n"
     ]
    },
    {
     "name": "stdout",
     "output_type": "stream",
     "text": [
      "Batches processed: 1600/5025 (31.8%), ETA: 37m:52s\n"
     ]
    },
    {
     "name": "stderr",
     "output_type": "stream",
     "text": [
      "/home/chris/miniconda2/envs/pytorch4/lib/python3.6/site-packages/PIL/TiffImagePlugin.py:739: UserWarning: Possibly corrupt EXIF data.  Expecting to read 2555904 bytes but only got 0. Skipping tag 0\n",
      "  \" Skipping tag %s\" % (size, len(data), tag))\n"
     ]
    },
    {
     "name": "stdout",
     "output_type": "stream",
     "text": [
      "Batches processed: 1800/5025 (35.8%), ETA: 35m:25s\n",
      "Batches processed: 2000/5025 (39.8%), ETA: 33m:14s\n",
      "Batches processed: 2200/5025 (43.8%), ETA: 30m:56s\n",
      "Batches processed: 2400/5025 (47.8%), ETA: 28m:41s\n",
      "Batches processed: 2600/5025 (51.7%), ETA: 26m:30s\n",
      "Batches processed: 2800/5025 (55.7%), ETA: 24m:16s\n",
      "Batches processed: 3000/5025 (59.7%), ETA: 22m:04s\n",
      "Batches processed: 3200/5025 (63.7%), ETA: 19m:53s\n",
      "Batches processed: 3400/5025 (67.7%), ETA: 17m:42s\n",
      "Batches processed: 3600/5025 (71.6%), ETA: 15m:31s\n",
      "Batches processed: 3800/5025 (75.6%), ETA: 13m:19s\n",
      "Batches processed: 4000/5025 (79.6%), ETA: 11m:09s\n",
      "Batches processed: 4200/5025 (83.6%), ETA: 08m:58s\n",
      "Batches processed: 4400/5025 (87.6%), ETA: 06m:47s\n",
      "Batches processed: 4600/5025 (91.5%), ETA: 04m:37s\n",
      "Batches processed: 4800/5025 (95.5%), ETA: 02m:26s\n",
      "Batches processed: 5000/5025 (99.5%), ETA: 16s\n",
      "Batches processed: 5025/5025 (100.0%), ETA: 0s\n",
      "Epoch: 12, Train loss: 641.33, mean arithmetic mean: 0.76531\n",
      "Save affinities to results/largescale/artificial/125_0.30/imagenet-full/affinities/12.npy\n",
      "Epoch: 13\n",
      "Batches processed: 200/4986 (4.0%), ETA: 59m:49s, Loss: 0.084712\n",
      "Batches processed: 400/4986 (8.0%), ETA: 57m:29s, Loss: 0.086059\n",
      "Batches processed: 600/4986 (12.0%), ETA: 55m:24s, Loss: 0.095322\n",
      "Batches processed: 800/4986 (16.0%), ETA: 53m:41s, Loss: 0.108790\n",
      "Batches processed: 1000/4986 (20.1%), ETA: 51m:26s, Loss: 0.071381\n",
      "Batches processed: 1200/4986 (24.1%), ETA: 49m:31s, Loss: 0.093638\n",
      "Batches processed: 1400/4986 (28.1%), ETA: 47m:11s, Loss: 0.096973\n",
      "Batches processed: 1600/4986 (32.1%), ETA: 44m:55s, Loss: 0.096743\n"
     ]
    },
    {
     "name": "stderr",
     "output_type": "stream",
     "text": [
      "/home/chris/miniconda2/envs/pytorch4/lib/python3.6/site-packages/PIL/TiffImagePlugin.py:739: UserWarning: Possibly corrupt EXIF data.  Expecting to read 2555904 bytes but only got 0. Skipping tag 0\n",
      "  \" Skipping tag %s\" % (size, len(data), tag))\n"
     ]
    },
    {
     "name": "stdout",
     "output_type": "stream",
     "text": [
      "Batches processed: 1800/4986 (36.1%), ETA: 42m:35s, Loss: 0.084977\n",
      "Batches processed: 2000/4986 (40.1%), ETA: 40m:06s, Loss: 0.111616\n",
      "Batches processed: 2200/4986 (44.1%), ETA: 37m:40s, Loss: 0.087243\n",
      "Batches processed: 2400/4986 (48.1%), ETA: 35m:08s, Loss: 0.094639\n",
      "Batches processed: 2600/4986 (52.1%), ETA: 32m:18s, Loss: 0.094248\n",
      "Batches processed: 2800/4986 (56.2%), ETA: 29m:32s, Loss: 0.097922\n",
      "Batches processed: 3000/4986 (60.2%), ETA: 26m:52s, Loss: 0.087632\n",
      "Batches processed: 3200/4986 (64.2%), ETA: 24m:15s, Loss: 0.129815\n"
     ]
    },
    {
     "name": "stderr",
     "output_type": "stream",
     "text": [
      "/home/chris/miniconda2/envs/pytorch4/lib/python3.6/site-packages/PIL/TiffImagePlugin.py:739: UserWarning: Possibly corrupt EXIF data.  Expecting to read 1835008 bytes but only got 0. Skipping tag 0\n",
      "  \" Skipping tag %s\" % (size, len(data), tag))\n"
     ]
    },
    {
     "name": "stdout",
     "output_type": "stream",
     "text": [
      "Batches processed: 3400/4986 (68.2%), ETA: 21m:39s, Loss: 0.098973\n",
      "Batches processed: 3600/4986 (72.2%), ETA: 18m:57s, Loss: 0.103670\n",
      "Batches processed: 3800/4986 (76.2%), ETA: 16m:12s, Loss: 0.097285\n",
      "Batches processed: 4000/4986 (80.2%), ETA: 13m:29s, Loss: 0.105434\n",
      "Batches processed: 4200/4986 (84.2%), ETA: 10m:46s, Loss: 0.099982\n",
      "Batches processed: 4400/4986 (88.2%), ETA: 08m:01s, Loss: 0.142955\n",
      "Batches processed: 4600/4986 (92.3%), ETA: 05m:17s, Loss: 0.090881\n",
      "Batches processed: 4800/4986 (96.3%), ETA: 02m:33s, Loss: 0.125310\n",
      "Batches processed: 4986/4986 (100.0%), ETA: 0s, Loss: 0.310369\n",
      "Save model and optimizer state to results/largescale/artificial/125_0.30/imagenet-full/checkpoints/13.pth.tar\n",
      "Batches processed: 200/5025 (4.0%), ETA: 1h:01m:04s\n",
      "Batches processed: 400/5025 (8.0%), ETA: 57m:46s\n"
     ]
    },
    {
     "name": "stderr",
     "output_type": "stream",
     "text": [
      "/home/chris/miniconda2/envs/pytorch4/lib/python3.6/site-packages/PIL/TiffImagePlugin.py:739: UserWarning: Possibly corrupt EXIF data.  Expecting to read 19660800 bytes but only got 0. Skipping tag 0\n",
      "  \" Skipping tag %s\" % (size, len(data), tag))\n",
      "/home/chris/miniconda2/envs/pytorch4/lib/python3.6/site-packages/PIL/TiffImagePlugin.py:739: UserWarning: Possibly corrupt EXIF data.  Expecting to read 18481152 bytes but only got 0. Skipping tag 0\n",
      "  \" Skipping tag %s\" % (size, len(data), tag))\n",
      "/home/chris/miniconda2/envs/pytorch4/lib/python3.6/site-packages/PIL/TiffImagePlugin.py:739: UserWarning: Possibly corrupt EXIF data.  Expecting to read 37093376 bytes but only got 0. Skipping tag 0\n",
      "  \" Skipping tag %s\" % (size, len(data), tag))\n",
      "/home/chris/miniconda2/envs/pytorch4/lib/python3.6/site-packages/PIL/TiffImagePlugin.py:739: UserWarning: Possibly corrupt EXIF data.  Expecting to read 39976960 bytes but only got 0. Skipping tag 0\n",
      "  \" Skipping tag %s\" % (size, len(data), tag))\n",
      "/home/chris/miniconda2/envs/pytorch4/lib/python3.6/site-packages/PIL/TiffImagePlugin.py:739: UserWarning: Possibly corrupt EXIF data.  Expecting to read 34865152 bytes but only got 0. Skipping tag 0\n",
      "  \" Skipping tag %s\" % (size, len(data), tag))\n",
      "/home/chris/miniconda2/envs/pytorch4/lib/python3.6/site-packages/PIL/TiffImagePlugin.py:756: UserWarning: Corrupt EXIF data.  Expecting to read 12 bytes but only got 10. \n",
      "  warnings.warn(str(msg))\n",
      "/home/chris/miniconda2/envs/pytorch4/lib/python3.6/site-packages/PIL/TiffImagePlugin.py:739: UserWarning: Possibly corrupt EXIF data.  Expecting to read 2555904 bytes but only got 0. Skipping tag 0\n",
      "  \" Skipping tag %s\" % (size, len(data), tag))\n"
     ]
    },
    {
     "name": "stdout",
     "output_type": "stream",
     "text": [
      "Batches processed: 600/5025 (11.9%), ETA: 54m:49s\n",
      "Batches processed: 800/5025 (15.9%), ETA: 51m:08s\n",
      "Batches processed: 1000/5025 (19.9%), ETA: 47m:25s\n",
      "Batches processed: 1200/5025 (23.9%), ETA: 44m:59s\n",
      "Batches processed: 1400/5025 (27.9%), ETA: 42m:38s\n"
     ]
    },
    {
     "name": "stderr",
     "output_type": "stream",
     "text": [
      "/home/chris/miniconda2/envs/pytorch4/lib/python3.6/site-packages/PIL/TiffImagePlugin.py:756: UserWarning: Corrupt EXIF data.  Expecting to read 4 bytes but only got 0. \n",
      "  warnings.warn(str(msg))\n"
     ]
    },
    {
     "name": "stdout",
     "output_type": "stream",
     "text": [
      "Batches processed: 1600/5025 (31.8%), ETA: 40m:27s\n"
     ]
    },
    {
     "name": "stderr",
     "output_type": "stream",
     "text": [
      "/home/chris/miniconda2/envs/pytorch4/lib/python3.6/site-packages/PIL/TiffImagePlugin.py:739: UserWarning: Possibly corrupt EXIF data.  Expecting to read 2555904 bytes but only got 0. Skipping tag 0\n",
      "  \" Skipping tag %s\" % (size, len(data), tag))\n"
     ]
    },
    {
     "name": "stdout",
     "output_type": "stream",
     "text": [
      "Batches processed: 1800/5025 (35.8%), ETA: 37m:49s\n",
      "Batches processed: 2000/5025 (39.8%), ETA: 35m:22s\n",
      "Batches processed: 2200/5025 (43.8%), ETA: 32m:50s\n",
      "Batches processed: 2400/5025 (47.8%), ETA: 30m:28s\n",
      "Batches processed: 2600/5025 (51.7%), ETA: 28m:08s\n",
      "Batches processed: 2800/5025 (55.7%), ETA: 25m:44s\n",
      "Batches processed: 3000/5025 (59.7%), ETA: 23m:26s\n",
      "Batches processed: 3200/5025 (63.7%), ETA: 21m:04s\n",
      "Batches processed: 3400/5025 (67.7%), ETA: 18m:45s\n",
      "Batches processed: 3600/5025 (71.6%), ETA: 16m:25s\n",
      "Batches processed: 3800/5025 (75.6%), ETA: 14m:03s\n",
      "Batches processed: 4000/5025 (79.6%), ETA: 11m:44s\n",
      "Batches processed: 4200/5025 (83.6%), ETA: 09m:27s\n",
      "Batches processed: 4400/5025 (87.6%), ETA: 07m:11s\n",
      "Batches processed: 4600/5025 (91.5%), ETA: 04m:53s\n",
      "Batches processed: 4800/5025 (95.5%), ETA: 02m:35s\n",
      "Batches processed: 5000/5025 (99.5%), ETA: 17s\n",
      "Batches processed: 5025/5025 (100.0%), ETA: 0s\n",
      "Epoch: 13, Train loss: 491.36, mean arithmetic mean: 0.76306\n",
      "Save affinities to results/largescale/artificial/125_0.30/imagenet-full/affinities/13.npy\n",
      "Epoch: 14\n",
      "Batches processed: 200/4986 (4.0%), ETA: 1h:03m:53s, Loss: 0.083553\n",
      "Batches processed: 400/4986 (8.0%), ETA: 1h:01m:50s, Loss: 0.060420\n",
      "Batches processed: 600/4986 (12.0%), ETA: 59m:41s, Loss: 0.058439\n",
      "Batches processed: 800/4986 (16.0%), ETA: 57m:45s, Loss: 0.069804\n",
      "Batches processed: 1000/4986 (20.1%), ETA: 54m:44s, Loss: 0.058378\n",
      "Batches processed: 1200/4986 (24.1%), ETA: 52m:08s, Loss: 0.063683\n",
      "Batches processed: 1400/4986 (28.1%), ETA: 49m:40s, Loss: 0.059101\n"
     ]
    },
    {
     "name": "stderr",
     "output_type": "stream",
     "text": [
      "/home/chris/miniconda2/envs/pytorch4/lib/python3.6/site-packages/PIL/TiffImagePlugin.py:739: UserWarning: Possibly corrupt EXIF data.  Expecting to read 2555904 bytes but only got 0. Skipping tag 0\n",
      "  \" Skipping tag %s\" % (size, len(data), tag))\n"
     ]
    },
    {
     "name": "stdout",
     "output_type": "stream",
     "text": [
      "Batches processed: 1600/4986 (32.1%), ETA: 46m:57s, Loss: 0.075787\n",
      "Batches processed: 1800/4986 (36.1%), ETA: 43m:57s, Loss: 0.065129\n",
      "Batches processed: 2000/4986 (40.1%), ETA: 40m:59s, Loss: 0.071991\n",
      "Batches processed: 2200/4986 (44.1%), ETA: 38m:24s, Loss: 0.060051\n",
      "Batches processed: 2400/4986 (48.1%), ETA: 35m:32s, Loss: 0.074266\n",
      "Batches processed: 2600/4986 (52.1%), ETA: 32m:50s, Loss: 0.071769\n",
      "Batches processed: 2800/4986 (56.2%), ETA: 30m:05s, Loss: 0.081207\n",
      "Batches processed: 3000/4986 (60.2%), ETA: 27m:15s, Loss: 0.082581\n",
      "Batches processed: 3200/4986 (64.2%), ETA: 24m:32s, Loss: 0.081800\n",
      "Batches processed: 3400/4986 (68.2%), ETA: 21m:50s, Loss: 0.069553\n",
      "Batches processed: 3600/4986 (72.2%), ETA: 19m:01s, Loss: 0.074918\n",
      "Batches processed: 3800/4986 (76.2%), ETA: 16m:14s, Loss: 0.084297\n"
     ]
    },
    {
     "name": "stderr",
     "output_type": "stream",
     "text": [
      "/home/chris/miniconda2/envs/pytorch4/lib/python3.6/site-packages/PIL/TiffImagePlugin.py:739: UserWarning: Possibly corrupt EXIF data.  Expecting to read 1835008 bytes but only got 0. Skipping tag 0\n",
      "  \" Skipping tag %s\" % (size, len(data), tag))\n"
     ]
    },
    {
     "name": "stdout",
     "output_type": "stream",
     "text": [
      "Batches processed: 4000/4986 (80.2%), ETA: 13m:31s, Loss: 0.070143\n",
      "Batches processed: 4200/4986 (84.2%), ETA: 10m:46s, Loss: 0.083276\n",
      "Batches processed: 4400/4986 (88.2%), ETA: 08m:01s, Loss: 0.087905\n",
      "Batches processed: 4600/4986 (92.3%), ETA: 05m:17s, Loss: 0.076021\n",
      "Batches processed: 4800/4986 (96.3%), ETA: 02m:33s, Loss: 0.076616\n",
      "Batches processed: 4986/4986 (100.0%), ETA: 0s, Loss: 0.721994\n",
      "Save model and optimizer state to results/largescale/artificial/125_0.30/imagenet-full/checkpoints/14.pth.tar\n",
      "Batches processed: 200/5025 (4.0%), ETA: 56m:45s\n",
      "Batches processed: 400/5025 (8.0%), ETA: 55m:08s\n"
     ]
    },
    {
     "name": "stderr",
     "output_type": "stream",
     "text": [
      "/home/chris/miniconda2/envs/pytorch4/lib/python3.6/site-packages/PIL/TiffImagePlugin.py:739: UserWarning: Possibly corrupt EXIF data.  Expecting to read 19660800 bytes but only got 0. Skipping tag 0\n",
      "  \" Skipping tag %s\" % (size, len(data), tag))\n",
      "/home/chris/miniconda2/envs/pytorch4/lib/python3.6/site-packages/PIL/TiffImagePlugin.py:739: UserWarning: Possibly corrupt EXIF data.  Expecting to read 18481152 bytes but only got 0. Skipping tag 0\n",
      "  \" Skipping tag %s\" % (size, len(data), tag))\n",
      "/home/chris/miniconda2/envs/pytorch4/lib/python3.6/site-packages/PIL/TiffImagePlugin.py:739: UserWarning: Possibly corrupt EXIF data.  Expecting to read 37093376 bytes but only got 0. Skipping tag 0\n",
      "  \" Skipping tag %s\" % (size, len(data), tag))\n",
      "/home/chris/miniconda2/envs/pytorch4/lib/python3.6/site-packages/PIL/TiffImagePlugin.py:739: UserWarning: Possibly corrupt EXIF data.  Expecting to read 39976960 bytes but only got 0. Skipping tag 0\n",
      "  \" Skipping tag %s\" % (size, len(data), tag))\n",
      "/home/chris/miniconda2/envs/pytorch4/lib/python3.6/site-packages/PIL/TiffImagePlugin.py:739: UserWarning: Possibly corrupt EXIF data.  Expecting to read 34865152 bytes but only got 0. Skipping tag 0\n",
      "  \" Skipping tag %s\" % (size, len(data), tag))\n",
      "/home/chris/miniconda2/envs/pytorch4/lib/python3.6/site-packages/PIL/TiffImagePlugin.py:756: UserWarning: Corrupt EXIF data.  Expecting to read 12 bytes but only got 10. \n",
      "  warnings.warn(str(msg))\n",
      "/home/chris/miniconda2/envs/pytorch4/lib/python3.6/site-packages/PIL/TiffImagePlugin.py:739: UserWarning: Possibly corrupt EXIF data.  Expecting to read 2555904 bytes but only got 0. Skipping tag 0\n",
      "  \" Skipping tag %s\" % (size, len(data), tag))\n"
     ]
    },
    {
     "name": "stdout",
     "output_type": "stream",
     "text": [
      "Batches processed: 600/5025 (11.9%), ETA: 53m:00s\n",
      "Batches processed: 800/5025 (15.9%), ETA: 50m:24s\n",
      "Batches processed: 1000/5025 (19.9%), ETA: 47m:17s\n",
      "Batches processed: 1200/5025 (23.9%), ETA: 44m:26s\n",
      "Batches processed: 1400/5025 (27.9%), ETA: 42m:16s\n"
     ]
    },
    {
     "name": "stderr",
     "output_type": "stream",
     "text": [
      "/home/chris/miniconda2/envs/pytorch4/lib/python3.6/site-packages/PIL/TiffImagePlugin.py:756: UserWarning: Corrupt EXIF data.  Expecting to read 4 bytes but only got 0. \n",
      "  warnings.warn(str(msg))\n"
     ]
    },
    {
     "name": "stdout",
     "output_type": "stream",
     "text": [
      "Batches processed: 1600/5025 (31.8%), ETA: 39m:44s\n"
     ]
    },
    {
     "name": "stderr",
     "output_type": "stream",
     "text": [
      "/home/chris/miniconda2/envs/pytorch4/lib/python3.6/site-packages/PIL/TiffImagePlugin.py:739: UserWarning: Possibly corrupt EXIF data.  Expecting to read 2555904 bytes but only got 0. Skipping tag 0\n",
      "  \" Skipping tag %s\" % (size, len(data), tag))\n"
     ]
    },
    {
     "name": "stdout",
     "output_type": "stream",
     "text": [
      "Batches processed: 1800/5025 (35.8%), ETA: 37m:10s\n",
      "Batches processed: 2000/5025 (39.8%), ETA: 34m:53s\n",
      "Batches processed: 2200/5025 (43.8%), ETA: 32m:30s\n",
      "Batches processed: 2400/5025 (47.8%), ETA: 30m:06s\n",
      "Batches processed: 2600/5025 (51.7%), ETA: 27m:44s\n",
      "Batches processed: 2800/5025 (55.7%), ETA: 25m:26s\n",
      "Batches processed: 3000/5025 (59.7%), ETA: 23m:11s\n",
      "Batches processed: 3200/5025 (63.7%), ETA: 20m:52s\n",
      "Batches processed: 3400/5025 (67.7%), ETA: 18m:31s\n",
      "Batches processed: 3600/5025 (71.6%), ETA: 16m:12s\n",
      "Batches processed: 3800/5025 (75.6%), ETA: 13m:54s\n",
      "Batches processed: 4000/5025 (79.6%), ETA: 11m:38s\n",
      "Batches processed: 4200/5025 (83.6%), ETA: 09m:20s\n",
      "Batches processed: 4400/5025 (87.6%), ETA: 07m:05s\n",
      "Batches processed: 4600/5025 (91.5%), ETA: 04m:48s\n",
      "Batches processed: 4800/5025 (95.5%), ETA: 02m:33s\n",
      "Batches processed: 5000/5025 (99.5%), ETA: 17s\n",
      "Batches processed: 5025/5025 (100.0%), ETA: 0s\n",
      "Epoch: 14, Train loss: 373.43, mean arithmetic mean: 0.76353\n",
      "Save affinities to results/largescale/artificial/125_0.30/imagenet-full/affinities/14.npy\n",
      "Epoch: 15\n"
     ]
    },
    {
     "name": "stderr",
     "output_type": "stream",
     "text": [
      "/home/chris/miniconda2/envs/pytorch4/lib/python3.6/site-packages/PIL/TiffImagePlugin.py:739: UserWarning: Possibly corrupt EXIF data.  Expecting to read 2555904 bytes but only got 0. Skipping tag 0\n",
      "  \" Skipping tag %s\" % (size, len(data), tag))\n"
     ]
    },
    {
     "name": "stdout",
     "output_type": "stream",
     "text": [
      "Batches processed: 200/4986 (4.0%), ETA: 1h:02m:10s, Loss: 0.042629\n",
      "Batches processed: 400/4986 (8.0%), ETA: 1h:00m:33s, Loss: 0.048722\n",
      "Batches processed: 600/4986 (12.0%), ETA: 58m:09s, Loss: 0.047172\n",
      "Batches processed: 800/4986 (16.0%), ETA: 55m:58s, Loss: 0.055229\n",
      "Batches processed: 1000/4986 (20.1%), ETA: 52m:28s, Loss: 0.046988\n",
      "Batches processed: 1200/4986 (24.1%), ETA: 49m:47s, Loss: 0.048695\n",
      "Batches processed: 1400/4986 (28.1%), ETA: 47m:10s, Loss: 0.050742\n",
      "Batches processed: 1600/4986 (32.1%), ETA: 44m:30s, Loss: 0.053722\n",
      "Batches processed: 1800/4986 (36.1%), ETA: 41m:51s, Loss: 0.065344\n"
     ]
    },
    {
     "name": "stderr",
     "output_type": "stream",
     "text": [
      "/home/chris/miniconda2/envs/pytorch4/lib/python3.6/site-packages/PIL/TiffImagePlugin.py:739: UserWarning: Possibly corrupt EXIF data.  Expecting to read 1835008 bytes but only got 0. Skipping tag 0\n",
      "  \" Skipping tag %s\" % (size, len(data), tag))\n"
     ]
    },
    {
     "name": "stdout",
     "output_type": "stream",
     "text": [
      "Batches processed: 2000/4986 (40.1%), ETA: 39m:00s, Loss: 0.055947\n",
      "Batches processed: 2200/4986 (44.1%), ETA: 36m:22s, Loss: 0.049682\n",
      "Batches processed: 2400/4986 (48.1%), ETA: 33m:44s, Loss: 0.053907\n",
      "Batches processed: 2600/4986 (52.1%), ETA: 31m:03s, Loss: 0.049409\n",
      "Batches processed: 2800/4986 (56.2%), ETA: 28m:27s, Loss: 0.057191\n",
      "Batches processed: 3000/4986 (60.2%), ETA: 25m:53s, Loss: 0.057101\n",
      "Batches processed: 3200/4986 (64.2%), ETA: 23m:15s, Loss: 0.052082\n",
      "Batches processed: 3400/4986 (68.2%), ETA: 20m:38s, Loss: 0.061637\n",
      "Batches processed: 3600/4986 (72.2%), ETA: 18m:03s, Loss: 0.060123\n",
      "Batches processed: 3800/4986 (76.2%), ETA: 15m:27s, Loss: 0.076625\n",
      "Batches processed: 4000/4986 (80.2%), ETA: 12m:50s, Loss: 0.055778\n",
      "Batches processed: 4200/4986 (84.2%), ETA: 10m:14s, Loss: 0.078913\n",
      "Batches processed: 4400/4986 (88.2%), ETA: 07m:37s, Loss: 0.060939\n",
      "Batches processed: 4600/4986 (92.3%), ETA: 05m:01s, Loss: 0.070053\n",
      "Batches processed: 4800/4986 (96.3%), ETA: 02m:25s, Loss: 0.056962\n",
      "Batches processed: 4986/4986 (100.0%), ETA: 0s, Loss: 0.054011\n",
      "Save model and optimizer state to results/largescale/artificial/125_0.30/imagenet-full/checkpoints/15.pth.tar\n",
      "Batches processed: 200/5025 (4.0%), ETA: 55m:50s\n",
      "Batches processed: 400/5025 (8.0%), ETA: 52m:59s\n"
     ]
    },
    {
     "name": "stderr",
     "output_type": "stream",
     "text": [
      "/home/chris/miniconda2/envs/pytorch4/lib/python3.6/site-packages/PIL/TiffImagePlugin.py:739: UserWarning: Possibly corrupt EXIF data.  Expecting to read 19660800 bytes but only got 0. Skipping tag 0\n",
      "  \" Skipping tag %s\" % (size, len(data), tag))\n",
      "/home/chris/miniconda2/envs/pytorch4/lib/python3.6/site-packages/PIL/TiffImagePlugin.py:739: UserWarning: Possibly corrupt EXIF data.  Expecting to read 18481152 bytes but only got 0. Skipping tag 0\n",
      "  \" Skipping tag %s\" % (size, len(data), tag))\n",
      "/home/chris/miniconda2/envs/pytorch4/lib/python3.6/site-packages/PIL/TiffImagePlugin.py:739: UserWarning: Possibly corrupt EXIF data.  Expecting to read 37093376 bytes but only got 0. Skipping tag 0\n",
      "  \" Skipping tag %s\" % (size, len(data), tag))\n",
      "/home/chris/miniconda2/envs/pytorch4/lib/python3.6/site-packages/PIL/TiffImagePlugin.py:739: UserWarning: Possibly corrupt EXIF data.  Expecting to read 39976960 bytes but only got 0. Skipping tag 0\n",
      "  \" Skipping tag %s\" % (size, len(data), tag))\n",
      "/home/chris/miniconda2/envs/pytorch4/lib/python3.6/site-packages/PIL/TiffImagePlugin.py:739: UserWarning: Possibly corrupt EXIF data.  Expecting to read 34865152 bytes but only got 0. Skipping tag 0\n",
      "  \" Skipping tag %s\" % (size, len(data), tag))\n",
      "/home/chris/miniconda2/envs/pytorch4/lib/python3.6/site-packages/PIL/TiffImagePlugin.py:756: UserWarning: Corrupt EXIF data.  Expecting to read 12 bytes but only got 10. \n",
      "  warnings.warn(str(msg))\n",
      "/home/chris/miniconda2/envs/pytorch4/lib/python3.6/site-packages/PIL/TiffImagePlugin.py:739: UserWarning: Possibly corrupt EXIF data.  Expecting to read 2555904 bytes but only got 0. Skipping tag 0\n",
      "  \" Skipping tag %s\" % (size, len(data), tag))\n"
     ]
    },
    {
     "name": "stdout",
     "output_type": "stream",
     "text": [
      "Batches processed: 600/5025 (11.9%), ETA: 50m:39s\n",
      "Batches processed: 800/5025 (15.9%), ETA: 47m:59s\n",
      "Batches processed: 1000/5025 (19.9%), ETA: 44m:52s\n",
      "Batches processed: 1200/5025 (23.9%), ETA: 42m:26s\n",
      "Batches processed: 1400/5025 (27.9%), ETA: 40m:12s\n"
     ]
    },
    {
     "name": "stderr",
     "output_type": "stream",
     "text": [
      "/home/chris/miniconda2/envs/pytorch4/lib/python3.6/site-packages/PIL/TiffImagePlugin.py:756: UserWarning: Corrupt EXIF data.  Expecting to read 4 bytes but only got 0. \n",
      "  warnings.warn(str(msg))\n"
     ]
    },
    {
     "name": "stdout",
     "output_type": "stream",
     "text": [
      "Batches processed: 1600/5025 (31.8%), ETA: 38m:02s\n"
     ]
    },
    {
     "name": "stderr",
     "output_type": "stream",
     "text": [
      "/home/chris/miniconda2/envs/pytorch4/lib/python3.6/site-packages/PIL/TiffImagePlugin.py:739: UserWarning: Possibly corrupt EXIF data.  Expecting to read 2555904 bytes but only got 0. Skipping tag 0\n",
      "  \" Skipping tag %s\" % (size, len(data), tag))\n"
     ]
    },
    {
     "name": "stdout",
     "output_type": "stream",
     "text": [
      "Batches processed: 1800/5025 (35.8%), ETA: 36m:00s\n",
      "Batches processed: 2000/5025 (39.8%), ETA: 33m:54s\n",
      "Batches processed: 2200/5025 (43.8%), ETA: 31m:48s\n",
      "Batches processed: 2400/5025 (47.8%), ETA: 29m:33s\n",
      "Batches processed: 2600/5025 (51.7%), ETA: 27m:19s\n",
      "Batches processed: 2800/5025 (55.7%), ETA: 25m:10s\n",
      "Batches processed: 3000/5025 (59.7%), ETA: 22m:56s\n",
      "Batches processed: 3200/5025 (63.7%), ETA: 20m:36s\n",
      "Batches processed: 3400/5025 (67.7%), ETA: 18m:20s\n",
      "Batches processed: 3600/5025 (71.6%), ETA: 16m:02s\n",
      "Batches processed: 3800/5025 (75.6%), ETA: 13m:48s\n",
      "Batches processed: 4000/5025 (79.6%), ETA: 11m:33s\n",
      "Batches processed: 4200/5025 (83.6%), ETA: 09m:18s\n",
      "Batches processed: 4400/5025 (87.6%), ETA: 07m:02s\n",
      "Batches processed: 4600/5025 (91.5%), ETA: 04m:47s\n",
      "Batches processed: 4800/5025 (95.5%), ETA: 02m:32s\n",
      "Batches processed: 5000/5025 (99.5%), ETA: 17s\n",
      "Batches processed: 5025/5025 (100.0%), ETA: 0s\n",
      "Epoch: 15, Train loss: 286.81, mean arithmetic mean: 0.76353\n",
      "Save affinities to results/largescale/artificial/125_0.30/imagenet-full/affinities/15.npy\n",
      "Running experiment with hyperparameters:\n",
      "{'dataset': 'imagenet-full', 'initial_clustering': {'minimum_initial_cluster_size': 200, 'noise_ratio': 0.3}, 'epochs': 15, 'affinity': {'batch_size': 128, 'train_ratio': 0.5, 'log_interval': 200}, 'device': device(type='cuda'), 'learning_rate': 0.001, 'weight_decay': 0, 'sobel': False, 'augmentation': {'random_horizontal_flip': False, 'random_resized_crop': False}, 'variant': 'artificial'}\n",
      "Save initial clustering to results/largescale/artificial/200_0.30/imagenet-full/initial_clustering.npy\n",
      "#Clusters: 5905\n",
      "Epoch: 1\n",
      "Batches processed: 200/4993 (4.0%), ETA: 50m:22s, Loss: 0.689909\n",
      "Batches processed: 400/4993 (8.0%), ETA: 52m:46s, Loss: 0.688552\n",
      "Batches processed: 600/4993 (12.0%), ETA: 53m:09s, Loss: 0.693264\n",
      "Batches processed: 800/4993 (16.0%), ETA: 51m:40s, Loss: 0.696211\n",
      "Batches processed: 1000/4993 (20.0%), ETA: 49m:42s, Loss: 0.690317\n",
      "Batches processed: 1200/4993 (24.0%), ETA: 47m:19s, Loss: 0.690427\n",
      "Batches processed: 1400/4993 (28.0%), ETA: 44m:50s, Loss: 0.685118\n",
      "Batches processed: 1600/4993 (32.0%), ETA: 42m:29s, Loss: 0.686449\n",
      "Batches processed: 1800/4993 (36.1%), ETA: 39m:57s, Loss: 0.681471\n",
      "Batches processed: 2000/4993 (40.1%), ETA: 37m:34s, Loss: 0.678186\n",
      "Batches processed: 2200/4993 (44.1%), ETA: 35m:16s, Loss: 0.674770\n",
      "Batches processed: 2400/4993 (48.1%), ETA: 32m:46s, Loss: 0.679064\n",
      "Batches processed: 2600/4993 (52.1%), ETA: 30m:26s, Loss: 0.681879\n",
      "Batches processed: 2800/4993 (56.1%), ETA: 27m:56s, Loss: 0.672960\n",
      "Batches processed: 3000/4993 (60.1%), ETA: 25m:29s, Loss: 0.680188\n"
     ]
    },
    {
     "name": "stderr",
     "output_type": "stream",
     "text": [
      "/home/chris/miniconda2/envs/pytorch4/lib/python3.6/site-packages/PIL/TiffImagePlugin.py:739: UserWarning: Possibly corrupt EXIF data.  Expecting to read 2555904 bytes but only got 0. Skipping tag 0\n",
      "  \" Skipping tag %s\" % (size, len(data), tag))\n"
     ]
    },
    {
     "name": "stdout",
     "output_type": "stream",
     "text": [
      "Batches processed: 3200/4993 (64.1%), ETA: 22m:57s, Loss: 0.668200\n",
      "Batches processed: 3400/4993 (68.1%), ETA: 20m:25s, Loss: 0.683842\n"
     ]
    },
    {
     "name": "stderr",
     "output_type": "stream",
     "text": [
      "/home/chris/miniconda2/envs/pytorch4/lib/python3.6/site-packages/PIL/TiffImagePlugin.py:756: UserWarning: Corrupt EXIF data.  Expecting to read 4 bytes but only got 0. \n",
      "  warnings.warn(str(msg))\n"
     ]
    },
    {
     "name": "stdout",
     "output_type": "stream",
     "text": [
      "Batches processed: 3600/4993 (72.1%), ETA: 17m:51s, Loss: 0.634450\n"
     ]
    },
    {
     "name": "stderr",
     "output_type": "stream",
     "text": [
      "/home/chris/miniconda2/envs/pytorch4/lib/python3.6/site-packages/PIL/TiffImagePlugin.py:739: UserWarning: Possibly corrupt EXIF data.  Expecting to read 2555904 bytes but only got 0. Skipping tag 0\n",
      "  \" Skipping tag %s\" % (size, len(data), tag))\n"
     ]
    },
    {
     "name": "stdout",
     "output_type": "stream",
     "text": [
      "Batches processed: 3800/4993 (76.1%), ETA: 15m:17s, Loss: 0.675176\n",
      "Batches processed: 4000/4993 (80.1%), ETA: 12m:46s, Loss: 0.623683\n",
      "Batches processed: 4200/4993 (84.1%), ETA: 10m:12s, Loss: 0.649043\n",
      "Batches processed: 4400/4993 (88.1%), ETA: 07m:38s, Loss: 0.608723\n",
      "Batches processed: 4600/4993 (92.1%), ETA: 05m:04s, Loss: 0.626242\n",
      "Batches processed: 4800/4993 (96.1%), ETA: 02m:29s, Loss: 0.617228\n",
      "Batches processed: 4993/4993 (100.0%), ETA: 0s, Loss: 0.628366\n",
      "Save model and optimizer state to results/largescale/artificial/200_0.30/imagenet-full/checkpoints/1.pth.tar\n",
      "Batches processed: 200/5017 (4.0%), ETA: 56m:19s\n",
      "Batches processed: 400/5017 (8.0%), ETA: 55m:29s\n",
      "Batches processed: 600/5017 (12.0%), ETA: 51m:55s\n",
      "Batches processed: 800/5017 (15.9%), ETA: 49m:07s\n"
     ]
    },
    {
     "name": "stderr",
     "output_type": "stream",
     "text": [
      "/home/chris/miniconda2/envs/pytorch4/lib/python3.6/site-packages/PIL/TiffImagePlugin.py:739: UserWarning: Possibly corrupt EXIF data.  Expecting to read 2555904 bytes but only got 0. Skipping tag 0\n",
      "  \" Skipping tag %s\" % (size, len(data), tag))\n"
     ]
    },
    {
     "name": "stdout",
     "output_type": "stream",
     "text": [
      "Batches processed: 1000/5017 (19.9%), ETA: 45m:55s\n",
      "Batches processed: 1200/5017 (23.9%), ETA: 43m:19s\n",
      "Batches processed: 1400/5017 (27.9%), ETA: 40m:45s\n",
      "Batches processed: 1600/5017 (31.9%), ETA: 38m:22s\n"
     ]
    },
    {
     "name": "stderr",
     "output_type": "stream",
     "text": [
      "/home/chris/miniconda2/envs/pytorch4/lib/python3.6/site-packages/PIL/TiffImagePlugin.py:739: UserWarning: Possibly corrupt EXIF data.  Expecting to read 2555904 bytes but only got 0. Skipping tag 0\n",
      "  \" Skipping tag %s\" % (size, len(data), tag))\n",
      "/home/chris/miniconda2/envs/pytorch4/lib/python3.6/site-packages/PIL/TiffImagePlugin.py:739: UserWarning: Possibly corrupt EXIF data.  Expecting to read 2555904 bytes but only got 0. Skipping tag 0\n",
      "  \" Skipping tag %s\" % (size, len(data), tag))\n"
     ]
    },
    {
     "name": "stdout",
     "output_type": "stream",
     "text": [
      "Batches processed: 1800/5017 (35.9%), ETA: 36m:02s\n",
      "Batches processed: 2000/5017 (39.9%), ETA: 33m:42s\n",
      "Batches processed: 2200/5017 (43.9%), ETA: 31m:30s\n"
     ]
    },
    {
     "name": "stderr",
     "output_type": "stream",
     "text": [
      "/home/chris/miniconda2/envs/pytorch4/lib/python3.6/site-packages/PIL/TiffImagePlugin.py:739: UserWarning: Possibly corrupt EXIF data.  Expecting to read 19660800 bytes but only got 0. Skipping tag 0\n",
      "  \" Skipping tag %s\" % (size, len(data), tag))\n",
      "/home/chris/miniconda2/envs/pytorch4/lib/python3.6/site-packages/PIL/TiffImagePlugin.py:739: UserWarning: Possibly corrupt EXIF data.  Expecting to read 18481152 bytes but only got 0. Skipping tag 0\n",
      "  \" Skipping tag %s\" % (size, len(data), tag))\n",
      "/home/chris/miniconda2/envs/pytorch4/lib/python3.6/site-packages/PIL/TiffImagePlugin.py:739: UserWarning: Possibly corrupt EXIF data.  Expecting to read 37093376 bytes but only got 0. Skipping tag 0\n",
      "  \" Skipping tag %s\" % (size, len(data), tag))\n",
      "/home/chris/miniconda2/envs/pytorch4/lib/python3.6/site-packages/PIL/TiffImagePlugin.py:739: UserWarning: Possibly corrupt EXIF data.  Expecting to read 39976960 bytes but only got 0. Skipping tag 0\n",
      "  \" Skipping tag %s\" % (size, len(data), tag))\n",
      "/home/chris/miniconda2/envs/pytorch4/lib/python3.6/site-packages/PIL/TiffImagePlugin.py:739: UserWarning: Possibly corrupt EXIF data.  Expecting to read 34865152 bytes but only got 0. Skipping tag 0\n",
      "  \" Skipping tag %s\" % (size, len(data), tag))\n",
      "/home/chris/miniconda2/envs/pytorch4/lib/python3.6/site-packages/PIL/TiffImagePlugin.py:756: UserWarning: Corrupt EXIF data.  Expecting to read 12 bytes but only got 10. \n",
      "  warnings.warn(str(msg))\n"
     ]
    },
    {
     "name": "stdout",
     "output_type": "stream",
     "text": [
      "Batches processed: 2400/5017 (47.8%), ETA: 29m:12s\n",
      "Batches processed: 2600/5017 (51.8%), ETA: 26m:57s\n",
      "Batches processed: 2800/5017 (55.8%), ETA: 24m:40s\n",
      "Batches processed: 3000/5017 (59.8%), ETA: 22m:29s\n",
      "Batches processed: 3200/5017 (63.8%), ETA: 20m:11s\n",
      "Batches processed: 3400/5017 (67.8%), ETA: 17m:57s\n",
      "Batches processed: 3600/5017 (71.8%), ETA: 15m:42s\n",
      "Batches processed: 3800/5017 (75.7%), ETA: 13m:27s\n",
      "Batches processed: 4000/5017 (79.7%), ETA: 11m:14s\n",
      "Batches processed: 4200/5017 (83.7%), ETA: 09m:01s\n",
      "Batches processed: 4400/5017 (87.7%), ETA: 06m:48s\n",
      "Batches processed: 4600/5017 (91.7%), ETA: 04m:35s\n"
     ]
    },
    {
     "name": "stderr",
     "output_type": "stream",
     "text": [
      "/home/chris/miniconda2/envs/pytorch4/lib/python3.6/site-packages/PIL/TiffImagePlugin.py:739: UserWarning: Possibly corrupt EXIF data.  Expecting to read 1835008 bytes but only got 0. Skipping tag 0\n",
      "  \" Skipping tag %s\" % (size, len(data), tag))\n"
     ]
    },
    {
     "name": "stdout",
     "output_type": "stream",
     "text": [
      "Batches processed: 4800/5017 (95.7%), ETA: 02m:23s\n",
      "Batches processed: 5000/5017 (99.7%), ETA: 11s\n",
      "Batches processed: 5017/5017 (100.0%), ETA: 0s\n",
      "Epoch: 1, Train loss: 3377.78, mean arithmetic mean: 0.63513\n",
      "Save affinities to results/largescale/artificial/200_0.30/imagenet-full/affinities/1.npy\n",
      "Epoch: 2\n",
      "Batches processed: 200/4993 (4.0%), ETA: 1h:01m:12s, Loss: 0.630849\n",
      "Batches processed: 400/4993 (8.0%), ETA: 58m:44s, Loss: 0.609477\n",
      "Batches processed: 600/4993 (12.0%), ETA: 56m:35s, Loss: 0.592695\n",
      "Batches processed: 800/4993 (16.0%), ETA: 54m:07s, Loss: 0.615860\n",
      "Batches processed: 1000/4993 (20.0%), ETA: 51m:37s, Loss: 0.602959\n"
     ]
    },
    {
     "name": "stderr",
     "output_type": "stream",
     "text": [
      "/home/chris/miniconda2/envs/pytorch4/lib/python3.6/site-packages/PIL/TiffImagePlugin.py:756: UserWarning: Corrupt EXIF data.  Expecting to read 4 bytes but only got 0. \n",
      "  warnings.warn(str(msg))\n"
     ]
    },
    {
     "name": "stdout",
     "output_type": "stream",
     "text": [
      "Batches processed: 1200/4993 (24.0%), ETA: 49m:28s, Loss: 0.586037\n",
      "Batches processed: 1400/4993 (28.0%), ETA: 46m:44s, Loss: 0.576350\n",
      "Batches processed: 1600/4993 (32.0%), ETA: 44m:28s, Loss: 0.631521\n"
     ]
    },
    {
     "name": "stderr",
     "output_type": "stream",
     "text": [
      "/home/chris/miniconda2/envs/pytorch4/lib/python3.6/site-packages/PIL/TiffImagePlugin.py:739: UserWarning: Possibly corrupt EXIF data.  Expecting to read 2555904 bytes but only got 0. Skipping tag 0\n",
      "  \" Skipping tag %s\" % (size, len(data), tag))\n"
     ]
    },
    {
     "name": "stdout",
     "output_type": "stream",
     "text": [
      "Batches processed: 1800/4993 (36.1%), ETA: 41m:57s, Loss: 0.613218\n",
      "Batches processed: 2000/4993 (40.1%), ETA: 39m:21s, Loss: 0.574217\n",
      "Batches processed: 2200/4993 (44.1%), ETA: 36m:39s, Loss: 0.552108\n",
      "Batches processed: 2400/4993 (48.1%), ETA: 34m:10s, Loss: 0.577538\n",
      "Batches processed: 2600/4993 (52.1%), ETA: 31m:34s, Loss: 0.595645\n"
     ]
    },
    {
     "name": "stderr",
     "output_type": "stream",
     "text": [
      "/home/chris/miniconda2/envs/pytorch4/lib/python3.6/site-packages/PIL/TiffImagePlugin.py:739: UserWarning: Possibly corrupt EXIF data.  Expecting to read 2555904 bytes but only got 0. Skipping tag 0\n",
      "  \" Skipping tag %s\" % (size, len(data), tag))\n"
     ]
    },
    {
     "name": "stdout",
     "output_type": "stream",
     "text": [
      "Batches processed: 2800/4993 (56.1%), ETA: 28m:55s, Loss: 0.552813\n",
      "Batches processed: 3000/4993 (60.1%), ETA: 26m:19s, Loss: 0.575098\n",
      "Batches processed: 3200/4993 (64.1%), ETA: 23m:43s, Loss: 0.578901\n",
      "Batches processed: 3400/4993 (68.1%), ETA: 21m:01s, Loss: 0.585361\n",
      "Batches processed: 3600/4993 (72.1%), ETA: 18m:23s, Loss: 0.585929\n",
      "Batches processed: 3800/4993 (76.1%), ETA: 15m:43s, Loss: 0.522501\n",
      "Batches processed: 4000/4993 (80.1%), ETA: 13m:06s, Loss: 0.552141\n",
      "Batches processed: 4200/4993 (84.1%), ETA: 10m:29s, Loss: 0.579779\n",
      "Batches processed: 4400/4993 (88.1%), ETA: 07m:50s, Loss: 0.612178\n",
      "Batches processed: 4600/4993 (92.1%), ETA: 05m:11s, Loss: 0.502443\n",
      "Batches processed: 4800/4993 (96.1%), ETA: 02m:33s, Loss: 0.512323\n",
      "Batches processed: 4993/4993 (100.0%), ETA: 0s, Loss: 0.627064\n",
      "Save model and optimizer state to results/largescale/artificial/200_0.30/imagenet-full/checkpoints/2.pth.tar\n",
      "Batches processed: 200/5017 (4.0%), ETA: 56m:30s\n",
      "Batches processed: 400/5017 (8.0%), ETA: 54m:30s\n",
      "Batches processed: 600/5017 (12.0%), ETA: 51m:09s\n",
      "Batches processed: 800/5017 (15.9%), ETA: 48m:26s\n"
     ]
    },
    {
     "name": "stderr",
     "output_type": "stream",
     "text": [
      "/home/chris/miniconda2/envs/pytorch4/lib/python3.6/site-packages/PIL/TiffImagePlugin.py:739: UserWarning: Possibly corrupt EXIF data.  Expecting to read 2555904 bytes but only got 0. Skipping tag 0\n",
      "  \" Skipping tag %s\" % (size, len(data), tag))\n"
     ]
    },
    {
     "name": "stdout",
     "output_type": "stream",
     "text": [
      "Batches processed: 1000/5017 (19.9%), ETA: 45m:12s\n",
      "Batches processed: 1200/5017 (23.9%), ETA: 42m:39s\n",
      "Batches processed: 1400/5017 (27.9%), ETA: 40m:08s\n",
      "Batches processed: 1600/5017 (31.9%), ETA: 37m:59s\n"
     ]
    },
    {
     "name": "stderr",
     "output_type": "stream",
     "text": [
      "/home/chris/miniconda2/envs/pytorch4/lib/python3.6/site-packages/PIL/TiffImagePlugin.py:739: UserWarning: Possibly corrupt EXIF data.  Expecting to read 2555904 bytes but only got 0. Skipping tag 0\n",
      "  \" Skipping tag %s\" % (size, len(data), tag))\n",
      "/home/chris/miniconda2/envs/pytorch4/lib/python3.6/site-packages/PIL/TiffImagePlugin.py:739: UserWarning: Possibly corrupt EXIF data.  Expecting to read 2555904 bytes but only got 0. Skipping tag 0\n",
      "  \" Skipping tag %s\" % (size, len(data), tag))\n"
     ]
    },
    {
     "name": "stdout",
     "output_type": "stream",
     "text": [
      "Batches processed: 1800/5017 (35.9%), ETA: 35m:40s\n",
      "Batches processed: 2000/5017 (39.9%), ETA: 33m:27s\n",
      "Batches processed: 2200/5017 (43.9%), ETA: 31m:11s\n"
     ]
    },
    {
     "name": "stderr",
     "output_type": "stream",
     "text": [
      "/home/chris/miniconda2/envs/pytorch4/lib/python3.6/site-packages/PIL/TiffImagePlugin.py:739: UserWarning: Possibly corrupt EXIF data.  Expecting to read 19660800 bytes but only got 0. Skipping tag 0\n",
      "  \" Skipping tag %s\" % (size, len(data), tag))\n",
      "/home/chris/miniconda2/envs/pytorch4/lib/python3.6/site-packages/PIL/TiffImagePlugin.py:739: UserWarning: Possibly corrupt EXIF data.  Expecting to read 18481152 bytes but only got 0. Skipping tag 0\n",
      "  \" Skipping tag %s\" % (size, len(data), tag))\n",
      "/home/chris/miniconda2/envs/pytorch4/lib/python3.6/site-packages/PIL/TiffImagePlugin.py:739: UserWarning: Possibly corrupt EXIF data.  Expecting to read 37093376 bytes but only got 0. Skipping tag 0\n",
      "  \" Skipping tag %s\" % (size, len(data), tag))\n",
      "/home/chris/miniconda2/envs/pytorch4/lib/python3.6/site-packages/PIL/TiffImagePlugin.py:739: UserWarning: Possibly corrupt EXIF data.  Expecting to read 39976960 bytes but only got 0. Skipping tag 0\n",
      "  \" Skipping tag %s\" % (size, len(data), tag))\n",
      "/home/chris/miniconda2/envs/pytorch4/lib/python3.6/site-packages/PIL/TiffImagePlugin.py:739: UserWarning: Possibly corrupt EXIF data.  Expecting to read 34865152 bytes but only got 0. Skipping tag 0\n",
      "  \" Skipping tag %s\" % (size, len(data), tag))\n",
      "/home/chris/miniconda2/envs/pytorch4/lib/python3.6/site-packages/PIL/TiffImagePlugin.py:756: UserWarning: Corrupt EXIF data.  Expecting to read 12 bytes but only got 10. \n",
      "  warnings.warn(str(msg))\n"
     ]
    },
    {
     "name": "stdout",
     "output_type": "stream",
     "text": [
      "Batches processed: 2400/5017 (47.8%), ETA: 29m:00s\n",
      "Batches processed: 2600/5017 (51.8%), ETA: 26m:45s\n",
      "Batches processed: 2800/5017 (55.8%), ETA: 24m:30s\n",
      "Batches processed: 3000/5017 (59.8%), ETA: 22m:18s\n",
      "Batches processed: 3200/5017 (63.8%), ETA: 20m:02s\n",
      "Batches processed: 3400/5017 (67.8%), ETA: 17m:50s\n",
      "Batches processed: 3600/5017 (71.8%), ETA: 15m:34s\n",
      "Batches processed: 3800/5017 (75.7%), ETA: 13m:21s\n",
      "Batches processed: 4000/5017 (79.7%), ETA: 11m:10s\n",
      "Batches processed: 4200/5017 (83.7%), ETA: 08m:59s\n",
      "Batches processed: 4400/5017 (87.7%), ETA: 06m:47s\n",
      "Batches processed: 4600/5017 (91.7%), ETA: 04m:35s\n"
     ]
    },
    {
     "name": "stderr",
     "output_type": "stream",
     "text": [
      "/home/chris/miniconda2/envs/pytorch4/lib/python3.6/site-packages/PIL/TiffImagePlugin.py:739: UserWarning: Possibly corrupt EXIF data.  Expecting to read 1835008 bytes but only got 0. Skipping tag 0\n",
      "  \" Skipping tag %s\" % (size, len(data), tag))\n"
     ]
    },
    {
     "name": "stdout",
     "output_type": "stream",
     "text": [
      "Batches processed: 4800/5017 (95.7%), ETA: 02m:23s\n",
      "Batches processed: 5000/5017 (99.7%), ETA: 11s\n",
      "Batches processed: 5017/5017 (100.0%), ETA: 0s\n",
      "Epoch: 2, Train loss: 2913.57, mean arithmetic mean: 0.73103\n",
      "Save affinities to results/largescale/artificial/200_0.30/imagenet-full/affinities/2.npy\n",
      "Epoch: 3\n",
      "Batches processed: 200/4993 (4.0%), ETA: 1h:01m:59s, Loss: 0.537293\n",
      "Batches processed: 400/4993 (8.0%), ETA: 59m:10s, Loss: 0.476105\n",
      "Batches processed: 600/4993 (12.0%), ETA: 56m:44s, Loss: 0.483550\n",
      "Batches processed: 800/4993 (16.0%), ETA: 54m:07s, Loss: 0.458553\n",
      "Batches processed: 1000/4993 (20.0%), ETA: 52m:00s, Loss: 0.508966\n",
      "Batches processed: 1200/4993 (24.0%), ETA: 49m:21s, Loss: 0.440785\n",
      "Batches processed: 1400/4993 (28.0%), ETA: 47m:11s, Loss: 0.489803\n",
      "Batches processed: 1600/4993 (32.0%), ETA: 44m:31s, Loss: 0.485422\n",
      "Batches processed: 1800/4993 (36.1%), ETA: 42m:04s, Loss: 0.519676\n",
      "Batches processed: 2000/4993 (40.1%), ETA: 39m:32s, Loss: 0.500833\n"
     ]
    },
    {
     "name": "stderr",
     "output_type": "stream",
     "text": [
      "/home/chris/miniconda2/envs/pytorch4/lib/python3.6/site-packages/PIL/TiffImagePlugin.py:739: UserWarning: Possibly corrupt EXIF data.  Expecting to read 2555904 bytes but only got 0. Skipping tag 0\n",
      "  \" Skipping tag %s\" % (size, len(data), tag))\n"
     ]
    },
    {
     "name": "stdout",
     "output_type": "stream",
     "text": [
      "Batches processed: 2200/4993 (44.1%), ETA: 36m:46s, Loss: 0.451592\n",
      "Batches processed: 2400/4993 (48.1%), ETA: 34m:13s, Loss: 0.538635\n"
     ]
    },
    {
     "name": "stderr",
     "output_type": "stream",
     "text": [
      "/home/chris/miniconda2/envs/pytorch4/lib/python3.6/site-packages/PIL/TiffImagePlugin.py:739: UserWarning: Possibly corrupt EXIF data.  Expecting to read 2555904 bytes but only got 0. Skipping tag 0\n",
      "  \" Skipping tag %s\" % (size, len(data), tag))\n"
     ]
    },
    {
     "name": "stdout",
     "output_type": "stream",
     "text": [
      "Batches processed: 2600/4993 (52.1%), ETA: 31m:35s, Loss: 0.504324\n",
      "Batches processed: 2800/4993 (56.1%), ETA: 29m:00s, Loss: 0.515248\n",
      "Batches processed: 3000/4993 (60.1%), ETA: 26m:22s, Loss: 0.549183\n",
      "Batches processed: 3200/4993 (64.1%), ETA: 23m:43s, Loss: 0.466367\n",
      "Batches processed: 3400/4993 (68.1%), ETA: 21m:06s, Loss: 0.459829\n",
      "Batches processed: 3600/4993 (72.1%), ETA: 18m:29s, Loss: 0.488283\n",
      "Batches processed: 3800/4993 (76.1%), ETA: 15m:49s, Loss: 0.491912\n",
      "Batches processed: 4000/4993 (80.1%), ETA: 13m:12s, Loss: 0.479885\n",
      "Batches processed: 4200/4993 (84.1%), ETA: 10m:32s, Loss: 0.456471\n",
      "Batches processed: 4400/4993 (88.1%), ETA: 07m:53s, Loss: 0.499519\n",
      "Batches processed: 4600/4993 (92.1%), ETA: 05m:14s, Loss: 0.488496\n"
     ]
    },
    {
     "name": "stderr",
     "output_type": "stream",
     "text": [
      "/home/chris/miniconda2/envs/pytorch4/lib/python3.6/site-packages/PIL/TiffImagePlugin.py:756: UserWarning: Corrupt EXIF data.  Expecting to read 4 bytes but only got 0. \n",
      "  warnings.warn(str(msg))\n"
     ]
    },
    {
     "name": "stdout",
     "output_type": "stream",
     "text": [
      "Batches processed: 4800/4993 (96.1%), ETA: 02m:34s, Loss: 0.435083\n",
      "Batches processed: 4993/4993 (100.0%), ETA: 0s, Loss: 0.447350\n",
      "Save model and optimizer state to results/largescale/artificial/200_0.30/imagenet-full/checkpoints/3.pth.tar\n",
      "Batches processed: 200/5017 (4.0%), ETA: 56m:04s\n",
      "Batches processed: 400/5017 (8.0%), ETA: 54m:58s\n",
      "Batches processed: 600/5017 (12.0%), ETA: 51m:48s\n",
      "Batches processed: 800/5017 (15.9%), ETA: 49m:03s\n"
     ]
    },
    {
     "name": "stderr",
     "output_type": "stream",
     "text": [
      "/home/chris/miniconda2/envs/pytorch4/lib/python3.6/site-packages/PIL/TiffImagePlugin.py:739: UserWarning: Possibly corrupt EXIF data.  Expecting to read 2555904 bytes but only got 0. Skipping tag 0\n",
      "  \" Skipping tag %s\" % (size, len(data), tag))\n"
     ]
    },
    {
     "name": "stdout",
     "output_type": "stream",
     "text": [
      "Batches processed: 1000/5017 (19.9%), ETA: 45m:40s\n",
      "Batches processed: 1200/5017 (23.9%), ETA: 42m:48s\n",
      "Batches processed: 1400/5017 (27.9%), ETA: 40m:27s\n",
      "Batches processed: 1600/5017 (31.9%), ETA: 38m:18s\n"
     ]
    },
    {
     "name": "stderr",
     "output_type": "stream",
     "text": [
      "/home/chris/miniconda2/envs/pytorch4/lib/python3.6/site-packages/PIL/TiffImagePlugin.py:739: UserWarning: Possibly corrupt EXIF data.  Expecting to read 2555904 bytes but only got 0. Skipping tag 0\n",
      "  \" Skipping tag %s\" % (size, len(data), tag))\n",
      "/home/chris/miniconda2/envs/pytorch4/lib/python3.6/site-packages/PIL/TiffImagePlugin.py:739: UserWarning: Possibly corrupt EXIF data.  Expecting to read 2555904 bytes but only got 0. Skipping tag 0\n",
      "  \" Skipping tag %s\" % (size, len(data), tag))\n"
     ]
    },
    {
     "name": "stdout",
     "output_type": "stream",
     "text": [
      "Batches processed: 1800/5017 (35.9%), ETA: 35m:56s\n",
      "Batches processed: 2000/5017 (39.9%), ETA: 33m:51s\n",
      "Batches processed: 2200/5017 (43.9%), ETA: 31m:35s\n"
     ]
    },
    {
     "name": "stderr",
     "output_type": "stream",
     "text": [
      "/home/chris/miniconda2/envs/pytorch4/lib/python3.6/site-packages/PIL/TiffImagePlugin.py:739: UserWarning: Possibly corrupt EXIF data.  Expecting to read 19660800 bytes but only got 0. Skipping tag 0\n",
      "  \" Skipping tag %s\" % (size, len(data), tag))\n",
      "/home/chris/miniconda2/envs/pytorch4/lib/python3.6/site-packages/PIL/TiffImagePlugin.py:739: UserWarning: Possibly corrupt EXIF data.  Expecting to read 18481152 bytes but only got 0. Skipping tag 0\n",
      "  \" Skipping tag %s\" % (size, len(data), tag))\n",
      "/home/chris/miniconda2/envs/pytorch4/lib/python3.6/site-packages/PIL/TiffImagePlugin.py:739: UserWarning: Possibly corrupt EXIF data.  Expecting to read 34865152 bytes but only got 0. Skipping tag 0\n",
      "  \" Skipping tag %s\" % (size, len(data), tag))\n",
      "/home/chris/miniconda2/envs/pytorch4/lib/python3.6/site-packages/PIL/TiffImagePlugin.py:739: UserWarning: Possibly corrupt EXIF data.  Expecting to read 37093376 bytes but only got 0. Skipping tag 0\n",
      "  \" Skipping tag %s\" % (size, len(data), tag))\n",
      "/home/chris/miniconda2/envs/pytorch4/lib/python3.6/site-packages/PIL/TiffImagePlugin.py:739: UserWarning: Possibly corrupt EXIF data.  Expecting to read 39976960 bytes but only got 0. Skipping tag 0\n",
      "  \" Skipping tag %s\" % (size, len(data), tag))\n",
      "/home/chris/miniconda2/envs/pytorch4/lib/python3.6/site-packages/PIL/TiffImagePlugin.py:756: UserWarning: Corrupt EXIF data.  Expecting to read 12 bytes but only got 10. \n",
      "  warnings.warn(str(msg))\n"
     ]
    },
    {
     "name": "stdout",
     "output_type": "stream",
     "text": [
      "Batches processed: 2400/5017 (47.8%), ETA: 29m:15s\n",
      "Batches processed: 2600/5017 (51.8%), ETA: 27m:00s\n",
      "Batches processed: 2800/5017 (55.8%), ETA: 24m:39s\n",
      "Batches processed: 3000/5017 (59.8%), ETA: 22m:26s\n",
      "Batches processed: 3200/5017 (63.8%), ETA: 20m:07s\n",
      "Batches processed: 3400/5017 (67.8%), ETA: 17m:54s\n",
      "Batches processed: 3600/5017 (71.8%), ETA: 15m:42s\n",
      "Batches processed: 3800/5017 (75.7%), ETA: 13m:28s\n",
      "Batches processed: 4000/5017 (79.7%), ETA: 11m:15s\n",
      "Batches processed: 4200/5017 (83.7%), ETA: 09m:01s\n",
      "Batches processed: 4400/5017 (87.7%), ETA: 06m:49s\n",
      "Batches processed: 4600/5017 (91.7%), ETA: 04m:36s\n"
     ]
    },
    {
     "name": "stderr",
     "output_type": "stream",
     "text": [
      "/home/chris/miniconda2/envs/pytorch4/lib/python3.6/site-packages/PIL/TiffImagePlugin.py:739: UserWarning: Possibly corrupt EXIF data.  Expecting to read 1835008 bytes but only got 0. Skipping tag 0\n",
      "  \" Skipping tag %s\" % (size, len(data), tag))\n"
     ]
    },
    {
     "name": "stdout",
     "output_type": "stream",
     "text": [
      "Batches processed: 4800/5017 (95.7%), ETA: 02m:24s\n",
      "Batches processed: 5000/5017 (99.7%), ETA: 11s\n",
      "Batches processed: 5017/5017 (100.0%), ETA: 0s\n",
      "Epoch: 3, Train loss: 2466.22, mean arithmetic mean: 0.76787\n",
      "Save affinities to results/largescale/artificial/200_0.30/imagenet-full/affinities/3.npy\n",
      "Epoch: 4\n",
      "Batches processed: 200/4993 (4.0%), ETA: 59m:12s, Loss: 0.409830\n",
      "Batches processed: 400/4993 (8.0%), ETA: 58m:14s, Loss: 0.429469\n",
      "Batches processed: 600/4993 (12.0%), ETA: 57m:50s, Loss: 0.462926\n",
      "Batches processed: 800/4993 (16.0%), ETA: 55m:21s, Loss: 0.450831\n",
      "Batches processed: 1000/4993 (20.0%), ETA: 52m:37s, Loss: 0.480852\n",
      "Batches processed: 1200/4993 (24.0%), ETA: 49m:45s, Loss: 0.470702\n",
      "Batches processed: 1400/4993 (28.0%), ETA: 47m:17s, Loss: 0.445881\n"
     ]
    },
    {
     "name": "stderr",
     "output_type": "stream",
     "text": [
      "/home/chris/miniconda2/envs/pytorch4/lib/python3.6/site-packages/PIL/TiffImagePlugin.py:739: UserWarning: Possibly corrupt EXIF data.  Expecting to read 2555904 bytes but only got 0. Skipping tag 0\n",
      "  \" Skipping tag %s\" % (size, len(data), tag))\n"
     ]
    },
    {
     "name": "stdout",
     "output_type": "stream",
     "text": [
      "Batches processed: 1600/4993 (32.0%), ETA: 44m:58s, Loss: 0.429324\n",
      "Batches processed: 1800/4993 (36.1%), ETA: 42m:15s, Loss: 0.428586\n"
     ]
    },
    {
     "name": "stderr",
     "output_type": "stream",
     "text": [
      "/home/chris/miniconda2/envs/pytorch4/lib/python3.6/site-packages/PIL/TiffImagePlugin.py:756: UserWarning: Corrupt EXIF data.  Expecting to read 4 bytes but only got 0. \n",
      "  warnings.warn(str(msg))\n"
     ]
    },
    {
     "name": "stdout",
     "output_type": "stream",
     "text": [
      "Batches processed: 2000/4993 (40.1%), ETA: 39m:31s, Loss: 0.419929\n",
      "Batches processed: 2200/4993 (44.1%), ETA: 36m:56s, Loss: 0.419469\n",
      "Batches processed: 2400/4993 (48.1%), ETA: 34m:14s, Loss: 0.431998\n",
      "Batches processed: 2600/4993 (52.1%), ETA: 31m:36s, Loss: 0.466065\n",
      "Batches processed: 2800/4993 (56.1%), ETA: 28m:57s, Loss: 0.470207\n",
      "Batches processed: 3000/4993 (60.1%), ETA: 26m:21s, Loss: 0.396946\n",
      "Batches processed: 3200/4993 (64.1%), ETA: 23m:41s, Loss: 0.425945\n",
      "Batches processed: 3400/4993 (68.1%), ETA: 21m:01s, Loss: 0.436388\n",
      "Batches processed: 3600/4993 (72.1%), ETA: 18m:22s, Loss: 0.455219\n",
      "Batches processed: 3800/4993 (76.1%), ETA: 15m:44s, Loss: 0.381705\n"
     ]
    },
    {
     "name": "stderr",
     "output_type": "stream",
     "text": [
      "/home/chris/miniconda2/envs/pytorch4/lib/python3.6/site-packages/PIL/TiffImagePlugin.py:739: UserWarning: Possibly corrupt EXIF data.  Expecting to read 2555904 bytes but only got 0. Skipping tag 0\n",
      "  \" Skipping tag %s\" % (size, len(data), tag))\n"
     ]
    },
    {
     "name": "stdout",
     "output_type": "stream",
     "text": [
      "Batches processed: 4000/4993 (80.1%), ETA: 13m:06s, Loss: 0.411454\n",
      "Batches processed: 4200/4993 (84.1%), ETA: 10m:29s, Loss: 0.463986\n",
      "Batches processed: 4400/4993 (88.1%), ETA: 07m:50s, Loss: 0.426133\n",
      "Batches processed: 4600/4993 (92.1%), ETA: 05m:12s, Loss: 0.414527\n",
      "Batches processed: 4800/4993 (96.1%), ETA: 02m:33s, Loss: 0.475269\n",
      "Batches processed: 4993/4993 (100.0%), ETA: 0s, Loss: 0.469517\n",
      "Save model and optimizer state to results/largescale/artificial/200_0.30/imagenet-full/checkpoints/4.pth.tar\n",
      "Batches processed: 200/5017 (4.0%), ETA: 52m:17s\n",
      "Batches processed: 400/5017 (8.0%), ETA: 51m:12s\n",
      "Batches processed: 600/5017 (12.0%), ETA: 50m:04s\n",
      "Batches processed: 800/5017 (15.9%), ETA: 47m:50s\n"
     ]
    },
    {
     "name": "stderr",
     "output_type": "stream",
     "text": [
      "/home/chris/miniconda2/envs/pytorch4/lib/python3.6/site-packages/PIL/TiffImagePlugin.py:739: UserWarning: Possibly corrupt EXIF data.  Expecting to read 2555904 bytes but only got 0. Skipping tag 0\n",
      "  \" Skipping tag %s\" % (size, len(data), tag))\n"
     ]
    },
    {
     "name": "stdout",
     "output_type": "stream",
     "text": [
      "Batches processed: 1000/5017 (19.9%), ETA: 44m:20s\n",
      "Batches processed: 1200/5017 (23.9%), ETA: 41m:30s\n",
      "Batches processed: 1400/5017 (27.9%), ETA: 39m:26s\n",
      "Batches processed: 1600/5017 (31.9%), ETA: 37m:13s\n"
     ]
    },
    {
     "name": "stderr",
     "output_type": "stream",
     "text": [
      "/home/chris/miniconda2/envs/pytorch4/lib/python3.6/site-packages/PIL/TiffImagePlugin.py:739: UserWarning: Possibly corrupt EXIF data.  Expecting to read 2555904 bytes but only got 0. Skipping tag 0\n",
      "  \" Skipping tag %s\" % (size, len(data), tag))\n",
      "/home/chris/miniconda2/envs/pytorch4/lib/python3.6/site-packages/PIL/TiffImagePlugin.py:739: UserWarning: Possibly corrupt EXIF data.  Expecting to read 2555904 bytes but only got 0. Skipping tag 0\n",
      "  \" Skipping tag %s\" % (size, len(data), tag))\n"
     ]
    },
    {
     "name": "stdout",
     "output_type": "stream",
     "text": [
      "Batches processed: 1800/5017 (35.9%), ETA: 34m:59s\n",
      "Batches processed: 2000/5017 (39.9%), ETA: 32m:43s\n",
      "Batches processed: 2200/5017 (43.9%), ETA: 30m:34s\n"
     ]
    },
    {
     "name": "stderr",
     "output_type": "stream",
     "text": [
      "/home/chris/miniconda2/envs/pytorch4/lib/python3.6/site-packages/PIL/TiffImagePlugin.py:739: UserWarning: Possibly corrupt EXIF data.  Expecting to read 19660800 bytes but only got 0. Skipping tag 0\n",
      "  \" Skipping tag %s\" % (size, len(data), tag))\n",
      "/home/chris/miniconda2/envs/pytorch4/lib/python3.6/site-packages/PIL/TiffImagePlugin.py:739: UserWarning: Possibly corrupt EXIF data.  Expecting to read 18481152 bytes but only got 0. Skipping tag 0\n",
      "  \" Skipping tag %s\" % (size, len(data), tag))\n",
      "/home/chris/miniconda2/envs/pytorch4/lib/python3.6/site-packages/PIL/TiffImagePlugin.py:739: UserWarning: Possibly corrupt EXIF data.  Expecting to read 37093376 bytes but only got 0. Skipping tag 0\n",
      "  \" Skipping tag %s\" % (size, len(data), tag))\n",
      "/home/chris/miniconda2/envs/pytorch4/lib/python3.6/site-packages/PIL/TiffImagePlugin.py:739: UserWarning: Possibly corrupt EXIF data.  Expecting to read 39976960 bytes but only got 0. Skipping tag 0\n",
      "  \" Skipping tag %s\" % (size, len(data), tag))\n",
      "/home/chris/miniconda2/envs/pytorch4/lib/python3.6/site-packages/PIL/TiffImagePlugin.py:739: UserWarning: Possibly corrupt EXIF data.  Expecting to read 34865152 bytes but only got 0. Skipping tag 0\n",
      "  \" Skipping tag %s\" % (size, len(data), tag))\n",
      "/home/chris/miniconda2/envs/pytorch4/lib/python3.6/site-packages/PIL/TiffImagePlugin.py:756: UserWarning: Corrupt EXIF data.  Expecting to read 12 bytes but only got 10. \n",
      "  warnings.warn(str(msg))\n"
     ]
    },
    {
     "name": "stdout",
     "output_type": "stream",
     "text": [
      "Batches processed: 2400/5017 (47.8%), ETA: 28m:17s\n",
      "Batches processed: 2600/5017 (51.8%), ETA: 26m:06s\n",
      "Batches processed: 2800/5017 (55.8%), ETA: 24m:03s\n",
      "Batches processed: 3000/5017 (59.8%), ETA: 21m:54s\n",
      "Batches processed: 3200/5017 (63.8%), ETA: 19m:37s\n",
      "Batches processed: 3400/5017 (67.8%), ETA: 17m:27s\n",
      "Batches processed: 3600/5017 (71.8%), ETA: 15m:18s\n",
      "Batches processed: 3800/5017 (75.7%), ETA: 13m:08s\n",
      "Batches processed: 4000/5017 (79.7%), ETA: 10m:56s\n",
      "Batches processed: 4200/5017 (83.7%), ETA: 08m:46s\n",
      "Batches processed: 4400/5017 (87.7%), ETA: 06m:37s\n",
      "Batches processed: 4600/5017 (91.7%), ETA: 04m:28s\n"
     ]
    },
    {
     "name": "stderr",
     "output_type": "stream",
     "text": [
      "/home/chris/miniconda2/envs/pytorch4/lib/python3.6/site-packages/PIL/TiffImagePlugin.py:739: UserWarning: Possibly corrupt EXIF data.  Expecting to read 1835008 bytes but only got 0. Skipping tag 0\n",
      "  \" Skipping tag %s\" % (size, len(data), tag))\n"
     ]
    },
    {
     "name": "stdout",
     "output_type": "stream",
     "text": [
      "Batches processed: 4800/5017 (95.7%), ETA: 02m:20s\n",
      "Batches processed: 5000/5017 (99.7%), ETA: 11s\n",
      "Batches processed: 5017/5017 (100.0%), ETA: 0s\n",
      "Epoch: 4, Train loss: 2186.83, mean arithmetic mean: 0.78231\n",
      "Save affinities to results/largescale/artificial/200_0.30/imagenet-full/affinities/4.npy\n",
      "Epoch: 5\n",
      "Batches processed: 200/4993 (4.0%), ETA: 59m:20s, Loss: 0.329180\n"
     ]
    },
    {
     "name": "stderr",
     "output_type": "stream",
     "text": [
      "/home/chris/miniconda2/envs/pytorch4/lib/python3.6/site-packages/PIL/TiffImagePlugin.py:756: UserWarning: Corrupt EXIF data.  Expecting to read 4 bytes but only got 0. \n",
      "  warnings.warn(str(msg))\n"
     ]
    },
    {
     "name": "stdout",
     "output_type": "stream",
     "text": [
      "Batches processed: 400/4993 (8.0%), ETA: 57m:19s, Loss: 0.353013\n",
      "Batches processed: 600/4993 (12.0%), ETA: 55m:28s, Loss: 0.391214\n"
     ]
    },
    {
     "name": "stderr",
     "output_type": "stream",
     "text": [
      "/home/chris/miniconda2/envs/pytorch4/lib/python3.6/site-packages/PIL/TiffImagePlugin.py:739: UserWarning: Possibly corrupt EXIF data.  Expecting to read 2555904 bytes but only got 0. Skipping tag 0\n",
      "  \" Skipping tag %s\" % (size, len(data), tag))\n"
     ]
    },
    {
     "name": "stdout",
     "output_type": "stream",
     "text": [
      "Batches processed: 800/4993 (16.0%), ETA: 53m:14s, Loss: 0.516306\n",
      "Batches processed: 1000/4993 (20.0%), ETA: 50m:30s, Loss: 0.381939\n",
      "Batches processed: 1200/4993 (24.0%), ETA: 48m:19s, Loss: 0.375385\n",
      "Batches processed: 1400/4993 (28.0%), ETA: 45m:50s, Loss: 0.384612\n"
     ]
    },
    {
     "name": "stderr",
     "output_type": "stream",
     "text": [
      "/home/chris/miniconda2/envs/pytorch4/lib/python3.6/site-packages/PIL/TiffImagePlugin.py:739: UserWarning: Possibly corrupt EXIF data.  Expecting to read 2555904 bytes but only got 0. Skipping tag 0\n",
      "  \" Skipping tag %s\" % (size, len(data), tag))\n"
     ]
    },
    {
     "name": "stdout",
     "output_type": "stream",
     "text": [
      "Batches processed: 1600/4993 (32.0%), ETA: 43m:25s, Loss: 0.406787\n",
      "Batches processed: 1800/4993 (36.1%), ETA: 41m:03s, Loss: 0.339098\n",
      "Batches processed: 2000/4993 (40.1%), ETA: 38m:28s, Loss: 0.387544\n",
      "Batches processed: 2200/4993 (44.1%), ETA: 35m:55s, Loss: 0.370750\n",
      "Batches processed: 2400/4993 (48.1%), ETA: 33m:26s, Loss: 0.412679\n",
      "Batches processed: 2600/4993 (52.1%), ETA: 30m:50s, Loss: 0.364890\n",
      "Batches processed: 2800/4993 (56.1%), ETA: 28m:16s, Loss: 0.513083\n",
      "Batches processed: 3000/4993 (60.1%), ETA: 25m:43s, Loss: 0.407352\n",
      "Batches processed: 3200/4993 (64.1%), ETA: 23m:05s, Loss: 0.410005\n",
      "Batches processed: 3400/4993 (68.1%), ETA: 20m:32s, Loss: 0.370832\n",
      "Batches processed: 3600/4993 (72.1%), ETA: 18m:00s, Loss: 0.384223\n",
      "Batches processed: 3800/4993 (76.1%), ETA: 15m:25s, Loss: 0.384346\n",
      "Batches processed: 4000/4993 (80.1%), ETA: 12m:50s, Loss: 0.438911\n",
      "Batches processed: 4200/4993 (84.1%), ETA: 10m:15s, Loss: 0.377527\n",
      "Batches processed: 4400/4993 (88.1%), ETA: 07m:40s, Loss: 0.394719\n",
      "Batches processed: 4600/4993 (92.1%), ETA: 05m:05s, Loss: 0.318920\n",
      "Batches processed: 4800/4993 (96.1%), ETA: 02m:30s, Loss: 0.423650\n",
      "Batches processed: 4993/4993 (100.0%), ETA: 0s, Loss: 0.335951\n",
      "Save model and optimizer state to results/largescale/artificial/200_0.30/imagenet-full/checkpoints/5.pth.tar\n",
      "Batches processed: 200/5017 (4.0%), ETA: 56m:34s\n",
      "Batches processed: 400/5017 (8.0%), ETA: 52m:22s\n",
      "Batches processed: 600/5017 (12.0%), ETA: 48m:51s\n",
      "Batches processed: 800/5017 (15.9%), ETA: 46m:51s\n"
     ]
    },
    {
     "name": "stderr",
     "output_type": "stream",
     "text": [
      "/home/chris/miniconda2/envs/pytorch4/lib/python3.6/site-packages/PIL/TiffImagePlugin.py:739: UserWarning: Possibly corrupt EXIF data.  Expecting to read 2555904 bytes but only got 0. Skipping tag 0\n",
      "  \" Skipping tag %s\" % (size, len(data), tag))\n"
     ]
    },
    {
     "name": "stdout",
     "output_type": "stream",
     "text": [
      "Batches processed: 1000/5017 (19.9%), ETA: 43m:38s\n",
      "Batches processed: 1200/5017 (23.9%), ETA: 41m:19s\n",
      "Batches processed: 1400/5017 (27.9%), ETA: 38m:55s\n",
      "Batches processed: 1600/5017 (31.9%), ETA: 36m:37s\n"
     ]
    },
    {
     "name": "stderr",
     "output_type": "stream",
     "text": [
      "/home/chris/miniconda2/envs/pytorch4/lib/python3.6/site-packages/PIL/TiffImagePlugin.py:739: UserWarning: Possibly corrupt EXIF data.  Expecting to read 2555904 bytes but only got 0. Skipping tag 0\n",
      "  \" Skipping tag %s\" % (size, len(data), tag))\n",
      "/home/chris/miniconda2/envs/pytorch4/lib/python3.6/site-packages/PIL/TiffImagePlugin.py:739: UserWarning: Possibly corrupt EXIF data.  Expecting to read 2555904 bytes but only got 0. Skipping tag 0\n",
      "  \" Skipping tag %s\" % (size, len(data), tag))\n"
     ]
    },
    {
     "name": "stdout",
     "output_type": "stream",
     "text": [
      "Batches processed: 1800/5017 (35.9%), ETA: 34m:24s\n",
      "Batches processed: 2000/5017 (39.9%), ETA: 32m:24s\n",
      "Batches processed: 2200/5017 (43.9%), ETA: 30m:10s\n"
     ]
    },
    {
     "name": "stderr",
     "output_type": "stream",
     "text": [
      "/home/chris/miniconda2/envs/pytorch4/lib/python3.6/site-packages/PIL/TiffImagePlugin.py:739: UserWarning: Possibly corrupt EXIF data.  Expecting to read 19660800 bytes but only got 0. Skipping tag 0\n",
      "  \" Skipping tag %s\" % (size, len(data), tag))\n",
      "/home/chris/miniconda2/envs/pytorch4/lib/python3.6/site-packages/PIL/TiffImagePlugin.py:739: UserWarning: Possibly corrupt EXIF data.  Expecting to read 18481152 bytes but only got 0. Skipping tag 0\n",
      "  \" Skipping tag %s\" % (size, len(data), tag))\n",
      "/home/chris/miniconda2/envs/pytorch4/lib/python3.6/site-packages/PIL/TiffImagePlugin.py:739: UserWarning: Possibly corrupt EXIF data.  Expecting to read 37093376 bytes but only got 0. Skipping tag 0\n",
      "  \" Skipping tag %s\" % (size, len(data), tag))\n",
      "/home/chris/miniconda2/envs/pytorch4/lib/python3.6/site-packages/PIL/TiffImagePlugin.py:739: UserWarning: Possibly corrupt EXIF data.  Expecting to read 39976960 bytes but only got 0. Skipping tag 0\n",
      "  \" Skipping tag %s\" % (size, len(data), tag))\n",
      "/home/chris/miniconda2/envs/pytorch4/lib/python3.6/site-packages/PIL/TiffImagePlugin.py:739: UserWarning: Possibly corrupt EXIF data.  Expecting to read 34865152 bytes but only got 0. Skipping tag 0\n",
      "  \" Skipping tag %s\" % (size, len(data), tag))\n",
      "/home/chris/miniconda2/envs/pytorch4/lib/python3.6/site-packages/PIL/TiffImagePlugin.py:756: UserWarning: Corrupt EXIF data.  Expecting to read 12 bytes but only got 10. \n",
      "  warnings.warn(str(msg))\n"
     ]
    },
    {
     "name": "stdout",
     "output_type": "stream",
     "text": [
      "Batches processed: 2400/5017 (47.8%), ETA: 28m:00s\n",
      "Batches processed: 2600/5017 (51.8%), ETA: 25m:45s\n",
      "Batches processed: 2800/5017 (55.8%), ETA: 23m:37s\n",
      "Batches processed: 3000/5017 (59.8%), ETA: 21m:32s\n",
      "Batches processed: 3200/5017 (63.8%), ETA: 19m:16s\n",
      "Batches processed: 3400/5017 (67.8%), ETA: 17m:09s\n",
      "Batches processed: 3600/5017 (71.8%), ETA: 15m:01s\n",
      "Batches processed: 3800/5017 (75.7%), ETA: 12m:52s\n",
      "Batches processed: 4000/5017 (79.7%), ETA: 10m:45s\n",
      "Batches processed: 4200/5017 (83.7%), ETA: 08m:38s\n",
      "Batches processed: 4400/5017 (87.7%), ETA: 06m:31s\n",
      "Batches processed: 4600/5017 (91.7%), ETA: 04m:23s\n"
     ]
    },
    {
     "name": "stderr",
     "output_type": "stream",
     "text": [
      "/home/chris/miniconda2/envs/pytorch4/lib/python3.6/site-packages/PIL/TiffImagePlugin.py:739: UserWarning: Possibly corrupt EXIF data.  Expecting to read 1835008 bytes but only got 0. Skipping tag 0\n",
      "  \" Skipping tag %s\" % (size, len(data), tag))\n"
     ]
    },
    {
     "name": "stdout",
     "output_type": "stream",
     "text": [
      "Batches processed: 4800/5017 (95.7%), ETA: 02m:17s\n",
      "Batches processed: 5000/5017 (99.7%), ETA: 11s\n",
      "Batches processed: 5017/5017 (100.0%), ETA: 0s\n",
      "Epoch: 5, Train loss: 1966.71, mean arithmetic mean: 0.78513\n",
      "Save affinities to results/largescale/artificial/200_0.30/imagenet-full/affinities/5.npy\n",
      "Epoch: 6\n",
      "Batches processed: 200/4993 (4.0%), ETA: 59m:34s, Loss: 0.334218\n",
      "Batches processed: 400/4993 (8.0%), ETA: 57m:22s, Loss: 0.291878\n",
      "Batches processed: 600/4993 (12.0%), ETA: 55m:45s, Loss: 0.304458\n",
      "Batches processed: 800/4993 (16.0%), ETA: 53m:01s, Loss: 0.373042\n"
     ]
    },
    {
     "name": "stderr",
     "output_type": "stream",
     "text": [
      "/home/chris/miniconda2/envs/pytorch4/lib/python3.6/site-packages/PIL/TiffImagePlugin.py:756: UserWarning: Corrupt EXIF data.  Expecting to read 4 bytes but only got 0. \n",
      "  warnings.warn(str(msg))\n"
     ]
    },
    {
     "name": "stdout",
     "output_type": "stream",
     "text": [
      "Batches processed: 1000/4993 (20.0%), ETA: 50m:27s, Loss: 0.325874\n",
      "Batches processed: 1200/4993 (24.0%), ETA: 48m:18s, Loss: 0.333270\n",
      "Batches processed: 1400/4993 (28.0%), ETA: 45m:52s, Loss: 0.353415\n",
      "Batches processed: 1600/4993 (32.0%), ETA: 43m:28s, Loss: 0.377555\n",
      "Batches processed: 1800/4993 (36.1%), ETA: 40m:49s, Loss: 0.415754\n"
     ]
    },
    {
     "name": "stderr",
     "output_type": "stream",
     "text": [
      "/home/chris/miniconda2/envs/pytorch4/lib/python3.6/site-packages/PIL/TiffImagePlugin.py:739: UserWarning: Possibly corrupt EXIF data.  Expecting to read 2555904 bytes but only got 0. Skipping tag 0\n",
      "  \" Skipping tag %s\" % (size, len(data), tag))\n"
     ]
    },
    {
     "name": "stdout",
     "output_type": "stream",
     "text": [
      "Batches processed: 2000/4993 (40.1%), ETA: 38m:17s, Loss: 0.334688\n"
     ]
    },
    {
     "name": "stderr",
     "output_type": "stream",
     "text": [
      "/home/chris/miniconda2/envs/pytorch4/lib/python3.6/site-packages/PIL/TiffImagePlugin.py:739: UserWarning: Possibly corrupt EXIF data.  Expecting to read 2555904 bytes but only got 0. Skipping tag 0\n",
      "  \" Skipping tag %s\" % (size, len(data), tag))\n"
     ]
    },
    {
     "name": "stdout",
     "output_type": "stream",
     "text": [
      "Batches processed: 2200/4993 (44.1%), ETA: 35m:44s, Loss: 0.319488\n",
      "Batches processed: 2400/4993 (48.1%), ETA: 33m:11s, Loss: 0.403686\n",
      "Batches processed: 2600/4993 (52.1%), ETA: 30m:43s, Loss: 0.329364\n",
      "Batches processed: 2800/4993 (56.1%), ETA: 28m:08s, Loss: 0.343270\n",
      "Batches processed: 3000/4993 (60.1%), ETA: 25m:34s, Loss: 0.344356\n",
      "Batches processed: 3200/4993 (64.1%), ETA: 22m:58s, Loss: 0.355915\n",
      "Batches processed: 3400/4993 (68.1%), ETA: 20m:24s, Loss: 0.386091\n",
      "Batches processed: 3600/4993 (72.1%), ETA: 17m:52s, Loss: 0.367438\n",
      "Batches processed: 3800/4993 (76.1%), ETA: 15m:18s, Loss: 0.370944\n",
      "Batches processed: 4000/4993 (80.1%), ETA: 12m:46s, Loss: 0.303433\n",
      "Batches processed: 4200/4993 (84.1%), ETA: 10m:11s, Loss: 0.366274\n",
      "Batches processed: 4400/4993 (88.1%), ETA: 07m:37s, Loss: 0.355368\n",
      "Batches processed: 4600/4993 (92.1%), ETA: 05m:03s, Loss: 0.271044\n",
      "Batches processed: 4800/4993 (96.1%), ETA: 02m:29s, Loss: 0.388168\n",
      "Batches processed: 4993/4993 (100.0%), ETA: 0s, Loss: 0.335182\n",
      "Save model and optimizer state to results/largescale/artificial/200_0.30/imagenet-full/checkpoints/6.pth.tar\n",
      "Batches processed: 200/5017 (4.0%), ETA: 55m:16s\n",
      "Batches processed: 400/5017 (8.0%), ETA: 52m:51s\n",
      "Batches processed: 600/5017 (12.0%), ETA: 49m:56s\n",
      "Batches processed: 800/5017 (15.9%), ETA: 46m:56s\n"
     ]
    },
    {
     "name": "stderr",
     "output_type": "stream",
     "text": [
      "/home/chris/miniconda2/envs/pytorch4/lib/python3.6/site-packages/PIL/TiffImagePlugin.py:739: UserWarning: Possibly corrupt EXIF data.  Expecting to read 2555904 bytes but only got 0. Skipping tag 0\n",
      "  \" Skipping tag %s\" % (size, len(data), tag))\n"
     ]
    },
    {
     "name": "stdout",
     "output_type": "stream",
     "text": [
      "Batches processed: 1000/5017 (19.9%), ETA: 43m:42s\n",
      "Batches processed: 1200/5017 (23.9%), ETA: 41m:16s\n",
      "Batches processed: 1400/5017 (27.9%), ETA: 38m:57s\n",
      "Batches processed: 1600/5017 (31.9%), ETA: 36m:58s\n"
     ]
    },
    {
     "name": "stderr",
     "output_type": "stream",
     "text": [
      "/home/chris/miniconda2/envs/pytorch4/lib/python3.6/site-packages/PIL/TiffImagePlugin.py:739: UserWarning: Possibly corrupt EXIF data.  Expecting to read 2555904 bytes but only got 0. Skipping tag 0\n",
      "  \" Skipping tag %s\" % (size, len(data), tag))\n",
      "/home/chris/miniconda2/envs/pytorch4/lib/python3.6/site-packages/PIL/TiffImagePlugin.py:739: UserWarning: Possibly corrupt EXIF data.  Expecting to read 2555904 bytes but only got 0. Skipping tag 0\n",
      "  \" Skipping tag %s\" % (size, len(data), tag))\n"
     ]
    },
    {
     "name": "stdout",
     "output_type": "stream",
     "text": [
      "Batches processed: 1800/5017 (35.9%), ETA: 34m:44s\n",
      "Batches processed: 2000/5017 (39.9%), ETA: 32m:32s\n",
      "Batches processed: 2200/5017 (43.9%), ETA: 30m:19s\n"
     ]
    },
    {
     "name": "stderr",
     "output_type": "stream",
     "text": [
      "/home/chris/miniconda2/envs/pytorch4/lib/python3.6/site-packages/PIL/TiffImagePlugin.py:739: UserWarning: Possibly corrupt EXIF data.  Expecting to read 19660800 bytes but only got 0. Skipping tag 0\n",
      "  \" Skipping tag %s\" % (size, len(data), tag))\n",
      "/home/chris/miniconda2/envs/pytorch4/lib/python3.6/site-packages/PIL/TiffImagePlugin.py:739: UserWarning: Possibly corrupt EXIF data.  Expecting to read 18481152 bytes but only got 0. Skipping tag 0\n",
      "  \" Skipping tag %s\" % (size, len(data), tag))\n",
      "/home/chris/miniconda2/envs/pytorch4/lib/python3.6/site-packages/PIL/TiffImagePlugin.py:739: UserWarning: Possibly corrupt EXIF data.  Expecting to read 37093376 bytes but only got 0. Skipping tag 0\n",
      "  \" Skipping tag %s\" % (size, len(data), tag))\n",
      "/home/chris/miniconda2/envs/pytorch4/lib/python3.6/site-packages/PIL/TiffImagePlugin.py:739: UserWarning: Possibly corrupt EXIF data.  Expecting to read 39976960 bytes but only got 0. Skipping tag 0\n",
      "  \" Skipping tag %s\" % (size, len(data), tag))\n",
      "/home/chris/miniconda2/envs/pytorch4/lib/python3.6/site-packages/PIL/TiffImagePlugin.py:739: UserWarning: Possibly corrupt EXIF data.  Expecting to read 34865152 bytes but only got 0. Skipping tag 0\n",
      "  \" Skipping tag %s\" % (size, len(data), tag))\n",
      "/home/chris/miniconda2/envs/pytorch4/lib/python3.6/site-packages/PIL/TiffImagePlugin.py:756: UserWarning: Corrupt EXIF data.  Expecting to read 12 bytes but only got 10. \n",
      "  warnings.warn(str(msg))\n"
     ]
    },
    {
     "name": "stdout",
     "output_type": "stream",
     "text": [
      "Batches processed: 2400/5017 (47.8%), ETA: 28m:11s\n",
      "Batches processed: 2600/5017 (51.8%), ETA: 25m:58s\n",
      "Batches processed: 2800/5017 (55.8%), ETA: 23m:51s\n",
      "Batches processed: 3000/5017 (59.8%), ETA: 21m:42s\n",
      "Batches processed: 3200/5017 (63.8%), ETA: 19m:29s\n",
      "Batches processed: 3400/5017 (67.8%), ETA: 17m:20s\n",
      "Batches processed: 3600/5017 (71.8%), ETA: 15m:09s\n",
      "Batches processed: 3800/5017 (75.7%), ETA: 13m:00s\n",
      "Batches processed: 4000/5017 (79.7%), ETA: 10m:51s\n",
      "Batches processed: 4200/5017 (83.7%), ETA: 08m:43s\n",
      "Batches processed: 4400/5017 (87.7%), ETA: 06m:35s\n",
      "Batches processed: 4600/5017 (91.7%), ETA: 04m:26s\n"
     ]
    },
    {
     "name": "stderr",
     "output_type": "stream",
     "text": [
      "/home/chris/miniconda2/envs/pytorch4/lib/python3.6/site-packages/PIL/TiffImagePlugin.py:739: UserWarning: Possibly corrupt EXIF data.  Expecting to read 1835008 bytes but only got 0. Skipping tag 0\n",
      "  \" Skipping tag %s\" % (size, len(data), tag))\n"
     ]
    },
    {
     "name": "stdout",
     "output_type": "stream",
     "text": [
      "Batches processed: 4800/5017 (95.7%), ETA: 02m:19s\n",
      "Batches processed: 5000/5017 (99.7%), ETA: 11s\n",
      "Batches processed: 5017/5017 (100.0%), ETA: 0s\n",
      "Epoch: 6, Train loss: 1759.48, mean arithmetic mean: 0.79145\n",
      "Save affinities to results/largescale/artificial/200_0.30/imagenet-full/affinities/6.npy\n",
      "Epoch: 7\n",
      "Batches processed: 200/4993 (4.0%), ETA: 1h:00m:37s, Loss: 0.264420\n",
      "Batches processed: 400/4993 (8.0%), ETA: 57m:36s, Loss: 0.312487\n",
      "Batches processed: 600/4993 (12.0%), ETA: 55m:15s, Loss: 0.300113\n",
      "Batches processed: 800/4993 (16.0%), ETA: 53m:21s, Loss: 0.330780\n",
      "Batches processed: 1000/4993 (20.0%), ETA: 51m:12s, Loss: 0.349966\n",
      "Batches processed: 1200/4993 (24.0%), ETA: 48m:29s, Loss: 0.284096\n",
      "Batches processed: 1400/4993 (28.0%), ETA: 46m:08s, Loss: 0.289345\n",
      "Batches processed: 1600/4993 (32.0%), ETA: 43m:28s, Loss: 0.297271\n",
      "Batches processed: 1800/4993 (36.1%), ETA: 40m:58s, Loss: 0.333849\n",
      "Batches processed: 2000/4993 (40.1%), ETA: 38m:24s, Loss: 0.300986\n",
      "Batches processed: 2200/4993 (44.1%), ETA: 35m:48s, Loss: 0.312663\n",
      "Batches processed: 2400/4993 (48.1%), ETA: 33m:30s, Loss: 0.355135\n",
      "Batches processed: 2600/4993 (52.1%), ETA: 30m:55s, Loss: 0.320813\n",
      "Batches processed: 2800/4993 (56.1%), ETA: 28m:27s, Loss: 0.275478\n",
      "Batches processed: 3000/4993 (60.1%), ETA: 26m:00s, Loss: 0.330200\n",
      "Batches processed: 3200/4993 (64.1%), ETA: 23m:28s, Loss: 0.337810\n",
      "Batches processed: 3400/4993 (68.1%), ETA: 20m:53s, Loss: 0.350492\n",
      "Batches processed: 3600/4993 (72.1%), ETA: 18m:19s, Loss: 0.368344\n"
     ]
    },
    {
     "name": "stderr",
     "output_type": "stream",
     "text": [
      "/home/chris/miniconda2/envs/pytorch4/lib/python3.6/site-packages/PIL/TiffImagePlugin.py:756: UserWarning: Corrupt EXIF data.  Expecting to read 4 bytes but only got 0. \n",
      "  warnings.warn(str(msg))\n"
     ]
    },
    {
     "name": "stdout",
     "output_type": "stream",
     "text": [
      "Batches processed: 3800/4993 (76.1%), ETA: 15m:41s, Loss: 0.314098\n",
      "Batches processed: 4000/4993 (80.1%), ETA: 13m:04s, Loss: 0.289844\n",
      "Batches processed: 4200/4993 (84.1%), ETA: 10m:27s, Loss: 0.313240\n",
      "Batches processed: 4400/4993 (88.1%), ETA: 07m:49s, Loss: 0.293787\n",
      "Batches processed: 4600/4993 (92.1%), ETA: 05m:12s, Loss: 0.297064\n"
     ]
    },
    {
     "name": "stderr",
     "output_type": "stream",
     "text": [
      "/home/chris/miniconda2/envs/pytorch4/lib/python3.6/site-packages/PIL/TiffImagePlugin.py:739: UserWarning: Possibly corrupt EXIF data.  Expecting to read 2555904 bytes but only got 0. Skipping tag 0\n",
      "  \" Skipping tag %s\" % (size, len(data), tag))\n"
     ]
    },
    {
     "name": "stdout",
     "output_type": "stream",
     "text": [
      "Batches processed: 4800/4993 (96.1%), ETA: 02m:33s, Loss: 0.308869\n",
      "Batches processed: 4993/4993 (100.0%), ETA: 0s, Loss: 0.303312\n",
      "Save model and optimizer state to results/largescale/artificial/200_0.30/imagenet-full/checkpoints/7.pth.tar\n",
      "Batches processed: 200/5017 (4.0%), ETA: 57m:18s\n",
      "Batches processed: 400/5017 (8.0%), ETA: 54m:27s\n",
      "Batches processed: 600/5017 (12.0%), ETA: 52m:13s\n",
      "Batches processed: 800/5017 (15.9%), ETA: 49m:22s\n"
     ]
    },
    {
     "name": "stderr",
     "output_type": "stream",
     "text": [
      "/home/chris/miniconda2/envs/pytorch4/lib/python3.6/site-packages/PIL/TiffImagePlugin.py:739: UserWarning: Possibly corrupt EXIF data.  Expecting to read 2555904 bytes but only got 0. Skipping tag 0\n",
      "  \" Skipping tag %s\" % (size, len(data), tag))\n"
     ]
    },
    {
     "name": "stdout",
     "output_type": "stream",
     "text": [
      "Batches processed: 1000/5017 (19.9%), ETA: 46m:16s\n",
      "Batches processed: 1200/5017 (23.9%), ETA: 43m:54s\n",
      "Batches processed: 1400/5017 (27.9%), ETA: 41m:36s\n",
      "Batches processed: 1600/5017 (31.9%), ETA: 39m:21s\n"
     ]
    },
    {
     "name": "stderr",
     "output_type": "stream",
     "text": [
      "/home/chris/miniconda2/envs/pytorch4/lib/python3.6/site-packages/PIL/TiffImagePlugin.py:739: UserWarning: Possibly corrupt EXIF data.  Expecting to read 2555904 bytes but only got 0. Skipping tag 0\n",
      "  \" Skipping tag %s\" % (size, len(data), tag))\n",
      "/home/chris/miniconda2/envs/pytorch4/lib/python3.6/site-packages/PIL/TiffImagePlugin.py:739: UserWarning: Possibly corrupt EXIF data.  Expecting to read 2555904 bytes but only got 0. Skipping tag 0\n",
      "  \" Skipping tag %s\" % (size, len(data), tag))\n"
     ]
    },
    {
     "name": "stdout",
     "output_type": "stream",
     "text": [
      "Batches processed: 1800/5017 (35.9%), ETA: 37m:03s\n",
      "Batches processed: 2000/5017 (39.9%), ETA: 34m:46s\n",
      "Batches processed: 2200/5017 (43.9%), ETA: 32m:45s\n"
     ]
    },
    {
     "name": "stderr",
     "output_type": "stream",
     "text": [
      "/home/chris/miniconda2/envs/pytorch4/lib/python3.6/site-packages/PIL/TiffImagePlugin.py:739: UserWarning: Possibly corrupt EXIF data.  Expecting to read 19660800 bytes but only got 0. Skipping tag 0\n",
      "  \" Skipping tag %s\" % (size, len(data), tag))\n",
      "/home/chris/miniconda2/envs/pytorch4/lib/python3.6/site-packages/PIL/TiffImagePlugin.py:739: UserWarning: Possibly corrupt EXIF data.  Expecting to read 18481152 bytes but only got 0. Skipping tag 0\n",
      "  \" Skipping tag %s\" % (size, len(data), tag))\n",
      "/home/chris/miniconda2/envs/pytorch4/lib/python3.6/site-packages/PIL/TiffImagePlugin.py:739: UserWarning: Possibly corrupt EXIF data.  Expecting to read 37093376 bytes but only got 0. Skipping tag 0\n",
      "  \" Skipping tag %s\" % (size, len(data), tag))\n",
      "/home/chris/miniconda2/envs/pytorch4/lib/python3.6/site-packages/PIL/TiffImagePlugin.py:739: UserWarning: Possibly corrupt EXIF data.  Expecting to read 39976960 bytes but only got 0. Skipping tag 0\n",
      "  \" Skipping tag %s\" % (size, len(data), tag))\n",
      "/home/chris/miniconda2/envs/pytorch4/lib/python3.6/site-packages/PIL/TiffImagePlugin.py:739: UserWarning: Possibly corrupt EXIF data.  Expecting to read 34865152 bytes but only got 0. Skipping tag 0\n",
      "  \" Skipping tag %s\" % (size, len(data), tag))\n",
      "/home/chris/miniconda2/envs/pytorch4/lib/python3.6/site-packages/PIL/TiffImagePlugin.py:756: UserWarning: Corrupt EXIF data.  Expecting to read 12 bytes but only got 10. \n",
      "  warnings.warn(str(msg))\n"
     ]
    },
    {
     "name": "stdout",
     "output_type": "stream",
     "text": [
      "Batches processed: 2400/5017 (47.8%), ETA: 30m:28s\n",
      "Batches processed: 2600/5017 (51.8%), ETA: 28m:01s\n",
      "Batches processed: 2800/5017 (55.8%), ETA: 25m:37s\n",
      "Batches processed: 3000/5017 (59.8%), ETA: 23m:21s\n",
      "Batches processed: 3200/5017 (63.8%), ETA: 20m:57s\n",
      "Batches processed: 3400/5017 (67.8%), ETA: 18m:39s\n",
      "Batches processed: 3600/5017 (71.8%), ETA: 16m:21s\n",
      "Batches processed: 3800/5017 (75.7%), ETA: 14m:04s\n",
      "Batches processed: 4000/5017 (79.7%), ETA: 11m:45s\n",
      "Batches processed: 4200/5017 (83.7%), ETA: 09m:27s\n",
      "Batches processed: 4400/5017 (87.7%), ETA: 07m:09s\n",
      "Batches processed: 4600/5017 (91.7%), ETA: 04m:49s\n"
     ]
    },
    {
     "name": "stderr",
     "output_type": "stream",
     "text": [
      "/home/chris/miniconda2/envs/pytorch4/lib/python3.6/site-packages/PIL/TiffImagePlugin.py:739: UserWarning: Possibly corrupt EXIF data.  Expecting to read 1835008 bytes but only got 0. Skipping tag 0\n",
      "  \" Skipping tag %s\" % (size, len(data), tag))\n"
     ]
    },
    {
     "name": "stdout",
     "output_type": "stream",
     "text": [
      "Batches processed: 4800/5017 (95.7%), ETA: 02m:31s\n",
      "Batches processed: 5000/5017 (99.7%), ETA: 12s\n",
      "Batches processed: 5017/5017 (100.0%), ETA: 0s\n",
      "Epoch: 7, Train loss: 1553.91, mean arithmetic mean: 0.79173\n",
      "Save affinities to results/largescale/artificial/200_0.30/imagenet-full/affinities/7.npy\n",
      "Epoch: 8\n",
      "Batches processed: 200/4993 (4.0%), ETA: 1h:02m:23s, Loss: 0.285978\n",
      "Batches processed: 400/4993 (8.0%), ETA: 1h:01m:05s, Loss: 0.250360\n",
      "Batches processed: 600/4993 (12.0%), ETA: 58m:46s, Loss: 0.271271\n",
      "Batches processed: 800/4993 (16.0%), ETA: 56m:04s, Loss: 0.288182\n",
      "Batches processed: 1000/4993 (20.0%), ETA: 53m:43s, Loss: 0.271870\n",
      "Batches processed: 1200/4993 (24.0%), ETA: 51m:47s, Loss: 0.298661\n",
      "Batches processed: 1400/4993 (28.0%), ETA: 49m:05s, Loss: 0.302851\n",
      "Batches processed: 1600/4993 (32.0%), ETA: 46m:34s, Loss: 0.312323\n",
      "Batches processed: 1800/4993 (36.1%), ETA: 44m:09s, Loss: 0.242611\n",
      "Batches processed: 2000/4993 (40.1%), ETA: 41m:21s, Loss: 0.290901\n"
     ]
    },
    {
     "name": "stderr",
     "output_type": "stream",
     "text": [
      "/home/chris/miniconda2/envs/pytorch4/lib/python3.6/site-packages/PIL/TiffImagePlugin.py:756: UserWarning: Corrupt EXIF data.  Expecting to read 4 bytes but only got 0. \n",
      "  warnings.warn(str(msg))\n"
     ]
    },
    {
     "name": "stdout",
     "output_type": "stream",
     "text": [
      "Batches processed: 2200/4993 (44.1%), ETA: 38m:35s, Loss: 0.334507\n",
      "Batches processed: 2400/4993 (48.1%), ETA: 35m:49s, Loss: 0.253911\n",
      "Batches processed: 2600/4993 (52.1%), ETA: 33m:02s, Loss: 0.246633\n",
      "Batches processed: 2800/4993 (56.1%), ETA: 30m:16s, Loss: 0.292080\n",
      "Batches processed: 3000/4993 (60.1%), ETA: 27m:31s, Loss: 0.325792\n",
      "Batches processed: 3200/4993 (64.1%), ETA: 24m:36s, Loss: 0.243305\n",
      "Batches processed: 3400/4993 (68.1%), ETA: 21m:47s, Loss: 0.300348\n"
     ]
    },
    {
     "name": "stderr",
     "output_type": "stream",
     "text": [
      "/home/chris/miniconda2/envs/pytorch4/lib/python3.6/site-packages/PIL/TiffImagePlugin.py:739: UserWarning: Possibly corrupt EXIF data.  Expecting to read 2555904 bytes but only got 0. Skipping tag 0\n",
      "  \" Skipping tag %s\" % (size, len(data), tag))\n",
      "/home/chris/miniconda2/envs/pytorch4/lib/python3.6/site-packages/PIL/TiffImagePlugin.py:739: UserWarning: Possibly corrupt EXIF data.  Expecting to read 2555904 bytes but only got 0. Skipping tag 0\n",
      "  \" Skipping tag %s\" % (size, len(data), tag))\n"
     ]
    },
    {
     "name": "stdout",
     "output_type": "stream",
     "text": [
      "Batches processed: 3600/4993 (72.1%), ETA: 19m:02s, Loss: 0.280248\n",
      "Batches processed: 3800/4993 (76.1%), ETA: 16m:18s, Loss: 0.215594\n",
      "Batches processed: 4000/4993 (80.1%), ETA: 13m:32s, Loss: 0.269903\n",
      "Batches processed: 4200/4993 (84.1%), ETA: 10m:48s, Loss: 0.296989\n",
      "Batches processed: 4400/4993 (88.1%), ETA: 08m:04s, Loss: 0.241350\n",
      "Batches processed: 4600/4993 (92.1%), ETA: 05m:20s, Loss: 0.274727\n",
      "Batches processed: 4800/4993 (96.1%), ETA: 02m:37s, Loss: 0.258485\n",
      "Batches processed: 4993/4993 (100.0%), ETA: 0s, Loss: 0.322261\n",
      "Save model and optimizer state to results/largescale/artificial/200_0.30/imagenet-full/checkpoints/8.pth.tar\n",
      "Batches processed: 200/5017 (4.0%), ETA: 57m:23s\n",
      "Batches processed: 400/5017 (8.0%), ETA: 53m:51s\n",
      "Batches processed: 600/5017 (12.0%), ETA: 51m:08s\n",
      "Batches processed: 800/5017 (15.9%), ETA: 48m:57s\n"
     ]
    },
    {
     "name": "stderr",
     "output_type": "stream",
     "text": [
      "/home/chris/miniconda2/envs/pytorch4/lib/python3.6/site-packages/PIL/TiffImagePlugin.py:739: UserWarning: Possibly corrupt EXIF data.  Expecting to read 2555904 bytes but only got 0. Skipping tag 0\n",
      "  \" Skipping tag %s\" % (size, len(data), tag))\n"
     ]
    },
    {
     "name": "stdout",
     "output_type": "stream",
     "text": [
      "Batches processed: 1000/5017 (19.9%), ETA: 45m:55s\n",
      "Batches processed: 1200/5017 (23.9%), ETA: 43m:15s\n",
      "Batches processed: 1400/5017 (27.9%), ETA: 40m:47s\n",
      "Batches processed: 1600/5017 (31.9%), ETA: 38m:45s\n"
     ]
    },
    {
     "name": "stderr",
     "output_type": "stream",
     "text": [
      "/home/chris/miniconda2/envs/pytorch4/lib/python3.6/site-packages/PIL/TiffImagePlugin.py:739: UserWarning: Possibly corrupt EXIF data.  Expecting to read 2555904 bytes but only got 0. Skipping tag 0\n",
      "  \" Skipping tag %s\" % (size, len(data), tag))\n",
      "/home/chris/miniconda2/envs/pytorch4/lib/python3.6/site-packages/PIL/TiffImagePlugin.py:739: UserWarning: Possibly corrupt EXIF data.  Expecting to read 2555904 bytes but only got 0. Skipping tag 0\n",
      "  \" Skipping tag %s\" % (size, len(data), tag))\n"
     ]
    },
    {
     "name": "stdout",
     "output_type": "stream",
     "text": [
      "Batches processed: 1800/5017 (35.9%), ETA: 36m:35s\n",
      "Batches processed: 2000/5017 (39.9%), ETA: 34m:21s\n",
      "Batches processed: 2200/5017 (43.9%), ETA: 32m:05s\n"
     ]
    },
    {
     "name": "stderr",
     "output_type": "stream",
     "text": [
      "/home/chris/miniconda2/envs/pytorch4/lib/python3.6/site-packages/PIL/TiffImagePlugin.py:739: UserWarning: Possibly corrupt EXIF data.  Expecting to read 19660800 bytes but only got 0. Skipping tag 0\n",
      "  \" Skipping tag %s\" % (size, len(data), tag))\n",
      "/home/chris/miniconda2/envs/pytorch4/lib/python3.6/site-packages/PIL/TiffImagePlugin.py:739: UserWarning: Possibly corrupt EXIF data.  Expecting to read 18481152 bytes but only got 0. Skipping tag 0\n",
      "  \" Skipping tag %s\" % (size, len(data), tag))\n",
      "/home/chris/miniconda2/envs/pytorch4/lib/python3.6/site-packages/PIL/TiffImagePlugin.py:739: UserWarning: Possibly corrupt EXIF data.  Expecting to read 37093376 bytes but only got 0. Skipping tag 0\n",
      "  \" Skipping tag %s\" % (size, len(data), tag))\n",
      "/home/chris/miniconda2/envs/pytorch4/lib/python3.6/site-packages/PIL/TiffImagePlugin.py:739: UserWarning: Possibly corrupt EXIF data.  Expecting to read 39976960 bytes but only got 0. Skipping tag 0\n",
      "  \" Skipping tag %s\" % (size, len(data), tag))\n",
      "/home/chris/miniconda2/envs/pytorch4/lib/python3.6/site-packages/PIL/TiffImagePlugin.py:739: UserWarning: Possibly corrupt EXIF data.  Expecting to read 34865152 bytes but only got 0. Skipping tag 0\n",
      "  \" Skipping tag %s\" % (size, len(data), tag))\n",
      "/home/chris/miniconda2/envs/pytorch4/lib/python3.6/site-packages/PIL/TiffImagePlugin.py:756: UserWarning: Corrupt EXIF data.  Expecting to read 12 bytes but only got 10. \n",
      "  warnings.warn(str(msg))\n"
     ]
    },
    {
     "name": "stdout",
     "output_type": "stream",
     "text": [
      "Batches processed: 2400/5017 (47.8%), ETA: 29m:50s\n",
      "Batches processed: 2600/5017 (51.8%), ETA: 27m:27s\n",
      "Batches processed: 2800/5017 (55.8%), ETA: 25m:13s\n",
      "Batches processed: 3000/5017 (59.8%), ETA: 22m:55s\n",
      "Batches processed: 3200/5017 (63.8%), ETA: 20m:34s\n",
      "Batches processed: 3400/5017 (67.8%), ETA: 18m:18s\n",
      "Batches processed: 3600/5017 (71.8%), ETA: 16m:02s\n",
      "Batches processed: 3800/5017 (75.7%), ETA: 13m:52s\n",
      "Batches processed: 4000/5017 (79.7%), ETA: 11m:34s\n",
      "Batches processed: 4200/5017 (83.7%), ETA: 09m:18s\n",
      "Batches processed: 4400/5017 (87.7%), ETA: 07m:02s\n",
      "Batches processed: 4600/5017 (91.7%), ETA: 04m:46s\n"
     ]
    },
    {
     "name": "stderr",
     "output_type": "stream",
     "text": [
      "/home/chris/miniconda2/envs/pytorch4/lib/python3.6/site-packages/PIL/TiffImagePlugin.py:739: UserWarning: Possibly corrupt EXIF data.  Expecting to read 1835008 bytes but only got 0. Skipping tag 0\n",
      "  \" Skipping tag %s\" % (size, len(data), tag))\n"
     ]
    },
    {
     "name": "stdout",
     "output_type": "stream",
     "text": [
      "Batches processed: 4800/5017 (95.7%), ETA: 02m:29s\n",
      "Batches processed: 5000/5017 (99.7%), ETA: 12s\n",
      "Batches processed: 5017/5017 (100.0%), ETA: 0s\n",
      "Epoch: 8, Train loss: 1348.25, mean arithmetic mean: 0.78980\n",
      "Save affinities to results/largescale/artificial/200_0.30/imagenet-full/affinities/8.npy\n",
      "Epoch: 9\n"
     ]
    },
    {
     "name": "stderr",
     "output_type": "stream",
     "text": [
      "/home/chris/miniconda2/envs/pytorch4/lib/python3.6/site-packages/PIL/TiffImagePlugin.py:739: UserWarning: Possibly corrupt EXIF data.  Expecting to read 2555904 bytes but only got 0. Skipping tag 0\n",
      "  \" Skipping tag %s\" % (size, len(data), tag))\n"
     ]
    },
    {
     "name": "stdout",
     "output_type": "stream",
     "text": [
      "Batches processed: 200/4993 (4.0%), ETA: 1h:03m:05s, Loss: 0.214178\n",
      "Batches processed: 400/4993 (8.0%), ETA: 1h:02m:45s, Loss: 0.214125\n",
      "Batches processed: 600/4993 (12.0%), ETA: 59m:23s, Loss: 0.260062\n",
      "Batches processed: 800/4993 (16.0%), ETA: 57m:34s, Loss: 0.243822\n",
      "Batches processed: 1000/4993 (20.0%), ETA: 54m:49s, Loss: 0.189205\n"
     ]
    },
    {
     "name": "stderr",
     "output_type": "stream",
     "text": [
      "/home/chris/miniconda2/envs/pytorch4/lib/python3.6/site-packages/PIL/TiffImagePlugin.py:756: UserWarning: Corrupt EXIF data.  Expecting to read 4 bytes but only got 0. \n",
      "  warnings.warn(str(msg))\n"
     ]
    },
    {
     "name": "stdout",
     "output_type": "stream",
     "text": [
      "Batches processed: 1200/4993 (24.0%), ETA: 52m:21s, Loss: 0.270268\n",
      "Batches processed: 1400/4993 (28.0%), ETA: 49m:25s, Loss: 0.220191\n",
      "Batches processed: 1600/4993 (32.0%), ETA: 46m:50s, Loss: 0.204837\n",
      "Batches processed: 1800/4993 (36.1%), ETA: 43m:44s, Loss: 0.245679\n",
      "Batches processed: 2000/4993 (40.1%), ETA: 40m:45s, Loss: 0.239546\n",
      "Batches processed: 2200/4993 (44.1%), ETA: 38m:06s, Loss: 0.236608\n",
      "Batches processed: 2400/4993 (48.1%), ETA: 35m:19s, Loss: 0.255207\n",
      "Batches processed: 2600/4993 (52.1%), ETA: 32m:46s, Loss: 0.262598\n",
      "Batches processed: 2800/4993 (56.1%), ETA: 29m:59s, Loss: 0.210886\n",
      "Batches processed: 3000/4993 (60.1%), ETA: 27m:16s, Loss: 0.255605\n",
      "Batches processed: 3200/4993 (64.1%), ETA: 24m:35s, Loss: 0.215870\n",
      "Batches processed: 3400/4993 (68.1%), ETA: 21m:52s, Loss: 0.201826\n",
      "Batches processed: 3600/4993 (72.1%), ETA: 19m:11s, Loss: 0.228546\n",
      "Batches processed: 3800/4993 (76.1%), ETA: 16m:25s, Loss: 0.302775\n",
      "Batches processed: 4000/4993 (80.1%), ETA: 13m:39s, Loss: 0.208126\n",
      "Batches processed: 4200/4993 (84.1%), ETA: 10m:52s, Loss: 0.233162\n",
      "Batches processed: 4400/4993 (88.1%), ETA: 08m:08s, Loss: 0.237235\n",
      "Batches processed: 4600/4993 (92.1%), ETA: 05m:23s, Loss: 0.279238\n",
      "Batches processed: 4800/4993 (96.1%), ETA: 02m:39s, Loss: 0.227710\n"
     ]
    },
    {
     "name": "stderr",
     "output_type": "stream",
     "text": [
      "/home/chris/miniconda2/envs/pytorch4/lib/python3.6/site-packages/PIL/TiffImagePlugin.py:739: UserWarning: Possibly corrupt EXIF data.  Expecting to read 2555904 bytes but only got 0. Skipping tag 0\n",
      "  \" Skipping tag %s\" % (size, len(data), tag))\n"
     ]
    },
    {
     "name": "stdout",
     "output_type": "stream",
     "text": [
      "Batches processed: 4993/4993 (100.0%), ETA: 0s, Loss: 0.235257\n",
      "Save model and optimizer state to results/largescale/artificial/200_0.30/imagenet-full/checkpoints/9.pth.tar\n",
      "Batches processed: 200/5017 (4.0%), ETA: 56m:32s\n",
      "Batches processed: 400/5017 (8.0%), ETA: 55m:39s\n",
      "Batches processed: 600/5017 (12.0%), ETA: 52m:43s\n",
      "Batches processed: 800/5017 (15.9%), ETA: 50m:39s\n"
     ]
    },
    {
     "name": "stderr",
     "output_type": "stream",
     "text": [
      "/home/chris/miniconda2/envs/pytorch4/lib/python3.6/site-packages/PIL/TiffImagePlugin.py:739: UserWarning: Possibly corrupt EXIF data.  Expecting to read 2555904 bytes but only got 0. Skipping tag 0\n",
      "  \" Skipping tag %s\" % (size, len(data), tag))\n"
     ]
    },
    {
     "name": "stdout",
     "output_type": "stream",
     "text": [
      "Batches processed: 1000/5017 (19.9%), ETA: 47m:38s\n",
      "Batches processed: 1200/5017 (23.9%), ETA: 44m:48s\n",
      "Batches processed: 1400/5017 (27.9%), ETA: 42m:24s\n",
      "Batches processed: 1600/5017 (31.9%), ETA: 40m:03s\n"
     ]
    },
    {
     "name": "stderr",
     "output_type": "stream",
     "text": [
      "/home/chris/miniconda2/envs/pytorch4/lib/python3.6/site-packages/PIL/TiffImagePlugin.py:739: UserWarning: Possibly corrupt EXIF data.  Expecting to read 2555904 bytes but only got 0. Skipping tag 0\n",
      "  \" Skipping tag %s\" % (size, len(data), tag))\n",
      "/home/chris/miniconda2/envs/pytorch4/lib/python3.6/site-packages/PIL/TiffImagePlugin.py:739: UserWarning: Possibly corrupt EXIF data.  Expecting to read 2555904 bytes but only got 0. Skipping tag 0\n",
      "  \" Skipping tag %s\" % (size, len(data), tag))\n"
     ]
    },
    {
     "name": "stdout",
     "output_type": "stream",
     "text": [
      "Batches processed: 1800/5017 (35.9%), ETA: 37m:48s\n",
      "Batches processed: 2000/5017 (39.9%), ETA: 35m:21s\n",
      "Batches processed: 2200/5017 (43.9%), ETA: 32m:55s\n"
     ]
    },
    {
     "name": "stderr",
     "output_type": "stream",
     "text": [
      "/home/chris/miniconda2/envs/pytorch4/lib/python3.6/site-packages/PIL/TiffImagePlugin.py:739: UserWarning: Possibly corrupt EXIF data.  Expecting to read 19660800 bytes but only got 0. Skipping tag 0\n",
      "  \" Skipping tag %s\" % (size, len(data), tag))\n",
      "/home/chris/miniconda2/envs/pytorch4/lib/python3.6/site-packages/PIL/TiffImagePlugin.py:739: UserWarning: Possibly corrupt EXIF data.  Expecting to read 18481152 bytes but only got 0. Skipping tag 0\n",
      "  \" Skipping tag %s\" % (size, len(data), tag))\n",
      "/home/chris/miniconda2/envs/pytorch4/lib/python3.6/site-packages/PIL/TiffImagePlugin.py:739: UserWarning: Possibly corrupt EXIF data.  Expecting to read 37093376 bytes but only got 0. Skipping tag 0\n",
      "  \" Skipping tag %s\" % (size, len(data), tag))\n",
      "/home/chris/miniconda2/envs/pytorch4/lib/python3.6/site-packages/PIL/TiffImagePlugin.py:739: UserWarning: Possibly corrupt EXIF data.  Expecting to read 39976960 bytes but only got 0. Skipping tag 0\n",
      "  \" Skipping tag %s\" % (size, len(data), tag))\n",
      "/home/chris/miniconda2/envs/pytorch4/lib/python3.6/site-packages/PIL/TiffImagePlugin.py:739: UserWarning: Possibly corrupt EXIF data.  Expecting to read 34865152 bytes but only got 0. Skipping tag 0\n",
      "  \" Skipping tag %s\" % (size, len(data), tag))\n",
      "/home/chris/miniconda2/envs/pytorch4/lib/python3.6/site-packages/PIL/TiffImagePlugin.py:756: UserWarning: Corrupt EXIF data.  Expecting to read 12 bytes but only got 10. \n",
      "  warnings.warn(str(msg))\n"
     ]
    },
    {
     "name": "stdout",
     "output_type": "stream",
     "text": [
      "Batches processed: 2400/5017 (47.8%), ETA: 30m:23s\n",
      "Batches processed: 2600/5017 (51.8%), ETA: 28m:05s\n",
      "Batches processed: 2800/5017 (55.8%), ETA: 25m:52s\n",
      "Batches processed: 3000/5017 (59.8%), ETA: 23m:35s\n",
      "Batches processed: 3200/5017 (63.8%), ETA: 21m:15s\n",
      "Batches processed: 3400/5017 (67.8%), ETA: 18m:55s\n",
      "Batches processed: 3600/5017 (71.8%), ETA: 16m:40s\n",
      "Batches processed: 3800/5017 (75.7%), ETA: 14m:18s\n",
      "Batches processed: 4000/5017 (79.7%), ETA: 11m:57s\n",
      "Batches processed: 4200/5017 (83.7%), ETA: 09m:34s\n",
      "Batches processed: 4400/5017 (87.7%), ETA: 07m:13s\n",
      "Batches processed: 4600/5017 (91.7%), ETA: 04m:54s\n"
     ]
    },
    {
     "name": "stderr",
     "output_type": "stream",
     "text": [
      "/home/chris/miniconda2/envs/pytorch4/lib/python3.6/site-packages/PIL/TiffImagePlugin.py:739: UserWarning: Possibly corrupt EXIF data.  Expecting to read 1835008 bytes but only got 0. Skipping tag 0\n",
      "  \" Skipping tag %s\" % (size, len(data), tag))\n"
     ]
    },
    {
     "name": "stdout",
     "output_type": "stream",
     "text": [
      "Batches processed: 4800/5017 (95.7%), ETA: 02m:34s\n",
      "Batches processed: 5000/5017 (99.7%), ETA: 12s\n",
      "Batches processed: 5017/5017 (100.0%), ETA: 0s\n",
      "Epoch: 9, Train loss: 1143.16, mean arithmetic mean: 0.79041\n",
      "Save affinities to results/largescale/artificial/200_0.30/imagenet-full/affinities/9.npy\n",
      "Epoch: 10\n",
      "Batches processed: 200/4993 (4.0%), ETA: 1h:08m:32s, Loss: 0.168967\n",
      "Batches processed: 400/4993 (8.0%), ETA: 1h:04m:28s, Loss: 0.187975\n",
      "Batches processed: 600/4993 (12.0%), ETA: 1h:01m:32s, Loss: 0.171425\n",
      "Batches processed: 800/4993 (16.0%), ETA: 58m:39s, Loss: 0.162708\n"
     ]
    },
    {
     "name": "stderr",
     "output_type": "stream",
     "text": [
      "/home/chris/miniconda2/envs/pytorch4/lib/python3.6/site-packages/PIL/TiffImagePlugin.py:739: UserWarning: Possibly corrupt EXIF data.  Expecting to read 2555904 bytes but only got 0. Skipping tag 0\n",
      "  \" Skipping tag %s\" % (size, len(data), tag))\n"
     ]
    },
    {
     "name": "stdout",
     "output_type": "stream",
     "text": [
      "Batches processed: 1000/4993 (20.0%), ETA: 55m:18s, Loss: 0.142045\n",
      "Batches processed: 1200/4993 (24.0%), ETA: 52m:47s, Loss: 0.194971\n",
      "Batches processed: 1400/4993 (28.0%), ETA: 49m:43s, Loss: 0.176885\n",
      "Batches processed: 1600/4993 (32.0%), ETA: 46m:57s, Loss: 0.172800\n",
      "Batches processed: 1800/4993 (36.1%), ETA: 44m:01s, Loss: 0.189260\n",
      "Batches processed: 2000/4993 (40.1%), ETA: 41m:16s, Loss: 0.191235\n",
      "Batches processed: 2200/4993 (44.1%), ETA: 38m:18s, Loss: 0.180342\n"
     ]
    },
    {
     "name": "stderr",
     "output_type": "stream",
     "text": [
      "/home/chris/miniconda2/envs/pytorch4/lib/python3.6/site-packages/PIL/TiffImagePlugin.py:739: UserWarning: Possibly corrupt EXIF data.  Expecting to read 2555904 bytes but only got 0. Skipping tag 0\n",
      "  \" Skipping tag %s\" % (size, len(data), tag))\n"
     ]
    },
    {
     "name": "stdout",
     "output_type": "stream",
     "text": [
      "Batches processed: 2400/4993 (48.1%), ETA: 35m:38s, Loss: 0.210237\n",
      "Batches processed: 2600/4993 (52.1%), ETA: 33m:00s, Loss: 0.138745\n",
      "Batches processed: 2800/4993 (56.1%), ETA: 30m:18s, Loss: 0.172277\n",
      "Batches processed: 3000/4993 (60.1%), ETA: 27m:30s, Loss: 0.200625\n"
     ]
    },
    {
     "name": "stderr",
     "output_type": "stream",
     "text": [
      "/home/chris/miniconda2/envs/pytorch4/lib/python3.6/site-packages/PIL/TiffImagePlugin.py:756: UserWarning: Corrupt EXIF data.  Expecting to read 4 bytes but only got 0. \n",
      "  warnings.warn(str(msg))\n"
     ]
    },
    {
     "name": "stdout",
     "output_type": "stream",
     "text": [
      "Batches processed: 3200/4993 (64.1%), ETA: 24m:42s, Loss: 0.201070\n",
      "Batches processed: 3400/4993 (68.1%), ETA: 22m:01s, Loss: 0.182524\n",
      "Batches processed: 3600/4993 (72.1%), ETA: 19m:18s, Loss: 0.193090\n",
      "Batches processed: 3800/4993 (76.1%), ETA: 16m:30s, Loss: 0.217348\n",
      "Batches processed: 4000/4993 (80.1%), ETA: 13m:42s, Loss: 0.213173\n",
      "Batches processed: 4200/4993 (84.1%), ETA: 10m:57s, Loss: 0.210046\n",
      "Batches processed: 4400/4993 (88.1%), ETA: 08m:13s, Loss: 0.170898\n",
      "Batches processed: 4600/4993 (92.1%), ETA: 05m:26s, Loss: 0.192661\n",
      "Batches processed: 4800/4993 (96.1%), ETA: 02m:40s, Loss: 0.208606\n",
      "Batches processed: 4993/4993 (100.0%), ETA: 0s, Loss: 0.176760\n",
      "Save model and optimizer state to results/largescale/artificial/200_0.30/imagenet-full/checkpoints/10.pth.tar\n",
      "Batches processed: 200/5017 (4.0%), ETA: 1h:04m:06s\n",
      "Batches processed: 400/5017 (8.0%), ETA: 58m:54s\n",
      "Batches processed: 600/5017 (12.0%), ETA: 55m:58s\n",
      "Batches processed: 800/5017 (15.9%), ETA: 53m:05s\n"
     ]
    },
    {
     "name": "stderr",
     "output_type": "stream",
     "text": [
      "/home/chris/miniconda2/envs/pytorch4/lib/python3.6/site-packages/PIL/TiffImagePlugin.py:739: UserWarning: Possibly corrupt EXIF data.  Expecting to read 2555904 bytes but only got 0. Skipping tag 0\n",
      "  \" Skipping tag %s\" % (size, len(data), tag))\n"
     ]
    },
    {
     "name": "stdout",
     "output_type": "stream",
     "text": [
      "Batches processed: 1000/5017 (19.9%), ETA: 49m:46s\n",
      "Batches processed: 1200/5017 (23.9%), ETA: 46m:53s\n",
      "Batches processed: 1400/5017 (27.9%), ETA: 44m:10s\n",
      "Batches processed: 1600/5017 (31.9%), ETA: 41m:39s\n"
     ]
    },
    {
     "name": "stderr",
     "output_type": "stream",
     "text": [
      "/home/chris/miniconda2/envs/pytorch4/lib/python3.6/site-packages/PIL/TiffImagePlugin.py:739: UserWarning: Possibly corrupt EXIF data.  Expecting to read 2555904 bytes but only got 0. Skipping tag 0\n",
      "  \" Skipping tag %s\" % (size, len(data), tag))\n",
      "/home/chris/miniconda2/envs/pytorch4/lib/python3.6/site-packages/PIL/TiffImagePlugin.py:739: UserWarning: Possibly corrupt EXIF data.  Expecting to read 2555904 bytes but only got 0. Skipping tag 0\n",
      "  \" Skipping tag %s\" % (size, len(data), tag))\n"
     ]
    },
    {
     "name": "stdout",
     "output_type": "stream",
     "text": [
      "Batches processed: 1800/5017 (35.9%), ETA: 39m:09s\n",
      "Batches processed: 2000/5017 (39.9%), ETA: 37m:00s\n",
      "Batches processed: 2200/5017 (43.9%), ETA: 34m:27s\n"
     ]
    },
    {
     "name": "stderr",
     "output_type": "stream",
     "text": [
      "/home/chris/miniconda2/envs/pytorch4/lib/python3.6/site-packages/PIL/TiffImagePlugin.py:739: UserWarning: Possibly corrupt EXIF data.  Expecting to read 19660800 bytes but only got 0. Skipping tag 0\n",
      "  \" Skipping tag %s\" % (size, len(data), tag))\n",
      "/home/chris/miniconda2/envs/pytorch4/lib/python3.6/site-packages/PIL/TiffImagePlugin.py:739: UserWarning: Possibly corrupt EXIF data.  Expecting to read 18481152 bytes but only got 0. Skipping tag 0\n",
      "  \" Skipping tag %s\" % (size, len(data), tag))\n",
      "/home/chris/miniconda2/envs/pytorch4/lib/python3.6/site-packages/PIL/TiffImagePlugin.py:739: UserWarning: Possibly corrupt EXIF data.  Expecting to read 37093376 bytes but only got 0. Skipping tag 0\n",
      "  \" Skipping tag %s\" % (size, len(data), tag))\n",
      "/home/chris/miniconda2/envs/pytorch4/lib/python3.6/site-packages/PIL/TiffImagePlugin.py:739: UserWarning: Possibly corrupt EXIF data.  Expecting to read 39976960 bytes but only got 0. Skipping tag 0\n",
      "  \" Skipping tag %s\" % (size, len(data), tag))\n",
      "/home/chris/miniconda2/envs/pytorch4/lib/python3.6/site-packages/PIL/TiffImagePlugin.py:739: UserWarning: Possibly corrupt EXIF data.  Expecting to read 34865152 bytes but only got 0. Skipping tag 0\n",
      "  \" Skipping tag %s\" % (size, len(data), tag))\n",
      "/home/chris/miniconda2/envs/pytorch4/lib/python3.6/site-packages/PIL/TiffImagePlugin.py:756: UserWarning: Corrupt EXIF data.  Expecting to read 12 bytes but only got 10. \n",
      "  warnings.warn(str(msg))\n"
     ]
    },
    {
     "name": "stdout",
     "output_type": "stream",
     "text": [
      "Batches processed: 2400/5017 (47.8%), ETA: 31m:55s\n",
      "Batches processed: 2600/5017 (51.8%), ETA: 29m:29s\n",
      "Batches processed: 2800/5017 (55.8%), ETA: 27m:03s\n",
      "Batches processed: 3000/5017 (59.8%), ETA: 24m:30s\n",
      "Batches processed: 3200/5017 (63.8%), ETA: 21m:58s\n",
      "Batches processed: 3400/5017 (67.8%), ETA: 19m:33s\n",
      "Batches processed: 3600/5017 (71.8%), ETA: 17m:07s\n",
      "Batches processed: 3800/5017 (75.7%), ETA: 14m:42s\n",
      "Batches processed: 4000/5017 (79.7%), ETA: 12m:17s\n",
      "Batches processed: 4200/5017 (83.7%), ETA: 09m:51s\n",
      "Batches processed: 4400/5017 (87.7%), ETA: 07m:25s\n",
      "Batches processed: 4600/5017 (91.7%), ETA: 05m:01s\n"
     ]
    },
    {
     "name": "stderr",
     "output_type": "stream",
     "text": [
      "/home/chris/miniconda2/envs/pytorch4/lib/python3.6/site-packages/PIL/TiffImagePlugin.py:739: UserWarning: Possibly corrupt EXIF data.  Expecting to read 1835008 bytes but only got 0. Skipping tag 0\n",
      "  \" Skipping tag %s\" % (size, len(data), tag))\n"
     ]
    },
    {
     "name": "stdout",
     "output_type": "stream",
     "text": [
      "Batches processed: 4800/5017 (95.7%), ETA: 02m:37s\n",
      "Batches processed: 5000/5017 (99.7%), ETA: 12s\n",
      "Batches processed: 5017/5017 (100.0%), ETA: 0s\n",
      "Epoch: 10, Train loss: 946.64, mean arithmetic mean: 0.78887\n",
      "Save affinities to results/largescale/artificial/200_0.30/imagenet-full/affinities/10.npy\n",
      "Epoch: 11\n",
      "Batches processed: 200/4993 (4.0%), ETA: 1h:03m:07s, Loss: 0.161885\n",
      "Batches processed: 400/4993 (8.0%), ETA: 1h:01m:47s, Loss: 0.145442\n",
      "Batches processed: 600/4993 (12.0%), ETA: 59m:02s, Loss: 0.162812\n",
      "Batches processed: 800/4993 (16.0%), ETA: 56m:15s, Loss: 0.176707\n",
      "Batches processed: 1000/4993 (20.0%), ETA: 54m:53s, Loss: 0.154987\n",
      "Batches processed: 1200/4993 (24.0%), ETA: 52m:26s, Loss: 0.145885\n",
      "Batches processed: 1400/4993 (28.0%), ETA: 49m:57s, Loss: 0.156566\n",
      "Batches processed: 1600/4993 (32.0%), ETA: 46m:57s, Loss: 0.153165\n",
      "Batches processed: 1800/4993 (36.1%), ETA: 44m:00s, Loss: 0.147335\n"
     ]
    },
    {
     "name": "stderr",
     "output_type": "stream",
     "text": [
      "/home/chris/miniconda2/envs/pytorch4/lib/python3.6/site-packages/PIL/TiffImagePlugin.py:739: UserWarning: Possibly corrupt EXIF data.  Expecting to read 2555904 bytes but only got 0. Skipping tag 0\n",
      "  \" Skipping tag %s\" % (size, len(data), tag))\n"
     ]
    },
    {
     "name": "stdout",
     "output_type": "stream",
     "text": [
      "Batches processed: 2000/4993 (40.1%), ETA: 41m:02s, Loss: 0.152448\n"
     ]
    },
    {
     "name": "stderr",
     "output_type": "stream",
     "text": [
      "/home/chris/miniconda2/envs/pytorch4/lib/python3.6/site-packages/PIL/TiffImagePlugin.py:739: UserWarning: Possibly corrupt EXIF data.  Expecting to read 2555904 bytes but only got 0. Skipping tag 0\n",
      "  \" Skipping tag %s\" % (size, len(data), tag))\n"
     ]
    },
    {
     "name": "stdout",
     "output_type": "stream",
     "text": [
      "Batches processed: 2200/4993 (44.1%), ETA: 38m:04s, Loss: 0.148971\n",
      "Batches processed: 2400/4993 (48.1%), ETA: 35m:12s, Loss: 0.125595\n",
      "Batches processed: 2600/4993 (52.1%), ETA: 32m:18s, Loss: 0.126571\n",
      "Batches processed: 2800/4993 (56.1%), ETA: 29m:38s, Loss: 0.151974\n",
      "Batches processed: 3000/4993 (60.1%), ETA: 26m:53s, Loss: 0.162323\n",
      "Batches processed: 3200/4993 (64.1%), ETA: 24m:03s, Loss: 0.160260\n"
     ]
    },
    {
     "name": "stderr",
     "output_type": "stream",
     "text": [
      "/home/chris/miniconda2/envs/pytorch4/lib/python3.6/site-packages/PIL/TiffImagePlugin.py:756: UserWarning: Corrupt EXIF data.  Expecting to read 4 bytes but only got 0. \n",
      "  warnings.warn(str(msg))\n"
     ]
    },
    {
     "name": "stdout",
     "output_type": "stream",
     "text": [
      "Batches processed: 3400/4993 (68.1%), ETA: 21m:19s, Loss: 0.159391\n",
      "Batches processed: 3600/4993 (72.1%), ETA: 18m:37s, Loss: 0.154493\n",
      "Batches processed: 3800/4993 (76.1%), ETA: 15m:53s, Loss: 0.161036\n",
      "Batches processed: 4000/4993 (80.1%), ETA: 13m:12s, Loss: 0.160270\n",
      "Batches processed: 4200/4993 (84.1%), ETA: 10m:32s, Loss: 0.202936\n",
      "Batches processed: 4400/4993 (88.1%), ETA: 07m:52s, Loss: 0.152427\n",
      "Batches processed: 4600/4993 (92.1%), ETA: 05m:13s, Loss: 0.146290\n",
      "Batches processed: 4800/4993 (96.1%), ETA: 02m:33s, Loss: 0.167230\n",
      "Batches processed: 4993/4993 (100.0%), ETA: 0s, Loss: 0.179814\n",
      "Save model and optimizer state to results/largescale/artificial/200_0.30/imagenet-full/checkpoints/11.pth.tar\n",
      "Batches processed: 200/5017 (4.0%), ETA: 56m:49s\n",
      "Batches processed: 400/5017 (8.0%), ETA: 53m:48s\n",
      "Batches processed: 600/5017 (12.0%), ETA: 50m:35s\n",
      "Batches processed: 800/5017 (15.9%), ETA: 47m:52s\n"
     ]
    },
    {
     "name": "stderr",
     "output_type": "stream",
     "text": [
      "/home/chris/miniconda2/envs/pytorch4/lib/python3.6/site-packages/PIL/TiffImagePlugin.py:739: UserWarning: Possibly corrupt EXIF data.  Expecting to read 2555904 bytes but only got 0. Skipping tag 0\n",
      "  \" Skipping tag %s\" % (size, len(data), tag))\n"
     ]
    },
    {
     "name": "stdout",
     "output_type": "stream",
     "text": [
      "Batches processed: 1000/5017 (19.9%), ETA: 44m:55s\n",
      "Batches processed: 1200/5017 (23.9%), ETA: 42m:09s\n",
      "Batches processed: 1400/5017 (27.9%), ETA: 40m:02s\n",
      "Batches processed: 1600/5017 (31.9%), ETA: 38m:05s\n"
     ]
    },
    {
     "name": "stderr",
     "output_type": "stream",
     "text": [
      "/home/chris/miniconda2/envs/pytorch4/lib/python3.6/site-packages/PIL/TiffImagePlugin.py:739: UserWarning: Possibly corrupt EXIF data.  Expecting to read 2555904 bytes but only got 0. Skipping tag 0\n",
      "  \" Skipping tag %s\" % (size, len(data), tag))\n",
      "/home/chris/miniconda2/envs/pytorch4/lib/python3.6/site-packages/PIL/TiffImagePlugin.py:739: UserWarning: Possibly corrupt EXIF data.  Expecting to read 2555904 bytes but only got 0. Skipping tag 0\n",
      "  \" Skipping tag %s\" % (size, len(data), tag))\n"
     ]
    },
    {
     "name": "stdout",
     "output_type": "stream",
     "text": [
      "Batches processed: 1800/5017 (35.9%), ETA: 35m:49s\n",
      "Batches processed: 2000/5017 (39.9%), ETA: 33m:37s\n",
      "Batches processed: 2200/5017 (43.9%), ETA: 31m:27s\n"
     ]
    },
    {
     "name": "stderr",
     "output_type": "stream",
     "text": [
      "/home/chris/miniconda2/envs/pytorch4/lib/python3.6/site-packages/PIL/TiffImagePlugin.py:739: UserWarning: Possibly corrupt EXIF data.  Expecting to read 19660800 bytes but only got 0. Skipping tag 0\n",
      "  \" Skipping tag %s\" % (size, len(data), tag))\n",
      "/home/chris/miniconda2/envs/pytorch4/lib/python3.6/site-packages/PIL/TiffImagePlugin.py:739: UserWarning: Possibly corrupt EXIF data.  Expecting to read 18481152 bytes but only got 0. Skipping tag 0\n",
      "  \" Skipping tag %s\" % (size, len(data), tag))\n",
      "/home/chris/miniconda2/envs/pytorch4/lib/python3.6/site-packages/PIL/TiffImagePlugin.py:739: UserWarning: Possibly corrupt EXIF data.  Expecting to read 37093376 bytes but only got 0. Skipping tag 0\n",
      "  \" Skipping tag %s\" % (size, len(data), tag))\n",
      "/home/chris/miniconda2/envs/pytorch4/lib/python3.6/site-packages/PIL/TiffImagePlugin.py:739: UserWarning: Possibly corrupt EXIF data.  Expecting to read 39976960 bytes but only got 0. Skipping tag 0\n",
      "  \" Skipping tag %s\" % (size, len(data), tag))\n",
      "/home/chris/miniconda2/envs/pytorch4/lib/python3.6/site-packages/PIL/TiffImagePlugin.py:739: UserWarning: Possibly corrupt EXIF data.  Expecting to read 34865152 bytes but only got 0. Skipping tag 0\n",
      "  \" Skipping tag %s\" % (size, len(data), tag))\n",
      "/home/chris/miniconda2/envs/pytorch4/lib/python3.6/site-packages/PIL/TiffImagePlugin.py:756: UserWarning: Corrupt EXIF data.  Expecting to read 12 bytes but only got 10. \n",
      "  warnings.warn(str(msg))\n"
     ]
    },
    {
     "name": "stdout",
     "output_type": "stream",
     "text": [
      "Batches processed: 2400/5017 (47.8%), ETA: 29m:13s\n",
      "Batches processed: 2600/5017 (51.8%), ETA: 26m:58s\n",
      "Batches processed: 2800/5017 (55.8%), ETA: 24m:40s\n",
      "Batches processed: 3000/5017 (59.8%), ETA: 22m:27s\n",
      "Batches processed: 3200/5017 (63.8%), ETA: 20m:10s\n",
      "Batches processed: 3400/5017 (67.8%), ETA: 17m:55s\n",
      "Batches processed: 3600/5017 (71.8%), ETA: 15m:45s\n",
      "Batches processed: 3800/5017 (75.7%), ETA: 13m:31s\n",
      "Batches processed: 4000/5017 (79.7%), ETA: 11m:17s\n",
      "Batches processed: 4200/5017 (83.7%), ETA: 09m:03s\n",
      "Batches processed: 4400/5017 (87.7%), ETA: 06m:51s\n",
      "Batches processed: 4600/5017 (91.7%), ETA: 04m:37s\n"
     ]
    },
    {
     "name": "stderr",
     "output_type": "stream",
     "text": [
      "/home/chris/miniconda2/envs/pytorch4/lib/python3.6/site-packages/PIL/TiffImagePlugin.py:739: UserWarning: Possibly corrupt EXIF data.  Expecting to read 1835008 bytes but only got 0. Skipping tag 0\n",
      "  \" Skipping tag %s\" % (size, len(data), tag))\n"
     ]
    },
    {
     "name": "stdout",
     "output_type": "stream",
     "text": [
      "Batches processed: 4800/5017 (95.7%), ETA: 02m:25s\n",
      "Batches processed: 5000/5017 (99.7%), ETA: 11s\n",
      "Batches processed: 5017/5017 (100.0%), ETA: 0s\n",
      "Epoch: 11, Train loss: 767.40, mean arithmetic mean: 0.78752\n",
      "Save affinities to results/largescale/artificial/200_0.30/imagenet-full/affinities/11.npy\n",
      "Epoch: 12\n",
      "Batches processed: 200/4993 (4.0%), ETA: 1h:01m:29s, Loss: 0.099795\n",
      "Batches processed: 400/4993 (8.0%), ETA: 58m:16s, Loss: 0.088014\n",
      "Batches processed: 600/4993 (12.0%), ETA: 56m:08s, Loss: 0.100983\n",
      "Batches processed: 800/4993 (16.0%), ETA: 53m:20s, Loss: 0.097557\n",
      "Batches processed: 1000/4993 (20.0%), ETA: 51m:05s, Loss: 0.094673\n",
      "Batches processed: 1200/4993 (24.0%), ETA: 48m:39s, Loss: 0.125727\n",
      "Batches processed: 1400/4993 (28.0%), ETA: 45m:58s, Loss: 0.127702\n",
      "Batches processed: 1600/4993 (32.0%), ETA: 43m:29s, Loss: 0.128354\n",
      "Batches processed: 1800/4993 (36.1%), ETA: 40m:46s, Loss: 0.117672\n"
     ]
    },
    {
     "name": "stderr",
     "output_type": "stream",
     "text": [
      "/home/chris/miniconda2/envs/pytorch4/lib/python3.6/site-packages/PIL/TiffImagePlugin.py:739: UserWarning: Possibly corrupt EXIF data.  Expecting to read 2555904 bytes but only got 0. Skipping tag 0\n",
      "  \" Skipping tag %s\" % (size, len(data), tag))\n"
     ]
    },
    {
     "name": "stdout",
     "output_type": "stream",
     "text": [
      "Batches processed: 2000/4993 (40.1%), ETA: 38m:15s, Loss: 0.132530\n",
      "Batches processed: 2200/4993 (44.1%), ETA: 35m:44s, Loss: 0.138701\n",
      "Batches processed: 2400/4993 (48.1%), ETA: 33m:12s, Loss: 0.116194\n",
      "Batches processed: 2600/4993 (52.1%), ETA: 30m:37s, Loss: 0.119972\n",
      "Batches processed: 2800/4993 (56.1%), ETA: 28m:07s, Loss: 0.131738\n",
      "Batches processed: 3000/4993 (60.1%), ETA: 25m:34s, Loss: 0.120040\n"
     ]
    },
    {
     "name": "stderr",
     "output_type": "stream",
     "text": [
      "/home/chris/miniconda2/envs/pytorch4/lib/python3.6/site-packages/PIL/TiffImagePlugin.py:756: UserWarning: Corrupt EXIF data.  Expecting to read 4 bytes but only got 0. \n",
      "  warnings.warn(str(msg))\n"
     ]
    },
    {
     "name": "stdout",
     "output_type": "stream",
     "text": [
      "Batches processed: 3200/4993 (64.1%), ETA: 23m:00s, Loss: 0.125172\n",
      "Batches processed: 3400/4993 (68.1%), ETA: 20m:27s, Loss: 0.142732\n",
      "Batches processed: 3600/4993 (72.1%), ETA: 17m:52s, Loss: 0.116488\n",
      "Batches processed: 3800/4993 (76.1%), ETA: 15m:20s, Loss: 0.133638\n",
      "Batches processed: 4000/4993 (80.1%), ETA: 12m:45s, Loss: 0.122145\n",
      "Batches processed: 4200/4993 (84.1%), ETA: 10m:10s, Loss: 0.142115\n",
      "Batches processed: 4400/4993 (88.1%), ETA: 07m:37s, Loss: 0.135486\n",
      "Batches processed: 4600/4993 (92.1%), ETA: 05m:03s, Loss: 0.147245\n"
     ]
    },
    {
     "name": "stderr",
     "output_type": "stream",
     "text": [
      "/home/chris/miniconda2/envs/pytorch4/lib/python3.6/site-packages/PIL/TiffImagePlugin.py:739: UserWarning: Possibly corrupt EXIF data.  Expecting to read 2555904 bytes but only got 0. Skipping tag 0\n",
      "  \" Skipping tag %s\" % (size, len(data), tag))\n"
     ]
    },
    {
     "name": "stdout",
     "output_type": "stream",
     "text": [
      "Batches processed: 4800/4993 (96.1%), ETA: 02m:29s, Loss: 0.137161\n",
      "Batches processed: 4993/4993 (100.0%), ETA: 0s, Loss: 0.159258\n",
      "Save model and optimizer state to results/largescale/artificial/200_0.30/imagenet-full/checkpoints/12.pth.tar\n",
      "Batches processed: 200/5017 (4.0%), ETA: 56m:58s\n",
      "Batches processed: 400/5017 (8.0%), ETA: 54m:47s\n",
      "Batches processed: 600/5017 (12.0%), ETA: 51m:50s\n",
      "Batches processed: 800/5017 (15.9%), ETA: 49m:09s\n"
     ]
    },
    {
     "name": "stderr",
     "output_type": "stream",
     "text": [
      "/home/chris/miniconda2/envs/pytorch4/lib/python3.6/site-packages/PIL/TiffImagePlugin.py:739: UserWarning: Possibly corrupt EXIF data.  Expecting to read 2555904 bytes but only got 0. Skipping tag 0\n",
      "  \" Skipping tag %s\" % (size, len(data), tag))\n"
     ]
    },
    {
     "name": "stdout",
     "output_type": "stream",
     "text": [
      "Batches processed: 1000/5017 (19.9%), ETA: 45m:51s\n",
      "Batches processed: 1200/5017 (23.9%), ETA: 43m:11s\n",
      "Batches processed: 1400/5017 (27.9%), ETA: 40m:38s\n",
      "Batches processed: 1600/5017 (31.9%), ETA: 38m:30s\n"
     ]
    },
    {
     "name": "stderr",
     "output_type": "stream",
     "text": [
      "/home/chris/miniconda2/envs/pytorch4/lib/python3.6/site-packages/PIL/TiffImagePlugin.py:739: UserWarning: Possibly corrupt EXIF data.  Expecting to read 2555904 bytes but only got 0. Skipping tag 0\n",
      "  \" Skipping tag %s\" % (size, len(data), tag))\n",
      "/home/chris/miniconda2/envs/pytorch4/lib/python3.6/site-packages/PIL/TiffImagePlugin.py:739: UserWarning: Possibly corrupt EXIF data.  Expecting to read 2555904 bytes but only got 0. Skipping tag 0\n",
      "  \" Skipping tag %s\" % (size, len(data), tag))\n"
     ]
    },
    {
     "name": "stdout",
     "output_type": "stream",
     "text": [
      "Batches processed: 1800/5017 (35.9%), ETA: 36m:07s\n",
      "Batches processed: 2000/5017 (39.9%), ETA: 33m:51s\n",
      "Batches processed: 2200/5017 (43.9%), ETA: 31m:33s\n"
     ]
    },
    {
     "name": "stderr",
     "output_type": "stream",
     "text": [
      "/home/chris/miniconda2/envs/pytorch4/lib/python3.6/site-packages/PIL/TiffImagePlugin.py:739: UserWarning: Possibly corrupt EXIF data.  Expecting to read 19660800 bytes but only got 0. Skipping tag 0\n",
      "  \" Skipping tag %s\" % (size, len(data), tag))\n",
      "/home/chris/miniconda2/envs/pytorch4/lib/python3.6/site-packages/PIL/TiffImagePlugin.py:739: UserWarning: Possibly corrupt EXIF data.  Expecting to read 18481152 bytes but only got 0. Skipping tag 0\n",
      "  \" Skipping tag %s\" % (size, len(data), tag))\n",
      "/home/chris/miniconda2/envs/pytorch4/lib/python3.6/site-packages/PIL/TiffImagePlugin.py:739: UserWarning: Possibly corrupt EXIF data.  Expecting to read 37093376 bytes but only got 0. Skipping tag 0\n",
      "  \" Skipping tag %s\" % (size, len(data), tag))\n",
      "/home/chris/miniconda2/envs/pytorch4/lib/python3.6/site-packages/PIL/TiffImagePlugin.py:739: UserWarning: Possibly corrupt EXIF data.  Expecting to read 39976960 bytes but only got 0. Skipping tag 0\n",
      "  \" Skipping tag %s\" % (size, len(data), tag))\n",
      "/home/chris/miniconda2/envs/pytorch4/lib/python3.6/site-packages/PIL/TiffImagePlugin.py:739: UserWarning: Possibly corrupt EXIF data.  Expecting to read 34865152 bytes but only got 0. Skipping tag 0\n",
      "  \" Skipping tag %s\" % (size, len(data), tag))\n",
      "/home/chris/miniconda2/envs/pytorch4/lib/python3.6/site-packages/PIL/TiffImagePlugin.py:756: UserWarning: Corrupt EXIF data.  Expecting to read 12 bytes but only got 10. \n",
      "  warnings.warn(str(msg))\n"
     ]
    },
    {
     "name": "stdout",
     "output_type": "stream",
     "text": [
      "Batches processed: 2400/5017 (47.8%), ETA: 29m:17s\n",
      "Batches processed: 2600/5017 (51.8%), ETA: 27m:03s\n",
      "Batches processed: 2800/5017 (55.8%), ETA: 24m:46s\n",
      "Batches processed: 3000/5017 (59.8%), ETA: 22m:36s\n",
      "Batches processed: 3200/5017 (63.8%), ETA: 20m:19s\n",
      "Batches processed: 3400/5017 (67.8%), ETA: 18m:08s\n",
      "Batches processed: 3600/5017 (71.8%), ETA: 15m:53s\n",
      "Batches processed: 3800/5017 (75.7%), ETA: 13m:39s\n",
      "Batches processed: 4000/5017 (79.7%), ETA: 11m:23s\n",
      "Batches processed: 4200/5017 (83.7%), ETA: 09m:08s\n",
      "Batches processed: 4400/5017 (87.7%), ETA: 06m:54s\n",
      "Batches processed: 4600/5017 (91.7%), ETA: 04m:40s\n"
     ]
    },
    {
     "name": "stderr",
     "output_type": "stream",
     "text": [
      "/home/chris/miniconda2/envs/pytorch4/lib/python3.6/site-packages/PIL/TiffImagePlugin.py:739: UserWarning: Possibly corrupt EXIF data.  Expecting to read 1835008 bytes but only got 0. Skipping tag 0\n",
      "  \" Skipping tag %s\" % (size, len(data), tag))\n"
     ]
    },
    {
     "name": "stdout",
     "output_type": "stream",
     "text": [
      "Batches processed: 4800/5017 (95.7%), ETA: 02m:26s\n",
      "Batches processed: 5000/5017 (99.7%), ETA: 11s\n",
      "Batches processed: 5017/5017 (100.0%), ETA: 0s\n",
      "Epoch: 12, Train loss: 611.77, mean arithmetic mean: 0.78560\n",
      "Save affinities to results/largescale/artificial/200_0.30/imagenet-full/affinities/12.npy\n",
      "Epoch: 13\n",
      "Batches processed: 200/4993 (4.0%), ETA: 59m:31s, Loss: 0.088281\n",
      "Batches processed: 400/4993 (8.0%), ETA: 59m:21s, Loss: 0.079044\n",
      "Batches processed: 600/4993 (12.0%), ETA: 56m:08s, Loss: 0.084641\n",
      "Batches processed: 800/4993 (16.0%), ETA: 53m:34s, Loss: 0.093755\n",
      "Batches processed: 1000/4993 (20.0%), ETA: 51m:20s, Loss: 0.087739\n",
      "Batches processed: 1200/4993 (24.0%), ETA: 48m:55s, Loss: 0.096850\n",
      "Batches processed: 1400/4993 (28.0%), ETA: 46m:20s, Loss: 0.091799\n"
     ]
    },
    {
     "name": "stderr",
     "output_type": "stream",
     "text": [
      "/home/chris/miniconda2/envs/pytorch4/lib/python3.6/site-packages/PIL/TiffImagePlugin.py:756: UserWarning: Corrupt EXIF data.  Expecting to read 4 bytes but only got 0. \n",
      "  warnings.warn(str(msg))\n"
     ]
    },
    {
     "name": "stdout",
     "output_type": "stream",
     "text": [
      "Batches processed: 1600/4993 (32.0%), ETA: 43m:38s, Loss: 0.101773\n",
      "Batches processed: 1800/4993 (36.1%), ETA: 41m:35s, Loss: 0.110445\n",
      "Batches processed: 2000/4993 (40.1%), ETA: 38m:56s, Loss: 0.100172\n",
      "Batches processed: 2200/4993 (44.1%), ETA: 36m:20s, Loss: 0.083483\n",
      "Batches processed: 2400/4993 (48.1%), ETA: 33m:43s, Loss: 0.112014\n",
      "Batches processed: 2600/4993 (52.1%), ETA: 31m:04s, Loss: 0.105596\n",
      "Batches processed: 2800/4993 (56.1%), ETA: 28m:32s, Loss: 0.107091\n"
     ]
    },
    {
     "name": "stderr",
     "output_type": "stream",
     "text": [
      "/home/chris/miniconda2/envs/pytorch4/lib/python3.6/site-packages/PIL/TiffImagePlugin.py:739: UserWarning: Possibly corrupt EXIF data.  Expecting to read 2555904 bytes but only got 0. Skipping tag 0\n",
      "  \" Skipping tag %s\" % (size, len(data), tag))\n"
     ]
    },
    {
     "name": "stdout",
     "output_type": "stream",
     "text": [
      "Batches processed: 3000/4993 (60.1%), ETA: 25m:58s, Loss: 0.095243\n",
      "Batches processed: 3200/4993 (64.1%), ETA: 23m:20s, Loss: 0.100094\n",
      "Batches processed: 3400/4993 (68.1%), ETA: 20m:46s, Loss: 0.097539\n",
      "Batches processed: 3600/4993 (72.1%), ETA: 18m:11s, Loss: 0.112020\n",
      "Batches processed: 3800/4993 (76.1%), ETA: 15m:33s, Loss: 0.084654\n",
      "Batches processed: 4000/4993 (80.1%), ETA: 12m:58s, Loss: 0.098465\n",
      "Batches processed: 4200/4993 (84.1%), ETA: 10m:21s, Loss: 0.122388\n",
      "Batches processed: 4400/4993 (88.1%), ETA: 07m:46s, Loss: 0.116570\n"
     ]
    },
    {
     "name": "stderr",
     "output_type": "stream",
     "text": [
      "/home/chris/miniconda2/envs/pytorch4/lib/python3.6/site-packages/PIL/TiffImagePlugin.py:739: UserWarning: Possibly corrupt EXIF data.  Expecting to read 2555904 bytes but only got 0. Skipping tag 0\n",
      "  \" Skipping tag %s\" % (size, len(data), tag))\n"
     ]
    },
    {
     "name": "stdout",
     "output_type": "stream",
     "text": [
      "Batches processed: 4600/4993 (92.1%), ETA: 05m:09s, Loss: 0.085220\n",
      "Batches processed: 4800/4993 (96.1%), ETA: 02m:33s, Loss: 0.092773\n",
      "Batches processed: 4993/4993 (100.0%), ETA: 0s, Loss: 0.099636\n",
      "Save model and optimizer state to results/largescale/artificial/200_0.30/imagenet-full/checkpoints/13.pth.tar\n",
      "Batches processed: 200/5017 (4.0%), ETA: 1h:00m:29s\n",
      "Batches processed: 400/5017 (8.0%), ETA: 59m:14s\n",
      "Batches processed: 600/5017 (12.0%), ETA: 57m:33s\n",
      "Batches processed: 800/5017 (15.9%), ETA: 54m:24s\n"
     ]
    },
    {
     "name": "stderr",
     "output_type": "stream",
     "text": [
      "/home/chris/miniconda2/envs/pytorch4/lib/python3.6/site-packages/PIL/TiffImagePlugin.py:739: UserWarning: Possibly corrupt EXIF data.  Expecting to read 2555904 bytes but only got 0. Skipping tag 0\n",
      "  \" Skipping tag %s\" % (size, len(data), tag))\n"
     ]
    },
    {
     "name": "stdout",
     "output_type": "stream",
     "text": [
      "Batches processed: 1000/5017 (19.9%), ETA: 51m:11s\n",
      "Batches processed: 1200/5017 (23.9%), ETA: 47m:54s\n",
      "Batches processed: 1400/5017 (27.9%), ETA: 45m:01s\n",
      "Batches processed: 1600/5017 (31.9%), ETA: 42m:46s\n"
     ]
    },
    {
     "name": "stderr",
     "output_type": "stream",
     "text": [
      "/home/chris/miniconda2/envs/pytorch4/lib/python3.6/site-packages/PIL/TiffImagePlugin.py:739: UserWarning: Possibly corrupt EXIF data.  Expecting to read 2555904 bytes but only got 0. Skipping tag 0\n",
      "  \" Skipping tag %s\" % (size, len(data), tag))\n",
      "/home/chris/miniconda2/envs/pytorch4/lib/python3.6/site-packages/PIL/TiffImagePlugin.py:739: UserWarning: Possibly corrupt EXIF data.  Expecting to read 2555904 bytes but only got 0. Skipping tag 0\n",
      "  \" Skipping tag %s\" % (size, len(data), tag))\n"
     ]
    },
    {
     "name": "stdout",
     "output_type": "stream",
     "text": [
      "Batches processed: 1800/5017 (35.9%), ETA: 40m:05s\n",
      "Batches processed: 2000/5017 (39.9%), ETA: 37m:30s\n",
      "Batches processed: 2200/5017 (43.9%), ETA: 34m:55s\n"
     ]
    },
    {
     "name": "stderr",
     "output_type": "stream",
     "text": [
      "/home/chris/miniconda2/envs/pytorch4/lib/python3.6/site-packages/PIL/TiffImagePlugin.py:739: UserWarning: Possibly corrupt EXIF data.  Expecting to read 19660800 bytes but only got 0. Skipping tag 0\n",
      "  \" Skipping tag %s\" % (size, len(data), tag))\n",
      "/home/chris/miniconda2/envs/pytorch4/lib/python3.6/site-packages/PIL/TiffImagePlugin.py:739: UserWarning: Possibly corrupt EXIF data.  Expecting to read 18481152 bytes but only got 0. Skipping tag 0\n",
      "  \" Skipping tag %s\" % (size, len(data), tag))\n",
      "/home/chris/miniconda2/envs/pytorch4/lib/python3.6/site-packages/PIL/TiffImagePlugin.py:739: UserWarning: Possibly corrupt EXIF data.  Expecting to read 37093376 bytes but only got 0. Skipping tag 0\n",
      "  \" Skipping tag %s\" % (size, len(data), tag))\n",
      "/home/chris/miniconda2/envs/pytorch4/lib/python3.6/site-packages/PIL/TiffImagePlugin.py:739: UserWarning: Possibly corrupt EXIF data.  Expecting to read 39976960 bytes but only got 0. Skipping tag 0\n",
      "  \" Skipping tag %s\" % (size, len(data), tag))\n",
      "/home/chris/miniconda2/envs/pytorch4/lib/python3.6/site-packages/PIL/TiffImagePlugin.py:739: UserWarning: Possibly corrupt EXIF data.  Expecting to read 34865152 bytes but only got 0. Skipping tag 0\n",
      "  \" Skipping tag %s\" % (size, len(data), tag))\n",
      "/home/chris/miniconda2/envs/pytorch4/lib/python3.6/site-packages/PIL/TiffImagePlugin.py:756: UserWarning: Corrupt EXIF data.  Expecting to read 12 bytes but only got 10. \n",
      "  warnings.warn(str(msg))\n"
     ]
    },
    {
     "name": "stdout",
     "output_type": "stream",
     "text": [
      "Batches processed: 2400/5017 (47.8%), ETA: 32m:20s\n",
      "Batches processed: 2600/5017 (51.8%), ETA: 29m:45s\n",
      "Batches processed: 2800/5017 (55.8%), ETA: 27m:14s\n",
      "Batches processed: 3000/5017 (59.8%), ETA: 24m:45s\n",
      "Batches processed: 3200/5017 (63.8%), ETA: 22m:13s\n",
      "Batches processed: 3400/5017 (67.8%), ETA: 19m:47s\n",
      "Batches processed: 3600/5017 (71.8%), ETA: 17m:19s\n",
      "Batches processed: 3800/5017 (75.7%), ETA: 14m:52s\n",
      "Batches processed: 4000/5017 (79.7%), ETA: 12m:23s\n",
      "Batches processed: 4200/5017 (83.7%), ETA: 09m:57s\n",
      "Batches processed: 4400/5017 (87.7%), ETA: 07m:31s\n",
      "Batches processed: 4600/5017 (91.7%), ETA: 05m:04s\n"
     ]
    },
    {
     "name": "stderr",
     "output_type": "stream",
     "text": [
      "/home/chris/miniconda2/envs/pytorch4/lib/python3.6/site-packages/PIL/TiffImagePlugin.py:739: UserWarning: Possibly corrupt EXIF data.  Expecting to read 1835008 bytes but only got 0. Skipping tag 0\n",
      "  \" Skipping tag %s\" % (size, len(data), tag))\n"
     ]
    },
    {
     "name": "stdout",
     "output_type": "stream",
     "text": [
      "Batches processed: 4800/5017 (95.7%), ETA: 02m:39s\n",
      "Batches processed: 5000/5017 (99.7%), ETA: 12s\n",
      "Batches processed: 5017/5017 (100.0%), ETA: 0s\n",
      "Epoch: 13, Train loss: 481.94, mean arithmetic mean: 0.78428\n",
      "Save affinities to results/largescale/artificial/200_0.30/imagenet-full/affinities/13.npy\n",
      "Epoch: 14\n",
      "Batches processed: 200/4993 (4.0%), ETA: 1h:04m:55s, Loss: 0.064037\n"
     ]
    },
    {
     "name": "stderr",
     "output_type": "stream",
     "text": [
      "/home/chris/miniconda2/envs/pytorch4/lib/python3.6/site-packages/PIL/TiffImagePlugin.py:756: UserWarning: Corrupt EXIF data.  Expecting to read 4 bytes but only got 0. \n",
      "  warnings.warn(str(msg))\n"
     ]
    },
    {
     "name": "stdout",
     "output_type": "stream",
     "text": [
      "Batches processed: 400/4993 (8.0%), ETA: 1h:02m:24s, Loss: 0.054382\n",
      "Batches processed: 600/4993 (12.0%), ETA: 1h:00m:48s, Loss: 0.055009\n",
      "Batches processed: 800/4993 (16.0%), ETA: 58m:01s, Loss: 0.066304\n",
      "Batches processed: 1000/4993 (20.0%), ETA: 55m:31s, Loss: 0.062750\n",
      "Batches processed: 1200/4993 (24.0%), ETA: 52m:59s, Loss: 0.064092\n",
      "Batches processed: 1400/4993 (28.0%), ETA: 50m:28s, Loss: 0.074680\n",
      "Batches processed: 1600/4993 (32.0%), ETA: 47m:32s, Loss: 0.062909\n",
      "Batches processed: 1800/4993 (36.1%), ETA: 44m:52s, Loss: 0.076516\n",
      "Batches processed: 2000/4993 (40.1%), ETA: 42m:05s, Loss: 0.074157\n",
      "Batches processed: 2200/4993 (44.1%), ETA: 39m:26s, Loss: 0.061742\n",
      "Batches processed: 2400/4993 (48.1%), ETA: 36m:38s, Loss: 0.068839\n",
      "Batches processed: 2600/4993 (52.1%), ETA: 33m:49s, Loss: 0.096283\n",
      "Batches processed: 2800/4993 (56.1%), ETA: 31m:07s, Loss: 0.093596\n",
      "Batches processed: 3000/4993 (60.1%), ETA: 28m:18s, Loss: 0.080155\n",
      "Batches processed: 3200/4993 (64.1%), ETA: 25m:28s, Loss: 0.099289\n",
      "Batches processed: 3400/4993 (68.1%), ETA: 22m:38s, Loss: 0.079658\n",
      "Batches processed: 3600/4993 (72.1%), ETA: 19m:48s, Loss: 0.099360\n",
      "Batches processed: 3800/4993 (76.1%), ETA: 17m:00s, Loss: 0.072371\n",
      "Batches processed: 4000/4993 (80.1%), ETA: 14m:10s, Loss: 0.095350\n"
     ]
    },
    {
     "name": "stderr",
     "output_type": "stream",
     "text": [
      "/home/chris/miniconda2/envs/pytorch4/lib/python3.6/site-packages/PIL/TiffImagePlugin.py:739: UserWarning: Possibly corrupt EXIF data.  Expecting to read 2555904 bytes but only got 0. Skipping tag 0\n",
      "  \" Skipping tag %s\" % (size, len(data), tag))\n",
      "/home/chris/miniconda2/envs/pytorch4/lib/python3.6/site-packages/PIL/TiffImagePlugin.py:739: UserWarning: Possibly corrupt EXIF data.  Expecting to read 2555904 bytes but only got 0. Skipping tag 0\n",
      "  \" Skipping tag %s\" % (size, len(data), tag))\n"
     ]
    },
    {
     "name": "stdout",
     "output_type": "stream",
     "text": [
      "Batches processed: 4200/4993 (84.1%), ETA: 11m:19s, Loss: 0.078138\n",
      "Batches processed: 4400/4993 (88.1%), ETA: 08m:27s, Loss: 0.084596\n",
      "Batches processed: 4600/4993 (92.1%), ETA: 05m:37s, Loss: 0.085435\n",
      "Batches processed: 4800/4993 (96.1%), ETA: 02m:45s, Loss: 0.087129\n",
      "Batches processed: 4993/4993 (100.0%), ETA: 0s, Loss: 0.082898\n",
      "Save model and optimizer state to results/largescale/artificial/200_0.30/imagenet-full/checkpoints/14.pth.tar\n",
      "Batches processed: 200/5017 (4.0%), ETA: 1h:00m:33s\n",
      "Batches processed: 400/5017 (8.0%), ETA: 58m:59s\n",
      "Batches processed: 600/5017 (12.0%), ETA: 56m:07s\n",
      "Batches processed: 800/5017 (15.9%), ETA: 52m:50s\n"
     ]
    },
    {
     "name": "stderr",
     "output_type": "stream",
     "text": [
      "/home/chris/miniconda2/envs/pytorch4/lib/python3.6/site-packages/PIL/TiffImagePlugin.py:739: UserWarning: Possibly corrupt EXIF data.  Expecting to read 2555904 bytes but only got 0. Skipping tag 0\n",
      "  \" Skipping tag %s\" % (size, len(data), tag))\n"
     ]
    },
    {
     "name": "stdout",
     "output_type": "stream",
     "text": [
      "Batches processed: 1000/5017 (19.9%), ETA: 49m:09s\n",
      "Batches processed: 1200/5017 (23.9%), ETA: 46m:22s\n",
      "Batches processed: 1400/5017 (27.9%), ETA: 43m:46s\n",
      "Batches processed: 1600/5017 (31.9%), ETA: 41m:27s\n"
     ]
    },
    {
     "name": "stderr",
     "output_type": "stream",
     "text": [
      "/home/chris/miniconda2/envs/pytorch4/lib/python3.6/site-packages/PIL/TiffImagePlugin.py:739: UserWarning: Possibly corrupt EXIF data.  Expecting to read 2555904 bytes but only got 0. Skipping tag 0\n",
      "  \" Skipping tag %s\" % (size, len(data), tag))\n",
      "/home/chris/miniconda2/envs/pytorch4/lib/python3.6/site-packages/PIL/TiffImagePlugin.py:739: UserWarning: Possibly corrupt EXIF data.  Expecting to read 2555904 bytes but only got 0. Skipping tag 0\n",
      "  \" Skipping tag %s\" % (size, len(data), tag))\n"
     ]
    },
    {
     "name": "stdout",
     "output_type": "stream",
     "text": [
      "Batches processed: 1800/5017 (35.9%), ETA: 38m:52s\n",
      "Batches processed: 2000/5017 (39.9%), ETA: 36m:29s\n",
      "Batches processed: 2200/5017 (43.9%), ETA: 34m:06s\n"
     ]
    },
    {
     "name": "stderr",
     "output_type": "stream",
     "text": [
      "/home/chris/miniconda2/envs/pytorch4/lib/python3.6/site-packages/PIL/TiffImagePlugin.py:739: UserWarning: Possibly corrupt EXIF data.  Expecting to read 19660800 bytes but only got 0. Skipping tag 0\n",
      "  \" Skipping tag %s\" % (size, len(data), tag))\n",
      "/home/chris/miniconda2/envs/pytorch4/lib/python3.6/site-packages/PIL/TiffImagePlugin.py:739: UserWarning: Possibly corrupt EXIF data.  Expecting to read 18481152 bytes but only got 0. Skipping tag 0\n",
      "  \" Skipping tag %s\" % (size, len(data), tag))\n",
      "/home/chris/miniconda2/envs/pytorch4/lib/python3.6/site-packages/PIL/TiffImagePlugin.py:739: UserWarning: Possibly corrupt EXIF data.  Expecting to read 37093376 bytes but only got 0. Skipping tag 0\n",
      "  \" Skipping tag %s\" % (size, len(data), tag))\n",
      "/home/chris/miniconda2/envs/pytorch4/lib/python3.6/site-packages/PIL/TiffImagePlugin.py:739: UserWarning: Possibly corrupt EXIF data.  Expecting to read 39976960 bytes but only got 0. Skipping tag 0\n",
      "  \" Skipping tag %s\" % (size, len(data), tag))\n",
      "/home/chris/miniconda2/envs/pytorch4/lib/python3.6/site-packages/PIL/TiffImagePlugin.py:739: UserWarning: Possibly corrupt EXIF data.  Expecting to read 34865152 bytes but only got 0. Skipping tag 0\n",
      "  \" Skipping tag %s\" % (size, len(data), tag))\n",
      "/home/chris/miniconda2/envs/pytorch4/lib/python3.6/site-packages/PIL/TiffImagePlugin.py:756: UserWarning: Corrupt EXIF data.  Expecting to read 12 bytes but only got 10. \n",
      "  warnings.warn(str(msg))\n"
     ]
    },
    {
     "name": "stdout",
     "output_type": "stream",
     "text": [
      "Batches processed: 2400/5017 (47.8%), ETA: 31m:37s\n",
      "Batches processed: 2600/5017 (51.8%), ETA: 29m:09s\n",
      "Batches processed: 2800/5017 (55.8%), ETA: 26m:42s\n",
      "Batches processed: 3000/5017 (59.8%), ETA: 24m:19s\n",
      "Batches processed: 3200/5017 (63.8%), ETA: 21m:44s\n",
      "Batches processed: 3400/5017 (67.8%), ETA: 19m:20s\n",
      "Batches processed: 3600/5017 (71.8%), ETA: 16m:58s\n",
      "Batches processed: 3800/5017 (75.7%), ETA: 14m:33s\n",
      "Batches processed: 4000/5017 (79.7%), ETA: 12m:08s\n",
      "Batches processed: 4200/5017 (83.7%), ETA: 09m:44s\n",
      "Batches processed: 4400/5017 (87.7%), ETA: 07m:21s\n",
      "Batches processed: 4600/5017 (91.7%), ETA: 04m:58s\n"
     ]
    },
    {
     "name": "stderr",
     "output_type": "stream",
     "text": [
      "/home/chris/miniconda2/envs/pytorch4/lib/python3.6/site-packages/PIL/TiffImagePlugin.py:739: UserWarning: Possibly corrupt EXIF data.  Expecting to read 1835008 bytes but only got 0. Skipping tag 0\n",
      "  \" Skipping tag %s\" % (size, len(data), tag))\n"
     ]
    },
    {
     "name": "stdout",
     "output_type": "stream",
     "text": [
      "Batches processed: 4800/5017 (95.7%), ETA: 02m:35s\n",
      "Batches processed: 5000/5017 (99.7%), ETA: 12s\n",
      "Batches processed: 5017/5017 (100.0%), ETA: 0s\n",
      "Epoch: 14, Train loss: 377.48, mean arithmetic mean: 0.78441\n",
      "Save affinities to results/largescale/artificial/200_0.30/imagenet-full/affinities/14.npy\n",
      "Epoch: 15\n",
      "Batches processed: 200/4993 (4.0%), ETA: 1h:02m:32s, Loss: 0.045398\n",
      "Batches processed: 400/4993 (8.0%), ETA: 1h:02m:11s, Loss: 0.047011\n",
      "Batches processed: 600/4993 (12.0%), ETA: 1h:00m:22s, Loss: 0.053619\n"
     ]
    },
    {
     "name": "stderr",
     "output_type": "stream",
     "text": [
      "/home/chris/miniconda2/envs/pytorch4/lib/python3.6/site-packages/PIL/TiffImagePlugin.py:756: UserWarning: Corrupt EXIF data.  Expecting to read 4 bytes but only got 0. \n",
      "  warnings.warn(str(msg))\n"
     ]
    },
    {
     "name": "stdout",
     "output_type": "stream",
     "text": [
      "Batches processed: 800/4993 (16.0%), ETA: 57m:49s, Loss: 0.042901\n",
      "Batches processed: 1000/4993 (20.0%), ETA: 55m:10s, Loss: 0.061962\n",
      "Batches processed: 1200/4993 (24.0%), ETA: 52m:26s, Loss: 0.052597\n",
      "Batches processed: 1400/4993 (28.0%), ETA: 49m:55s, Loss: 0.052994\n",
      "Batches processed: 1600/4993 (32.0%), ETA: 47m:18s, Loss: 0.064886\n",
      "Batches processed: 1800/4993 (36.1%), ETA: 44m:29s, Loss: 0.054878\n",
      "Batches processed: 2000/4993 (40.1%), ETA: 41m:47s, Loss: 0.056884\n"
     ]
    },
    {
     "name": "stderr",
     "output_type": "stream",
     "text": [
      "/home/chris/miniconda2/envs/pytorch4/lib/python3.6/site-packages/PIL/TiffImagePlugin.py:739: UserWarning: Possibly corrupt EXIF data.  Expecting to read 2555904 bytes but only got 0. Skipping tag 0\n",
      "  \" Skipping tag %s\" % (size, len(data), tag))\n"
     ]
    },
    {
     "name": "stdout",
     "output_type": "stream",
     "text": [
      "Batches processed: 2200/4993 (44.1%), ETA: 39m:04s, Loss: 0.064598\n",
      "Batches processed: 2400/4993 (48.1%), ETA: 36m:15s, Loss: 0.056723\n",
      "Batches processed: 2600/4993 (52.1%), ETA: 33m:29s, Loss: 0.056515\n",
      "Batches processed: 2800/4993 (56.1%), ETA: 30m:41s, Loss: 0.060491\n",
      "Batches processed: 3000/4993 (60.1%), ETA: 27m:52s, Loss: 0.074255\n",
      "Batches processed: 3200/4993 (64.1%), ETA: 25m:02s, Loss: 0.050637\n",
      "Batches processed: 3400/4993 (68.1%), ETA: 22m:14s, Loss: 0.069627\n",
      "Batches processed: 3600/4993 (72.1%), ETA: 19m:26s, Loss: 0.067920\n",
      "Batches processed: 3800/4993 (76.1%), ETA: 16m:39s, Loss: 0.070930\n",
      "Batches processed: 4000/4993 (80.1%), ETA: 13m:52s, Loss: 0.080932\n",
      "Batches processed: 4200/4993 (84.1%), ETA: 11m:04s, Loss: 0.066781\n",
      "Batches processed: 4400/4993 (88.1%), ETA: 08m:16s, Loss: 0.067370\n",
      "Batches processed: 4600/4993 (92.1%), ETA: 05m:30s, Loss: 0.069753\n",
      "Batches processed: 4800/4993 (96.1%), ETA: 02m:42s, Loss: 0.062434\n"
     ]
    },
    {
     "name": "stderr",
     "output_type": "stream",
     "text": [
      "/home/chris/miniconda2/envs/pytorch4/lib/python3.6/site-packages/PIL/TiffImagePlugin.py:739: UserWarning: Possibly corrupt EXIF data.  Expecting to read 2555904 bytes but only got 0. Skipping tag 0\n",
      "  \" Skipping tag %s\" % (size, len(data), tag))\n"
     ]
    },
    {
     "name": "stdout",
     "output_type": "stream",
     "text": [
      "Batches processed: 4993/4993 (100.0%), ETA: 0s, Loss: 0.066000\n",
      "Save model and optimizer state to results/largescale/artificial/200_0.30/imagenet-full/checkpoints/15.pth.tar\n",
      "Batches processed: 200/5017 (4.0%), ETA: 1h:01m:04s\n",
      "Batches processed: 400/5017 (8.0%), ETA: 58m:00s\n",
      "Batches processed: 600/5017 (12.0%), ETA: 55m:00s\n",
      "Batches processed: 800/5017 (15.9%), ETA: 51m:59s\n"
     ]
    },
    {
     "name": "stderr",
     "output_type": "stream",
     "text": [
      "/home/chris/miniconda2/envs/pytorch4/lib/python3.6/site-packages/PIL/TiffImagePlugin.py:739: UserWarning: Possibly corrupt EXIF data.  Expecting to read 2555904 bytes but only got 0. Skipping tag 0\n",
      "  \" Skipping tag %s\" % (size, len(data), tag))\n"
     ]
    },
    {
     "name": "stdout",
     "output_type": "stream",
     "text": [
      "Batches processed: 1000/5017 (19.9%), ETA: 48m:33s\n",
      "Batches processed: 1200/5017 (23.9%), ETA: 45m:33s\n",
      "Batches processed: 1400/5017 (27.9%), ETA: 43m:03s\n",
      "Batches processed: 1600/5017 (31.9%), ETA: 40m:49s\n"
     ]
    },
    {
     "name": "stderr",
     "output_type": "stream",
     "text": [
      "/home/chris/miniconda2/envs/pytorch4/lib/python3.6/site-packages/PIL/TiffImagePlugin.py:739: UserWarning: Possibly corrupt EXIF data.  Expecting to read 2555904 bytes but only got 0. Skipping tag 0\n",
      "  \" Skipping tag %s\" % (size, len(data), tag))\n",
      "/home/chris/miniconda2/envs/pytorch4/lib/python3.6/site-packages/PIL/TiffImagePlugin.py:739: UserWarning: Possibly corrupt EXIF data.  Expecting to read 2555904 bytes but only got 0. Skipping tag 0\n",
      "  \" Skipping tag %s\" % (size, len(data), tag))\n"
     ]
    },
    {
     "name": "stdout",
     "output_type": "stream",
     "text": [
      "Batches processed: 1800/5017 (35.9%), ETA: 38m:20s\n",
      "Batches processed: 2000/5017 (39.9%), ETA: 35m:56s\n",
      "Batches processed: 2200/5017 (43.9%), ETA: 33m:32s\n"
     ]
    },
    {
     "name": "stderr",
     "output_type": "stream",
     "text": [
      "/home/chris/miniconda2/envs/pytorch4/lib/python3.6/site-packages/PIL/TiffImagePlugin.py:739: UserWarning: Possibly corrupt EXIF data.  Expecting to read 19660800 bytes but only got 0. Skipping tag 0\n",
      "  \" Skipping tag %s\" % (size, len(data), tag))\n",
      "/home/chris/miniconda2/envs/pytorch4/lib/python3.6/site-packages/PIL/TiffImagePlugin.py:739: UserWarning: Possibly corrupt EXIF data.  Expecting to read 18481152 bytes but only got 0. Skipping tag 0\n",
      "  \" Skipping tag %s\" % (size, len(data), tag))\n",
      "/home/chris/miniconda2/envs/pytorch4/lib/python3.6/site-packages/PIL/TiffImagePlugin.py:739: UserWarning: Possibly corrupt EXIF data.  Expecting to read 37093376 bytes but only got 0. Skipping tag 0\n",
      "  \" Skipping tag %s\" % (size, len(data), tag))\n",
      "/home/chris/miniconda2/envs/pytorch4/lib/python3.6/site-packages/PIL/TiffImagePlugin.py:739: UserWarning: Possibly corrupt EXIF data.  Expecting to read 39976960 bytes but only got 0. Skipping tag 0\n",
      "  \" Skipping tag %s\" % (size, len(data), tag))\n",
      "/home/chris/miniconda2/envs/pytorch4/lib/python3.6/site-packages/PIL/TiffImagePlugin.py:739: UserWarning: Possibly corrupt EXIF data.  Expecting to read 34865152 bytes but only got 0. Skipping tag 0\n",
      "  \" Skipping tag %s\" % (size, len(data), tag))\n",
      "/home/chris/miniconda2/envs/pytorch4/lib/python3.6/site-packages/PIL/TiffImagePlugin.py:756: UserWarning: Corrupt EXIF data.  Expecting to read 12 bytes but only got 10. \n",
      "  warnings.warn(str(msg))\n"
     ]
    },
    {
     "name": "stdout",
     "output_type": "stream",
     "text": [
      "Batches processed: 2400/5017 (47.8%), ETA: 31m:07s\n",
      "Batches processed: 2600/5017 (51.8%), ETA: 28m:38s\n",
      "Batches processed: 2800/5017 (55.8%), ETA: 26m:16s\n",
      "Batches processed: 3000/5017 (59.8%), ETA: 23m:54s\n",
      "Batches processed: 3200/5017 (63.8%), ETA: 21m:28s\n",
      "Batches processed: 3400/5017 (67.8%), ETA: 19m:06s\n",
      "Batches processed: 3600/5017 (71.8%), ETA: 16m:44s\n",
      "Batches processed: 3800/5017 (75.7%), ETA: 14m:22s\n",
      "Batches processed: 4000/5017 (79.7%), ETA: 11m:59s\n",
      "Batches processed: 4200/5017 (83.7%), ETA: 09m:36s\n",
      "Batches processed: 4400/5017 (87.7%), ETA: 07m:15s\n",
      "Batches processed: 4600/5017 (91.7%), ETA: 04m:53s\n"
     ]
    },
    {
     "name": "stderr",
     "output_type": "stream",
     "text": [
      "/home/chris/miniconda2/envs/pytorch4/lib/python3.6/site-packages/PIL/TiffImagePlugin.py:739: UserWarning: Possibly corrupt EXIF data.  Expecting to read 1835008 bytes but only got 0. Skipping tag 0\n",
      "  \" Skipping tag %s\" % (size, len(data), tag))\n"
     ]
    },
    {
     "name": "stdout",
     "output_type": "stream",
     "text": [
      "Batches processed: 4800/5017 (95.7%), ETA: 02m:33s\n",
      "Batches processed: 5000/5017 (99.7%), ETA: 12s\n",
      "Batches processed: 5017/5017 (100.0%), ETA: 0s\n",
      "Epoch: 15, Train loss: 294.40, mean arithmetic mean: 0.78089\n",
      "Save affinities to results/largescale/artificial/200_0.30/imagenet-full/affinities/15.npy\n"
     ]
    }
   ],
   "source": [
    "hp['variant'] = 'artificial'\n",
    "hp['epochs'] = 15\n",
    "for noise_ratio in [0, 0.1, 0.3]:\n",
    "    for minimum_initial_cluster_size in [50, 125, 200]:\n",
    "        hp['initial_clustering']['minimum_initial_cluster_size'] = minimum_initial_cluster_size\n",
    "        hp['initial_clustering']['noise_ratio'] = noise_ratio\n",
    "        run_experiment(hp)"
   ]
  }
 ],
 "metadata": {
  "kernelspec": {
   "display_name": "Python (pytorch1.0)",
   "language": "python",
   "name": "pytorch1.0"
  },
  "language_info": {
   "codemirror_mode": {
    "name": "ipython",
    "version": 3
   },
   "file_extension": ".py",
   "mimetype": "text/x-python",
   "name": "python",
   "nbconvert_exporter": "python",
   "pygments_lexer": "ipython3",
   "version": "3.6.8"
  }
 },
 "nbformat": 4,
 "nbformat_minor": 2
}
